{
  "nbformat": 4,
  "nbformat_minor": 0,
  "metadata": {
    "colab": {
      "provenance": [],
      "gpuType": "T4"
    },
    "kernelspec": {
      "name": "python3",
      "display_name": "Python 3"
    },
    "language_info": {
      "name": "python"
    },
    "gpuClass": "standard",
    "accelerator": "GPU"
  },
  "cells": [
    {
      "cell_type": "code",
      "source": [
        "!pip install transformers"
      ],
      "metadata": {
        "id": "A-tHTkFBLIcV",
        "colab": {
          "base_uri": "https://localhost:8080/"
        },
        "outputId": "76917b3e-b364-40a8-b74e-ca738051468b"
      },
      "execution_count": 1,
      "outputs": [
        {
          "output_type": "stream",
          "name": "stdout",
          "text": [
            "Looking in indexes: https://pypi.org/simple, https://us-python.pkg.dev/colab-wheels/public/simple/\n",
            "Collecting transformers\n",
            "  Downloading transformers-4.28.1-py3-none-any.whl (7.0 MB)\n",
            "\u001b[2K     \u001b[90m━━━━━━━━━━━━━━━━━━━━━━━━━━━━━━━━━━━━━━━━\u001b[0m \u001b[32m7.0/7.0 MB\u001b[0m \u001b[31m24.0 MB/s\u001b[0m eta \u001b[36m0:00:00\u001b[0m\n",
            "\u001b[?25hCollecting tokenizers!=0.11.3,<0.14,>=0.11.1\n",
            "  Downloading tokenizers-0.13.3-cp310-cp310-manylinux_2_17_x86_64.manylinux2014_x86_64.whl (7.8 MB)\n",
            "\u001b[2K     \u001b[90m━━━━━━━━━━━━━━━━━━━━━━━━━━━━━━━━━━━━━━━━\u001b[0m \u001b[32m7.8/7.8 MB\u001b[0m \u001b[31m88.8 MB/s\u001b[0m eta \u001b[36m0:00:00\u001b[0m\n",
            "\u001b[?25hRequirement already satisfied: filelock in /usr/local/lib/python3.10/dist-packages (from transformers) (3.12.0)\n",
            "Requirement already satisfied: pyyaml>=5.1 in /usr/local/lib/python3.10/dist-packages (from transformers) (6.0)\n",
            "Requirement already satisfied: requests in /usr/local/lib/python3.10/dist-packages (from transformers) (2.27.1)\n",
            "Requirement already satisfied: regex!=2019.12.17 in /usr/local/lib/python3.10/dist-packages (from transformers) (2022.10.31)\n",
            "Requirement already satisfied: tqdm>=4.27 in /usr/local/lib/python3.10/dist-packages (from transformers) (4.65.0)\n",
            "Requirement already satisfied: packaging>=20.0 in /usr/local/lib/python3.10/dist-packages (from transformers) (23.1)\n",
            "Collecting huggingface-hub<1.0,>=0.11.0\n",
            "  Downloading huggingface_hub-0.14.1-py3-none-any.whl (224 kB)\n",
            "\u001b[2K     \u001b[90m━━━━━━━━━━━━━━━━━━━━━━━━━━━━━━━━━━━━━━\u001b[0m \u001b[32m224.5/224.5 kB\u001b[0m \u001b[31m25.9 MB/s\u001b[0m eta \u001b[36m0:00:00\u001b[0m\n",
            "\u001b[?25hRequirement already satisfied: numpy>=1.17 in /usr/local/lib/python3.10/dist-packages (from transformers) (1.22.4)\n",
            "Requirement already satisfied: typing-extensions>=3.7.4.3 in /usr/local/lib/python3.10/dist-packages (from huggingface-hub<1.0,>=0.11.0->transformers) (4.5.0)\n",
            "Requirement already satisfied: fsspec in /usr/local/lib/python3.10/dist-packages (from huggingface-hub<1.0,>=0.11.0->transformers) (2023.4.0)\n",
            "Requirement already satisfied: idna<4,>=2.5 in /usr/local/lib/python3.10/dist-packages (from requests->transformers) (3.4)\n",
            "Requirement already satisfied: charset-normalizer~=2.0.0 in /usr/local/lib/python3.10/dist-packages (from requests->transformers) (2.0.12)\n",
            "Requirement already satisfied: certifi>=2017.4.17 in /usr/local/lib/python3.10/dist-packages (from requests->transformers) (2022.12.7)\n",
            "Requirement already satisfied: urllib3<1.27,>=1.21.1 in /usr/local/lib/python3.10/dist-packages (from requests->transformers) (1.26.15)\n",
            "Installing collected packages: tokenizers, huggingface-hub, transformers\n",
            "Successfully installed huggingface-hub-0.14.1 tokenizers-0.13.3 transformers-4.28.1\n"
          ]
        }
      ]
    },
    {
      "cell_type": "code",
      "source": [
        "!pip install contractions"
      ],
      "metadata": {
        "id": "GyX47WPkM2g_",
        "colab": {
          "base_uri": "https://localhost:8080/"
        },
        "outputId": "0cbb0502-1b53-45f7-aa3e-de374e9cce07"
      },
      "execution_count": 2,
      "outputs": [
        {
          "output_type": "stream",
          "name": "stdout",
          "text": [
            "Looking in indexes: https://pypi.org/simple, https://us-python.pkg.dev/colab-wheels/public/simple/\n",
            "Collecting contractions\n",
            "  Downloading contractions-0.1.73-py2.py3-none-any.whl (8.7 kB)\n",
            "Collecting textsearch>=0.0.21\n",
            "  Downloading textsearch-0.0.24-py2.py3-none-any.whl (7.6 kB)\n",
            "Collecting pyahocorasick\n",
            "  Downloading pyahocorasick-2.0.0-cp310-cp310-manylinux_2_5_x86_64.manylinux1_x86_64.manylinux_2_12_x86_64.manylinux2010_x86_64.whl (110 kB)\n",
            "\u001b[2K     \u001b[90m━━━━━━━━━━━━━━━━━━━━━━━━━━━━━━━━━━━━━━━\u001b[0m \u001b[32m110.8/110.8 kB\u001b[0m \u001b[31m8.4 MB/s\u001b[0m eta \u001b[36m0:00:00\u001b[0m\n",
            "\u001b[?25hCollecting anyascii\n",
            "  Downloading anyascii-0.3.2-py3-none-any.whl (289 kB)\n",
            "\u001b[2K     \u001b[90m━━━━━━━━━━━━━━━━━━━━━━━━━━━━━━━━━━━━━━\u001b[0m \u001b[32m289.9/289.9 kB\u001b[0m \u001b[31m21.7 MB/s\u001b[0m eta \u001b[36m0:00:00\u001b[0m\n",
            "\u001b[?25hInstalling collected packages: pyahocorasick, anyascii, textsearch, contractions\n",
            "Successfully installed anyascii-0.3.2 contractions-0.1.73 pyahocorasick-2.0.0 textsearch-0.0.24\n"
          ]
        }
      ]
    },
    {
      "cell_type": "code",
      "source": [
        "!pip install emoji"
      ],
      "metadata": {
        "colab": {
          "base_uri": "https://localhost:8080/"
        },
        "id": "DpnKnfXZJzgP",
        "outputId": "b3a516bf-d136-487f-8208-cb2babd80eb1"
      },
      "execution_count": 3,
      "outputs": [
        {
          "output_type": "stream",
          "name": "stdout",
          "text": [
            "Looking in indexes: https://pypi.org/simple, https://us-python.pkg.dev/colab-wheels/public/simple/\n",
            "Collecting emoji\n",
            "  Downloading emoji-2.2.0.tar.gz (240 kB)\n",
            "\u001b[2K     \u001b[90m━━━━━━━━━━━━━━━━━━━━━━━━━━━━━━━━━━━━━━\u001b[0m \u001b[32m240.9/240.9 kB\u001b[0m \u001b[31m12.7 MB/s\u001b[0m eta \u001b[36m0:00:00\u001b[0m\n",
            "\u001b[?25h  Preparing metadata (setup.py) ... \u001b[?25l\u001b[?25hdone\n",
            "Building wheels for collected packages: emoji\n",
            "  Building wheel for emoji (setup.py) ... \u001b[?25l\u001b[?25hdone\n",
            "  Created wheel for emoji: filename=emoji-2.2.0-py3-none-any.whl size=234926 sha256=0f4106026835c8a3bf83357a9dd57b69153b2029dd15adb4a4b0ceb0288ecbf1\n",
            "  Stored in directory: /root/.cache/pip/wheels/02/3d/88/51a592b9ad17e7899126563698b4e3961983ebe85747228ba6\n",
            "Successfully built emoji\n",
            "Installing collected packages: emoji\n",
            "Successfully installed emoji-2.2.0\n"
          ]
        }
      ]
    },
    {
      "cell_type": "code",
      "source": [
        "import json\n",
        "import re\n",
        "import random\n",
        "import numpy as np\n",
        "import pandas as pd\n",
        "import torch\n",
        "import emoji\n",
        "import math\n",
        "\n",
        "import torch.nn as nn\n",
        "import torch.nn.functional as F\n",
        "\n",
        "from torch.utils.data import DataLoader, Dataset\n",
        "\n",
        "import torch.optim as optim\n",
        "from torch.optim import AdamW, Adam, SGD\n",
        "\n",
        "import transformers\n",
        "from transformers import AutoModel, BertTokenizerFast, RobertaTokenizer, RobertaModel, T5EncoderModel,T5Tokenizer\n",
        "# from sentence_transformers import SentenceTransformer \n",
        "from transformers import get_linear_schedule_with_warmup\n",
        "\n",
        "from tqdm import tqdm\n",
        "\n",
        "from sklearn.model_selection import train_test_split\n",
        "from sklearn.metrics import classification_report\n",
        "\n",
        "import contractions"
      ],
      "metadata": {
        "id": "ConuiTiCLMz8"
      },
      "execution_count": 1,
      "outputs": []
    },
    {
      "cell_type": "code",
      "source": [
        "device = torch.device(\"cuda\" if torch.cuda.is_available() else \"cpu\")"
      ],
      "metadata": {
        "id": "ocNQAZ9pLf8S"
      },
      "execution_count": 2,
      "outputs": []
    },
    {
      "cell_type": "code",
      "source": [
        "def merge_text_truth(input_file, output_file):\n",
        "    examples = []\n",
        "    output_data = []\n",
        "    with open(output_file, 'r', encoding='utf-8') as f:\n",
        "      for line in f:\n",
        "          obj = json.loads(line)\n",
        "          output_data.append(obj)\n",
        "    data = {item['twitter user id']: {\"twitter user id\":item['twitter user id'],\n",
        "                                      \"class\":item['class'].strip()} for item in output_data}\n",
        "    \n",
        "    with open(input_file, 'r') as f:\n",
        "        for line in f:\n",
        "          obj = json.loads(line)\n",
        "          data[obj['twitter user id']]['texts'] = obj['texts']\n",
        "    return list(data.values())\n",
        "data = merge_text_truth('./train_text.json','train_truth.json')"
      ],
      "metadata": {
        "id": "Epl9nr4OgZUu"
      },
      "execution_count": 3,
      "outputs": []
    },
    {
      "cell_type": "code",
      "source": [
        "def split_and_save(data, test_size=0.1):\n",
        "  train_data, val_data = train_test_split(data, \n",
        "                                          random_state=40, \n",
        "                                          test_size=test_size, \n",
        "                                          shuffle=True)\n",
        "  with open('train.json', 'w', encoding='utf-8') as f:\n",
        "    for obj in train_data:\n",
        "      f.write(json.dumps(obj))\n",
        "      f.write('\\n')\n",
        "  f.close()\n",
        "\n",
        "  with open('val.json', 'w', encoding='utf-8') as f:\n",
        "    for obj in val_data:\n",
        "      f.write(json.dumps(obj))\n",
        "      f.write('\\n')\n",
        "  f.close()\n",
        "  return train_data, val_data\n",
        "train_data, val_data = split_and_save(data, 0.1)"
      ],
      "metadata": {
        "id": "T1qgo25_kKuT"
      },
      "execution_count": 4,
      "outputs": []
    },
    {
      "cell_type": "code",
      "source": [
        "def remove_emoji(text):\n",
        "    return re.sub('\\s+', ' ', re.sub(':\\S+?:', ' ', emoji.demojize(text)))\n",
        "\n",
        "def remove_long_words(text):\n",
        "    words = text.split()\n",
        "    filtered_words = [word for word in words if len(word) <= 40]\n",
        "    return \" \".join(filtered_words)\n",
        "\n",
        "def preprocess_text(text):\n",
        "  # reemplazar las urls\n",
        "  text = re.sub(r'http\\S+', 'http', text)\n",
        "  # drop letters that start at @&\n",
        "  text = re.sub(r'[&][^\\s]+', '', text)\n",
        "  text = re.sub(r'[@][^\\s]+', '@user', text)\n",
        "  #drop all new lines\n",
        "  text = re.sub(r\"[\\r\\n]+\", \" \", text)\n",
        "  #drop emojis\n",
        "  text = remove_emoji(text)\n",
        "  # Convertir todo el texto a minúsculas\n",
        "  text = text.lower()\n",
        "  #Sustituir los Retweets\n",
        "  text = re.sub(r'\\b(RT|rt)\\b\\s+', ' ', text)\n",
        "  # reemplazar múltiples espacios con un solo espacio\n",
        "  text = re.sub(r'\\s+', ' ', text)\n",
        "  #eliminar secuencia de palabras repetidas\n",
        "  text = re.sub(r'([@]*[a-zA-Z]{1,}\\s+)\\1+', r'\\1', text)\n",
        "  text = remove_long_words(text)\n",
        "  # reemplazar múltiples espacios con un solo espacio\n",
        "  text = re.sub(r'\\s+', ' ', text)\n",
        "  #remove white space at begin and end of line\n",
        "  text = text.strip()\n",
        "\n",
        "  return text"
      ],
      "metadata": {
        "id": "P06jByJrLiUm"
      },
      "execution_count": 5,
      "outputs": []
    },
    {
      "cell_type": "code",
      "source": [
        "class InputExample(object):\n",
        "    def __init__(self, twitter_id, text, label):\n",
        "      self.twitter_id = twitter_id\n",
        "      self.text = text\n",
        "      self.label = label\n",
        "\n",
        "def dataToInputExample(dataset, max_length=80):\n",
        "    examples = []\n",
        "    labels = []\n",
        "    for data in dataset:\n",
        "      text = [text['text'] for text in data['texts']]\n",
        "      text = ' '.join(text)\n",
        "      print(text)\n",
        "      text = preprocess_text(text)\n",
        "      if len(text)<1 or text is None:\n",
        "        continue\n",
        "      print(text)\n",
        "      text_split = text.split()\n",
        "      text_length = len(text_split)\n",
        "      for i in range(math.ceil(text_length/max_length)):\n",
        "        labels.append(data['class'])\n",
        "        if (i+1)*max_length>= text_length:\n",
        "          examples.append(InputExample(twitter_id=data['twitter user id'], text=' '.join(text_split[-max_length:]), label=data['class']))\n",
        "        else:\n",
        "          examples.append(InputExample(twitter_id=data['twitter user id'], text=' '.join(text_split[i*max_length:(i+1)*max_length]), label=data['class']))\n",
        "    return examples, labels\n",
        "_ = dataToInputExample(val_data)"
      ],
      "metadata": {
        "id": "hdN-JEa5LiXC",
        "colab": {
          "base_uri": "https://localhost:8080/"
        },
        "outputId": "70435c8f-17ae-4fba-9705-a1ddc58d476d"
      },
      "execution_count": 6,
      "outputs": [
        {
          "output_type": "stream",
          "name": "stdout",
          "text": [
            "@ape280 OS sea is trash. $LOOKS is the solution\n",
            "@user os sea is trash. $looks is the solution\n",
            " @TheSandboxGame  I just participated in the daily D878 for a chance to earn up to 1,000 $SAND! Day 1 - Selfie with the S2 Alpha Pass. Check out my screenshot below! 👇 #SandboxAlphaS2 https://t.co/L6ml7O5Ygq\n",
            "@user i just participated in the daily d878 for a chance to earn up to 1,000 $sand! day 1 - selfie with the s2 alpha pass. check out my screenshot below! #sandboxalphas2 http\n",
            "KEEP/USDT [#Binance]  Big Whales Buy Activity ✳  618.79K $KEEP have been bought  💰Price: 0.708 USDT (4.11%)  🚨Order Size: 431,102 USDT (5.02%)  ⏳Duration: 15 minutes  📊24h Vol: 8.58M USDT    Get all Alerts here: https://t.co/o4CEgy7jGS\n",
            "keep/usdt [#binance] big whales buy activity 618.79k $keep have been bought price: 0.708 usdt (4.11%) order size: 431,102 usdt (5.02%) duration: 15 minutes 24h vol: 8.58m usdt get all alerts here: http\n",
            "Introducing our new protocol RNA Cash, that expands provide and more liquidity into the ecosystem that is pegged to $CRO.    Medium article: https://t.co/vdIWIE1zem  Docs: https://t.co/fqTID89aXf  Website: https://t.co/7n41B4hRRV    #FFTB   #CRO   #DNADollar   #CronosChain  #CroFam  #DeFi https://t.co/g1mXHoKhmP\n",
            "introducing our new protocol rna cash, that expands provide and more liquidity into the ecosystem that is pegged to $cro. medium article: http docs: http website: http #fftb #cro #dnadollar #cronoschain #crofam #defi http\n",
            "$MATIC $2.00   #NFT #cryptocurrecy #MATIC\n",
            "$matic $2.00 #nft #cryptocurrecy #matic\n",
            "@TheMoonCarl Yep, I've been #bullish on $CRO for quite some time now. I hope @Mecha_Morphing will launch their token too; I'll definitely hold them on my dear life! 😉    Also, check their #NFT box sale on @TheBinanceNFT which will happen on Feb. 22 at 11\n",
            "@user yep, i've been #bullish on $cro for quite some time now. i hope @user will launch their token too; i'll definitely hold them on my dear life! also, check their #nft box sale on @user which will happen on feb. 22 at 11\n",
            "@anthonypacheco_ @near_kongz is the best alpha $NEAR NFT community\n",
            "@user is the best alpha $near nft community\n",
            "$FXS ✅  Increased 3.75% in 7.7 hour(s) 💵 Price - 21.65200000 USDT ⏱️ [28 Feb] - 04:29:33 UTC #FXS #FXSUSDT #CryptoBOT\n",
            "$fxs increased 3.75% in 7.7 hour(s) price - 21.65200000 usdt [28 feb] - 04 33 utc #fxs #fxsusdt #cryptobot\n",
            "Great to see @QiDaoProtocol that started on @0xPolygon grow to be a major stablecoin player! Having liquidity on several chains, it's a perfect fit for Aave V3.   Vote now with $AAVE to give it wider acceptance Fam! 🙏🏼  https://t.co/aQsOjpUtgU\n",
            "great to see @user that started on @user grow to be a major stablecoin player! having liquidity on several chains, it's a perfect fit for aave v3. vote now with $aave to give it wider acceptance fam! http\n",
            "🚀 New Listing    CoinEx Lists $CELO on 14th Dec  @CeloOrg is a mobile-first open platform that makes crypto accessible    ✅ Trading Pair: CELO/USDT, CELO/BTC  ✅ Deposit &amp; Withdrawal: 3AM UTC 14th Dec  ✅ Trading: 7AM UTC 14th Dec    Learn more 👉 https://t.co/CPjvyqQfDG    #CoinEx #dApps https://t.co/M8gjNQR1RO\n",
            "new listing coinex lists $celo on 14th dec @user is a mobile-first open platform that makes crypto accessible trading pair: celo/usdt, celo/btc deposit withdrawal: 3am utc 14th dec trading: 7am utc 14th dec learn more http #coinex #dapps http\n",
            "$FXS already sent I will keep watching for a dip to buy. https://t.co/Rf7vKBhGz6\n",
            "$fxs already sent i will keep watching for a dip to buy. http\n",
            "[Spot] By 2022-01-12 14:00 GMT, SUSHI total trading volume of 23,235,498SUSHI and net cap flow of $40M in last 24 hrs. #cryptocurrency #CryptoCapFlow $SUSHI https://t.co/22HXiM4SqU\n",
            "[spot] by 2022-01-12 14:00 gmt, sushi total trading volume of 23,235,498sushi and net cap flow of $40m in last 24 hrs. #cryptocurrency #cryptocapflow $sushi http\n",
            "$THETA Update | Daily    Look for the re-test here if we get it. https://t.co/IbTCnaoOoD\n",
            "$theta update | daily look for the re-test here if we get it. http\n",
            ".@IcpReboot is a community based project forking $ICP    They are offering an airdrop I cannot have you miss out on!!!🚀    To participate RT their pinned tweet, send an email to hello@icpr.io with \"airdrop\" as the subject and a brief statement of how you can help the ICPR movement!! https://t.co/rtPal0pjl8\n",
            ".@user is a community based project forking $icp they are offering an airdrop i cannot have you miss out on!!! to participate their pinned tweet, send an email to hello@user with \"airdrop\" as the subject and a brief statement of how you can help the icpr movement!! http\n",
            "$FTT / BTC at a crossroad...  September 2020 all over again or does Sam lead the way and we break out upwards here?   Leaning towards the former as it feels a bit too early 🤷🏻‍♂️ https://t.co/YpWaX1g7U4\n",
            "$ftt / btc at a crossroad... september 2020 all over again or does sam lead the way and we break out upwards here? leaning towards the former as it feels a bit too early http\n",
            "In Helium's case, crypto was the incentive that worked. Allowing people to mine $HNT by providing wireless coverage solved the cold-start problem, because jumping in early meant getting the most tokens, even if the network wasn't fully functional yet.\n",
            "in helium's case, crypto was the incentive that worked. allowing people to mine $hnt by providing wireless coverage solved the cold-start problem, because jumping in early meant getting the most tokens, even if the network wasn't fully functional yet.\n",
            "Started buying $CRV here.    $3 buys age like fine wine https://t.co/PLPK0ZjEfa https://t.co/4WLznbEBI2\n",
            "started buying $crv here. $3 buys age like fine wine http http\n",
            "@MatijaR0 @The_CryptoDad @YouTube Hi, $BNB is supported by Trezor! You can receive the ERC20 token version of BNB into your Trezor Model One ETH account🔒  https://t.co/IQHTQPnXDs\n",
            "@user hi, $bnb is supported by trezor! you can receive the erc20 token version of bnb into your trezor model one eth account http\n",
            "#MIR is moving slowly but surely in the falling channel. At the moment, the profit from the entry will be 30%+. It is worth keeping at least to the upper limit, then we will see. $MIR https://t.co/zJoYhFWxtA\n",
            "#mir is moving slowly but surely in the falling channel. at the moment, the profit from the entry will be 30%+. it is worth keeping at least to the upper limit, then we will see. $mir http\n",
            "$YFI~I've made Over $70k last month&lt;&gt;&lt;&gt;  https://t.co/y2k5a0zR8K\n",
            "$yfi~i've made over $70k last month http\n",
            "$DOT UPDATE   I've been shorting DOT since November. All my targets hit. This is now a Buying level for me https://t.co/qZbaq3sChL https://t.co/umb7Tgy4DE\n",
            "$dot update i've been shorting dot since november. all my targets hit. this now a buying level for me http http\n",
            "$OHM down 90% since then, 77% in market cap terms https://t.co/KuhtxUZNuZ\n",
            "$ohm down 90% since then, 77% in market cap terms http\n",
            "🍣 On Mar. 9, we’ll cross-chain-list $SUSHI (@SushiSwap). It’s on ~365k watchlists (https://t.co/Z1RQU3hEpV), held by ~46k addresses (https://t.co/i43RsEaGXF). https://t.co/U4NVKqHX3i\n",
            "on mar. 9, we’ll cross-chain-list $sushi (@user it’s on ~365k watchlists (http held by ~46k addresses (http http\n",
            "The Galápagos Islands 💙  Considered to be one of the world's foremost destinations for wildlife viewing. Check out the incredible activities &amp; experiences you can book there with $MANA 🤿⬇️ https://t.co/iQbv5knj41 @decentraland #MANA https://t.co/DyK9HG5f1D\n",
            "the galápagos islands considered to be one of the world's foremost destinations for wildlife viewing. check out the incredible activities experiences you can book there with $mana http @user #mana http\n",
            "@cobie @RuneKek @CryptoDonAlt Sike I own $MKR https://t.co/vWdfCu1vds\n",
            "@user sike i own $mkr http\n",
            "Back in $FTM short, shitcoin looks like it's losing 2 dollars and #btc has a massive FVG https://t.co/He2225wzIy\n",
            "back in $ftm short, shitcoin looks like it's losing 2 dollars and #btc has a massive fvg http\n"
          ]
        }
      ]
    },
    {
      "cell_type": "code",
      "source": [
        "class CryptocurrencyDataset(Dataset):\n",
        "    def __init__(self, data, tokenizer, seq_length=16, n_ways=5, k_shots=1, k_queries=5):\n",
        "        self.n_ways = n_ways\n",
        "        self.k_shots = k_shots\n",
        "        self.k_queries = k_queries\n",
        "        self.tokenizer = tokenizer\n",
        "        self.seq_length = seq_length\n",
        "\n",
        "        proto_examples, proto_labels = data\n",
        "        self.proto_features = [self.text_to_features(example.text) for example in proto_examples]\n",
        "        self.proto_labels = np.array(proto_labels)\n",
        "        self.proto_classes = np.array(list(set(self.proto_labels)))\n",
        "        self.proto_classes_to_id = {v:k for k, v in enumerate(self.proto_classes)}\n",
        "        self.id_to_proto_classes = {v:k for k, v in self.proto_classes_to_id.items()}\n",
        "        self.nb_proto_classes = len(self.proto_classes)\n",
        "\n",
        "    def __len__(self):\n",
        "        return len(self.proto_labels)*self.n_ways*self.k_shots*self.k_queries\n",
        "\n",
        "    def __getitem__(self, item_poss):\n",
        "        support, support_mask, support_label = [], [], []\n",
        "        query, query_mask, query_label = [], [], []\n",
        "        target_classes = np.random.choice(self.proto_classes, self.n_ways, replace=False)\n",
        "        for class_idx, class_name in enumerate(target_classes):\n",
        "            support.append([])\n",
        "            support_mask.append([])\n",
        "            query.append([])\n",
        "            query_mask.append([])\n",
        "            label_index = np.argwhere(self.proto_labels==class_name).reshape(-1,)\n",
        "            samples = np.random.choice(label_index, self.k_shots + self.k_queries, replace=False)\n",
        "            for idx, sample in enumerate(samples):\n",
        "              if idx < self.k_shots:\n",
        "                support[class_idx].append(self.proto_features[sample].input_ids)\n",
        "                support_mask[class_idx].append(self.proto_features[sample].attention_mask)\n",
        "                support_label.append(self.proto_classes_to_id[class_name])\n",
        "              else:\n",
        "                query[class_idx].append(self.proto_features[sample].input_ids)\n",
        "                query_mask[class_idx].append(self.proto_features[sample].attention_mask)\n",
        "                query_label.append(self.proto_classes_to_id[class_name])\n",
        "            \n",
        "        return (torch.tensor(support, dtype=torch.long),\n",
        "                torch.tensor(support_mask, dtype=torch.long),\n",
        "                torch.tensor(query, dtype=torch.long),\n",
        "                torch.tensor(query_mask, dtype=torch.long),\n",
        "                torch.tensor(support_label, dtype=torch.long),\n",
        "                torch.tensor(query_label, dtype=torch.long))\n",
        "        \n",
        "    def text_to_features(self, inputs):\n",
        "      if isinstance(inputs, str):\n",
        "        encode = self.tokenizer.encode_plus(\n",
        "          inputs,\n",
        "          max_length = self.seq_length,\n",
        "          padding='max_length',\n",
        "          truncation=True,\n",
        "          return_attention_mask=True,\n",
        "          return_token_type_ids=False,\n",
        "          add_special_tokens = True,\n",
        "          # return_tensors = 'pt',\n",
        "          )\n",
        "      else:\n",
        "        encode = self.tokenizer.batch_encode_plus(\n",
        "          inputs,\n",
        "          max_length = self.seq_length,\n",
        "          padding='max_length',\n",
        "          truncation=True,\n",
        "          return_attention_mask=True,\n",
        "          return_token_type_ids=False,\n",
        "          add_special_tokens = True,\n",
        "          return_tensors = 'pt',\n",
        "          )\n",
        "      # return encode['input_ids'], encode['attention_mask']\n",
        "      return encode"
      ],
      "metadata": {
        "id": "SANWzg20LiZj"
      },
      "execution_count": 7,
      "outputs": []
    },
    {
      "cell_type": "code",
      "source": [
        "class CryptocurrencyDatasetEval(Dataset):\n",
        "    def __init__(self, train_data, val_data, tokenizer, seq_length=16, n_ways=5, k_shots=1):\n",
        "        self.n_ways = n_ways\n",
        "        self.k_shots = k_shots\n",
        "        # self.k_queries = k_queries\n",
        "        self.tokenizer = tokenizer\n",
        "        self.seq_length = seq_length\n",
        "\n",
        "        proto_examples, proto_labels = train_data\n",
        "        self.proto_features = [self.text_to_features(example.text) for example in proto_examples]\n",
        "        self.proto_labels = np.array(proto_labels)\n",
        "        self.proto_classes = np.array(list(set(self.proto_labels)))\n",
        "        self.proto_classes_to_id = {v:k for k, v in enumerate(self.proto_classes)}\n",
        "        self.id_to_proto_classes = {v:k for k, v in self.proto_classes_to_id.items()}\n",
        "        self.nb_proto_classes = len(self.proto_classes)\n",
        "\n",
        "        examples, labels = val_data\n",
        "        self.features = [self.text_to_features(example.text) for example in examples]\n",
        "        self.labels = np.array(labels)\n",
        "        self.classes = np.array(list(set(self.labels)))\n",
        "\n",
        "    def __len__(self):\n",
        "        return len(self.labels)\n",
        "\n",
        "    def __getitem__(self, item_poss):\n",
        "        support, support_mask, support_label = [], [], []\n",
        "        query, query_mask, query_label = [], [], []\n",
        "        target_classes = np.random.choice(self.proto_classes, self.n_ways, replace=False)\n",
        "        for class_idx, class_name in enumerate(target_classes):\n",
        "            support.append([])\n",
        "            support_mask.append([])\n",
        "            label_index = np.argwhere(self.proto_labels==class_name).reshape(-1,)\n",
        "            samples = np.random.choice(label_index, self.k_shots, replace=False)\n",
        "            for idx, sample in enumerate(samples):\n",
        "              support[class_idx].append(self.proto_features[sample].input_ids)\n",
        "              support_mask[class_idx].append(self.proto_features[sample].attention_mask)\n",
        "              support_label.append(self.proto_classes_to_id[class_name])\n",
        "\n",
        "        query.append([])\n",
        "        query_mask.append([])\n",
        "        query[0].append(self.features[item_poss].input_ids)\n",
        "        query_mask[0].append(self.features[item_poss].attention_mask)\n",
        "        query_label.append(self.proto_classes_to_id[self.labels[item_poss]])\n",
        "            \n",
        "        return (torch.tensor(support, dtype=torch.long),\n",
        "                torch.tensor(support_mask, dtype=torch.long),\n",
        "                torch.tensor(query, dtype=torch.long),\n",
        "                torch.tensor(query_mask, dtype=torch.long),\n",
        "                torch.tensor(support_label, dtype=torch.long),\n",
        "                torch.tensor(query_label, dtype=torch.long))\n",
        "    def text_to_features(self, inputs):\n",
        "      if isinstance(inputs, str):\n",
        "        encode = self.tokenizer.encode_plus(\n",
        "          inputs,\n",
        "          max_length = self.seq_length,\n",
        "          padding='max_length',\n",
        "          truncation=True,\n",
        "          return_attention_mask=True,\n",
        "          return_token_type_ids=False,\n",
        "          add_special_tokens = True,\n",
        "          # return_tensors = 'pt',\n",
        "          )\n",
        "      else:\n",
        "        encode = self.tokenizer.batch_encode_plus(\n",
        "          inputs,\n",
        "          max_length = self.seq_length,\n",
        "          padding='max_length',\n",
        "          truncation=True,\n",
        "          return_attention_mask=True,\n",
        "          return_token_type_ids=False,\n",
        "          add_special_tokens = True,\n",
        "          return_tensors = 'pt',\n",
        "          )\n",
        "      # return encode['input_ids'], encode['attention_mask']\n",
        "      return encode"
      ],
      "metadata": {
        "id": "F4x7Ey-h5SgH"
      },
      "execution_count": 8,
      "outputs": []
    },
    {
      "cell_type": "code",
      "source": [
        "class GaussianNoise(nn.Module):\n",
        "    def __init__(self, sigma=0.1):\n",
        "        super(GaussianNoise, self).__init__()\n",
        "        self.sigma = sigma\n",
        "\n",
        "    def forward(self, x):\n",
        "        if self.training:\n",
        "            noise = torch.randn_like(x) * self.sigma\n",
        "            return x + noise\n",
        "        else:\n",
        "            return x"
      ],
      "metadata": {
        "id": "VmYLF5vuyAfq"
      },
      "execution_count": 9,
      "outputs": []
    },
    {
      "cell_type": "code",
      "source": [
        "# Calculates Euclidean distance between class protoypes and query samples\n",
        "class L2Distance(nn.Module):\n",
        "  def __init__(self):\n",
        "    super(L2Distance, self).__init__()\n",
        "\n",
        "  def forward(self, support, query):\n",
        "    \"\"\"\n",
        "    Args:\n",
        "        support: torch.Tensor, [B, totalQ, N, D]\n",
        "        query: torch.Tensor, [B, totalQ, N, D]\n",
        "        \n",
        "    Returns:\n",
        "        relation_score: torch.Tensor, [B, totalQ, N]\"\"\"\n",
        "    l2_distance = torch.pow(support - query, 2).sum(-1, keepdim=False)  # [B, totalQ, N]\n",
        "    return F.softmax(-l2_distance, dim=-1)"
      ],
      "metadata": {
        "id": "uo3l1pcW67j9"
      },
      "execution_count": 10,
      "outputs": []
    },
    {
      "cell_type": "code",
      "source": [
        "def prototypical_loss(predict_proba, label):\n",
        "  \"\"\"prototypical_loss.\n",
        "      Args:\n",
        "          predict_proba: torch.Tensor, [B, totalQ, N]\n",
        "          label: torch.Tensor, [B, totalQ]\n",
        "          \n",
        "      Returns:\n",
        "          loss: torch.Float\"\"\"\n",
        "  N = predict_proba.size(-1)\n",
        "  return F.cross_entropy(predict_proba.view(-1, N), label.view(-1))"
      ],
      "metadata": {
        "id": "dbD7hJlM7Joe"
      },
      "execution_count": 11,
      "outputs": []
    },
    {
      "cell_type": "code",
      "source": [
        "def mean_accuracy(predict_label, label):\n",
        "  return torch.mean((predict_label.view(-1) == label.view(-1)).type(torch.FloatTensor))"
      ],
      "metadata": {
        "id": "P7nmkyh87U8R"
      },
      "execution_count": 12,
      "outputs": []
    },
    {
      "cell_type": "code",
      "source": [
        "def mean_pooling(model_output, attention_mask):\n",
        "    token_embeddings = model_output[0] #First element of model_output contains all token embeddings\n",
        "    input_mask_expanded = attention_mask.unsqueeze(-1).expand(token_embeddings.size()).float()\n",
        "    return torch.sum(token_embeddings * input_mask_expanded, 1) / torch.clamp(input_mask_expanded.sum(1), min=1e-9)\n",
        "\n",
        "class PrototypicalNetwork(nn.Module):\n",
        "    def __init__(self, bert_model):\n",
        "        super(PrototypicalNetwork, self).__init__()\n",
        "        self.bert_model = bert_model\n",
        "        # self.encoder = nn.Sequential(\n",
        "        #     # GaussianNoise(0.1),\n",
        "        #     nn.Dropout(0.2),\n",
        "        #     # nn.Linear(self.bert_model.config.hidden_size, self.bert_model.config.hidden_size),\n",
        "        #     # nn.ReLU(),\n",
        "        #     # GaussianNoise(0.1),\n",
        "        #     # nn.Dropout(0.2),\n",
        "        #     # nn.Linear(self.bert_model.config.hidden_size, out_channels)\n",
        "        # )\n",
        "\n",
        "    def forward(self, ids, ids_mask):\n",
        "      \"\"\"Prototype Networks forward.\n",
        "      Args:\n",
        "          ids: torch.Tensor, [-1, N, K, max_length]\n",
        "          ids_mask: torch.Tensor, [-1, N, K, max_length]\n",
        "          \n",
        "      Returns:\n",
        "          ids: torch.Tensor, [B, N*K, D]\"\"\"\n",
        "      B, N, K, max_length = ids.size()\n",
        "      \n",
        "      # 1. Encoder\n",
        "      ids = ids.view(-1, max_length)  # [B * N * K, max_length]\n",
        "      ids_mask = ids_mask.view(-1, max_length)\n",
        "      ids = self.bert_model(input_ids=ids, attention_mask=ids_mask)[1]  # [B * N * K, D]\n",
        "      # ids = self.encoder(ids)\n",
        "      # Perform pooling\n",
        "      # ids = mean_pooling(ids, ids_mask)\n",
        "      # Normalize embeddings\n",
        "      id = F.normalize(ids, p=2, dim=1)\n",
        "      ids = ids.view(B, -1, ids.size()[-1])  # [B, N*K, D] D=self.bert_model.config.hidden_size\n",
        "      return ids"
      ],
      "metadata": {
        "id": "_zPb_KJINVXZ"
      },
      "execution_count": 13,
      "outputs": []
    },
    {
      "cell_type": "code",
      "source": [
        "def get_num_samples(targets, num_classes, dtype=None):\n",
        "    \"\"\" count number of same shots examples and set this value taking\n",
        "    in account all total classes\n",
        "    Parameters\n",
        "    ----------\n",
        "    targets: `torch.IntegerTensor` instance\n",
        "    has shape `((batch_size, num_examples))`\n",
        "\n",
        "    num_classes: int, number of classes.\n",
        "    Returns\n",
        "    -------\n",
        "    num_samples: ((batch_size, num_classes))    \n",
        "    \"\"\"\n",
        "    batch_size = targets.size(0)\n",
        "    with torch.no_grad():\n",
        "        ones = torch.ones_like(targets, dtype=dtype)\n",
        "        num_samples = ones.new_zeros((batch_size, num_classes))\n",
        "        num_samples.scatter_add_(1, targets, ones)\n",
        "    return num_samples\n",
        "\n",
        "\n",
        "def get_prototypes(embeddings, targets, num_classes):\n",
        "    \"\"\"Compute the prototypes (the mean vector of the embedded training/support \n",
        "    points belonging to its class) for each classes in the task.\n",
        "    Parameters\n",
        "    ----------\n",
        "    embeddings : `torch.FloatTensor` instance\n",
        "        A tensor containing the embeddings of the support points. This tensor \n",
        "        has shape `(batch_size, num_examples, embedding_size)`.\n",
        "    targets : `torch.LongTensor` instance\n",
        "        A tensor containing the targets of the support points. This tensor has \n",
        "        shape `(batch_size, num_examples)`.\n",
        "    num_classes : int\n",
        "        Number of classes in the task.\n",
        "    Returns\n",
        "    -------\n",
        "    prototypes : `torch.FloatTensor` instance\n",
        "        A tensor containing the prototypes for each class. This tensor has shape\n",
        "        `(batch_size, num_classes, embedding_size)`.\n",
        "    \"\"\"\n",
        "    batch_size, embedding_size = embeddings.size(0), embeddings.size(-1)\n",
        "    \n",
        "    num_samples = get_num_samples(targets, num_classes, dtype=embeddings.dtype)\n",
        "    num_samples.unsqueeze_(-1)\n",
        "    num_samples = torch.max(num_samples, torch.ones_like(num_samples))\n",
        "\n",
        "    prototypes = embeddings.new_zeros((batch_size, num_classes, embedding_size))\n",
        "    indices = targets.unsqueeze(-1).expand_as(embeddings)\n",
        "    prototypes.scatter_add_(1, indices, embeddings).div_(num_samples)\n",
        "\n",
        "    return prototypes\n",
        "\n",
        "# def prototypical_loss(prototypes, embeddings, targets, **kwargs):\n",
        "#     \"\"\"Compute the loss (i.e. negative log-likelihood) for the prototypical \n",
        "#     network, on the test/query points.\n",
        "#     Parameters\n",
        "#     ----------\n",
        "#     prototypes : `torch.FloatTensor` instance\n",
        "#         A tensor containing the prototypes for each class. This tensor has shape \n",
        "#         `(batch_size, num_classes, embedding_size)`.\n",
        "#     embeddings : `torch.FloatTensor` instance\n",
        "#         A tensor containing the embeddings of the query points. This tensor has \n",
        "#         shape `(batch_size, num_examples, embedding_size)`.\n",
        "#     targets : `torch.LongTensor` instance\n",
        "#         A tensor containing the targets of the query points. This tensor has \n",
        "#         shape `(batch_size, num_examples)`.\n",
        "#     Returns\n",
        "#     -------\n",
        "#     loss : `torch.FloatTensor` instance\n",
        "#         The negative log-likelihood on the query points.\n",
        "#     \"\"\"\n",
        "#     B, classes, D = prototypes.size() \n",
        "#     B, examples, D = embeddings.size() \n",
        "#     prototypes = prototypes.unsqueeze(1).repeat(1,examples,1,1).view(-1,D)\n",
        "#     embeddings = embeddings.unsqueeze(2).repeat(1,1,classes,1).view(-1,D)\n",
        "#     targets = 2*F.one_hot(targets, num_classes=classes).view(-1,)-1\n",
        "#     return torch.nn.CosineEmbeddingLoss()(prototypes, embeddings , targets)\n",
        "\n",
        "def prototypical_loss(prototypes, embeddings, targets, **kwargs):\n",
        "    \"\"\"Compute the loss (i.e. negative log-likelihood) for the prototypical \n",
        "    network, on the test/query points.\n",
        "    Parameters\n",
        "    ----------\n",
        "    prototypes : `torch.FloatTensor` instance\n",
        "        A tensor containing the prototypes for each class. This tensor has shape \n",
        "        `(batch_size, num_classes, embedding_size)`.\n",
        "    embeddings : `torch.FloatTensor` instance\n",
        "        A tensor containing the embeddings of the query points. This tensor has \n",
        "        shape `(batch_size, num_examples, embedding_size)`.\n",
        "    targets : `torch.LongTensor` instance\n",
        "        A tensor containing the targets of the query points. This tensor has \n",
        "        shape `(batch_size, num_examples)`.\n",
        "    Returns\n",
        "    -------\n",
        "    loss : `torch.FloatTensor` instance\n",
        "        The negative log-likelihood on the query points.\n",
        "    \"\"\"\n",
        "    squared_distances = torch.sum((prototypes.unsqueeze(2)\n",
        "        - embeddings.unsqueeze(1)) ** 2, dim=-1)\n",
        "    return F.cross_entropy(-squared_distances, targets, **kwargs)\n",
        "\n",
        "def get_accuracy(prototypes, embeddings, targets):\n",
        "    \"\"\"Compute the accuracy of the prototypical network on the test/query points.\n",
        "    Parameters\n",
        "    ----------\n",
        "    prototypes : `torch.FloatTensor` instance\n",
        "        A tensor containing the prototypes for each class. This tensor has shape \n",
        "        `(meta_batch_size, num_classes, embedding_size)`.\n",
        "    embeddings : `torch.FloatTensor` instance\n",
        "        A tensor containing the embeddings of the query points. This tensor has \n",
        "        shape `(meta_batch_size, num_examples, embedding_size)`.\n",
        "    targets : `torch.LongTensor` instance\n",
        "        A tensor containing the targets of the query points. This tensor has \n",
        "        shape `(meta_batch_size, num_examples)`.\n",
        "    Returns\n",
        "    -------\n",
        "    accuracy : `torch.FloatTensor` instance\n",
        "        Mean accuracy on the query points.\n",
        "    \"\"\"\n",
        "    sq_distances = torch.sum((prototypes.unsqueeze(1)\n",
        "        - embeddings.unsqueeze(2)) ** 2, dim=-1)\n",
        "    _, predictions = torch.min(sq_distances, dim=-1)\n",
        "    return torch.mean(predictions.eq(targets).float()), predictions\n",
        "\n",
        "# def get_accuracy(prototypes, embeddings, targets):\n",
        "#     \"\"\"\n",
        "#     Compute the accuracy of the prototypical network on the test/query points using cosine similarity.\n",
        "#     \"\"\"\n",
        "#     # Compute cosine similarity between prototypes and embeddings\n",
        "#     sim = F.cosine_similarity(prototypes.unsqueeze(1), embeddings.unsqueeze(2), dim=-1)\n",
        "#     # Predict class with the highest cosine similarity\n",
        "#     _, predictions = torch.max(sim, dim=2)\n",
        "#     # Compute mean accuracy\n",
        "#     accuracy = torch.mean(predictions.eq(targets).float())\n",
        "#     return accuracy, predictions"
      ],
      "metadata": {
        "id": "9W6lNoIXhWFp"
      },
      "execution_count": 14,
      "outputs": []
    },
    {
      "cell_type": "code",
      "source": [
        "def fit(prototypical_model, data_loader, optimizer, scheduler, train_steps):\n",
        "  prototypical_model.train()\n",
        "  total_loss, total_accuracy = 0, 0\n",
        "  with tqdm(data_loader, total=train_steps) as pbar:\n",
        "    for batch_idx, batch in enumerate(pbar):\n",
        "      if batch_idx >= train_steps:\n",
        "          break\n",
        "\n",
        "      support, support_mask, query, query_mask, support_label, query_label = [tensor.to(device) for tensor in batch]\n",
        "      support_embedding = prototypical_model(support, support_mask)\n",
        "      query_embedding = prototypical_model(query, query_mask)\n",
        "\n",
        "      prototypes = get_prototypes(support_embedding, support_label,data_loader.dataset.nb_proto_classes)\n",
        "      loss = prototypical_loss(prototypes, query_embedding, query_label)\n",
        "      loss.backward()\n",
        "      optimizer.step()\n",
        "      optimizer.zero_grad()\n",
        "      scheduler.step()\n",
        "\n",
        "      with torch.no_grad():\n",
        "        accuracy, _ = get_accuracy(prototypes, query_embedding, query_label)\n",
        "        pbar.set_postfix(accuracy='{0:.4f}'.format(accuracy.item()))\n",
        "      # add on to the total loss\n",
        "      total_loss = total_loss + loss.item()\n",
        "      total_accuracy = total_accuracy + accuracy.item()\n",
        "    return total_loss/train_steps, total_accuracy/train_steps"
      ],
      "metadata": {
        "id": "sfr5iYLRO3n8"
      },
      "execution_count": 15,
      "outputs": []
    },
    {
      "cell_type": "code",
      "source": [
        "def eval(prototypical_model, data_loader):\n",
        "  # switch prototypical_model to evaluation mode\n",
        "  prototypical_model.eval()\n",
        "  total_loss, total_accuracy = 0, 0\n",
        "  # iterate over batches in test loader\n",
        "  steps = len(data_loader)\n",
        "  with torch.no_grad():\n",
        "    with tqdm(data_loader, total=steps) as pbar:\n",
        "      for batch_idx, batch in enumerate(pbar):\n",
        "        support, support_mask, query, query_mask, support_label, query_label = [tensor.to(device) for tensor in batch]\n",
        "        support_embedding = prototypical_model(support, support_mask)\n",
        "        query_embedding = prototypical_model(query, query_mask)\n",
        "\n",
        "        prototypes = get_prototypes(support_embedding, support_label,data_loader.dataset.nb_proto_classes)\n",
        "        loss = prototypical_loss(prototypes, query_embedding, query_label)\n",
        "        accuracy, _ = get_accuracy(prototypes, query_embedding, query_label)\n",
        "        # add on to the total loss\n",
        "        total_loss = total_loss + loss.item()\n",
        "        total_accuracy = total_accuracy + accuracy.item()\n",
        "        pbar.set_postfix(accuracy='{0:.4f}'.format(accuracy.item()))\n",
        "      return total_loss/steps, total_accuracy/steps"
      ],
      "metadata": {
        "id": "EHRYP96eSSip"
      },
      "execution_count": 16,
      "outputs": []
    },
    {
      "cell_type": "code",
      "source": [
        "def test(prototypical_model, data_loader):\n",
        "  # switch prototypical_model to evaluation mode\n",
        "  prototypical_model.eval()\n",
        "  total_loss, total_accuracy = 0, 0\n",
        "  # iterate over batches in test loader\n",
        "  predicted_labels = []\n",
        "  labels = []\n",
        "  steps = len(data_loader)\n",
        "  with torch.no_grad():\n",
        "    with tqdm(data_loader, total=steps) as pbar:\n",
        "      for batch_idx, batch in enumerate(pbar):\n",
        "        support, support_mask, query, query_mask, support_label, query_label = [tensor.to(device) for tensor in batch]\n",
        "        support_embedding = prototypical_model(support, support_mask)\n",
        "        query_embedding = prototypical_model(query, query_mask)\n",
        "\n",
        "        prototypes = get_prototypes(support_embedding, support_label,data_loader.dataset.nb_proto_classes)\n",
        "        loss = prototypical_loss(prototypes, query_embedding, query_label)\n",
        "        accuracy, predict_label = get_accuracy(prototypes, query_embedding, query_label)\n",
        "        # add on to the total loss\n",
        "        total_loss = total_loss + loss.item()\n",
        "        total_accuracy = total_accuracy + accuracy.item()\n",
        "\n",
        "        predicted_labels.extend(predict_label.view(-1,).detach().cpu().numpy().tolist())\n",
        "        labels.extend(query_label.view(-1,).detach().cpu().numpy().tolist())\n",
        "        pbar.set_postfix(accuracy='{0:.4f}'.format(accuracy.item()))\n",
        "      return total_loss/steps, total_accuracy/steps, labels, predicted_labels "
      ],
      "metadata": {
        "id": "L40GZ3uTK5yb"
      },
      "execution_count": 17,
      "outputs": []
    },
    {
      "cell_type": "code",
      "source": [
        "def training(epoch, lr, tokenizer_length, n_ways, k_shots, k_queries, train_steps):\n",
        "  # empty lists to store training and validation loss of each epoch\n",
        "  train_losses=[]\n",
        "  valid_losses=[]\n",
        "\n",
        "  train_accuracies=[]\n",
        "  valid_accuracies=[]\n",
        "  try:\n",
        "    # # import BERT-base pretrained model\n",
        "    # # bert = T5EncoderModel.from_pretrained('sentence-transformers/sentence-t5-base')\n",
        "    # # bert = AutoModel.from_pretrained('bert-base-uncased')\n",
        "    # bert = AutoModel.from_pretrained('sentence-transformers/bert-base-nli-mean-tokens')\n",
        "    # # bert = AutoModel.from_pretrained('microsoft/MiniLM-L12-H384-uncased')\n",
        "    # # bert = RobertaModel.from_pretrained('roberta-base')\n",
        "    # # Load the BERT tokenizer\n",
        "    # # tokenizer = T5Tokenizer.from_pretrained('t5-base',do_lower_case=True)\n",
        "    # # tokenizer = BertTokenizerFast.from_pretrained('bert-base-uncased',do_lower_case=True)\n",
        "    # tokenizer = BertTokenizerFast.from_pretrained('sentence-transformers/bert-base-nli-mean-tokens',do_lower_case=True)\n",
        "    # # tokenizer = BertTokenizerFast.from_pretrained('microsoft/MiniLM-L12-H384-uncased',do_lower_case=True)\n",
        "    # # tokenizer = RobertaTokenizer.from_pretrained('roberta-base',do_lower_case=True)\n",
        "    # #initialize model\n",
        "    # # model = PrototypicalNetwork(bert, 256, hidden_size=512)\n",
        "    # model = PrototypicalNetwork(bert)\n",
        "    # model.to(device)\n",
        "\n",
        "    # Example usage:\n",
        "    crypto_train = CryptocurrencyDataset(train_examples, tokenizer, tokenizer_length, n_ways, k_shots, k_queries)\n",
        "    train_loader = DataLoader(crypto_train, batch_size=2, shuffle=True)\n",
        "    # crypto_val = CryptocurrencyDataset(val_text, val_labels, tokenizer, max_seq_len, Nc = Nc, Ni = 1, Nq = 1)\n",
        "    crypto_val = CryptocurrencyDatasetEval(train_examples,val_examples, tokenizer, tokenizer_length, n_ways, 2*k_shots)\n",
        "    val_loader = DataLoader(crypto_val, batch_size=8, shuffle=True)\n",
        "\n",
        "    \n",
        "    # Initialize variables for early stopping\n",
        "    # set initial loss to infinite\n",
        "    best_valid_loss = float('inf')\n",
        "    best_valid_acc = 0\n",
        "    # best_acc = 0.0\n",
        "    best_epoch = 0\n",
        "    patience = epochs*0.20\n",
        "\n",
        "    parameter_list = list(model.named_parameters())\n",
        "    no_decay = [\"bias\", \"LayerNorm.bias\", \"LayerNorm.weight\"]  # Do not use weight decay.\n",
        "    optimizer = Adam(\n",
        "        [\n",
        "            {\n",
        "                \"params\": [param for name, param in parameter_list\n",
        "                if not any(nd in name for nd in no_decay)],\n",
        "                \"weight_decay\": 0.0\n",
        "            },\n",
        "            {\n",
        "                \"params\": [param for name, param in parameter_list\n",
        "                if any(nd in name for nd in no_decay)],\n",
        "                \"weight_decay\": 0.0\n",
        "            }\n",
        "        ], lr=lr, \n",
        "        # weight_decay=1e-3,\n",
        "        betas=(0.9,0.999),\n",
        "        eps=1e-08\n",
        "    )\n",
        "    scheduler = transformers.get_linear_schedule_with_warmup(\n",
        "          optimizer,\n",
        "          num_warmup_steps=int(0.06 * 400),\n",
        "          num_training_steps=400\n",
        "      )\n",
        "    # scheduler = transformers.get_polynomial_decay_schedule_with_warmup(\n",
        "    #       optimizer,\n",
        "    #       num_warmup_steps=int(0.05 * 400),\n",
        "    #       num_training_steps=400,\n",
        "    #       power = 3,\n",
        "    #       lr_end=1e-8\n",
        "    #   )\n",
        "    \n",
        "    # scheduler = optim.lr_scheduler.CosineAnnealingLR(optimizer, T_max=20)\n",
        "    for epoch in range(epochs):\n",
        "      print('\\n Epoch {:} / {:}'.format(epoch + 1, epochs))\n",
        "      train_loss, train_accuracy = fit(model, train_loader, optimizer, scheduler, train_steps)\n",
        "\n",
        "      # scheduler.step()\n",
        "      valid_loss, valid_accuracy = eval(model, val_loader)\n",
        "      # Update the scheduler and early stopping\n",
        "      if valid_accuracy > best_valid_acc:\n",
        "          best_valid_acc = valid_accuracy\n",
        "          best_epoch = epoch\n",
        "          torch.save(model.state_dict(), 'saved_weights.pt')\n",
        "\n",
        "      if valid_loss < best_valid_loss:\n",
        "          best_valid_loss = valid_loss\n",
        "          # best_epoch = epoch\n",
        "          torch.save(model.state_dict(), 'saved_weights_l.pt')\n",
        "    \n",
        "      # append training and validation loss\n",
        "      train_losses.append(train_loss)\n",
        "      valid_losses.append(valid_loss)\n",
        "      train_accuracies.append(train_accuracy)\n",
        "      valid_accuracies.append(valid_accuracy)\n",
        "      print(f'\\nTraining Loss: {train_loss:.3f} Training Accuracy: {train_accuracy:.3f}')\n",
        "      print(f'Validation Loss: {valid_loss:.3f} Validation Accuracy: {valid_accuracy:.3f}')\n",
        "        \n",
        "      if epoch - best_epoch > patience:\n",
        "          print(\"Early stopping: Validation loss did not improve for {} epochs\".format(patience))\n",
        "          break\n",
        "  except Exception as inst:\n",
        "    print(inst) \n",
        "  except KeyboardInterrupt:\n",
        "    return train_accuracies, train_losses, valid_accuracies, valid_losses\n",
        "  return train_accuracies, train_losses, valid_accuracies, valid_losses"
      ],
      "metadata": {
        "id": "fxBAiWN9Uwa-"
      },
      "execution_count": 18,
      "outputs": []
    },
    {
      "cell_type": "code",
      "source": [
        "# import BERT-base pretrained model\n",
        "# bert = AutoModel.from_pretrained('yiyanghkust/finbert-tone')\n",
        "# tokenizer = BertTokenizerFast.from_pretrained('yiyanghkust/finbert-tone',do_lower_case=True)\n",
        "# bert = AutoModel.from_pretrained('sentence-transformers/bert-base-nli-mean-tokens')\n",
        "# tokenizer = BertTokenizerFast.from_pretrained('sentence-transformers/bert-base-nli-mean-tokens',do_lower_case=True)\n",
        "# bert = AutoModel.from_pretrained('sentence-transformers/all-MiniLM-L6-v2')\n",
        "# tokenizer = BertTokenizerFast.from_pretrained('sentence-transformers/all-MiniLM-L6-v2')\n",
        "bert = AutoModel.from_pretrained('microsoft/MiniLM-L12-H384-uncased')\n",
        "tokenizer = BertTokenizerFast.from_pretrained('microsoft/MiniLM-L12-H384-uncased',do_lower_case=True)"
      ],
      "metadata": {
        "id": "QF3JP0cxppW2"
      },
      "execution_count": 19,
      "outputs": []
    },
    {
      "cell_type": "code",
      "source": [
        "#text preprocessing\n",
        "text_seq_length = 80\n",
        "train_examples = dataToInputExample(train_data,text_seq_length)\n",
        "val_examples = dataToInputExample(val_data,text_seq_length)\n",
        "seq_len = [len(tokenizer.encode(i.text)) for i in train_examples[0]]\n",
        "pd.Series(seq_len).hist(bins = 30)"
      ],
      "metadata": {
        "colab": {
          "base_uri": "https://localhost:8080/",
          "height": 1000
        },
        "id": "nC6XA1fPNiHh",
        "outputId": "720d95c2-ddbf-4248-f010-05010e961bf8"
      },
      "execution_count": 20,
      "outputs": [
        {
          "output_type": "stream",
          "name": "stdout",
          "text": [
            "Huobi Wallet ✖️ @balancer Airdrop🎊    ⏰1 day left    5 winners to share 15 $BAL!🤩    ⚡️Download #HuobiWallet 👉https://t.co/CK4JIfxi9K  1⃣Stake in any Polygon pool on @balancer through Huobi Wallet  2⃣RT with your staking screenshot+ tag 3  3⃣Fill in the form 👉https://t.co/AURZjf6HNE https://t.co/pe3CZvMKtV\n",
            "huobi wallet @user airdrop 1 day left 5 winners to share 15 $bal! download #huobiwallet http stake in any polygon pool on @user through huobi wallet with your staking screenshot+ tag 3 fill in the form http http\n",
            "@helium reaching escape velocity while SigFox declares bankruptcy  Long decentralized operating models $HNT https://t.co/7LRpHT7jr5\n",
            "@user reaching escape velocity while sigfox declares bankruptcy long decentralized operating models $hnt http\n",
            "24-HOUR $HNT SUMMARY:  $21.63 (-0.7%) $21.16 - $22.30 (Range)  9,068,155 (Volume) 100,539,362 (Circulating Supply) #53 (Market Cap)\n",
            "24-hour $hnt summary: $21.63 (-0.7%) $21.16 - $22.30 (range) 9,068,155 (volume) 100,539,362 (circulating supply) #53 (market cap)\n",
            "@SplitCapital Love to see it. It would also be bomb to have a $SYN pair on Arbitrum (cc @AureliusBTC @SynapseProtocol @ThinkingUSD)\n",
            "@user love to see it. it would also be bomb to have a $syn pair on arbitrum (cc @user @user\n",
            "#Faraland #FARA #VietnamBlockchainExpoverse #BSC #NFT #GameFi #Metaverse #BinanceBlockchainWeek #BNBchain I don't know if you hold any $FARA but you should deff get it! #faraland always good to have in your Portfolio https://t.co/3WF5PGIRfe https://t.co/hHgPA3kDO2\n",
            "#faraland #fara #vietnamblockchainexpoverse #bsc #nft #gamefi #metaverse #binanceblockchainweek #bnbchain i don't know if you hold any $fara but you should deff get it! #faraland always good to have in your portfolio http http\n",
            "⭐️Setup A Node on Testnet⭐️    📢@harmonyprotocol $ONE Validators    🎓Learn How to Setup a Validator Node on Testnet.    ✅Test new features   ✅Hone your skills    🔖https://t.co/vimbC6yVH3    💙#VDaoDotOne💙\n",
            "setup a node on testnet @user $one validators learn how to setup a validator node on testnet. test new features hone your skills http #vdaodotone\n",
            "SOMETIMES THE PERFECT MEME STILL ISN'T ENOUGH    I wrote about $OHM and (3,3) and what happens to all speculative assets, when the urge to defect from the pact starts to grow.    Subscribe to the newsletter here: https://t.co/Pl5nZqsNJq https://t.co/qEiyD8Cbri\n",
            "sometimes the perfect meme still isn't enough i wrote about $ohm and (3,3) and what happens to all speculative assets, when the urge to defect from the pact starts to grow. subscribe to the newsletter here: http http\n",
            "$RAY Profitable chatroom, I've made $28k in a week. Lot of thanks to this chatroom....  https://t.co/LOecFQLrsC\n",
            "$ray profitable chatroom, i've made $28k in a week. lot of thanks to this chatroom.... http\n",
            "@ExcelBaller Thank god I stayed blindly loyal to $JOE\n",
            "@user thank god i stayed blindly loyal to $joe\n",
            "Feels good, up like 30%  That said I'm pretty sure I'll round trip it, I always give back parts of my $XTZ gains.  Not gonna sell though, moon it. https://t.co/ynTbnk8JaG https://t.co/gpz71uSOmJ\n",
            "feels good, up like 30% that said i'm pretty sure i'll round trip it, i always give back parts of my $xtz gains. not gonna sell though, moon it. http http\n",
            "We have detected: #AnchorProtocol $ANC was listed as ANC/$ on #Okcoin\n",
            "we have detected: #anchorprotocol $anc was listed as anc/$ on #okcoin\n",
            "mint details! 🌈    Date: January 5th.  Time: 4:00 PM UTC.  Supply: 1,000.  Price: 0.2 $SOL.    the mint link will only officially be posted here, on our twitter account. https://t.co/NS5PbWkk8I\n",
            "mint details! date: january 5th. time: 4:00 pm utc. supply: 1,000. price: 0.2 $sol. the mint link will only officially be posted here, on our twitter account. http\n",
            "🐳 #Cardano $ADA Whale ❤️laced! 💰 Transaction Output: 1.8M ₳D₳ / 2.28M USD  👁️ Tx info: ➡️ https://t.co/NnzNYpNNMA  🙏Support us: - Stake with  ☮️PEACE☮️ pool: https://t.co/Uztjjf2EbE - Stake with SHARP/EASY1/BOOST/GMBL #fintech #blockchain #crypto\n",
            "#cardano $ada whale laced! transaction output: 1.8m ₳d₳ / 2.28m usd tx info: http support us: - stake with peace pool: http - stake with sharp/easy1/boost/gmbl #fintech #blockchain #crypto\n",
            "VulcanDex is BACK! Kicking off the #NFT farms with some of the biggest rewards you can get: VulcanVerse land!    It's all back, everything's back. 2022 LFG.     $PYR https://t.co/fvigV5mt0w\n",
            "vulcandex is back! kicking off the #nft farms with some of the biggest rewards you can get: vulcanverse land! it's all back, everything's back. 2022 lfg. $pyr http\n",
            "How long will it take for something like $HNS to build Twitter but not Twitter? https://t.co/u47Uud6i88\n",
            "how long will it take for something like $hns to build twitter but not twitter? http\n",
            "@TheSandboxGame I just participated in the daily #SandboxAlphaS2Contest for a chance to earn up to 1,000 $SAND! Starting March 14 -  Show your Raffle Tickets. Check out my screenshot below! 👇 #SandboxAlphaS2 https://t.co/bonvgEsKn6\n",
            "@user i just participated in the daily #sandboxalphas2contest for a chance to earn up to 1,000 $sand! starting march 14 - show your raffle tickets. check out my screenshot below! #sandboxalphas2 http\n",
            "COMET #4 AUCTIONS END IN 3 HOURS! 👀☄️🔥    Auctions end @ 8PM UTC to bid! ⏰ #NEO #NFTLaunch    *bids placed in the last 10 min will revert the timer back to 10 min remaining!    Bid using $NEO on some of the rarest #NFTCollectibles in the #Metaverse    Bid Here➡️https://t.co/4eoR3hqfN6 https://t.co/1BljfjJbhJ\n",
            "comet #4 auctions end in 3 hours! auctions end @ 8pm utc to bid! #neo #nftlaunch *bids placed in the last 10 min will revert the timer back to 10 min remaining! bid using $neo on some of the rarest #nftcollectibles in the #metaverse bid here http http\n",
            "Buying dips with my favorite all-in one app has been smooth like oil. $CRO #crofam\n",
            "buying dips with my favorite all-in one app has been smooth like oil. $cro #crofam\n",
            "RETWEET IF YOU BELIEVE HUGE $DOGE PUMP COMING SOON! 🔥                                              @elonmusk 👀\n",
            "retweet if you believe huge $doge pump coming soon! @user\n",
            "Polkadotpro (DOT) Token Airdrop      Reward : 500000000 $DOT  Refar : Refer to get 30% BNB + 70% POLKADOT PRO TOKEN.\n",
            "polkadotpro (dot) token airdrop reward : 500000000 $dot refar : refer to get 30% bnb + 70% polkadot pro token.\n",
            "'Light as our shield'  10 editions, 0.5 $XTZ    Get yours (imagine puppy eyes) ๑⇢https://t.co/kufND6vtia    To anyone who needs a bit of light in their life, this objkt was created from the heart to give it. 💫   -  #hicetnunc #objkt #tezoscommunity #hicetnunc  @alteredgenie https://t.co/VxkdLeA0i4\n",
            "'light as our shield' 10 editions, 0.5 $xtz get yours (imagine puppy eyes) ๑⇢http to anyone who needs a bit of light in their life, this objkt was created from the heart to give it. - #hicetnunc #objkt #tezoscommunity #hicetnunc @user http\n",
            "$Aave V3 was deployed on 7 testnets - try it out today on #Ethereum Rinkeby, #Fantom Testnet, #Harmony Testnet, #Arbitrum Rinkeby, #Polygon Mumbai, #Optimism Kovan, and #Avalanche Fuji. #defi #cryptocurrency\n",
            "$aave v3 was deployed on 7 testnets - try it out today on #ethereum rinkeby, #fantom testnet, #harmony testnet, #arbitrum rinkeby, #polygon mumbai, #optimism kovan, and #avalanche fuji. #defi #cryptocurrency\n",
            "New Listing Update: Cronos (CRO) wallet is open and trading has begun on https://t.co/0PDjOTWp8h    Markets: BTC-CRO, ETH-CRO, USD-CRO, USDT-CRO    For more information about $CRO, visit https://t.co/ar5aeMyTVU @cronos_chain https://t.co/UkwbbAJVeR\n",
            "new listing update: cronos (cro) wallet is open and trading has begun on http markets: btc-cro, eth-cro, usd-cro, usdt-cro for more information about $cro, visit http @user http\n",
            "🟢 Buy $MINA [SPOT]  #MINABUSD  Filled: 16.0643 #MINA / 40.00 #BUSD  Buy Price: $2.49    #Mina #Binance #Bitcoin #Metaverse #NFT #Web3 #Altcoin\n",
            "buy $mina [spot] #minabusd filled: 16.0643 #mina / 40.00 #busd buy price: $2.49 #mina #binance #bitcoin #metaverse #nft #web3 #altcoin\n",
            "#Illuvium $ILV   #NFTs 🔥   #NFTCommunity #NFTGiveaway #CoinCollection     Check out this item on OpenSea https://t.co/zVJMUgdm1f via @opensea\n",
            "#illuvium $ilv #nfts #nftcommunity #nftgiveaway #coincollection check out this item on opensea http via @user\n",
            "$12000 in $ETH to a random Follower🎁  - rt &amp; follow me❤️❤️❤️❤️❤️❤️❤️  So that you can start with #NFT https://t.co/FdYsOeWpDO\n",
            "$12000 in $eth to a random follower - follow me so that you can start with #nft http\n",
            "@Airdropalertcom Did you know that Owners of #NFTs from #CryptAnon collection, have access to massive giveaways, including one that involves 250 $ETH reward? 🤔. Now you know! Own an #NFT now from this collection. Mint prices start from 0.02 ETH.  #ERC\n",
            "@user did you know that owners of #nfts from #cryptanon collection, have access to massive giveaways, including one that involves 250 $eth reward? . now you know! own an #nft now from this collection. mint prices start from 0.02 eth. #erc\n",
            "📢 #ONUS New Listing: $KEEP     @keep_project is an incentivized network for storing and encrypting private data on the public #blockchain.     #ONUS users can now store and swap from #VNDC or #USDT for #KEEP and vice versa 🪙    📌 Detail: https://t.co/NpaJ9vlSZV    #tBTC #DeFi #Crypto https://t.co/FWVb7fUjI4\n",
            "#onus new listing: $keep @user is an incentivized network for storing and encrypting private data on the public #blockchain. #onus users can now store and swap from #vndc or #usdt for #keep and vice versa detail: http #tbtc #defi #crypto http\n",
            "🔥#nftdrop🔥  CARD OC58 Cat Thief https://t.co/YqwManhgFE https://t.co/MPUODhzI7C https://t.co/fTntqbT2TX  10 ed /0.7 $XTZ #nftart #NFTartist #nftindonesia #CleanNFT ￼ #tezos ￼ #objkt #hicetnunc #AnimeNFT #nftanime #NFTrilisanterbaru https://t.co/mwdodza4wm\n",
            "#nftdrop card oc58 cat thief http 10 ed /0.7 $xtz #nftart #nftartist #nftindonesia #cleannft ￼ #tezos ￼ #objkt #hicetnunc #animenft #nftanime #nftrilisanterbaru http\n",
            "#XTexchange will list $AR @ArweaveTeam in the Innovation Zone (Gray Scale) under AR/USDT trading pair.  ✅Deposit &amp; Trading:07: 30 on Jan 26 (UTC) ✅Withdrawal: 03: 00 on Jan 27 (UTC)  🏆AR Trading Competition - $10,000 to be Won !   #Arweave  Details: https://t.co/VmSUME5RTx https://t.co/i2vDKmk8az\n",
            "#xtexchange will list $ar @user in the innovation zone (gray scale) under ar/usdt trading pair. deposit trading 30 on jan 26 (utc) withdrawal: 03: 00 on jan 27 (utc) ar trading competition - $10,000 to be won ! #arweave details: http http\n",
            "$MIR ABOUT TO GET FUCKED UP https://t.co/c0ZJVtEHoW\n",
            "$mir about to get fucked up http\n",
            "$RLY Real price will come out soon!!   https://t.co/LnAA6oV3Yq\n",
            "$rly real price will come out soon!! http\n",
            "Bought some $CELO     Chain that hasn't pumped yet, flipped key S/R level here with retest of 1D 50 RSI level https://t.co/31NGn6P2NJ\n",
            "bought some $celo chain that hasn't pumped yet, flipped key s/r level here with retest of 1d 50 rsi level http\n",
            "$RLY ~,,If you really want to make huge profits on trading then check out this chat. https://t.co/sBbZrHDFlI\n",
            "$rly ~,,if you really want to make huge profits on trading then check out this chat. http\n",
            "$CELO - now up nicely, +6.22% @ $7.058.  Sold 2k for a 332.41% profit.  See: https://t.co/mErgBPwRQv #cryptotwitter  #cryptotrading #CryptoTownEU\n",
            "$celo - now up nicely, +6.22% @ $7.058. sold 2k for a 332.41% profit. see: http #cryptotwitter #cryptotrading #cryptotowneu\n",
            "Theta Token 1-day AltRank™ is up 396% to 248 with price down -4.539% to $4.07     https://t.co/8FxrqkP3HP  $THETA #Theta Token #LunarCrush https://t.co/hqorMOMvtb\n",
            "theta token 1-day altrank is up 396% to 248 with price down -4.539% to $4.07 http $theta #theta token #lunarcrush http\n",
            "$BAL Real price come out soon.. Hit the target price. https://t.co/tg9H0D1uwh\n",
            "$bal real price come out soon.. hit the target price. http\n",
            "@Dr_Kojipup @AtlasCloud__ Hell yes, precious $ATLAS tokens..... @adlam_craig  @realLisaDaly\n",
            "@user hell yes, precious $atlas tokens..... @user @user\n",
            "The price of #InternetComputer is currently $43.76  #Crypto $ICP #ICP  https://t.co/XbywniOMCz\n",
            "the price of #internetcomputer is currently $43.76 #crypto $icp #icp http\n",
            "@cryptoastekz @YouTube $NEAR Strong, buy all\n",
            "@user $near strong, buy all\n",
            "@ProjectAyven   Our #NFT👉Escape Game👈 launches this Sunday 🚀     🎁The first one to solve all puzzles wins a free NFT🎁    The next 99 receive the life-time role 💎Arrivant, which offers great benefits, such as an instant 2.5 $XCH pre-sale offer 👀    \n",
            "@user our #nft escape game launches this sunday the first one to solve all puzzles wins a free nft the next 99 receive the life-time role arrivant, which offers great benefits, such as an instant 2.5 $xch pre-sale offer\n",
            "$ATLAS after game release 5$ and after 6-9 months target price will 35$-50$. Patience.\n",
            "$atlas after game release 5$ and after 6-9 months target price will 35$-50$. patience.\n",
            "$FXS price is rising! • Price (USD): $ 23.30700000 • Sharing = Pushing!!    • Real-Time Cryptocurrency Trends •    • #FXS Markets:  KuCoin #Binance\n",
            "$fxs price is rising! • price (usd): $ 23.30700000 • sharing = pushing!! • real-time cryptocurrency trends • • #fxs markets: kucoin #binance\n",
            "Deposit ENJ  Exchange: OkeX  Token amount: 45,651.12 ENJ  Value: $79,889.46   Link: https://t.co/CUyslQwaaW $ENJ #OkeX\n",
            "deposit enj exchange: okex token amount: 45,651.12 enj value: $79,889.46 link: http $enj #okex\n",
            "$MIR~If you really want to make huge profits on trading then check out this chat; Today's watchlist &amp; winning alerts*** https://t.co/rbrIWYdvP8\n",
            "$mir~if you really want to make huge profits on trading then check out this chat; today's watchlist winning alerts*** http\n",
            "$DODO Best Chatroom , I've made over $260K  By their alert,,,. https://t.co/rOaOTffOml\n",
            "$dodo best chatroom , i've made over $260k by their alert,,,. http\n",
            "$THETA  Best room on the net..;, Stay turned https://t.co/RrTfDrN222\n",
            "$theta best room on the net..;, stay turned http\n",
            "@coinexcom @SynapseProtocol 🚀 Trade $SYN on #CoinEx!    Sign up for a CoinEx account here:  ➡️ https://t.co/Q5SHZIxBsn    @cctip_com airdrop 1000000 RICH 100\n",
            "@user trade $syn on #coinex! sign up for a coinex account here: http @user airdrop 1000000 rich 100\n",
            "@EngelbertChads1 Keep buying $KEEP take advantage this 0 fees promo of  #kucoin\n",
            "@user keep buying $keep take advantage this 0 fees promo of #kucoin\n",
            "$ENJ Best room on the net. Stay turned . https://t.co/smPwTlBMSF\n",
            "$enj best room on the net. stay turned . http\n",
            "@anastasia6539 @AtlasCloud__ Definitely a really good one, started out sustainable and doing their thing. Fully doxxed and trying to set up a legal entity. Pretty good if you ask me $ATLAS\n",
            "@user definitely a really good one, started out sustainable and doing their thing. fully doxxed and trying to set up a legal entity. pretty good if you ask me $atlas\n",
            "$KEEP Crowd-sourced alerts,, ranking system,, and get paid being a top contributor.... https://t.co/SImDEsWPjQ\n",
            "$keep crowd-sourced alerts,, ranking system,, and get paid being a top contributor.... http\n",
            "$DOGE is up over 12% in the past 24 hours\n",
            "$doge is up over 12% in the past 24 hours\n",
            "$ANC  #Anchor protocol  Absolutely killing it\n",
            "$anc #anchor protocol absolutely killing it\n",
            "$TRX Perpetual #Futures - Buy Back Order 🚀🚀 Took #Profits at: 0.069 Exchange: #Binance  Net Profits: On #Investment: +2.10% On #Portfolio: +0.11%  #Trading ID: 1250\n",
            "$trx perpetual #futures - buy back order took #profits at: 0.069 exchange: #binance net profits: on #investment: +2.10% on #portfolio: +0.11% #trading id: 1250\n",
            "New day – new listing!🤩  Send, receive and store $CREAM in @SimpleHold 💚    @CreamdotFinance is a decentralized lending protocol to access financial services. The protocol is permissionless, transparent, and non-custodial.    Join SimpleHold👇  https://t.co/QGDdfoEURi https://t.co/z69vjyVU5l\n",
            "new day – new listing! send, receive and store $cream in @user is a decentralized lending protocol to access financial services. the protocol is permissionless, transparent, and non-custodial. join simplehold http http\n",
            "Pretty cool alpha use case of ZK on $MINA https://t.co/rfAKIGcP6A\n",
            "pretty cool alpha use case of zk on $mina http\n",
            "🦊  CVX Call  CVX Mar18'22 145 C  Volume: 1532  Open Interest: 426  Volume USD:  261.756  Underlying price: 134.3  Last Option Price: 1.62  Vwap: 1.71  Sector: Energy Minerals  Industry: Integrated Oil  Volume on Ask: 50%  $CVX  #CVX  🦊\n",
            "cvx call cvx mar18'22 145 c volume: 1532 open interest: 426 volume usd: 261.756 underlying price: 134.3 last option price: 1.62 vwap: 1.71 sector: energy minerals industry: integrated oil volume on ask: 50% $cvx #cvx\n",
            "$CRO (4H); price trend is back bullish.  Expecting the price to target $0.38 demand zone before the next impulse move, #CRO will look to target $0.49  #Bullish @cryptocom https://t.co/letb6WxEj5\n",
            "$cro (4h); price trend is back bullish. expecting the price to target $0.38 demand zone before the next impulse move, #cro will look to target $0.49 #bullish @user http\n",
            "Can $LRC reach an ATH this month?\n",
            "can $lrc reach an ath this month?\n",
            "The price #TRX in USD is $0.0548.  The price #TRX in BTC is 0.0000015059.    #tron #TRX $TRX #tronspark @tronfoundation     https://t.co/0worykRWHO https://t.co/aHU0NdxL6f\n",
            "the price #trx in usd is $0.0548. the price #trx in btc is 0.0000015059. #tron #trx $trx #tronspark @user http http\n",
            "@analistozzy $CREAM TO THE MOON #STAYCREAMY\n",
            "@user $cream to the moon #staycreamy\n",
            "$PERP Real profit come out soon hit the target price. Enjoy premium alerts $1 for 30 days https://t.co/ytEOV39NGa\n",
            "$perp real profit come out soon hit the target price. enjoy premium alerts $1 for 30 days http\n",
            "@ZeroHedge_ $OXT has been asleep since launch. Great technology/project/team. I still think it has a big run in it.\n",
            "@user $oxt has been asleep since launch. great technology/project/team. i still think it has a big run in it.\n",
            "The $SAND setup that I shared in the free newsletter on Thursday has triggered on the break of $3.45 and retest as support.    Maybe a decent weekend for alts, but I would keep the risk managed and stops ready.    Newsletter:  https://t.co/ae5vfLv7iX https://t.co/sN965MAHGq\n",
            "the $sand setup that i shared in the free newsletter on thursday has triggered on the break of $3.45 and retest as support. maybe a decent weekend for alts, but i would keep the risk managed and stops ready. newsletter: http http\n",
            "@cryptogems555 @ebox_official is my favorite so far! so yeah buy your tokens at ebox now 👌🏽🚀💯 They provide services and solutions 👌🏽    👉🏽 https://t.co/gfn7mcqE4u    #privacy #security #staking #cryptocurrency #Altcoins #Moonriver #Polkadot #OTC $\n",
            "@user is my favorite so far! so yeah buy your tokens at ebox now they provide services and solutions http #privacy #security #staking #cryptocurrency #altcoins #moonriver #polkadot #otc $\n",
            "$DOGE making a bullish ascending triangle on smaller timeframe. If breaks upwards Happy Meals for everyone! https://t.co/mrOkN3drz9\n",
            "$doge making a bullish ascending triangle on smaller timeframe. if breaks upwards happy meals for everyone! http\n",
            "$SPELL ✅  Increased 3.68% in 17.0 min(s) 💵 Price - 0.00809000 USDT ⏱️ [30 Jan] - 06:57:23 UTC #SPELL #SPELLUSDT #CryptoBOT\n",
            "$spell increased 3.68% in 17.0 min(s) price - 0.00809000 usdt [30 jan] - 06 23 utc #spell #spellusdt #cryptobot\n",
            "$UNI  *Starting with $9k, down to $3k, back up to $15k in a week, Lot of thanks to this chatroom.  https://t.co/jufS9ET7KI\n",
            "$uni *starting with $9k, down to $3k, back up to $15k in a week, lot of thanks to this chatroom. http\n",
            "Drop your $ETH address. Randomly drop #NFTProject ✨               ✅ Just Retweet + Follow https://t.co/djKswkMhLX\n",
            "drop your $eth address. randomly drop #nftproject just retweet + follow http\n",
            "First 10 of 2500 from the Shibnobi collection dropped on CDC! 25% of royalties go to HODLers in $CRO! Get yours today! #NFT #cro #fftb #cdcnft #cryptodotcomnft #NFTdrop https://t.co/HTweBC26Um\n",
            "first 10 of 2500 from the shibnobi collection dropped on cdc! 25% of royalties go to hodlers in $cro! get yours today! #nft #cro #fftb #cdcnft #cryptodotcomnft #nftdrop http\n",
            "Interesting for sure. Doing more research but this definitely caught my attention.    $Aave launches Web3 social media platform, Lens Protocol https://t.co/QEsYWGJN8x\n",
            "interesting for sure. doing more research but this definitely caught my attention. $aave launches web3 social media platform, lens protocol http\n",
            "$DOT Find active market alerts here in this best winning trading community. Join now:  https://t.co/S1Nz02eQZY\n",
            "$dot find active market alerts here in this best winning trading community. join now: http\n",
            "$RLY Best chatroom,, I've made $15K with them, by their alerts.... Join us now ;; https://t.co/a439oUbhZm\n",
            "$rly best chatroom,, i've made $15k with them, by their alerts.... join us now ;; http\n",
            "@Celo_Apes crazy this is a fast increase of 800%+ Ape #7281 sold for 25 $CELO  #NFT #CeloApes #NFTartist #NFTdrop #CELO #CeloNFT https://t.co/arvaK5Nvd4\n",
            "@user crazy this a fast increase of 800%+ ape #7281 sold for 25 $celo #nft #celoapes #nftartist #nftdrop #celo #celonft http\n",
            "$ADA is so fk*** undervalued\n",
            "$ada is so fk*** undervalued\n",
            "$ALGO NFT alerts, crypto alerts. We've got both. Check us out today for a free 10 day trial. https://t.co/AnMo7pDvX0\n",
            "$algo nft alerts, crypto alerts. we've got both. check us out today for a free 10 day trial. http\n",
            "$LUNA Real price will come out soon; Follow price target.~  https://t.co/wCGu9htoGH\n",
            "$luna real price will come out soon; follow price target.~ http\n",
            "$CVX $150.00 Mar 25 2022 PUT ⬇️🌊 Underlying: $159.05 % Difference: 6.03% Daily $ Volume: $345,202 Volume: 2,431 OI: 541 IV: 43.69% Bid/Ask: $1.38/$1.46\n",
            "$cvx $150.00 mar 25 2022 put underlying: $159.05 % difference: 6.03% daily $ volume: $345,202 volume: 2,431 oi: 541 iv: 43.69% bid/ask: $1.38/$1.46\n",
            "Chevron price target raised to $160 from $150 at Truist $CVX\n",
            "chevron price target raised to $160 from $150 at truist $cvx\n",
            "$ETH #Ethereum Longs need $2,250 to hold. If it doesn't, a flush to $1,750-$1,900 is possible.    These are anchored VWAPs with the first being the covid low VWAP &amp; then 3 handoffs from there. A handoff is the last candle to touch the previous VWAP. Learned from @alphatrends https://t.co/paP0mHsi6T\n",
            "$eth #ethereum longs need $2,250 to hold. if it doesn't, a flush to $1,750-$1,900 is possible. these are anchored vwaps with the first being the covid low vwap then 3 handoffs from there. a handoff is the last candle to touch the previous vwap. learned from @user http\n",
            "Breaking: $Aave discord admin got hacked don’t click any links. #AAVE #DeFi #infosec #CyberSec\n",
            "breaking: $aave discord admin got hacked don’t click any links. #aave #defi #infosec #cybersec\n",
            "@Maxi__1981 @Cointelegraph $NEO is so undervalued 🥲 but for how long …🚀\n",
            "@user $neo is so undervalued but for how long …\n",
            "📈 #Ethereum $ETH Mining Difficulty just reached an ATH of 13,385,922,593,911,700  Previous ATH of 13,332,198,276,449,700 was observed on 10 February 2022  View metric: https://t.co/s9t4z9o8ba https://t.co/X5eZvbaToW\n",
            "#ethereum $eth mining difficulty just reached an ath of 13,385,922,593,911,700 previous ath of 13,332,198,276,449,700 was observed on 10 february 2022 view metric: http http\n",
            "$FTM Short closed from 2.09's to here. https://t.co/MXxIdSWfYV https://t.co/v0zFIqLphE\n",
            "$ftm short closed from 2.09's to here. http http\n",
            "Im honestly afraid to play around with $LRC … seems tempting but I’m not sure. Let’s see what bitcoin does first\n",
            "im honestly afraid to play around with $lrc … seems tempting but i’m not sure. let’s see what bitcoin does first\n",
            "Congrats @danielesesta $SPELL all the way up to the eyes of Grayscale's potential new investments.   https://t.co/n0KAhWHArm\n",
            "congrats @user $spell all the way up to the eyes of grayscale's potential new investments. http\n",
            "$SNX Bullish pattern building. Free trial at https://t.co/z6vAd7dl0q https://t.co/8NChT7Abie\n",
            "$snx bullish pattern building. free trial at http http\n",
            "StellaSwap going live with #Fantom #ILO on 22 Feb, 4PM UTC ⚡️    Bridge your $FTM to @MoonbeamNetwork with no fees now to earn 10% discount on STELLA! 💰    Bookmark the ILO page for later: https://t.co/Mz8x5tcxnd    #Fantom #ILO #FTM #StellaSwap https://t.co/r7nFQOzT3X\n",
            "stellaswap going live with #fantom #ilo on 22 feb, 4pm utc bridge your $ftm to @user with no fees now to earn 10% discount on stella! bookmark the ilo page for later: http #fantom #ilo #ftm #stellaswap http\n",
            "Limited stock of Nebra Indoor (US915/EU868) &amp; SenseCAP M1 (US915) hotspots available for purchase &amp; immediate shipment NOW at https://t.co/9F37raZOey 🚨 $HNT\n",
            "limited stock of nebra indoor (us915/eu868) sensecap m1 (us915) hotspots available for purchase immediate shipment now at http $hnt\n",
            "Have you noticed the two major sales of last night? Two Golden #ETCBayc have been sold. After this sale, the floor prices of golden apes increased to 265 $ETC. HODLLLL! ✌️🦍🚀    Marketplace 👉 https://t.co/BXztyzInV9    #NFT #NFTCommmunity #ETC #EthereumClassic #ETCArmy https://t.co/ef6Ovrkgms\n",
            "have you noticed the two major sales of last night? two golden #etcbayc have been sold. after this sale, the floor prices of golden apes increased to 265 $etc. hodllll! marketplace http #nft #nftcommmunity #etc #ethereumclassic #etcarmy http\n",
            "$BNB Refund to the Cheesus IDO participates has been sent! 💫    Txid: https://t.co/6l453hP6uh\n",
            "$bnb refund to the cheesus ido participates has been sent! txid: http\n",
            "10.2 BTC worth of Currency was purchased   $TRX   On the Binance platform in the past minutes!   ❇️🔝   Current currency rate 0.071💲   daily rise rate is 2%    #BTC #FALCONS #FALCONSWAPS #ETH #LTC https://t.co/AH7rs7gWaV\n",
            "10.2 btc worth of currency was purchased $trx on the binance platform in the past minutes! current currency rate 0.071 daily rise rate is 2% #btc #falcons #falconswaps #eth #ltc http\n",
            "Opera browser now supports Handshake domains giving millions access to web3 and the decentralized internet. Make sure you own your online identity with $HNS top level domains.     Check out https://t.co/PNmCpiUUHU and https://t.co/nQQSnvAGtG\n",
            "opera browser now supports handshake domains giving millions access to web3 and the decentralized internet. make sure you own your online identity with $hns top level domains. check out http and http\n",
            "Frax Share 1-week AltRank™ is up 20.95% to 306 with price down -8.985% to $37.08     https://t.co/STfxDs3gMe  $FXS #Frax Share #LunarCrush\n",
            "frax share 1-week altrank is up 20.95% to 306 with price down -8.985% to $37.08 http $fxs #frax share #lunarcrush\n",
            "#AXS (Update)  Running in +39% Profit As Expected📈📈📈  #AXSUSDT $AXS #USDT https://t.co/70jd0thk9m\n",
            "#axs (update) running in +39% profit as expected #axsusdt $axs #usdt http\n",
            "Decentralized + PoW + BASE-LAYER internet naming service = Censorhip-proof internet.    $HNS = WEB3  #HNSisWEB3 https://t.co/JrExhhSO1p\n",
            "decentralized + pow + base-layer internet naming service = censorhip-proof internet. $hns = web3 #hnsisweb3 http\n",
            "$ROSE https://t.co/KJwYps0uIF\n",
            "$rose http\n",
            "$DODO  Real price will come out soon, Follow price targets.,,,.,     https://t.co/kU3fSRXOhd\n",
            "$dodo real price will come out soon, follow price targets.,,,., http\n",
            "Binance Chain and #BSC has been renamed to BNB Chain on Feb 15th. The name change was announced by @binance as the evolution of #BSC. $BNB Chain will embrace large-scale applications, including #GameFi, #SocialFi and the #Metaverse. #CryptoIA    Read More: https://t.co/swim7xHrWy\n",
            "binance chain and #bsc has been renamed to bnb chain on feb 15th. the name change was announced by @user as the evolution of #bsc. $bnb chain will embrace large-scale applications, including #gamefi, #socialfi and the #metaverse. #cryptoia read more: http\n",
            "$DODO Today's watchlist &amp; winning alerts,,. https://t.co/PTarb5e1Kp\n",
            "$dodo today's watchlist winning alerts,,. http\n",
            "$XCH~If you really want to make huge profits on trading then check out this chat;  Today's watchlist &amp; winning alerts***  https://t.co/KndVBMuK2K\n",
            "$xch~if you really want to make huge profits on trading then check out this chat; today's watchlist winning alerts*** http\n",
            "Sats: 0.000001517 BTC    24h change: -0.86%    USD: $0.06405  MarketCap: $6,519,662,277  Volume: $926,367,781  Circulating Supply: 101.78B TRX    $TRX #TRX #TRON @Tronfoundation\n",
            "sats: 0.000001517 btc 24h change: -0.86% usd: $0.06405 marketcap: $6,519,662,277 volume: $926,367,781 circulating supply: 101.78b trx $trx #trx #tron @user\n",
            "$JOE Real profit come out soon hit the target price. Enjoy premium alerts $1 for 30 days... https://t.co/ZSXk7Rr0Wy\n",
            "$joe real profit come out soon hit the target price. enjoy premium alerts $1 for 30 days... http\n",
            "What are we saying about $FXS?    I'll ignore the coming snapshot for the airdrop and I will wait for price to reach lower before I spot buy some Frax.     IMO this snapshot is only the driver for the price to have a short-term rally before falling brutally.     Expect a hard selloff. https://t.co/AkradbARhu\n",
            "what are we saying about $fxs? i'll ignore the coming snapshot for the airdrop and i will wait for price to reach lower before i spot buy some frax. imo this snapshot is only the driver for the price to have a short-term rally before falling brutally. expect a hard selloff. http\n",
            "@TheCryptoLark $ADA will dominate soon\n",
            "@user $ada will dominate soon\n",
            "@Medusa_zone Best project ever , I am very happy to be participating in this project. I hope this project will gain more popularity in the future @miftahulaziz666 @anggardhiashter @AlwafaIkhwan  $FTM #defi #tombfork #fantom #MEDU #medusa #MedusaZone #Cryp\n",
            "@user best project ever , i am very happy to be participating in this project. i hope this project will gain more popularity in the future @user $ftm #defi #tombfork #fantom #medu #medusa #medusazone #cryp\n",
            "k then $OXT\n",
            "k then $oxt\n",
            "#FEG and the entire #FEGarmy invite @BalancerLabs to migrate to SmartDeFi to obtain the benefits of asset backing, zero interest lending, and rug proof &amp; honeypot proof tokenomics! Every #Crypto will have the ability to migrate to #SmartDeFi where no exchange is required!  $BAL https://t.co/jOcS692WTH\n",
            "#feg and the entire #fegarmy invite @user to migrate to smartdefi to obtain the benefits of asset backing, zero interest lending, and rug proof honeypot proof tokenomics! every #crypto will have the ability to migrate to #smartdefi where no exchange is required! $bal http\n",
            "From an objective, purely statistical standpoint, and based on data, $OHM has never been so oversold and with so much upside potential. https://t.co/CYz5vgu3cu\n",
            "from an objective, purely statistical standpoint, and based on data, $ohm has never been so oversold and with so much upside potential. http\n",
            "Dogecoin correction update: -84% since the Musk SNL peak last May.    $DOGE https://t.co/1JaSnLoVX5\n",
            "dogecoin correction update: -84% since the musk snl peak last may. $doge http\n",
            "$TRU  new alert at https://t.co/A7qrDarJHY  #stocks #daytrading  #NYSE #NASDAQ #market 221\n",
            "$tru new alert at http #stocks #daytrading #nyse #nasdaq #market 221\n",
            "$FTT is a joke. No equity or governance rights, no chance of a dividend, no burns (and wtf happens when they IPO?) … it’s just free upside for FTX founders to dump on retail plebs    You’ll get more exposure to Sam by selling him cucumbers and Brussels sprouts https://t.co/FjeQVhZ7ih\n",
            "$ftt is a joke. no equity or governance rights, no chance of a dividend, no burns (and wtf happens when they ipo?) … it’s just free upside for ftx founders to dump on retail plebs you’ll get more exposure to sam by selling him cucumbers and brussels sprouts http\n",
            "$ATOM (USDT) relative strength https://t.co/hlMhTv130b\n",
            "$atom (usdt) relative strength http\n",
            "@intocryptoverse $RLY has real world use.\n",
            "@user $rly has real world use.\n",
            "- $SPELL to $1\n",
            "- $spell to $1\n",
            "$SYN in -6.82% Downtrend, declining for three consecutive days on January 24, 2022. View odds for this and other indicators: https://t.co/z5aGaGQPlY #SyntheticBiologics #stockmarket #stock https://t.co/zONx6nDsVr\n",
            "$syn in -6.82% downtrend, declining for three consecutive days on january 24, 2022. view odds for this and other indicators: http #syntheticbiologics #stockmarket #stock http\n",
            "@TheSandboxGame I just participated in the daily #SandboxAlphaS2Contest for a chance to earn up to 1,000 $SAND! Starting March 15 - Selfie with the mushroom dragon. Check out my screenshot below! 👇 #SandboxAlphaS2 https://t.co/fOSVny2gMq\n",
            "@user i just participated in the daily #sandboxalphas2contest for a chance to earn up to 1,000 $sand! starting march 15 - selfie with the mushroom dragon. check out my screenshot below! #sandboxalphas2 http\n",
            "Yes yes.    The price action of $FARA token is still trashy. Not gonna lie there.    I just love their new update.     The sound effects, battle animations and new maps made it more AWESOME.    Kudos to the team - @KelvFara @uyenltt1508 @AlfredMKL 👏     #BSC #Gaming #GameFi #PlayToEarn\n",
            "yes yes. the price action of $fara token is still trashy. not gonna lie there. i just love their new update. the sound effects, battle animations and new maps made it more awesome. kudos to the team - @user #bsc #gaming #gamefi #playtoearn\n",
            "$FIL Today's watchlist &amp; winning alerts.. https://t.co/SqrM5NzB1t\n",
            "$fil today's watchlist winning alerts.. http\n",
            "🔥@BinanceUS is listing #TRON @trondao  💱#TRX/#USD, TRX/#USDT, TRX/#BUSD, and TRX/#BTC  ⏰Start trading on March 31, 2022, at 5PM PDT  💳Users can buy $TRX with Bank Transfer (ACH), Debit Card, or Wire Transfer once trading goes live. https://t.co/IQq70NumPs\n",
            "@user is listing #tron @user #trx/#usd, trx/#usdt, trx/#busd, and trx/#btc start trading on march 31, 2022, at 5pm pdt users can buy $trx with bank transfer (ach), debit card, or wire transfer once trading goes live. http\n",
            "$DODO #DODO price 0.79$  Taget: 20/1 price 1.2$  25/1 price 2,6$   30/1 price 5$  #Pump 🚀🚀🚀\n",
            "$dodo #dodo price 0.79$ taget: 20/1 price 1.2$ 25/1 price 2,6$ 30/1 price 5$ #pump\n",
            "KuCoin Margin Trade Adds $PYR @VulcanForged - Enjoy Double Rewards!\n",
            "kucoin margin trade adds $pyr @user - enjoy double rewards!\n",
            "@news_of_bsc @MooMonsterNFT @playbithotel @faraland_io @faraland_io #Faraland is the best game on BSC $FARA\n",
            "@user #faraland is the best game on bsc $fara\n",
            "New listing on #ZT:https://t.co/9yTiF6f3MR  Coin: $SYN  Pairs:  #SYN/#USDT  #newcoinlisting #newlisting #crypto #cryptonews\n",
            "new listing on #zt:http coin: $syn pairs: #syn/#usdt #newcoinlisting #newlisting #crypto #cryptonews\n",
            ".@BinanceFutures will launch USDT-margined $IMX perpetual contracts with up to 25x leverage at 2022-02-11 03:30 UTC.    https://t.co/ZgFYySEiv5 https://t.co/nZQp9rMI8W\n",
            ".@user will launch usdt-margined $imx perpetual contracts with up to 25x leverage at 2022-02-11 03:30 utc. http http\n",
            "🟠 .spiralingoutofcontrol/    Sold for 500 $HNS (98 USD)     #Spiralingoutofcontrol #Handshake #HNS\n",
            ".spiralingoutofcontrol/ sold for 500 $hns (98 usd) #spiralingoutofcontrol #handshake #hns\n",
            "$PERP~I made $50000000000 in 30 seconds.......  https://t.co/go0ATAUu6L\n",
            "$perp~i made $50000000000 in 30 seconds....... http\n",
            "$LOOKS Real price will come out soon; Follow price targets...        https://t.co/BRchpBgVnA\n",
            "$looks real price will come out soon; follow price targets... http\n",
            "$MINA We're operating at an 92% success history with an average profit of 22% in a day. Get today join winning alerts.  https://t.co/b5o55ohAxn\n",
            "$mina we're operating at an 92% success history with an average profit of 22% in a day. get today join winning alerts. http\n",
            "You can join the celebration and enter for a chance to win a #Decentraland LAND by submitting your best #wearable.   Top 10 submissions take home 100 $MANA and strut their stuff on the Community Precinct catwalk on final day of the #MVFW festival!  https://t.co/VY9dFosRQW   3/3 https://t.co/6e5vjr8JZi\n",
            "you can join the celebration and enter for a chance to win a #decentraland by submitting your best #wearable. top 10 submissions take home 100 $mana and strut their stuff on the community precinct catwalk on final day of the #mvfw festival! http 3/3 http\n",
            "Free #NFT giveaway 🎉  1. Drop your $ETH address, 2. RT &amp;  FOLLOW ME 3. ONLY for the FIRST 100 RT's 🔁  #NFTGiveaway #NFTs #NFTCommunity #SolanaNFTs #NFT #CNFT #NFTGiveaways #FreeNFTs #USDT #OpenSeaNFT #Binance https://t.co/oI1OPewlRQ\n",
            "free #nft giveaway 1. drop your $eth address, 2. follow me 3. only for the first 100 rt's #nftgiveaway #nfts #nftcommunity #solananfts #nft #cnft #nftgiveaways #freenfts #usdt #openseanft #binance http\n",
            "🗳️You voted; we listened! We’ve listed  @Immutable ($IMX) chosen by our awesome #Premium community.   📈Exchange $IMX with 32 other cryptos and up to 16 fiats (create exchange pairs that don’t exist anywhere else on the market) with the #SwissBorg app!  https://t.co/INH0Fo5xHw https://t.co/IBcZgdXV9C\n",
            "you voted; we listened! we’ve listed @user ($imx) chosen by our awesome #premium community. exchange $imx with 32 other cryptos and up to 16 fiats (create exchange pairs that don’t exist anywhere else on the market) with the #swissborg app! http http\n",
            "*purr* The #Handshake TLD .eeis is now listed for sale on @NamebaseHQ for 950 $HNS #NFTs #dWeb #Web3 #topleveldomain #eeis https://t.co/sXnzaAh0KR\n",
            "*purr* the #handshake tld .eeis now listed for sale on @user for 950 $hns #nfts #dweb #web3 #topleveldomain #eeis http\n",
            "$SPELL #SpellToken one of the BEST #tokens to be invested right now IMO 🚀 #MultiChain #token with $290M trading hands 🚀 $559M #marketcap 🚀 #ATH $0.075 buy now at $0.007+/- 🚀 Market rebound make millions of millionaires 🚀🚀🚀 https://t.co/2LXsZqXZ29\n",
            "$spell #spelltoken one of the best #tokens to be invested right now imo #multichain #token with $290m trading hands $559m #marketcap #ath $0.075 buy now at $0.007+/- market rebound make millions of millionaires http\n",
            "$AVAX #crypto looks like it’s picking up nicely🙌🏻 bought some yesterday!\n",
            "$avax #crypto looks like it’s picking up nicely bought some yesterday!\n",
            "$AXS Real price will come out soon; Follow price targets.             ✅✅ https://t.co/wFWSLhqyhB\n",
            "$axs real price will come out soon; follow price targets. http\n",
            "Chevron $CVX increased its quarterly dividend by 6% to $1.42/share  This is the 35th consecutive year with an increase in annual dividends for this dividend aristocrat\n",
            "chevron $cvx increased its quarterly dividend by 6% to $1.42/share this the 35th consecutive year with an increase in annual dividends for this dividend aristocrat\n",
            "$SOL is amazing https://t.co/35xS1ijVWr\n",
            "$sol is amazing http\n",
            "$XCH Crowd-sourced alerts, ranking system,, and get paid being a top contributor,..  https://t.co/3D6z0XyMGQ\n",
            "$xch crowd-sourced alerts, ranking system,, and get paid being a top contributor,.. http\n",
            "$NEO ✅  Increased 3.68% in 5.3 hour(s) 💵 Price - 24.61000000 USDT ⏱️ [2 Mar] - 12:16:31 UTC #NEO #NEOUSDT #CryptoBOT\n",
            "$neo increased 3.68% in 5.3 hour(s) price - 24.61000000 usdt [2 mar] - 12 31 utc #neo #neousdt #cryptobot\n",
            "_ @binance will offer @anchor_protocol $ANC farming on Binance Launchpool as of Jan 26th. Users will be able to stake their BNB, LUNA and BUSD into separate pools to farm ANC tokens over 30 days, starting Jan 26. 2M ANC to be available for this activity.  https://t.co/5N10h7xd48 https://t.co/n4rMFaPm5s\n",
            "_ @user will offer @user $anc farming on binance launchpool as of jan 26th. users will be able to stake their bnb, luna and busd into separate pools to farm anc tokens over 30 days, starting jan 26. 2m anc to be available for this activity. http http\n",
            "$ICP #NFT @dfinity @_pgauthier @opensea   https://t.co/tXGRYNuetS  https://t.co/jrV1B3S9vZ    RT | Like | Tag #ETH address  #NFTCommunity #Cryptovvendetta #Anonymous https://t.co/U3ztLVhdWR\n",
            "$icp #nft @user http | like | tag #eth address #nftcommunity #cryptovvendetta #anonymous http\n",
            "The current price of one DOGE is now: $0.1538, 5% change in the last hour!    One MDOGE is worth $153,775.3165.    Total volume in last 24H: $598,349,790.    Current CoinMarketCap Rank: #11    $DOGE #DOGECOIN feeling generous? send doge to ⚡ DKnz2MMs57SQSo7zo1qy9A2toNHdLCnPeN ⚡\n",
            "the current price of one doge is now: $0.1538, 5% change in the last hour! one mdoge is worth $153,775.3165. total volume in last 24h: $598,349,790. current coinmarketcap rank: #11 $doge #dogecoin feeling generous? send doge to dknz2mms57sqso7zo1qy9a2tonhdlcnpen\n",
            "@news_of_bsc @MooMonsterNFT @playbithotel @faraland_io Faraland will knock out the remaining 2 opponents @faraland_io #Faraland $FARA\n",
            "@user faraland will knock out the remaining 2 opponents @user #faraland $fara\n",
            "$500  $BNB for 5 WINNERS🎁 Just Like , Retweet &amp; ❤️Follow ✅\n",
            "$500 $bnb for 5 winners just like , retweet follow\n",
            "🔺 $JOE — the native token of @traderjoe_xyz gets listed on #OKX!   #1️⃣ DEX on #Avalanche    ▶ Deposit is NOW open 🟢  📈 JOE/USDT Spot trading: 10:00 am Feb 9 (UTC)    #NewListing ⤵️\n",
            "$joe — the native token of @user gets listed on #okx! # dex on #avalanche deposit is now open joe/usdt spot trading: 10:00 am feb 9 (utc) #newlisting\n",
            "We are excited to announce that @InfinityPad_io has partnered with @CeloLaunch     CELOLAUNCH - The First Rug-proof DeFi Launchpad on Celo Network assists projects in crowdsourcing funds through the use of advanced token pooling and distribution mechanisms $CELO #CeloLaunch https://t.co/i5iqcMLpWP\n",
            "we are excited to announce that @user has partnered with @user celolaunch - the first rug-proof defi launchpad on celo network assists projects in crowdsourcing funds through the use of advanced token pooling and distribution mechanisms $celo #celolaunch http\n",
            "$CRV bounce on point, taking profits or possibly getting rid of the whole bag again between $5-6, depending on how much talk about going to double digits will be done by your favorite influncers at that point. https://t.co/yhbawubUY2\n",
            "$crv bounce on point, taking profits or possibly getting rid of the whole bag again between $5-6, depending on how much talk about going to double digits will be done by your favorite influncers at that point. http\n",
            "$CRV has generated a 1-day uptrend wave, crossing to buying pressure around Feb 18 and peaking between Sept 4 2022, and Jan 17 2023.    Have high aspirations for this one. PT of $23. https://t.co/kEz3ikfMpP\n",
            "$crv has generated a 1-day uptrend wave, crossing to buying pressure around feb 18 and peaking between sept 4 2022, and jan 17 2023. have high aspirations for this one. pt of $23. http\n",
            "@cronospad_ #Cronospad $CRO #Cronos  Good\n",
            "@user #cronospad $cro #cronos good\n",
            "🥳🥳 #CeloPunks are finally available! 🥳🥳    The first and original #Punks to launch on the #Celo blockchain!    Mint yours now for 15 $CELO and earn 2% lifetime royalty on any sale of your minted #Celopunk!     #NFT #launch @CeloOrg #NFTshill #NFTGiveaway #NFTCommunity #nftsolana https://t.co/tkIh7FjqSZ\n",
            "#celopunks are finally available! the first and original #punks to launch on the #celo blockchain! mint yours now for 15 $celo and earn 2% lifetime royalty on any sale of your minted #celopunk! #nft #launch @user #nftshill #nftgiveaway #nftcommunity #nftsolana http\n",
            "$OXT REAL PROJECT! Not like your meme coins. 🔐🚀 https://t.co/iuOeMAprOi\n",
            "$oxt real project! not like your meme coins. http\n",
            "1/2 Trading update 📣 $RLY is now available for custody and trading on our API/FIX and ActiveTrader applications for the USD trading pair, and on our Gemini Mobile App and website for USD, GBP, EUR, CAD, AUD, HKD, and SGD pairs. https://t.co/HoeDOmmwTt\n",
            "1/2 trading update $rly is now available for custody and trading on our api/fix and activetrader applications for the usd trading pair, and on our gemini mobile app and website for usd, gbp, eur, cad, aud, hkd, and sgd pairs. http\n",
            "@dougboneparth @ppearlman $BAL ends the day up 0.8%\n",
            "@user $bal ends the day up 0.8%\n",
            "$ATLAS  Long term investment for me, have ridden this all of the way down. Not worried at all.  Consolidating in a small bull flag against descending resistance, usually leads to expansion through on volume. Watching this closely, may add to position if it happens. https://t.co/HGfEZUNe8L\n",
            "$atlas long term investment for me, have ridden this all of the way down. not worried at all. consolidating in a small bull flag against descending resistance, usually leads to expansion through on volume. watching this closely, may add to position if it happens. http\n",
            "Celo #Bullish Sentiment is up 24.39% to 41,091 with price up 13.84% to $6.53     https://t.co/BnVvx4aP3l  $CELO #Celo #LunarShare #LunarCrush https://t.co/AopINPqNyZ\n",
            "celo #bullish sentiment is up 24.39% to 41,091 with price up 13.84% to $6.53 http $celo #celo #lunarshare #lunarcrush http\n",
            "@SOLsquidToken The project is great, invite everyone to join, let's become an investor together!!! Go to Moon.  @KKaoru74458081  @chibao061299  @Kiet45620  $SOL #SOL #SolanaAirdrop #SOLsquid #squid #SquidGame #memecoin #Solana #Airdrop\n",
            "@user the project is great, invite everyone to join, let's become an investor together!!! go to moon. @user $sol #sol #solanaairdrop #solsquid #squid #squidgame #memecoin #solana #airdrop\n",
            "Polygon Co-Founder @sandeepnailwal Talks #Ethereum Scaling and $MATIC News👇  @logannross @ryanonchain @0xPolygon  https://t.co/PmqEQFvSUs\n",
            "polygon co-founder @user talks #ethereum scaling and $matic news @user http\n",
            "There’s still loads of pools over 1000% APY 🐉    @QuickswapDEX prides itself on having insane rewards and they do not disappoint 💯💰    $QUICK #Polygon #MATIC https://t.co/XJEqFIVbJP\n",
            "there’s still loads of pools over 1000% apy @user prides itself on having insane rewards and they do not disappoint $quick #polygon #matic http\n",
            "New wearable coming soon! 🎉     Cigarettes price LOWERED to 2 $MANA until published: https://t.co/ij54zJkeBH    GANJA SMOKERS MASK + BLUNT 🎁 GIVEAWAY 🎁    1x : Airdrop for a cigarette holder  1x : Follow @TailorMETA + RT + Like    The giveaway ends when the new item will be approved! https://t.co/gSsIuOpp2S\n",
            "new wearable coming soon! cigarettes price lowered to 2 $mana until published: http ganja smokers mask + blunt giveaway 1x : airdrop for a cigarette holder 1x : follow @user + + like the giveaway ends when the new item will be approved! http\n",
            "$OHM Best room on the net. Stay turned: . https://t.co/J1vUlpGUNT\n",
            "$ohm best room on the net. stay turned: . http\n",
            "$ICP Real price come out soon.., Hit the target price. https://t.co/glhol7V1W9\n",
            "$icp real price come out soon.., hit the target price. http\n",
            "$SNX Best room on the net..; Stay turned https://t.co/spRzkYUty2\n",
            "$snx best room on the net..; stay turned http\n",
            "#ONTO is excited to host a #giveaway with our ecosystem partner @harmonyprotocol! 👏  💰 A total of 4,000 $ONE up for grabs!   📅 Event runs until Feb 20, 13:00 UTC  Complete all tasks in Gleam to share the REWARDS! 🤑  Get started now 👇 https://t.co/goWvY179mK https://t.co/AajN0FzCJl\n",
            "#onto is excited to host a #giveaway with our ecosystem partner @user a total of 4,000 $one up for grabs! event runs until feb 20, 13:00 utc complete all tasks in gleam to share the rewards! get started now http http\n",
            "🔥 Faraland PvP update version is ready! 🎉    @faraland_io  #metaverse #Faraland #PvP $FARA https://t.co/AF9IUTLloo\n",
            "faraland pvp update version is ready! @user #metaverse #faraland #pvp $fara http\n",
            "#Binance announced they’re listing $LRC on #Binance.Us think it will pump?\n",
            "#binance announced they’re listing $lrc on #binance.us think it will pump?\n",
            "@RyanWatkins_ How many obituaries have been written about btc? Keep writting. Bullish af $OHM\n",
            "@user how many obituaries have been written about btc? keep writting. bullish af $ohm\n",
            "Top 🔟 GAINING cryptocurrency this hour 1. $MANA or #MANA Show More https://t.co/Wd1UnIOBEG https://t.co/Xy79RKuYrw\n",
            "top gaining cryptocurrency this hour 1. $mana or #mana show more http http\n",
            "🤩We are thrilled to announce our partnership with @perpprotocol and have enabled $PERP bridging between @ethereum, @BinanceChain, @optimismPBC, and @arbitrum at ⬇️  🦄https://t.co/35fICZsz3A—most # of chains, lowest fees, fully non-custodial, no vendor lock-in. https://t.co/HSqalZCtiY\n",
            "we are thrilled to announce our partnership with @user and have enabled $perp bridging between @user and @user at http # of chains, lowest fees, fully non-custodial, no vendor lock-in. http\n",
            "@Theta_Sol behind a very interesting project, there must be those (teams) who work very hard on this project.  I will always support this project in the future.  @Kopiii_Pagi @PahitLidah19 @D_Rogue007  $THETA #Solana #SolanaAirdrop #SolanaMeta #Airdrop\n",
            "@user behind a very interesting project, there must be those (teams) who work very hard on this project. i will always support this project in the future. @user $theta #solana #solanaairdrop #solanameta #airdrop\n",
            "Quickswap (QUICK) rose 54.3% 1d, from 183USDT to 282USDT. $QUICK #Bitcoin https://t.co/uVno5ax7GH\n",
            "quickswap (quick) rose 54.3% 1d, from 183usdt to 282usdt. $quick #bitcoin http\n",
            "$NEAR     Entry: $10.15  Targets: $12.54, $14.00, $15.18, $16.36, $18.04, $20.19 and $26.37    Details: https://t.co/fhFidTipMp    #NEAR #NEARProtocol\n",
            "$near entry: $10.15 targets: $12.54, $14.00, $15.18, $16.36, $18.04, $20.19 and $26.37 details: http #near #nearprotocol\n",
            "@Eliseofbustos12 @IbuyNFT @NotaNumeri @thejenus  #thejenus  I’m giving $2000 $ETH #NFT to 100 people 💯💯🍾  Follow me @NFT__Airdrop3👌  Retweet 👌  Like 👍   comment #NFTgiveaway  Then send your ETH wallet address  Kindly send a direct message   https://\n",
            "@user #thejenus i’m giving $2000 $eth #nft to 100 people follow me @user retweet like comment #nftgiveaway then send your eth wallet address kindly send a direct message http\n",
            "🔥🌕AUCTION ENDS SOON! 🌕🔥  ➡️20 Moon Trainer x Moon Creature Moon Duo #NFTs available! 😎  ➡️Auction in $NEO ENDS in 1 HOUR! ⏳  ➡️HERE: https://t.co/iJ05XV83zb  ➡️I wanna GRAB one more MOON DUO! ☄️❤️  #NFTCollectibles #NEO #NFTLaunch #NFTdrop #Metaverse #NFT #NFTCommunity https://t.co/MctfsJJ378\n",
            "auction ends soon! 20 moon trainer x moon creature moon duo #nfts available! auction in $neo ends in 1 hour! here: http i wanna grab one more moon duo! #nftcollectibles #neo #nftlaunch #nftdrop #metaverse #nft #nftcommunity http\n",
            "We have partnered with @superplastic to create #metaverse gaming experiences for the Headtripz #NFTs.  You can also receive a 15% discount if you are purchasing NFTs using @REVV_Token and $SAND during the Headtripz drop!  https://t.co/X6nHwdcrgx\n",
            "we have partnered with @user to create #metaverse gaming experiences for the headtripz #nfts. you can also receive a 15% discount if you are purchasing nfts using @user and $sand during the headtripz drop! http\n",
            "@nearmooonkeys $NEAR\n",
            "@user $near\n",
            "$RLY Hey, check out this server of real traders helping each other profit. https://t.co/hKgGpm0AW6\n",
            "$rly hey, check out this server of real traders helping each other profit. http\n",
            "Very powerful &amp; strong project. Hope it will be one of the best successful project. We will hear more good news about the project. @MukeshK27567952  @irfanuic786  @ercelaan   $SOL #SolanaAirdrop https://t.co/pBmqrRO3QR\n",
            "very powerful strong project. hope it will be one of the best successful project. we will hear more good news about the project. @user $sol #solanaairdrop http\n",
            "$CVX puts printed. 343.78%🔥 https://t.co/cVNuQCIJ3g https://t.co/AXgIUMxlLY\n",
            "$cvx puts printed. 343.78% http http\n",
            "#Chia $XCH with a giant leap introducing the building blocks for fully de-centralized P2P exchanges.    Imagine the future. Integrating browser-wallets, no centralized logins, no middleman-fees. Endless possibilities.     Dont sleep on this one friends.    #crypto #DeFi #future https://t.co/1D6AM92iQa https://t.co/UaVSGbR1D6\n",
            "#chia $xch with a giant leap introducing the building blocks for fully de-centralized p2p exchanges. imagine the future. integrating browser-wallets, no centralized logins, no middleman-fees. endless possibilities. dont sleep on this one friends. #crypto #defi #future http http\n",
            "*TOOK PROFIT * FOR $UNI LONG POSITION ENTRY PRICE:$22.52 EXIT PRICE:$22.648 START BALANCE:$10000 OLD BALANCE:$84532 NEW BALANCE:$89336.6607460035 DATE:2021-12-02 21:00:41.269565 ALGO NAME:ALT/BTC SPEED TRACKER ALGO ACCURACY:46%\n",
            "*took profit * for $uni long position entry price:$22.52 exit price:$22.648 start balance:$10000 old balance:$84532 new balance:$89336.6607460035 date:2021-12-02 21 41.269565 algo name:alt/btc speed tracker algo accuracy:46%\n",
            "Second $ATLAS node created. 🙌🏼 https://t.co/5axqkMoMAw\n",
            "second $atlas node created. http\n",
            "$DODO Crowd-sourced alerts, ranking system, and get paid being a top contributor. https://t.co/4tt7QDCc8K\n",
            "$dodo crowd-sourced alerts, ranking system, and get paid being a top contributor. http\n",
            "imo, this could be the possible move of $MINA    -should hold 2.9 and never break again will be good  -it will test the ath at $6 so could be a huge pull back, but it must hold $4  -if $6 will break, #MINA will moon    #Bitcoin https://t.co/AjBc6rtcLH\n",
            "imo, this could be the possible move of $mina -should hold 2.9 and never break again will be good -it will test the ath at $6 so could be a huge pull back, but it must hold $4 -if $6 will break, #mina will moon #bitcoin http\n",
            "AscendEX will launch an exclusive referral event, providing both referrers and referees with the chance to share pooled rewards of $40,000 worth of $DOGE tokens and 10 #iphone13 Pros.     🕑 Jan. 27 12 AM UTC – Feb. 10 12 AM UTC    Register to participate 👉  https://t.co/GW3epD8HoE https://t.co/3mt5kNWMrl\n",
            "ascendex will launch an exclusive referral event, providing both referrers and referees with the chance to share pooled rewards of $40,000 worth of $doge tokens and 10 #iphone13 pros. jan. 27 12 am utc – feb. 10 12 am utc register to participate http http\n",
            "$sILV2 Claim Page is finally live!    \"All sILV token holders receive sILV2 equal to their volume of sILV held at the time of the Recovery snapshot (block 13940833).\"    \"All users receive an extra 0.1 sILV2 to compensate for gas fees.\"    $ILV #illuvium https://t.co/FhLW58UHLj\n",
            "$silv2 claim page is finally live! \"all silv token holders receive silv2 equal to their volume of silv held at the time of the recovery snapshot (block 13940833).\" \"all users receive an extra 0.1 silv2 to compensate for gas fees.\" $ilv #illuvium http\n",
            "$ATLAS Best room on the net.. Stay turned: https://t.co/UAoz9KAsew\n",
            "$atlas best room on the net.. stay turned: http\n",
            "$LOOKS almost at breakeven. Never doubted it for a second https://t.co/1SgGKRoalt\n",
            "$looks almost at breakeven. never doubted it for a second http\n",
            "$LRC Crowd-sourced alerts, ranking system, and get paid being a top contributor... https://t.co/pWBZPd5ALC\n",
            "$lrc crowd-sourced alerts, ranking system, and get paid being a top contributor... http\n",
            "Must be some serious insider buying on $CREAM\n",
            "must be some serious insider buying on $cream\n",
            "TA by @HumpBackCrypto   \" $FTM is one one of the big winners in this bullrun. I checked many indicators and noticed that #FANTOM was bullish 80% of the time.\"  Trading Plan - Buy : Now - Rebuy : 2.5$ - Rebuy : 2$  📈 to $5.00 https://t.co/ocJmz034wg\n",
            "ta by @user \" $ftm is one of the big winners in this bullrun. i checked many indicators and noticed that #fantom was bullish 80% of the time.\" trading plan - buy : now - rebuy : 2.5$ - rebuy : 2$ to $5.00 http\n",
            "$XCH For a limited time, we are opening our trading chatroom to the public.. Get access to chatrooms, stock alerts,, option alerts, portfolios, and more. https://t.co/X1z4gkzJ5B\n",
            "$xch for a limited time, we are opening our trading chatroom to the public.. get access to chatrooms, stock alerts,, option alerts, portfolios, and more. http\n",
            "“Lift off, we have a lift off!”    $ROSE @OasisProtocol @OasisLabs @Meta https://t.co/JLN6jV8Vfl\n",
            "“lift off, we have a lift off!” $rose @user http\n",
            "TOP 10 SOLANA TVL LAST 7D    Congratulations to @MarinadeFinance ,it has been top 3 by TVL on #Solana for a while, and today Marinade reached TOP 1⃣    #DeFi #TVL $RAY @ProjectSerum @QuarryProtocol @Saber_HQ @solendprotocol @TulipProtocol @orca_so @AtrixProtocol  @SunnyAggregator https://t.co/Sln3gJYIft\n",
            "top 10 solana tvl last 7d congratulations to @user ,it has been top 3 by tvl on #solana for a while, and today marinade reached top #defi #tvl $ray @user http\n",
            "@intocryptoverse $Aave\n",
            "@user $aave\n",
            "$LOOKS: $2.83 Market Cap: $677,778,947 (Rank #126)  222.33% APR\n",
            "$looks: $2.83 market cap: $677,778,947 (rank #126) 222.33% apr\n",
            "get yxour bid on, #NFTcommunity!    $ONE #HarmonyONE #NFTs https://t.co/9MDCcpiPqe\n",
            "get yxour bid on, #nftcommunity! $one #harmonyone #nfts http\n",
            "Current Price of Cardano:  $1.55 (1.37%)    $ADA #Cardano #Cryptocurrency #Crypto  More Information About Cardano: https://t.co/wmhE7fMOIc\n",
            "current price of cardano: $1.55 (1.37%) $ada #cardano #cryptocurrency #crypto more information about cardano: http\n",
            "GM to everyone and especially to the giant green candle in the $LOOKS chart 👀 https://t.co/09qfyPhFaZ\n",
            "gm to everyone and especially to the giant green candle in the $looks chart http\n",
            "#EMURGO believes in the value of a @Cardano #Blockchain Education 🎓 Sign up for a Developer course now https://t.co/f3IJsLuV5J  ✨ Increasing Adoption of #Blockchain and $ADA #Cryptocurrency ✨ Embrace of 'Green' technology solutions #Cardano ✨ #NFT #CNFT and #DeFi growth https://t.co/l1iEFA1SYo\n",
            "#emurgo believes in the value of a @user #blockchain education sign up for a developer course now http increasing adoption of #blockchain and $ada #cryptocurrency embrace of 'green' technology solutions #cardano #nft #cnft and #defi growth http\n",
            "@kcchiefs37 @DeWegKwijt @AtlasCloud__ Im already millionaire from $ATLAS Cloud , im making 20x more than the average salary income 🤑 stay broke bro\n",
            "@user im already millionaire from $atlas cloud , im making 20x more than the average salary income stay broke bro\n",
            "Picking one of the most hated projects to proof my point about r:r ratio     $ETC/BTC  🔹potential 3D bullish divergence forming   🔹target measurement at least 50% vs #BTC   🔹HTF S/R flip https://t.co/qL9b4zgJvb\n",
            "picking one of the most hated projects to proof my point about r:r ratio $etc/btc potential 3d bullish divergence forming target measurement at least 50% vs #btc htf s/r flip http\n",
            "Pay attention to the projects that have been continuing to deliver while the markets are down! $PYR https://t.co/VAWV43jkw7\n",
            "pay attention to the projects that have been continuing to deliver while the markets are down! $pyr http\n",
            "🤑The token reward given by @RaydiumProtocol is currently very high.     💸💰Now the apy is overall juicy, the apy of $RAY is so tempting, up to 68.72%.    💗Flipped? Quickly moves!👣 https://t.co/JUMbobwqMV\n",
            "the token reward given by @user is currently very high. now the apy is overall juicy, the apy of $ray is so tempting, up to 68.72%. flipped? quickly moves! http\n",
            "$YFI Real price come out soon;. Hit the target price https://t.co/mueuT8yrs1\n",
            "$yfi real price come out soon;. hit the target price http\n",
            "Stop loss hit at 0.4116 $KEEP #KEEP Join discord: https://t.co/eKDzQ4kQpf\n",
            "stop loss hit at 0.4116 $keep #keep join discord: http\n",
            "Just purchased 6000 $CRO coins #CRO   #Cryptocom before the #SuperBowl  #LeBronJames #KingJames #Crypto\n",
            "just purchased 6000 $cro coins #cro #cryptocom before the #superbowl #lebronjames #kingjames #crypto\n",
            "$PERP Crowd-sourced alerts, ranking system, and get paid being a top contributor., https://t.co/s6KwcnAFwS\n",
            "$perp crowd-sourced alerts, ranking system, and get paid being a top contributor., http\n",
            "Symbol: $YFI  Timeframe: 15m  Position: Long  Price: 25225.0  Time: 2022-02-07 14:45:13\n",
            "symbol: $yfi timeframe: 15m position: long price: 25225.0 time: 2022-02-07 14 13\n",
            "@TodayAvalanche @AaveAave @avalancheavax @avaxholic @Avax_News @AVAXDaily @Avalanche_Space @avaxradar If you're looking to get into cryptocurrency investment it's best time to invest in $Aave as they are lots of project to look into..the space of technolo\n",
            "@user if you're looking to get into cryptocurrency investment it's best time to invest in $aave as they are lots of project to look into..the space of technolo\n",
            "@faraland_io Great news team @faraland_io .  No more unlocks, no more sell pressure. Let $FARA go on discovery mode!\n",
            "@user great news team @user . no more unlocks, no more sell pressure. let $fara go on discovery mode!\n",
            "If you joined us at @LongHashVC, you will know, our latest @CeloOrg pool has launched!🥳  Save regularly &amp; get rewarded - interest @Moola_Market, extra $CELO thanks to #defiforthepeople + more sponsorship coming soon!  blog https://t.co/UGvkDwufbY  dive in https://t.co/jcRrQ9Dy2J https://t.co/L7uY1lHouz\n",
            "if you joined us at @user you will know, our latest @user pool has launched! save regularly get rewarded - interest @user extra $celo thanks to #defiforthepeople + more sponsorship coming soon! blog http dive in http http\n",
            "$CELO is going for $10 again. https://t.co/hRAOelfCgy\n",
            "$celo is going for $10 again. http\n",
            "Rose Above Previous Day's High today: $CHZ ... https://t.co/Sr2t6babZ6\n",
            "rose above previous day's high today: $chz ... http\n",
            "Instructions unclear.    Bought more $ATOM ecosystem coins\n",
            "instructions unclear. bought more $atom ecosystem coins\n",
            "@solanahunt I believe this is a faithful project.    @Anggadwysangpr1   @darma_suu   @PrakasaAlfa   @rahmad18404070  @deniadi420     sol addres : 99y8ScZpSAN8jKRFuZbk8z2Vg8rNzKRn7FMEV19utP2r    #airdrop #SolanaAirdrop $SOL #SolanaNFT #SolanaAirdrops #Sola\n",
            "@user i believe this a faithful project. @user sol addres : #airdrop #solanaairdrop $sol #solananft #solanaairdrops #sola\n",
            "75,384 $ worth of $RAY market bought on Binance at 3.9550 $.  🧙📈\n",
            "75,384 $ worth of $ray market bought on binance at 3.9550 $.\n",
            "$ETC ~ Find active market alerts here in this best  trading community.   https://t.co/Zbdz1PKmin\n",
            "$etc ~ find active market alerts here in this best trading community. http\n",
            "$CVX | Chevron Exec: Company Planning To Expand US Permian Basin Output Beyond 1M Bpd\n",
            "$cvx | chevron exec: company planning to expand us permian basin output beyond 1m bpd\n",
            "$UNI ready for launch 🚀 https://t.co/b4W7rtOUeJ\n",
            "$uni ready for launch http\n",
            "$DODO  Real profit come out soon hit the target price.. Enjoy premium alerts $1 for 30 days https://t.co/UTF9lBqpdJ\n",
            "$dodo real profit come out soon hit the target price.. enjoy premium alerts $1 for 30 days http\n",
            "Dear users, $NEAR is now listed in our #Futures markets ⚡    @NEARProtocol traders are welcome to trade with up to x50 leverage.     All info in our announcement :  https://t.co/7NM21stvta https://t.co/9GNWOXyPwq\n",
            "dear users, $near is now listed in our #futures markets @user traders are welcome to trade with up to x50 leverage. all info in our announcement : http http\n",
            "$ROSE ~ If you really want to make huge profits on trading than check  out this chat :; https://t.co/xkCWM1Bc6t\n",
            "$rose ~ if you really want to make huge profits on trading than check out this chat :; http\n",
            "AutoSharkFinance Atlantis - $ATLAS ( @AutoSharkFin ) update! #BSC  https://t.co/hus96svISI    Price: $12.046  MC: $5,602,514  TVL: $4,308,925  Treasury: $5,694,667  Backing: $12.24    https://t.co/hhAfcKDSiJ    #PassiveIncome #Crypto #DAO https://t.co/ZFo0ArRTmB\n",
            "autosharkfinance atlantis - $atlas ( @user ) update! #bsc http price: $12.046 mc: $5,602,514 tvl: $4,308,925 treasury: $5,694,667 backing: $12.24 http #passiveincome #crypto #dao http\n",
            "$RLY macd/sma buy signal 👀 get ready 🔥🔥🔥 https://t.co/d0qyTQoPoy\n",
            "$rly macd/sma buy signal get ready http\n",
            "$MINA dump to 0.4 ☠️😜\n",
            "$mina dump to 0.4\n",
            "@VeChainLuke $OXT is crushing it and will soon 3x\n",
            "@user $oxt is crushing it and will soon 3x\n",
            "🔥A giveaway from @DopeWolvesNFT   ✅Prizes🌹: 5 Dope Wolves #NFT (listed on @tofuNFT)  ✅How to join:  1️⃣Follow @oasisrosenews &amp;  @DopeWolvesNFT 2️⃣Like, retweet 3⃣Tag 2 #OasisNetwork friend, comment $ROSE  ✅End after 72h⏰ https://t.co/q8BFEdjWHI\n",
            "a giveaway from @user prizes : 5 dope wolves #nft (listed on @user how to join: follow @user like, retweet tag 2 #oasisnetwork friend, comment $rose end after 72h http\n",
            "$NEO price had a surprise breakout after China’s Blockchain-based Service Network selected the project to host “Decentralized Digital Certificates” and new NFT marketplaces. https://t.co/upT67Z9RkT\n",
            "$neo price had a surprise breakout after china’s blockchain-based service network selected the project to host “decentralized digital certificates” and new nft marketplaces. http\n",
            "@ape280 OS sea is trash. $LOOKS is the solution\n",
            "@user os sea is trash. $looks is the solution\n",
            " @TheSandboxGame  I just participated in the daily D878 for a chance to earn up to 1,000 $SAND! Day 1 - Selfie with the S2 Alpha Pass. Check out my screenshot below! 👇 #SandboxAlphaS2 https://t.co/L6ml7O5Ygq\n",
            "@user i just participated in the daily d878 for a chance to earn up to 1,000 $sand! day 1 - selfie with the s2 alpha pass. check out my screenshot below! #sandboxalphas2 http\n",
            "KEEP/USDT [#Binance]  Big Whales Buy Activity ✳  618.79K $KEEP have been bought  💰Price: 0.708 USDT (4.11%)  🚨Order Size: 431,102 USDT (5.02%)  ⏳Duration: 15 minutes  📊24h Vol: 8.58M USDT    Get all Alerts here: https://t.co/o4CEgy7jGS\n",
            "keep/usdt [#binance] big whales buy activity 618.79k $keep have been bought price: 0.708 usdt (4.11%) order size: 431,102 usdt (5.02%) duration: 15 minutes 24h vol: 8.58m usdt get all alerts here: http\n",
            "Introducing our new protocol RNA Cash, that expands provide and more liquidity into the ecosystem that is pegged to $CRO.    Medium article: https://t.co/vdIWIE1zem  Docs: https://t.co/fqTID89aXf  Website: https://t.co/7n41B4hRRV    #FFTB   #CRO   #DNADollar   #CronosChain  #CroFam  #DeFi https://t.co/g1mXHoKhmP\n",
            "introducing our new protocol rna cash, that expands provide and more liquidity into the ecosystem that is pegged to $cro. medium article: http docs: http website: http #fftb #cro #dnadollar #cronoschain #crofam #defi http\n",
            "$MATIC $2.00   #NFT #cryptocurrecy #MATIC\n",
            "$matic $2.00 #nft #cryptocurrecy #matic\n",
            "@TheMoonCarl Yep, I've been #bullish on $CRO for quite some time now. I hope @Mecha_Morphing will launch their token too; I'll definitely hold them on my dear life! 😉    Also, check their #NFT box sale on @TheBinanceNFT which will happen on Feb. 22 at 11\n",
            "@user yep, i've been #bullish on $cro for quite some time now. i hope @user will launch their token too; i'll definitely hold them on my dear life! also, check their #nft box sale on @user which will happen on feb. 22 at 11\n",
            "@anthonypacheco_ @near_kongz is the best alpha $NEAR NFT community\n",
            "@user is the best alpha $near nft community\n",
            "$FXS ✅  Increased 3.75% in 7.7 hour(s) 💵 Price - 21.65200000 USDT ⏱️ [28 Feb] - 04:29:33 UTC #FXS #FXSUSDT #CryptoBOT\n",
            "$fxs increased 3.75% in 7.7 hour(s) price - 21.65200000 usdt [28 feb] - 04 33 utc #fxs #fxsusdt #cryptobot\n",
            "Great to see @QiDaoProtocol that started on @0xPolygon grow to be a major stablecoin player! Having liquidity on several chains, it's a perfect fit for Aave V3.   Vote now with $AAVE to give it wider acceptance Fam! 🙏🏼  https://t.co/aQsOjpUtgU\n",
            "great to see @user that started on @user grow to be a major stablecoin player! having liquidity on several chains, it's a perfect fit for aave v3. vote now with $aave to give it wider acceptance fam! http\n",
            "🚀 New Listing    CoinEx Lists $CELO on 14th Dec  @CeloOrg is a mobile-first open platform that makes crypto accessible    ✅ Trading Pair: CELO/USDT, CELO/BTC  ✅ Deposit &amp; Withdrawal: 3AM UTC 14th Dec  ✅ Trading: 7AM UTC 14th Dec    Learn more 👉 https://t.co/CPjvyqQfDG    #CoinEx #dApps https://t.co/M8gjNQR1RO\n",
            "new listing coinex lists $celo on 14th dec @user is a mobile-first open platform that makes crypto accessible trading pair: celo/usdt, celo/btc deposit withdrawal: 3am utc 14th dec trading: 7am utc 14th dec learn more http #coinex #dapps http\n",
            "$FXS already sent I will keep watching for a dip to buy. https://t.co/Rf7vKBhGz6\n",
            "$fxs already sent i will keep watching for a dip to buy. http\n",
            "[Spot] By 2022-01-12 14:00 GMT, SUSHI total trading volume of 23,235,498SUSHI and net cap flow of $40M in last 24 hrs. #cryptocurrency #CryptoCapFlow $SUSHI https://t.co/22HXiM4SqU\n",
            "[spot] by 2022-01-12 14:00 gmt, sushi total trading volume of 23,235,498sushi and net cap flow of $40m in last 24 hrs. #cryptocurrency #cryptocapflow $sushi http\n",
            "$THETA Update | Daily    Look for the re-test here if we get it. https://t.co/IbTCnaoOoD\n",
            "$theta update | daily look for the re-test here if we get it. http\n",
            ".@IcpReboot is a community based project forking $ICP    They are offering an airdrop I cannot have you miss out on!!!🚀    To participate RT their pinned tweet, send an email to hello@icpr.io with \"airdrop\" as the subject and a brief statement of how you can help the ICPR movement!! https://t.co/rtPal0pjl8\n",
            ".@user is a community based project forking $icp they are offering an airdrop i cannot have you miss out on!!! to participate their pinned tweet, send an email to hello@user with \"airdrop\" as the subject and a brief statement of how you can help the icpr movement!! http\n",
            "$FTT / BTC at a crossroad...  September 2020 all over again or does Sam lead the way and we break out upwards here?   Leaning towards the former as it feels a bit too early 🤷🏻‍♂️ https://t.co/YpWaX1g7U4\n",
            "$ftt / btc at a crossroad... september 2020 all over again or does sam lead the way and we break out upwards here? leaning towards the former as it feels a bit too early http\n",
            "In Helium's case, crypto was the incentive that worked. Allowing people to mine $HNT by providing wireless coverage solved the cold-start problem, because jumping in early meant getting the most tokens, even if the network wasn't fully functional yet.\n",
            "in helium's case, crypto was the incentive that worked. allowing people to mine $hnt by providing wireless coverage solved the cold-start problem, because jumping in early meant getting the most tokens, even if the network wasn't fully functional yet.\n",
            "Started buying $CRV here.    $3 buys age like fine wine https://t.co/PLPK0ZjEfa https://t.co/4WLznbEBI2\n",
            "started buying $crv here. $3 buys age like fine wine http http\n",
            "@MatijaR0 @The_CryptoDad @YouTube Hi, $BNB is supported by Trezor! You can receive the ERC20 token version of BNB into your Trezor Model One ETH account🔒  https://t.co/IQHTQPnXDs\n",
            "@user hi, $bnb is supported by trezor! you can receive the erc20 token version of bnb into your trezor model one eth account http\n",
            "#MIR is moving slowly but surely in the falling channel. At the moment, the profit from the entry will be 30%+. It is worth keeping at least to the upper limit, then we will see. $MIR https://t.co/zJoYhFWxtA\n",
            "#mir is moving slowly but surely in the falling channel. at the moment, the profit from the entry will be 30%+. it is worth keeping at least to the upper limit, then we will see. $mir http\n",
            "$YFI~I've made Over $70k last month&lt;&gt;&lt;&gt;  https://t.co/y2k5a0zR8K\n",
            "$yfi~i've made over $70k last month http\n",
            "$DOT UPDATE   I've been shorting DOT since November. All my targets hit. This is now a Buying level for me https://t.co/qZbaq3sChL https://t.co/umb7Tgy4DE\n",
            "$dot update i've been shorting dot since november. all my targets hit. this now a buying level for me http http\n",
            "$OHM down 90% since then, 77% in market cap terms https://t.co/KuhtxUZNuZ\n",
            "$ohm down 90% since then, 77% in market cap terms http\n",
            "🍣 On Mar. 9, we’ll cross-chain-list $SUSHI (@SushiSwap). It’s on ~365k watchlists (https://t.co/Z1RQU3hEpV), held by ~46k addresses (https://t.co/i43RsEaGXF). https://t.co/U4NVKqHX3i\n",
            "on mar. 9, we’ll cross-chain-list $sushi (@user it’s on ~365k watchlists (http held by ~46k addresses (http http\n",
            "The Galápagos Islands 💙  Considered to be one of the world's foremost destinations for wildlife viewing. Check out the incredible activities &amp; experiences you can book there with $MANA 🤿⬇️ https://t.co/iQbv5knj41 @decentraland #MANA https://t.co/DyK9HG5f1D\n",
            "the galápagos islands considered to be one of the world's foremost destinations for wildlife viewing. check out the incredible activities experiences you can book there with $mana http @user #mana http\n",
            "@cobie @RuneKek @CryptoDonAlt Sike I own $MKR https://t.co/vWdfCu1vds\n",
            "@user sike i own $mkr http\n",
            "Back in $FTM short, shitcoin looks like it's losing 2 dollars and #btc has a massive FVG https://t.co/He2225wzIy\n",
            "back in $ftm short, shitcoin looks like it's losing 2 dollars and #btc has a massive fvg http\n"
          ]
        },
        {
          "output_type": "execute_result",
          "data": {
            "text/plain": [
              "<Axes: >"
            ]
          },
          "metadata": {},
          "execution_count": 20
        },
        {
          "output_type": "display_data",
          "data": {
            "text/plain": [
              "<Figure size 640x480 with 1 Axes>"
            ],
            "image/png": "[encoded data removed]"
          },
          "metadata": {}
        }
      ]
    },
    {
      "cell_type": "code",
      "source": [
        "#training parameters\n",
        "epochs = 400\n",
        "lr = 2e-04\n",
        "tokenizer_length = 80 #sentence length\n",
        "n_ways = 4 #clases\n",
        "k_shots = 10 # vectores soporte\n",
        "k_queries = 10 # querys\n",
        "\n",
        "train_steps = 5\n",
        "\n",
        "model = PrototypicalNetwork(bert)\n",
        "model.to(device)\n",
        "history = training(epochs, lr, tokenizer_length, n_ways, k_shots, k_queries, train_steps)"
      ],
      "metadata": {
        "colab": {
          "base_uri": "https://localhost:8080/"
        },
        "id": "CJEE1hagpL2K",
        "outputId": "623965a8-a50f-4f6c-db6e-31b56366e23d"
      },
      "execution_count": 21,
      "outputs": [
        {
          "output_type": "stream",
          "name": "stdout",
          "text": [
            "\n",
            " Epoch 1 / 400\n"
          ]
        },
        {
          "output_type": "stream",
          "name": "stderr",
          "text": [
            "100%|██████████| 5/5 [00:04<00:00,  1.15it/s, accuracy=0.4875]\n",
            "100%|██████████| 4/4 [00:02<00:00,  1.54it/s, accuracy=1.0000]\n"
          ]
        },
        {
          "output_type": "stream",
          "name": "stdout",
          "text": [
            "\n",
            "Training Loss: 1.385 Training Accuracy: 0.440\n",
            "Validation Loss: 1.383 Validation Accuracy: 0.562\n",
            "\n",
            " Epoch 2 / 400\n"
          ]
        },
        {
          "output_type": "stream",
          "name": "stderr",
          "text": [
            "100%|██████████| 5/5 [00:02<00:00,  1.70it/s, accuracy=0.5750]\n",
            "100%|██████████| 4/4 [00:02<00:00,  1.51it/s, accuracy=1.0000]\n"
          ]
        },
        {
          "output_type": "stream",
          "name": "stdout",
          "text": [
            "\n",
            "Training Loss: 1.362 Training Accuracy: 0.585\n",
            "Validation Loss: 1.261 Validation Accuracy: 0.781\n",
            "\n",
            " Epoch 3 / 400\n"
          ]
        },
        {
          "output_type": "stream",
          "name": "stderr",
          "text": [
            "100%|██████████| 5/5 [00:02<00:00,  1.68it/s, accuracy=0.6250]\n",
            "100%|██████████| 4/4 [00:02<00:00,  1.52it/s, accuracy=0.5000]\n"
          ]
        },
        {
          "output_type": "stream",
          "name": "stdout",
          "text": [
            "\n",
            "Training Loss: 0.915 Training Accuracy: 0.663\n",
            "Validation Loss: 2.135 Validation Accuracy: 0.344\n",
            "\n",
            " Epoch 4 / 400\n"
          ]
        },
        {
          "output_type": "stream",
          "name": "stderr",
          "text": [
            "100%|██████████| 5/5 [00:02<00:00,  1.68it/s, accuracy=0.6125]\n",
            "100%|██████████| 4/4 [00:02<00:00,  1.50it/s, accuracy=1.0000]\n"
          ]
        },
        {
          "output_type": "stream",
          "name": "stdout",
          "text": [
            "\n",
            "Training Loss: 1.073 Training Accuracy: 0.578\n",
            "Validation Loss: 1.550 Validation Accuracy: 0.500\n",
            "\n",
            " Epoch 5 / 400\n"
          ]
        },
        {
          "output_type": "stream",
          "name": "stderr",
          "text": [
            "100%|██████████| 5/5 [00:03<00:00,  1.66it/s, accuracy=0.6625]\n",
            "100%|██████████| 4/4 [00:02<00:00,  1.50it/s, accuracy=0.5000]\n"
          ]
        },
        {
          "output_type": "stream",
          "name": "stdout",
          "text": [
            "\n",
            "Training Loss: 0.793 Training Accuracy: 0.690\n",
            "Validation Loss: 2.077 Validation Accuracy: 0.562\n",
            "\n",
            " Epoch 6 / 400\n"
          ]
        },
        {
          "output_type": "stream",
          "name": "stderr",
          "text": [
            "100%|██████████| 5/5 [00:03<00:00,  1.66it/s, accuracy=0.7875]\n",
            "100%|██████████| 4/4 [00:02<00:00,  1.49it/s, accuracy=1.0000]\n"
          ]
        },
        {
          "output_type": "stream",
          "name": "stdout",
          "text": [
            "\n",
            "Training Loss: 0.502 Training Accuracy: 0.758\n",
            "Validation Loss: 1.305 Validation Accuracy: 0.656\n",
            "\n",
            " Epoch 7 / 400\n"
          ]
        },
        {
          "output_type": "stream",
          "name": "stderr",
          "text": [
            "100%|██████████| 5/5 [00:03<00:00,  1.64it/s, accuracy=0.8750]\n",
            "100%|██████████| 4/4 [00:02<00:00,  1.48it/s, accuracy=1.0000]\n"
          ]
        },
        {
          "output_type": "stream",
          "name": "stdout",
          "text": [
            "\n",
            "Training Loss: 0.329 Training Accuracy: 0.873\n",
            "Validation Loss: 3.099 Validation Accuracy: 0.656\n",
            "\n",
            " Epoch 8 / 400\n"
          ]
        },
        {
          "output_type": "stream",
          "name": "stderr",
          "text": [
            "100%|██████████| 5/5 [00:03<00:00,  1.64it/s, accuracy=0.9125]\n",
            "100%|██████████| 4/4 [00:02<00:00,  1.47it/s, accuracy=0.0000]\n"
          ]
        },
        {
          "output_type": "stream",
          "name": "stdout",
          "text": [
            "\n",
            "Training Loss: 0.297 Training Accuracy: 0.908\n",
            "Validation Loss: 2.424 Validation Accuracy: 0.344\n",
            "\n",
            " Epoch 9 / 400\n"
          ]
        },
        {
          "output_type": "stream",
          "name": "stderr",
          "text": [
            "100%|██████████| 5/5 [00:03<00:00,  1.63it/s, accuracy=0.9750]\n",
            "100%|██████████| 4/4 [00:02<00:00,  1.45it/s, accuracy=0.0000]\n"
          ]
        },
        {
          "output_type": "stream",
          "name": "stdout",
          "text": [
            "\n",
            "Training Loss: 0.184 Training Accuracy: 0.938\n",
            "Validation Loss: 4.333 Validation Accuracy: 0.406\n",
            "\n",
            " Epoch 10 / 400\n"
          ]
        },
        {
          "output_type": "stream",
          "name": "stderr",
          "text": [
            "100%|██████████| 5/5 [00:03<00:00,  1.63it/s, accuracy=1.0000]\n",
            "100%|██████████| 4/4 [00:02<00:00,  1.44it/s, accuracy=0.5000]\n"
          ]
        },
        {
          "output_type": "stream",
          "name": "stdout",
          "text": [
            "\n",
            "Training Loss: 0.092 Training Accuracy: 0.955\n",
            "Validation Loss: 4.883 Validation Accuracy: 0.469\n",
            "\n",
            " Epoch 11 / 400\n"
          ]
        },
        {
          "output_type": "stream",
          "name": "stderr",
          "text": [
            "100%|██████████| 5/5 [00:03<00:00,  1.62it/s, accuracy=0.9500]\n",
            "100%|██████████| 4/4 [00:02<00:00,  1.44it/s, accuracy=0.5000]\n"
          ]
        },
        {
          "output_type": "stream",
          "name": "stdout",
          "text": [
            "\n",
            "Training Loss: 0.040 Training Accuracy: 0.983\n",
            "Validation Loss: 4.753 Validation Accuracy: 0.500\n",
            "\n",
            " Epoch 12 / 400\n"
          ]
        },
        {
          "output_type": "stream",
          "name": "stderr",
          "text": [
            "100%|██████████| 5/5 [00:03<00:00,  1.63it/s, accuracy=0.9625]\n",
            "100%|██████████| 4/4 [00:02<00:00,  1.46it/s, accuracy=0.5000]\n"
          ]
        },
        {
          "output_type": "stream",
          "name": "stdout",
          "text": [
            "\n",
            "Training Loss: 0.134 Training Accuracy: 0.970\n",
            "Validation Loss: 4.496 Validation Accuracy: 0.500\n",
            "\n",
            " Epoch 13 / 400\n"
          ]
        },
        {
          "output_type": "stream",
          "name": "stderr",
          "text": [
            "100%|██████████| 5/5 [00:03<00:00,  1.63it/s, accuracy=1.0000]\n",
            "100%|██████████| 4/4 [00:02<00:00,  1.47it/s, accuracy=0.5000]\n"
          ]
        },
        {
          "output_type": "stream",
          "name": "stdout",
          "text": [
            "\n",
            "Training Loss: 0.036 Training Accuracy: 0.985\n",
            "Validation Loss: 6.807 Validation Accuracy: 0.562\n",
            "\n",
            " Epoch 14 / 400\n"
          ]
        },
        {
          "output_type": "stream",
          "name": "stderr",
          "text": [
            "100%|██████████| 5/5 [00:03<00:00,  1.63it/s, accuracy=0.9875]\n",
            "100%|██████████| 4/4 [00:02<00:00,  1.48it/s, accuracy=0.5000]\n"
          ]
        },
        {
          "output_type": "stream",
          "name": "stdout",
          "text": [
            "\n",
            "Training Loss: 0.040 Training Accuracy: 0.985\n",
            "Validation Loss: 6.897 Validation Accuracy: 0.438\n",
            "\n",
            " Epoch 15 / 400\n"
          ]
        },
        {
          "output_type": "stream",
          "name": "stderr",
          "text": [
            "100%|██████████| 5/5 [00:03<00:00,  1.64it/s, accuracy=1.0000]\n",
            "100%|██████████| 4/4 [00:02<00:00,  1.48it/s, accuracy=0.5000]\n"
          ]
        },
        {
          "output_type": "stream",
          "name": "stdout",
          "text": [
            "\n",
            "Training Loss: 0.018 Training Accuracy: 0.995\n",
            "Validation Loss: 5.234 Validation Accuracy: 0.531\n",
            "\n",
            " Epoch 16 / 400\n"
          ]
        },
        {
          "output_type": "stream",
          "name": "stderr",
          "text": [
            "100%|██████████| 5/5 [00:03<00:00,  1.64it/s, accuracy=1.0000]\n",
            "100%|██████████| 4/4 [00:02<00:00,  1.47it/s, accuracy=0.0000]\n"
          ]
        },
        {
          "output_type": "stream",
          "name": "stdout",
          "text": [
            "\n",
            "Training Loss: 0.007 Training Accuracy: 0.998\n",
            "Validation Loss: 8.659 Validation Accuracy: 0.438\n",
            "\n",
            " Epoch 17 / 400\n"
          ]
        },
        {
          "output_type": "stream",
          "name": "stderr",
          "text": [
            "100%|██████████| 5/5 [00:03<00:00,  1.65it/s, accuracy=1.0000]\n",
            "100%|██████████| 4/4 [00:02<00:00,  1.46it/s, accuracy=1.0000]\n"
          ]
        },
        {
          "output_type": "stream",
          "name": "stdout",
          "text": [
            "\n",
            "Training Loss: 0.002 Training Accuracy: 1.000\n",
            "Validation Loss: 5.714 Validation Accuracy: 0.625\n",
            "\n",
            " Epoch 18 / 400\n"
          ]
        },
        {
          "output_type": "stream",
          "name": "stderr",
          "text": [
            "100%|██████████| 5/5 [00:03<00:00,  1.65it/s, accuracy=0.9750]\n",
            "100%|██████████| 4/4 [00:02<00:00,  1.48it/s, accuracy=0.5000]\n"
          ]
        },
        {
          "output_type": "stream",
          "name": "stdout",
          "text": [
            "\n",
            "Training Loss: 0.060 Training Accuracy: 0.988\n",
            "Validation Loss: 4.419 Validation Accuracy: 0.469\n",
            "\n",
            " Epoch 19 / 400\n"
          ]
        },
        {
          "output_type": "stream",
          "name": "stderr",
          "text": [
            "100%|██████████| 5/5 [00:03<00:00,  1.65it/s, accuracy=1.0000]\n",
            "100%|██████████| 4/4 [00:02<00:00,  1.49it/s, accuracy=0.5000]\n"
          ]
        },
        {
          "output_type": "stream",
          "name": "stdout",
          "text": [
            "\n",
            "Training Loss: 0.103 Training Accuracy: 0.983\n",
            "Validation Loss: 3.907 Validation Accuracy: 0.500\n",
            "\n",
            " Epoch 20 / 400\n"
          ]
        },
        {
          "output_type": "stream",
          "name": "stderr",
          "text": [
            "100%|██████████| 5/5 [00:03<00:00,  1.66it/s, accuracy=1.0000]\n",
            "100%|██████████| 4/4 [00:02<00:00,  1.48it/s, accuracy=1.0000]\n"
          ]
        },
        {
          "output_type": "stream",
          "name": "stdout",
          "text": [
            "\n",
            "Training Loss: 0.009 Training Accuracy: 0.998\n",
            "Validation Loss: 4.164 Validation Accuracy: 0.688\n",
            "\n",
            " Epoch 21 / 400\n"
          ]
        },
        {
          "output_type": "stream",
          "name": "stderr",
          "text": [
            "100%|██████████| 5/5 [00:03<00:00,  1.64it/s, accuracy=1.0000]\n",
            "100%|██████████| 4/4 [00:02<00:00,  1.48it/s, accuracy=0.5000]\n"
          ]
        },
        {
          "output_type": "stream",
          "name": "stdout",
          "text": [
            "\n",
            "Training Loss: 0.079 Training Accuracy: 0.990\n",
            "Validation Loss: 6.571 Validation Accuracy: 0.562\n",
            "\n",
            " Epoch 22 / 400\n"
          ]
        },
        {
          "output_type": "stream",
          "name": "stderr",
          "text": [
            "100%|██████████| 5/5 [00:03<00:00,  1.65it/s, accuracy=1.0000]\n",
            "100%|██████████| 4/4 [00:02<00:00,  1.48it/s, accuracy=0.0000]\n"
          ]
        },
        {
          "output_type": "stream",
          "name": "stdout",
          "text": [
            "\n",
            "Training Loss: 0.016 Training Accuracy: 0.998\n",
            "Validation Loss: 11.117 Validation Accuracy: 0.500\n",
            "\n",
            " Epoch 23 / 400\n"
          ]
        },
        {
          "output_type": "stream",
          "name": "stderr",
          "text": [
            "100%|██████████| 5/5 [00:03<00:00,  1.64it/s, accuracy=1.0000]\n",
            "100%|██████████| 4/4 [00:02<00:00,  1.47it/s, accuracy=0.5000]\n"
          ]
        },
        {
          "output_type": "stream",
          "name": "stdout",
          "text": [
            "\n",
            "Training Loss: 0.023 Training Accuracy: 0.990\n",
            "Validation Loss: 6.085 Validation Accuracy: 0.562\n",
            "\n",
            " Epoch 24 / 400\n"
          ]
        },
        {
          "output_type": "stream",
          "name": "stderr",
          "text": [
            "100%|██████████| 5/5 [00:03<00:00,  1.64it/s, accuracy=1.0000]\n",
            "100%|██████████| 4/4 [00:02<00:00,  1.47it/s, accuracy=0.5000]\n"
          ]
        },
        {
          "output_type": "stream",
          "name": "stdout",
          "text": [
            "\n",
            "Training Loss: 0.002 Training Accuracy: 1.000\n",
            "Validation Loss: 6.697 Validation Accuracy: 0.562\n",
            "\n",
            " Epoch 25 / 400\n"
          ]
        },
        {
          "output_type": "stream",
          "name": "stderr",
          "text": [
            "100%|██████████| 5/5 [00:03<00:00,  1.65it/s, accuracy=0.9875]\n",
            "100%|██████████| 4/4 [00:02<00:00,  1.46it/s, accuracy=0.5000]\n"
          ]
        },
        {
          "output_type": "stream",
          "name": "stdout",
          "text": [
            "\n",
            "Training Loss: 0.013 Training Accuracy: 0.993\n",
            "Validation Loss: 5.419 Validation Accuracy: 0.531\n",
            "\n",
            " Epoch 26 / 400\n"
          ]
        },
        {
          "output_type": "stream",
          "name": "stderr",
          "text": [
            "100%|██████████| 5/5 [00:03<00:00,  1.64it/s, accuracy=1.0000]\n",
            "100%|██████████| 4/4 [00:02<00:00,  1.47it/s, accuracy=0.5000]\n"
          ]
        },
        {
          "output_type": "stream",
          "name": "stdout",
          "text": [
            "\n",
            "Training Loss: 0.010 Training Accuracy: 0.995\n",
            "Validation Loss: 4.571 Validation Accuracy: 0.500\n",
            "\n",
            " Epoch 27 / 400\n"
          ]
        },
        {
          "output_type": "stream",
          "name": "stderr",
          "text": [
            "100%|██████████| 5/5 [00:03<00:00,  1.64it/s, accuracy=1.0000]\n",
            "100%|██████████| 4/4 [00:02<00:00,  1.47it/s, accuracy=0.0000]\n"
          ]
        },
        {
          "output_type": "stream",
          "name": "stdout",
          "text": [
            "\n",
            "Training Loss: 0.012 Training Accuracy: 0.998\n",
            "Validation Loss: 8.340 Validation Accuracy: 0.438\n",
            "\n",
            " Epoch 28 / 400\n"
          ]
        },
        {
          "output_type": "stream",
          "name": "stderr",
          "text": [
            "100%|██████████| 5/5 [00:03<00:00,  1.63it/s, accuracy=0.9875]\n",
            "100%|██████████| 4/4 [00:02<00:00,  1.48it/s, accuracy=0.0000]\n"
          ]
        },
        {
          "output_type": "stream",
          "name": "stdout",
          "text": [
            "\n",
            "Training Loss: 0.007 Training Accuracy: 0.995\n",
            "Validation Loss: 7.706 Validation Accuracy: 0.406\n",
            "\n",
            " Epoch 29 / 400\n"
          ]
        },
        {
          "output_type": "stream",
          "name": "stderr",
          "text": [
            "100%|██████████| 5/5 [00:03<00:00,  1.65it/s, accuracy=1.0000]\n",
            "100%|██████████| 4/4 [00:02<00:00,  1.48it/s, accuracy=0.0000]\n"
          ]
        },
        {
          "output_type": "stream",
          "name": "stdout",
          "text": [
            "\n",
            "Training Loss: 0.004 Training Accuracy: 0.998\n",
            "Validation Loss: 8.016 Validation Accuracy: 0.438\n",
            "\n",
            " Epoch 30 / 400\n"
          ]
        },
        {
          "output_type": "stream",
          "name": "stderr",
          "text": [
            "100%|██████████| 5/5 [00:03<00:00,  1.64it/s, accuracy=1.0000]\n",
            "100%|██████████| 4/4 [00:02<00:00,  1.47it/s, accuracy=0.0000]\n"
          ]
        },
        {
          "output_type": "stream",
          "name": "stdout",
          "text": [
            "\n",
            "Training Loss: 0.013 Training Accuracy: 0.998\n",
            "Validation Loss: 8.935 Validation Accuracy: 0.406\n",
            "\n",
            " Epoch 31 / 400\n"
          ]
        },
        {
          "output_type": "stream",
          "name": "stderr",
          "text": [
            "100%|██████████| 5/5 [00:03<00:00,  1.65it/s, accuracy=1.0000]\n",
            "100%|██████████| 4/4 [00:02<00:00,  1.48it/s, accuracy=0.0000]\n"
          ]
        },
        {
          "output_type": "stream",
          "name": "stdout",
          "text": [
            "\n",
            "Training Loss: 0.009 Training Accuracy: 0.998\n",
            "Validation Loss: 9.960 Validation Accuracy: 0.375\n",
            "\n",
            " Epoch 32 / 400\n"
          ]
        },
        {
          "output_type": "stream",
          "name": "stderr",
          "text": [
            "100%|██████████| 5/5 [00:03<00:00,  1.65it/s, accuracy=0.9875]\n",
            "100%|██████████| 4/4 [00:02<00:00,  1.47it/s, accuracy=0.5000]\n"
          ]
        },
        {
          "output_type": "stream",
          "name": "stdout",
          "text": [
            "\n",
            "Training Loss: 0.005 Training Accuracy: 0.998\n",
            "Validation Loss: 7.137 Validation Accuracy: 0.438\n",
            "\n",
            " Epoch 33 / 400\n"
          ]
        },
        {
          "output_type": "stream",
          "name": "stderr",
          "text": [
            "100%|██████████| 5/5 [00:03<00:00,  1.65it/s, accuracy=1.0000]\n",
            "100%|██████████| 4/4 [00:02<00:00,  1.48it/s, accuracy=0.5000]\n"
          ]
        },
        {
          "output_type": "stream",
          "name": "stdout",
          "text": [
            "\n",
            "Training Loss: 0.002 Training Accuracy: 1.000\n",
            "Validation Loss: 7.324 Validation Accuracy: 0.469\n",
            "\n",
            " Epoch 34 / 400\n"
          ]
        },
        {
          "output_type": "stream",
          "name": "stderr",
          "text": [
            "100%|██████████| 5/5 [00:03<00:00,  1.65it/s, accuracy=1.0000]\n",
            "100%|██████████| 4/4 [00:02<00:00,  1.47it/s, accuracy=0.5000]\n"
          ]
        },
        {
          "output_type": "stream",
          "name": "stdout",
          "text": [
            "\n",
            "Training Loss: 0.005 Training Accuracy: 0.998\n",
            "Validation Loss: 8.060 Validation Accuracy: 0.469\n",
            "\n",
            " Epoch 35 / 400\n"
          ]
        },
        {
          "output_type": "stream",
          "name": "stderr",
          "text": [
            "100%|██████████| 5/5 [00:03<00:00,  1.64it/s, accuracy=1.0000]\n",
            "100%|██████████| 4/4 [00:02<00:00,  1.48it/s, accuracy=0.5000]\n"
          ]
        },
        {
          "output_type": "stream",
          "name": "stdout",
          "text": [
            "\n",
            "Training Loss: 0.000 Training Accuracy: 1.000\n",
            "Validation Loss: 7.131 Validation Accuracy: 0.531\n",
            "\n",
            " Epoch 36 / 400\n"
          ]
        },
        {
          "output_type": "stream",
          "name": "stderr",
          "text": [
            "100%|██████████| 5/5 [00:03<00:00,  1.64it/s, accuracy=1.0000]\n",
            "100%|██████████| 4/4 [00:02<00:00,  1.47it/s, accuracy=0.5000]\n"
          ]
        },
        {
          "output_type": "stream",
          "name": "stdout",
          "text": [
            "\n",
            "Training Loss: 0.000 Training Accuracy: 1.000\n",
            "Validation Loss: 10.492 Validation Accuracy: 0.562\n",
            "\n",
            " Epoch 37 / 400\n"
          ]
        },
        {
          "output_type": "stream",
          "name": "stderr",
          "text": [
            "100%|██████████| 5/5 [00:03<00:00,  1.64it/s, accuracy=1.0000]\n",
            "100%|██████████| 4/4 [00:02<00:00,  1.47it/s, accuracy=0.5000]\n"
          ]
        },
        {
          "output_type": "stream",
          "name": "stdout",
          "text": [
            "\n",
            "Training Loss: 0.000 Training Accuracy: 1.000\n",
            "Validation Loss: 9.664 Validation Accuracy: 0.562\n",
            "\n",
            " Epoch 38 / 400\n"
          ]
        },
        {
          "output_type": "stream",
          "name": "stderr",
          "text": [
            "100%|██████████| 5/5 [00:03<00:00,  1.65it/s, accuracy=1.0000]\n",
            "100%|██████████| 4/4 [00:02<00:00,  1.48it/s, accuracy=1.0000]\n"
          ]
        },
        {
          "output_type": "stream",
          "name": "stdout",
          "text": [
            "\n",
            "Training Loss: 0.001 Training Accuracy: 1.000\n",
            "Validation Loss: 5.581 Validation Accuracy: 0.719\n",
            "\n",
            " Epoch 39 / 400\n"
          ]
        },
        {
          "output_type": "stream",
          "name": "stderr",
          "text": [
            "100%|██████████| 5/5 [00:03<00:00,  1.63it/s, accuracy=1.0000]\n",
            "100%|██████████| 4/4 [00:02<00:00,  1.47it/s, accuracy=1.0000]\n"
          ]
        },
        {
          "output_type": "stream",
          "name": "stdout",
          "text": [
            "\n",
            "Training Loss: 0.001 Training Accuracy: 1.000\n",
            "Validation Loss: 4.862 Validation Accuracy: 0.719\n",
            "\n",
            " Epoch 40 / 400\n"
          ]
        },
        {
          "output_type": "stream",
          "name": "stderr",
          "text": [
            "100%|██████████| 5/5 [00:03<00:00,  1.64it/s, accuracy=1.0000]\n",
            "100%|██████████| 4/4 [00:02<00:00,  1.48it/s, accuracy=0.5000]\n"
          ]
        },
        {
          "output_type": "stream",
          "name": "stdout",
          "text": [
            "\n",
            "Training Loss: 0.001 Training Accuracy: 1.000\n",
            "Validation Loss: 5.300 Validation Accuracy: 0.562\n",
            "\n",
            " Epoch 41 / 400\n"
          ]
        },
        {
          "output_type": "stream",
          "name": "stderr",
          "text": [
            "100%|██████████| 5/5 [00:03<00:00,  1.64it/s, accuracy=1.0000]\n",
            "100%|██████████| 4/4 [00:02<00:00,  1.47it/s, accuracy=1.0000]\n"
          ]
        },
        {
          "output_type": "stream",
          "name": "stdout",
          "text": [
            "\n",
            "Training Loss: 0.001 Training Accuracy: 1.000\n",
            "Validation Loss: 4.986 Validation Accuracy: 0.656\n",
            "\n",
            " Epoch 42 / 400\n"
          ]
        },
        {
          "output_type": "stream",
          "name": "stderr",
          "text": [
            "100%|██████████| 5/5 [00:03<00:00,  1.64it/s, accuracy=1.0000]\n",
            "100%|██████████| 4/4 [00:02<00:00,  1.48it/s, accuracy=1.0000]\n"
          ]
        },
        {
          "output_type": "stream",
          "name": "stdout",
          "text": [
            "\n",
            "Training Loss: 0.000 Training Accuracy: 1.000\n",
            "Validation Loss: 5.249 Validation Accuracy: 0.656\n",
            "\n",
            " Epoch 43 / 400\n"
          ]
        },
        {
          "output_type": "stream",
          "name": "stderr",
          "text": [
            "100%|██████████| 5/5 [00:03<00:00,  1.64it/s, accuracy=1.0000]\n",
            "100%|██████████| 4/4 [00:02<00:00,  1.48it/s, accuracy=1.0000]\n"
          ]
        },
        {
          "output_type": "stream",
          "name": "stdout",
          "text": [
            "\n",
            "Training Loss: 0.000 Training Accuracy: 1.000\n",
            "Validation Loss: 5.292 Validation Accuracy: 0.656\n",
            "\n",
            " Epoch 44 / 400\n"
          ]
        },
        {
          "output_type": "stream",
          "name": "stderr",
          "text": [
            "100%|██████████| 5/5 [00:03<00:00,  1.64it/s, accuracy=1.0000]\n",
            "100%|██████████| 4/4 [00:02<00:00,  1.47it/s, accuracy=1.0000]\n"
          ]
        },
        {
          "output_type": "stream",
          "name": "stdout",
          "text": [
            "\n",
            "Training Loss: 0.001 Training Accuracy: 1.000\n",
            "Validation Loss: 5.632 Validation Accuracy: 0.656\n",
            "\n",
            " Epoch 45 / 400\n"
          ]
        },
        {
          "output_type": "stream",
          "name": "stderr",
          "text": [
            "100%|██████████| 5/5 [00:03<00:00,  1.64it/s, accuracy=1.0000]\n",
            "100%|██████████| 4/4 [00:02<00:00,  1.48it/s, accuracy=0.5000]\n"
          ]
        },
        {
          "output_type": "stream",
          "name": "stdout",
          "text": [
            "\n",
            "Training Loss: 0.000 Training Accuracy: 1.000\n",
            "Validation Loss: 6.553 Validation Accuracy: 0.562\n",
            "\n",
            " Epoch 46 / 400\n"
          ]
        },
        {
          "output_type": "stream",
          "name": "stderr",
          "text": [
            "100%|██████████| 5/5 [00:03<00:00,  1.64it/s, accuracy=1.0000]\n",
            "100%|██████████| 4/4 [00:02<00:00,  1.47it/s, accuracy=1.0000]\n"
          ]
        },
        {
          "output_type": "stream",
          "name": "stdout",
          "text": [
            "\n",
            "Training Loss: 0.000 Training Accuracy: 1.000\n",
            "Validation Loss: 5.896 Validation Accuracy: 0.656\n",
            "\n",
            " Epoch 47 / 400\n"
          ]
        },
        {
          "output_type": "stream",
          "name": "stderr",
          "text": [
            "100%|██████████| 5/5 [00:03<00:00,  1.65it/s, accuracy=1.0000]\n",
            "100%|██████████| 4/4 [00:02<00:00,  1.48it/s, accuracy=0.0000]\n"
          ]
        },
        {
          "output_type": "stream",
          "name": "stdout",
          "text": [
            "\n",
            "Training Loss: 0.000 Training Accuracy: 1.000\n",
            "Validation Loss: 8.052 Validation Accuracy: 0.469\n",
            "\n",
            " Epoch 48 / 400\n"
          ]
        },
        {
          "output_type": "stream",
          "name": "stderr",
          "text": [
            "100%|██████████| 5/5 [00:03<00:00,  1.65it/s, accuracy=1.0000]\n",
            "100%|██████████| 4/4 [00:02<00:00,  1.48it/s, accuracy=0.0000]\n"
          ]
        },
        {
          "output_type": "stream",
          "name": "stdout",
          "text": [
            "\n",
            "Training Loss: 0.000 Training Accuracy: 1.000\n",
            "Validation Loss: 12.002 Validation Accuracy: 0.469\n",
            "\n",
            " Epoch 49 / 400\n"
          ]
        },
        {
          "output_type": "stream",
          "name": "stderr",
          "text": [
            "100%|██████████| 5/5 [00:03<00:00,  1.64it/s, accuracy=1.0000]\n",
            "100%|██████████| 4/4 [00:02<00:00,  1.48it/s, accuracy=0.5000]\n"
          ]
        },
        {
          "output_type": "stream",
          "name": "stdout",
          "text": [
            "\n",
            "Training Loss: 0.000 Training Accuracy: 1.000\n",
            "Validation Loss: 9.162 Validation Accuracy: 0.562\n",
            "\n",
            " Epoch 50 / 400\n"
          ]
        },
        {
          "output_type": "stream",
          "name": "stderr",
          "text": [
            "100%|██████████| 5/5 [00:03<00:00,  1.65it/s, accuracy=1.0000]\n",
            "100%|██████████| 4/4 [00:02<00:00,  1.48it/s, accuracy=0.5000]\n"
          ]
        },
        {
          "output_type": "stream",
          "name": "stdout",
          "text": [
            "\n",
            "Training Loss: 0.000 Training Accuracy: 1.000\n",
            "Validation Loss: 7.692 Validation Accuracy: 0.562\n",
            "\n",
            " Epoch 51 / 400\n"
          ]
        },
        {
          "output_type": "stream",
          "name": "stderr",
          "text": [
            "100%|██████████| 5/5 [00:03<00:00,  1.64it/s, accuracy=1.0000]\n",
            "100%|██████████| 4/4 [00:02<00:00,  1.48it/s, accuracy=1.0000]\n"
          ]
        },
        {
          "output_type": "stream",
          "name": "stdout",
          "text": [
            "\n",
            "Training Loss: 0.000 Training Accuracy: 1.000\n",
            "Validation Loss: 6.307 Validation Accuracy: 0.656\n",
            "\n",
            " Epoch 52 / 400\n"
          ]
        },
        {
          "output_type": "stream",
          "name": "stderr",
          "text": [
            "100%|██████████| 5/5 [00:03<00:00,  1.65it/s, accuracy=1.0000]\n",
            "100%|██████████| 4/4 [00:02<00:00,  1.48it/s, accuracy=1.0000]\n"
          ]
        },
        {
          "output_type": "stream",
          "name": "stdout",
          "text": [
            "\n",
            "Training Loss: 0.000 Training Accuracy: 1.000\n",
            "Validation Loss: 6.331 Validation Accuracy: 0.656\n",
            "\n",
            " Epoch 53 / 400\n"
          ]
        },
        {
          "output_type": "stream",
          "name": "stderr",
          "text": [
            "100%|██████████| 5/5 [00:03<00:00,  1.65it/s, accuracy=1.0000]\n",
            "100%|██████████| 4/4 [00:02<00:00,  1.47it/s, accuracy=0.5000]\n"
          ]
        },
        {
          "output_type": "stream",
          "name": "stdout",
          "text": [
            "\n",
            "Training Loss: 0.000 Training Accuracy: 1.000\n",
            "Validation Loss: 9.528 Validation Accuracy: 0.562\n",
            "\n",
            " Epoch 54 / 400\n"
          ]
        },
        {
          "output_type": "stream",
          "name": "stderr",
          "text": [
            "100%|██████████| 5/5 [00:03<00:00,  1.65it/s, accuracy=1.0000]\n",
            "100%|██████████| 4/4 [00:02<00:00,  1.47it/s, accuracy=0.5000]\n"
          ]
        },
        {
          "output_type": "stream",
          "name": "stdout",
          "text": [
            "\n",
            "Training Loss: 0.000 Training Accuracy: 1.000\n",
            "Validation Loss: 7.582 Validation Accuracy: 0.562\n",
            "\n",
            " Epoch 55 / 400\n"
          ]
        },
        {
          "output_type": "stream",
          "name": "stderr",
          "text": [
            "100%|██████████| 5/5 [00:03<00:00,  1.65it/s, accuracy=1.0000]\n",
            "100%|██████████| 4/4 [00:02<00:00,  1.48it/s, accuracy=0.5000]\n"
          ]
        },
        {
          "output_type": "stream",
          "name": "stdout",
          "text": [
            "\n",
            "Training Loss: 0.000 Training Accuracy: 1.000\n",
            "Validation Loss: 7.776 Validation Accuracy: 0.562\n",
            "\n",
            " Epoch 56 / 400\n"
          ]
        },
        {
          "output_type": "stream",
          "name": "stderr",
          "text": [
            "100%|██████████| 5/5 [00:03<00:00,  1.65it/s, accuracy=1.0000]\n",
            "100%|██████████| 4/4 [00:02<00:00,  1.48it/s, accuracy=1.0000]\n"
          ]
        },
        {
          "output_type": "stream",
          "name": "stdout",
          "text": [
            "\n",
            "Training Loss: 0.000 Training Accuracy: 1.000\n",
            "Validation Loss: 6.386 Validation Accuracy: 0.656\n",
            "\n",
            " Epoch 57 / 400\n"
          ]
        },
        {
          "output_type": "stream",
          "name": "stderr",
          "text": [
            "100%|██████████| 5/5 [00:03<00:00,  1.65it/s, accuracy=1.0000]\n",
            "100%|██████████| 4/4 [00:02<00:00,  1.47it/s, accuracy=1.0000]\n"
          ]
        },
        {
          "output_type": "stream",
          "name": "stdout",
          "text": [
            "\n",
            "Training Loss: 0.000 Training Accuracy: 1.000\n",
            "Validation Loss: 6.417 Validation Accuracy: 0.656\n",
            "\n",
            " Epoch 58 / 400\n"
          ]
        },
        {
          "output_type": "stream",
          "name": "stderr",
          "text": [
            "100%|██████████| 5/5 [00:03<00:00,  1.63it/s, accuracy=1.0000]\n",
            "100%|██████████| 4/4 [00:02<00:00,  1.48it/s, accuracy=0.0000]\n"
          ]
        },
        {
          "output_type": "stream",
          "name": "stdout",
          "text": [
            "\n",
            "Training Loss: 0.000 Training Accuracy: 1.000\n",
            "Validation Loss: 11.011 Validation Accuracy: 0.469\n",
            "\n",
            " Epoch 59 / 400\n"
          ]
        },
        {
          "output_type": "stream",
          "name": "stderr",
          "text": [
            "100%|██████████| 5/5 [00:03<00:00,  1.65it/s, accuracy=1.0000]\n",
            "100%|██████████| 4/4 [00:02<00:00,  1.48it/s, accuracy=1.0000]\n"
          ]
        },
        {
          "output_type": "stream",
          "name": "stdout",
          "text": [
            "\n",
            "Training Loss: 0.000 Training Accuracy: 1.000\n",
            "Validation Loss: 6.321 Validation Accuracy: 0.656\n",
            "\n",
            " Epoch 60 / 400\n"
          ]
        },
        {
          "output_type": "stream",
          "name": "stderr",
          "text": [
            "100%|██████████| 5/5 [00:03<00:00,  1.64it/s, accuracy=1.0000]\n",
            "100%|██████████| 4/4 [00:02<00:00,  1.47it/s, accuracy=0.5000]\n"
          ]
        },
        {
          "output_type": "stream",
          "name": "stdout",
          "text": [
            "\n",
            "Training Loss: 0.000 Training Accuracy: 1.000\n",
            "Validation Loss: 7.683 Validation Accuracy: 0.562\n",
            "\n",
            " Epoch 61 / 400\n"
          ]
        },
        {
          "output_type": "stream",
          "name": "stderr",
          "text": [
            "100%|██████████| 5/5 [00:03<00:00,  1.65it/s, accuracy=1.0000]\n",
            "100%|██████████| 4/4 [00:02<00:00,  1.48it/s, accuracy=0.5000]\n"
          ]
        },
        {
          "output_type": "stream",
          "name": "stdout",
          "text": [
            "\n",
            "Training Loss: 0.000 Training Accuracy: 1.000\n",
            "Validation Loss: 8.070 Validation Accuracy: 0.562\n",
            "\n",
            " Epoch 62 / 400\n"
          ]
        },
        {
          "output_type": "stream",
          "name": "stderr",
          "text": [
            "100%|██████████| 5/5 [00:03<00:00,  1.64it/s, accuracy=1.0000]\n",
            "100%|██████████| 4/4 [00:02<00:00,  1.47it/s, accuracy=0.5000]\n"
          ]
        },
        {
          "output_type": "stream",
          "name": "stdout",
          "text": [
            "\n",
            "Training Loss: 0.000 Training Accuracy: 1.000\n",
            "Validation Loss: 7.099 Validation Accuracy: 0.562\n",
            "\n",
            " Epoch 63 / 400\n"
          ]
        },
        {
          "output_type": "stream",
          "name": "stderr",
          "text": [
            "100%|██████████| 5/5 [00:03<00:00,  1.64it/s, accuracy=1.0000]\n",
            "100%|██████████| 4/4 [00:02<00:00,  1.47it/s, accuracy=0.5000]\n"
          ]
        },
        {
          "output_type": "stream",
          "name": "stdout",
          "text": [
            "\n",
            "Training Loss: 0.000 Training Accuracy: 1.000\n",
            "Validation Loss: 8.271 Validation Accuracy: 0.562\n",
            "\n",
            " Epoch 64 / 400\n"
          ]
        },
        {
          "output_type": "stream",
          "name": "stderr",
          "text": [
            "100%|██████████| 5/5 [00:03<00:00,  1.65it/s, accuracy=1.0000]\n",
            "100%|██████████| 4/4 [00:02<00:00,  1.47it/s, accuracy=0.5000]\n"
          ]
        },
        {
          "output_type": "stream",
          "name": "stdout",
          "text": [
            "\n",
            "Training Loss: 0.000 Training Accuracy: 1.000\n",
            "Validation Loss: 10.064 Validation Accuracy: 0.562\n",
            "\n",
            " Epoch 65 / 400\n"
          ]
        },
        {
          "output_type": "stream",
          "name": "stderr",
          "text": [
            "100%|██████████| 5/5 [00:03<00:00,  1.63it/s, accuracy=0.9875]\n",
            "100%|██████████| 4/4 [00:02<00:00,  1.48it/s, accuracy=0.5000]\n"
          ]
        },
        {
          "output_type": "stream",
          "name": "stdout",
          "text": [
            "\n",
            "Training Loss: 0.002 Training Accuracy: 0.998\n",
            "Validation Loss: 7.444 Validation Accuracy: 0.562\n",
            "\n",
            " Epoch 66 / 400\n"
          ]
        },
        {
          "output_type": "stream",
          "name": "stderr",
          "text": [
            " 20%|██        | 1/5 [00:01<00:04,  1.20s/it, accuracy=1.0000]\n"
          ]
        }
      ]
    },
    {
      "cell_type": "code",
      "source": [
        "import matplotlib.pyplot as plt\n",
        "\n",
        "def plot_metrics(train_accuracies, train_losses, valid_accuracies, valid_losses):\n",
        "    # plot train and valid accuracy on the same plot\n",
        "    plt.figure(figsize=(8,4))\n",
        "    plt.plot(train_accuracies, label='Train Accuracy')\n",
        "    plt.plot(valid_accuracies, label='Valid Accuracy')\n",
        "    plt.xlabel('Steps (x4)')\n",
        "    plt.ylabel('Accuracy')\n",
        "    plt.title('Train and Valid Accuracy')\n",
        "    plt.grid()\n",
        "    plt.legend()\n",
        "    plt.savefig('accuracy.png')\n",
        "    plt.show()\n",
        "\n",
        "    # plot train and valid loss on the same plot\n",
        "    plt.figure(figsize=(8,4))\n",
        "    plt.plot(train_losses, label='Train Loss')\n",
        "    plt.plot(valid_losses, label='Valid Loss')\n",
        "    plt.xlabel('Steps (x4)')\n",
        "    plt.ylabel('Loss')\n",
        "    plt.title('Train and Valid Loss')\n",
        "    plt.grid()\n",
        "    plt.legend()\n",
        "    plt.savefig('loss.png')\n",
        "    plt.show()\n",
        "\n",
        "plot_metrics(*history)"
      ],
      "metadata": {
        "colab": {
          "base_uri": "https://localhost:8080/",
          "height": 803
        },
        "id": "VXL832qIPC0A",
        "outputId": "7fcd79bd-e550-4cca-d8f2-2383002a8c5d"
      },
      "execution_count": 27,
      "outputs": [
        {
          "output_type": "display_data",
          "data": {
            "text/plain": [
              "<Figure size 800x400 with 1 Axes>"
            ],
            "image/png": "[encoded data removed]"
          },
          "metadata": {}
        },
        {
          "output_type": "display_data",
          "data": {
            "text/plain": [
              "<Figure size 800x400 with 1 Axes>"
            ],
            "image/png": "[encoded data removed]"
          },
          "metadata": {}
        }
      ]
    },
    {
      "cell_type": "code",
      "source": [
        "def save_prototypes(input_examples, model, tokenizer, output_name, tokenizer_length=100):\n",
        "  proto_examples, proto_labels = input_examples\n",
        "  proto_dict = {label:[] for label in list(set(proto_labels))}\n",
        "  with torch.no_grad():\n",
        "    for data in proto_examples:\n",
        "      feature = tokenizer.encode_plus(\n",
        "                data.text,\n",
        "                max_length = tokenizer_length,\n",
        "                padding='max_length',\n",
        "                truncation=True,\n",
        "                return_attention_mask=True,\n",
        "                return_token_type_ids=False,\n",
        "                add_special_tokens = True,\n",
        "                return_tensors = 'pt',\n",
        "                )\n",
        "      input_ids = feature['input_ids'].to(device)\n",
        "      input_ids_shape = input_ids.size()\n",
        "      attention_mask = feature['attention_mask'].to(device)\n",
        "      input_ids = input_ids.view(1,1,*input_ids_shape)  \n",
        "      attention_mask = attention_mask.view(1,1,*input_ids_shape)\n",
        "      input_embeding = model(input_ids, attention_mask)\n",
        "      proto_dict[data.label].append(input_embeding)\n",
        "  for key, value in proto_dict.items():\n",
        "    proto_dict[key] = torch.mean(torch.cat(value, dim=1),1)\n",
        "  torch.save({\n",
        "      'model_state_dic': model.state_dict(),\n",
        "      'prototypes': proto_dict\n",
        "    }, output_name)\n",
        "\n",
        "# bert = AutoModel.from_pretrained('yiyanghkust/finbert-tone')\n",
        "# tokenizer = BertTokenizerFast.from_pretrained('yiyanghkust/finbert-tone',do_lower_case=True)\n",
        "output_file_name = \"weights.pth\"\n",
        "model = PrototypicalNetwork(bert)\n",
        "state_dict = torch.load('saved_weights.pt')\n",
        "model.load_state_dict(state_dict)\n",
        "model.to(device)\n",
        "save_prototypes(train_examples, model, tokenizer, output_file_name, tokenizer_length)"
      ],
      "metadata": {
        "id": "dGi28FYgBM23"
      },
      "execution_count": 23,
      "outputs": []
    },
    {
      "cell_type": "code",
      "source": [
        "def evaluating(tokenizer_length,n_ways, k_shots):\n",
        "  # Example usage:\n",
        "  crypto_data = CryptocurrencyDatasetEval(train_examples,val_examples, tokenizer, tokenizer_length, n_ways, k_shots)\n",
        "  data_loader = DataLoader(crypto_data, batch_size=5, shuffle=False)\n",
        "  \n",
        "  valid_loss, valid_accuracy, labels, predicted_labels = test(model, data_loader)\n",
        "  labels = [crypto_data.id_to_proto_classes[i] for i in labels]\n",
        "  predicted_labels = [crypto_data.id_to_proto_classes[i] for i in predicted_labels]\n",
        "  print(classification_report(labels, predicted_labels))\n",
        "  print(valid_loss, valid_accuracy)\n"
      ],
      "metadata": {
        "id": "YCSQXb6mMzEp"
      },
      "execution_count": null,
      "outputs": []
    },
    {
      "cell_type": "code",
      "source": [
        "model = PrototypicalNetwork(bert)\n",
        "state_dict = torch.load('saved_weights.pt')\n",
        "model.load_state_dict(state_dict)\n",
        "model.to(device)\n",
        "evaluating(tokenizer_length, n_ways, k_shots=10)"
      ],
      "metadata": {
        "id": "TkDP95livrZf",
        "colab": {
          "base_uri": "https://localhost:8080/"
        },
        "outputId": "5308ec24-3a28-47eb-8782-c697faa19a07"
      },
      "execution_count": null,
      "outputs": [
        {
          "output_type": "stream",
          "name": "stderr",
          "text": [
            "100%|██████████| 6/6 [00:05<00:00,  1.09it/s, accuracy=0.0000]"
          ]
        },
        {
          "output_type": "stream",
          "name": "stdout",
          "text": [
            "                       precision    recall  f1-score   support\n",
            "\n",
            "          advertising       1.00      0.50      0.67         8\n",
            "         announcement       0.43      1.00      0.60         3\n",
            "financial information       0.86      0.67      0.75         9\n",
            "   subjective opinion       0.50      0.67      0.57         6\n",
            "\n",
            "             accuracy                           0.65        26\n",
            "            macro avg       0.70      0.71      0.65        26\n",
            "         weighted avg       0.77      0.65      0.67        26\n",
            "\n",
            "10.179399490356445 0.5666666825612386\n"
          ]
        },
        {
          "output_type": "stream",
          "name": "stderr",
          "text": [
            "\n"
          ]
        }
      ]
    },
    {
      "cell_type": "code",
      "source": [
        "model = PrototypicalNetwork(bert)\n",
        "state_dict = torch.load('saved_weights_a.pt')\n",
        "model.load_state_dict(state_dict)\n",
        "model.to(device)\n",
        "evaluating(tokenizer_length, n_ways, k_shots=10)"
      ],
      "metadata": {
        "colab": {
          "base_uri": "https://localhost:8080/"
        },
        "id": "iX_XWIfeKTeq",
        "outputId": "0b629d50-d419-4c84-9b91-1ec183891dc9"
      },
      "execution_count": null,
      "outputs": [
        {
          "output_type": "stream",
          "name": "stderr",
          "text": [
            "100%|██████████| 6/6 [00:01<00:00,  3.84it/s, accuracy=1.0000]"
          ]
        },
        {
          "output_type": "stream",
          "name": "stdout",
          "text": [
            "                       precision    recall  f1-score   support\n",
            "\n",
            "          advertising       1.00      0.25      0.40         8\n",
            "         announcement       0.33      1.00      0.50         3\n",
            "financial information       1.00      0.67      0.80         9\n",
            "   subjective opinion       0.44      0.67      0.53         6\n",
            "\n",
            "             accuracy                           0.58        26\n",
            "            macro avg       0.69      0.65      0.56        26\n",
            "         weighted avg       0.79      0.58      0.58        26\n",
            "\n",
            "2.9677700890849033 0.6333333452542623\n"
          ]
        },
        {
          "output_type": "stream",
          "name": "stderr",
          "text": [
            "\n"
          ]
        }
      ]
    },
    {
      "cell_type": "markdown",
      "source": [
        "# PAM"
      ],
      "metadata": {
        "id": "2X5Drxwus51Q"
      }
    },
    {
      "cell_type": "code",
      "source": [
        "# import torch.nn.functional as F\n",
        "\n",
        "def get_accuracyy(prototypes, embeddings):\n",
        "    \"\"\"Compute the accuracy of the prototypical network on the test/query points.\n",
        "    Parameters\n",
        "    ----------\n",
        "    prototypes : `torch.FloatTensor` instance\n",
        "        A tensor containing the prototypes for each class. This tensor has shape \n",
        "        `(meta_batch_size, num_classes, embedding_size)`.\n",
        "    embeddings : `torch.FloatTensor` instance\n",
        "        A tensor containing the embeddings of the query points. This tensor has \n",
        "        shape `(meta_batch_size, num_examples, embedding_size)`.\n",
        "    Returns\n",
        "    -------\n",
        "    probability : `torch.FloatTensor` instance\n",
        "    index of probability:    torch.Int\n",
        "    \"\"\"\n",
        "    # Calcula la distancia euclidiana entre cada prototipo y las incrustaciones de las muestras de consulta\n",
        "    distances = torch.sum((prototypes.unsqueeze(1)\n",
        "        - embeddings.unsqueeze(2)) ** 2, dim=-1)\n",
        "    \n",
        "    # Calcula la probabilidad mediante la aplicación de Softmax sobre la negación de las distancias\n",
        "    neg_distances = -distances\n",
        "    probability = F.softmax(neg_distances, dim=-1)\n",
        "    \n",
        "    # Encuentra la clase predicha para cada muestra de consulta\n",
        "    y_hat, index = torch.max(probability, dim=-1)\n",
        "\n",
        "    return y_hat, index\n"
      ],
      "metadata": {
        "id": "5J7tKGLECNHL"
      },
      "execution_count": 24,
      "outputs": []
    },
    {
      "cell_type": "code",
      "source": [
        "class InputExample(object):\n",
        "  def __init__(self, twitter_id, text, label='unk'):\n",
        "    self.twitter_id = twitter_id\n",
        "    self.text = text\n",
        "    self.label = label\n",
        "      \n",
        "def read_examples(input_file, max_length=100):\n",
        "  examples = []\n",
        "  labels = []\n",
        "  with open(input_file, 'r') as f:\n",
        "    for line in f:\n",
        "      obj = json.loads(line)\n",
        "      text = [text['text'] for text in obj['texts']]\n",
        "      text = ' '.join(text)\n",
        "      text = preprocess_text(text)\n",
        "      text_split = text.split()\n",
        "      text_length = len(text_split)\n",
        "      new_text = []\n",
        "      for i in range(math.ceil(text_length/max_length)):\n",
        "        if (i+1)*max_length>= text_length:\n",
        "          new_text.append(' '.join(text_split[-max_length:]))\n",
        "        else:\n",
        "          new_text.append(' '.join(text_split[i*max_length:(i+1)*max_length]))\n",
        "      label = 'unk'\n",
        "      if 'class' in obj:\n",
        "        label = obj['class']\n",
        "      labels.append(label)\n",
        "      if len(new_text)==0:\n",
        "        new_text.append(\"\")\n",
        "      examples.append(InputExample(twitter_id=obj['twitter user id'], text=new_text, label=label))\n",
        "  return examples, labels\n",
        "\n",
        "def load_prototypes(proto_dict):\n",
        "  # proto_dict = torch.load(file_name)\n",
        "  proto_stack = torch.stack(list(proto_dict.values()), dim=1)\n",
        "  labels = list(proto_dict.keys())\n",
        "  return proto_stack, labels"
      ],
      "metadata": {
        "id": "EvJYfKQLCNML"
      },
      "execution_count": 25,
      "outputs": []
    },
    {
      "cell_type": "code",
      "source": [
        "# tokenizer_length = 100\n",
        "#Load tokenizer\n",
        "# bert = AutoModel.from_pretrained('yiyanghkust/finbert-tone')\n",
        "# tokenizer = BertTokenizerFast.from_pretrained('yiyanghkust/finbert-tone',do_lower_case=True)\n",
        "# Initialize Model\n",
        "model = PrototypicalNetwork(bert)\n",
        "# state_dict = torch.jit.load('./task1/saved_weights.pt')\n",
        "# state_dict = torch.load('./saved_weights.pt', map_location=torch.device('cpu'))\n",
        "checkpoint = torch.load('./weights.pth')\n",
        "model.load_state_dict(checkpoint['model_state_dic'])\n",
        "\n",
        "model.to(device)\n",
        "model.eval()\n",
        "\n",
        "# Read example files\n",
        "examples, _ = read_examples('./val.json')\n",
        "y_hats = []\n",
        "y = []\n",
        "results = []\n",
        "with torch.no_grad():\n",
        "  prototypes, labels = load_prototypes(checkpoint['prototypes'])\n",
        "  for i, example in enumerate(examples):\n",
        "    encode = tokenizer.batch_encode_plus(\n",
        "                example.text,\n",
        "                max_length = tokenizer_length,\n",
        "                padding='max_length',\n",
        "                truncation=True,\n",
        "                return_attention_mask=True,\n",
        "                return_token_type_ids=False,\n",
        "                add_special_tokens = True,\n",
        "                return_tensors = 'pt',\n",
        "                )\n",
        "    input_ids = encode['input_ids'].to(device)\n",
        "    input_ids_shape = input_ids.size()\n",
        "    attention_mask = encode['attention_mask'].to(device)\n",
        "    input_ids = input_ids.view(1,1,*input_ids_shape)  \n",
        "    attention_mask = attention_mask.view(1,1,*input_ids_shape)\n",
        "    input_embeding = model(input_ids, attention_mask)\n",
        "    input_embeding = torch.mean(input_embeding, 1, keepdim=True)  \n",
        "    y_hat, y_hat_id = get_accuracyy(prototypes, input_embeding)\n",
        "    # print(y_hat.item(), labels[y_hat_id.item()])\n",
        "    y_hats.append(labels[y_hat_id.item()])\n",
        "    y.append(example.label)\n",
        "    results.append({\"twitter user id\":example.twitter_id, \"class\":labels[y_hat_id.item()], \"probability\":round(y_hat.item(),3)})\n",
        "\n",
        "with open('subtask1.json', 'w', encoding='utf-8') as f:\n",
        "  for obj in results:\n",
        "    f.write(json.dumps(obj))\n",
        "    f.write('\\n')\n",
        "  f.close()\n",
        "print(classification_report(y, y_hats))"
      ],
      "metadata": {
        "colab": {
          "base_uri": "https://localhost:8080/"
        },
        "id": "kLxkU41DCNSB",
        "outputId": "4ac600df-d150-4e3f-b020-b6718a8ff2ca"
      },
      "execution_count": 26,
      "outputs": [
        {
          "output_type": "stream",
          "name": "stdout",
          "text": [
            "                       precision    recall  f1-score   support\n",
            "\n",
            "          advertising       0.71      0.62      0.67         8\n",
            "         announcement       0.60      1.00      0.75         3\n",
            "financial information       1.00      0.78      0.88         9\n",
            "   subjective opinion       0.57      0.67      0.62         6\n",
            "\n",
            "             accuracy                           0.73        26\n",
            "            macro avg       0.72      0.77      0.73        26\n",
            "         weighted avg       0.77      0.73      0.74        26\n",
            "\n"
          ]
        }
      ]
    },
    {
      "cell_type": "code",
      "source": [],
      "metadata": {
        "id": "i6lwQXWdw4so"
      },
      "execution_count": null,
      "outputs": []
    }
  ]
}