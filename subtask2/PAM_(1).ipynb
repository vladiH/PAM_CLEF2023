{
  "nbformat": 4,
  "nbformat_minor": 0,
  "metadata": {
    "colab": {
      "provenance": [],
      "gpuType": "T4"
    },
    "kernelspec": {
      "name": "python3",
      "display_name": "Python 3"
    },
    "language_info": {
      "name": "python"
    },
    "gpuClass": "standard",
    "accelerator": "GPU",
    "widgets": {
      "application/vnd.jupyter.widget-state+json": {
        "5c11f60c7363461dbad26d0690d03f41": {
          "model_module": "@jupyter-widgets/controls",
          "model_name": "HBoxModel",
          "model_module_version": "1.5.0",
          "state": {
            "_dom_classes": [],
            "_model_module": "@jupyter-widgets/controls",
            "_model_module_version": "1.5.0",
            "_model_name": "HBoxModel",
            "_view_count": null,
            "_view_module": "@jupyter-widgets/controls",
            "_view_module_version": "1.5.0",
            "_view_name": "HBoxView",
            "box_style": "",
            "children": [
              "IPY_MODEL_7c87c81f8b264e8e96f1336ff9db9238",
              "IPY_MODEL_bdb42b4f63e24bcdb7acfb6510d627ad",
              "IPY_MODEL_0df798dd6f7445eca366e6026cb4bef9"
            ],
            "layout": "IPY_MODEL_179aa035e17f493e94379d610c4810ee"
          }
        },
        "7c87c81f8b264e8e96f1336ff9db9238": {
          "model_module": "@jupyter-widgets/controls",
          "model_name": "HTMLModel",
          "model_module_version": "1.5.0",
          "state": {
            "_dom_classes": [],
            "_model_module": "@jupyter-widgets/controls",
            "_model_module_version": "1.5.0",
            "_model_name": "HTMLModel",
            "_view_count": null,
            "_view_module": "@jupyter-widgets/controls",
            "_view_module_version": "1.5.0",
            "_view_name": "HTMLView",
            "description": "",
            "description_tooltip": null,
            "layout": "IPY_MODEL_69e9593e3c2e4fc29668a41004da2ecb",
            "placeholder": "​",
            "style": "IPY_MODEL_f21db790f3c8482cb9a0dd42c99d6b04",
            "value": "Downloading (…)lve/main/config.json: 100%"
          }
        },
        "bdb42b4f63e24bcdb7acfb6510d627ad": {
          "model_module": "@jupyter-widgets/controls",
          "model_name": "FloatProgressModel",
          "model_module_version": "1.5.0",
          "state": {
            "_dom_classes": [],
            "_model_module": "@jupyter-widgets/controls",
            "_model_module_version": "1.5.0",
            "_model_name": "FloatProgressModel",
            "_view_count": null,
            "_view_module": "@jupyter-widgets/controls",
            "_view_module_version": "1.5.0",
            "_view_name": "ProgressView",
            "bar_style": "success",
            "description": "",
            "description_tooltip": null,
            "layout": "IPY_MODEL_42115fe696d34aa793a8a74a6cf14d0c",
            "max": 385,
            "min": 0,
            "orientation": "horizontal",
            "style": "IPY_MODEL_a61799ed3692417ab08a66d1ce4e296d",
            "value": 385
          }
        },
        "0df798dd6f7445eca366e6026cb4bef9": {
          "model_module": "@jupyter-widgets/controls",
          "model_name": "HTMLModel",
          "model_module_version": "1.5.0",
          "state": {
            "_dom_classes": [],
            "_model_module": "@jupyter-widgets/controls",
            "_model_module_version": "1.5.0",
            "_model_name": "HTMLModel",
            "_view_count": null,
            "_view_module": "@jupyter-widgets/controls",
            "_view_module_version": "1.5.0",
            "_view_name": "HTMLView",
            "description": "",
            "description_tooltip": null,
            "layout": "IPY_MODEL_495628fe384842f9b457fba803707faa",
            "placeholder": "​",
            "style": "IPY_MODEL_13e1dcf2fac845578e09f702be43167b",
            "value": " 385/385 [00:00&lt;00:00, 22.3kB/s]"
          }
        },
        "179aa035e17f493e94379d610c4810ee": {
          "model_module": "@jupyter-widgets/base",
          "model_name": "LayoutModel",
          "model_module_version": "1.2.0",
          "state": {
            "_model_module": "@jupyter-widgets/base",
            "_model_module_version": "1.2.0",
            "_model_name": "LayoutModel",
            "_view_count": null,
            "_view_module": "@jupyter-widgets/base",
            "_view_module_version": "1.2.0",
            "_view_name": "LayoutView",
            "align_content": null,
            "align_items": null,
            "align_self": null,
            "border": null,
            "bottom": null,
            "display": null,
            "flex": null,
            "flex_flow": null,
            "grid_area": null,
            "grid_auto_columns": null,
            "grid_auto_flow": null,
            "grid_auto_rows": null,
            "grid_column": null,
            "grid_gap": null,
            "grid_row": null,
            "grid_template_areas": null,
            "grid_template_columns": null,
            "grid_template_rows": null,
            "height": null,
            "justify_content": null,
            "justify_items": null,
            "left": null,
            "margin": null,
            "max_height": null,
            "max_width": null,
            "min_height": null,
            "min_width": null,
            "object_fit": null,
            "object_position": null,
            "order": null,
            "overflow": null,
            "overflow_x": null,
            "overflow_y": null,
            "padding": null,
            "right": null,
            "top": null,
            "visibility": null,
            "width": null
          }
        },
        "69e9593e3c2e4fc29668a41004da2ecb": {
          "model_module": "@jupyter-widgets/base",
          "model_name": "LayoutModel",
          "model_module_version": "1.2.0",
          "state": {
            "_model_module": "@jupyter-widgets/base",
            "_model_module_version": "1.2.0",
            "_model_name": "LayoutModel",
            "_view_count": null,
            "_view_module": "@jupyter-widgets/base",
            "_view_module_version": "1.2.0",
            "_view_name": "LayoutView",
            "align_content": null,
            "align_items": null,
            "align_self": null,
            "border": null,
            "bottom": null,
            "display": null,
            "flex": null,
            "flex_flow": null,
            "grid_area": null,
            "grid_auto_columns": null,
            "grid_auto_flow": null,
            "grid_auto_rows": null,
            "grid_column": null,
            "grid_gap": null,
            "grid_row": null,
            "grid_template_areas": null,
            "grid_template_columns": null,
            "grid_template_rows": null,
            "height": null,
            "justify_content": null,
            "justify_items": null,
            "left": null,
            "margin": null,
            "max_height": null,
            "max_width": null,
            "min_height": null,
            "min_width": null,
            "object_fit": null,
            "object_position": null,
            "order": null,
            "overflow": null,
            "overflow_x": null,
            "overflow_y": null,
            "padding": null,
            "right": null,
            "top": null,
            "visibility": null,
            "width": null
          }
        },
        "f21db790f3c8482cb9a0dd42c99d6b04": {
          "model_module": "@jupyter-widgets/controls",
          "model_name": "DescriptionStyleModel",
          "model_module_version": "1.5.0",
          "state": {
            "_model_module": "@jupyter-widgets/controls",
            "_model_module_version": "1.5.0",
            "_model_name": "DescriptionStyleModel",
            "_view_count": null,
            "_view_module": "@jupyter-widgets/base",
            "_view_module_version": "1.2.0",
            "_view_name": "StyleView",
            "description_width": ""
          }
        },
        "42115fe696d34aa793a8a74a6cf14d0c": {
          "model_module": "@jupyter-widgets/base",
          "model_name": "LayoutModel",
          "model_module_version": "1.2.0",
          "state": {
            "_model_module": "@jupyter-widgets/base",
            "_model_module_version": "1.2.0",
            "_model_name": "LayoutModel",
            "_view_count": null,
            "_view_module": "@jupyter-widgets/base",
            "_view_module_version": "1.2.0",
            "_view_name": "LayoutView",
            "align_content": null,
            "align_items": null,
            "align_self": null,
            "border": null,
            "bottom": null,
            "display": null,
            "flex": null,
            "flex_flow": null,
            "grid_area": null,
            "grid_auto_columns": null,
            "grid_auto_flow": null,
            "grid_auto_rows": null,
            "grid_column": null,
            "grid_gap": null,
            "grid_row": null,
            "grid_template_areas": null,
            "grid_template_columns": null,
            "grid_template_rows": null,
            "height": null,
            "justify_content": null,
            "justify_items": null,
            "left": null,
            "margin": null,
            "max_height": null,
            "max_width": null,
            "min_height": null,
            "min_width": null,
            "object_fit": null,
            "object_position": null,
            "order": null,
            "overflow": null,
            "overflow_x": null,
            "overflow_y": null,
            "padding": null,
            "right": null,
            "top": null,
            "visibility": null,
            "width": null
          }
        },
        "a61799ed3692417ab08a66d1ce4e296d": {
          "model_module": "@jupyter-widgets/controls",
          "model_name": "ProgressStyleModel",
          "model_module_version": "1.5.0",
          "state": {
            "_model_module": "@jupyter-widgets/controls",
            "_model_module_version": "1.5.0",
            "_model_name": "ProgressStyleModel",
            "_view_count": null,
            "_view_module": "@jupyter-widgets/base",
            "_view_module_version": "1.2.0",
            "_view_name": "StyleView",
            "bar_color": null,
            "description_width": ""
          }
        },
        "495628fe384842f9b457fba803707faa": {
          "model_module": "@jupyter-widgets/base",
          "model_name": "LayoutModel",
          "model_module_version": "1.2.0",
          "state": {
            "_model_module": "@jupyter-widgets/base",
            "_model_module_version": "1.2.0",
            "_model_name": "LayoutModel",
            "_view_count": null,
            "_view_module": "@jupyter-widgets/base",
            "_view_module_version": "1.2.0",
            "_view_name": "LayoutView",
            "align_content": null,
            "align_items": null,
            "align_self": null,
            "border": null,
            "bottom": null,
            "display": null,
            "flex": null,
            "flex_flow": null,
            "grid_area": null,
            "grid_auto_columns": null,
            "grid_auto_flow": null,
            "grid_auto_rows": null,
            "grid_column": null,
            "grid_gap": null,
            "grid_row": null,
            "grid_template_areas": null,
            "grid_template_columns": null,
            "grid_template_rows": null,
            "height": null,
            "justify_content": null,
            "justify_items": null,
            "left": null,
            "margin": null,
            "max_height": null,
            "max_width": null,
            "min_height": null,
            "min_width": null,
            "object_fit": null,
            "object_position": null,
            "order": null,
            "overflow": null,
            "overflow_x": null,
            "overflow_y": null,
            "padding": null,
            "right": null,
            "top": null,
            "visibility": null,
            "width": null
          }
        },
        "13e1dcf2fac845578e09f702be43167b": {
          "model_module": "@jupyter-widgets/controls",
          "model_name": "DescriptionStyleModel",
          "model_module_version": "1.5.0",
          "state": {
            "_model_module": "@jupyter-widgets/controls",
            "_model_module_version": "1.5.0",
            "_model_name": "DescriptionStyleModel",
            "_view_count": null,
            "_view_module": "@jupyter-widgets/base",
            "_view_module_version": "1.2.0",
            "_view_name": "StyleView",
            "description_width": ""
          }
        },
        "629806e2895045aeb4e09682309198df": {
          "model_module": "@jupyter-widgets/controls",
          "model_name": "HBoxModel",
          "model_module_version": "1.5.0",
          "state": {
            "_dom_classes": [],
            "_model_module": "@jupyter-widgets/controls",
            "_model_module_version": "1.5.0",
            "_model_name": "HBoxModel",
            "_view_count": null,
            "_view_module": "@jupyter-widgets/controls",
            "_view_module_version": "1.5.0",
            "_view_name": "HBoxView",
            "box_style": "",
            "children": [
              "IPY_MODEL_ea1c3b17c60446a2941f98ff20d29c15",
              "IPY_MODEL_83bb2ce5fbf14258b6582b616f430753",
              "IPY_MODEL_0f52cb574db34d07b967ceae1d7c4a10"
            ],
            "layout": "IPY_MODEL_dd84727e9bb141c1b5c028ae0c0374a8"
          }
        },
        "ea1c3b17c60446a2941f98ff20d29c15": {
          "model_module": "@jupyter-widgets/controls",
          "model_name": "HTMLModel",
          "model_module_version": "1.5.0",
          "state": {
            "_dom_classes": [],
            "_model_module": "@jupyter-widgets/controls",
            "_model_module_version": "1.5.0",
            "_model_name": "HTMLModel",
            "_view_count": null,
            "_view_module": "@jupyter-widgets/controls",
            "_view_module_version": "1.5.0",
            "_view_name": "HTMLView",
            "description": "",
            "description_tooltip": null,
            "layout": "IPY_MODEL_39e368bbd4f3465b93c4e02a5f273f79",
            "placeholder": "​",
            "style": "IPY_MODEL_9e584705acf543e399f540ac9e827861",
            "value": "Downloading pytorch_model.bin: 100%"
          }
        },
        "83bb2ce5fbf14258b6582b616f430753": {
          "model_module": "@jupyter-widgets/controls",
          "model_name": "FloatProgressModel",
          "model_module_version": "1.5.0",
          "state": {
            "_dom_classes": [],
            "_model_module": "@jupyter-widgets/controls",
            "_model_module_version": "1.5.0",
            "_model_name": "FloatProgressModel",
            "_view_count": null,
            "_view_module": "@jupyter-widgets/controls",
            "_view_module_version": "1.5.0",
            "_view_name": "ProgressView",
            "bar_style": "success",
            "description": "",
            "description_tooltip": null,
            "layout": "IPY_MODEL_d7a38f11ccd74e92bd042257b35e0733",
            "max": 133483028,
            "min": 0,
            "orientation": "horizontal",
            "style": "IPY_MODEL_96e89f28c9fe4f429f3e4a52b904004f",
            "value": 133483028
          }
        },
        "0f52cb574db34d07b967ceae1d7c4a10": {
          "model_module": "@jupyter-widgets/controls",
          "model_name": "HTMLModel",
          "model_module_version": "1.5.0",
          "state": {
            "_dom_classes": [],
            "_model_module": "@jupyter-widgets/controls",
            "_model_module_version": "1.5.0",
            "_model_name": "HTMLModel",
            "_view_count": null,
            "_view_module": "@jupyter-widgets/controls",
            "_view_module_version": "1.5.0",
            "_view_name": "HTMLView",
            "description": "",
            "description_tooltip": null,
            "layout": "IPY_MODEL_8246c65bfeed4a668b9dc38cabcdc567",
            "placeholder": "​",
            "style": "IPY_MODEL_ecfc4957dbf6486a95b98f9f26fa226b",
            "value": " 133M/133M [00:00&lt;00:00, 190MB/s]"
          }
        },
        "dd84727e9bb141c1b5c028ae0c0374a8": {
          "model_module": "@jupyter-widgets/base",
          "model_name": "LayoutModel",
          "model_module_version": "1.2.0",
          "state": {
            "_model_module": "@jupyter-widgets/base",
            "_model_module_version": "1.2.0",
            "_model_name": "LayoutModel",
            "_view_count": null,
            "_view_module": "@jupyter-widgets/base",
            "_view_module_version": "1.2.0",
            "_view_name": "LayoutView",
            "align_content": null,
            "align_items": null,
            "align_self": null,
            "border": null,
            "bottom": null,
            "display": null,
            "flex": null,
            "flex_flow": null,
            "grid_area": null,
            "grid_auto_columns": null,
            "grid_auto_flow": null,
            "grid_auto_rows": null,
            "grid_column": null,
            "grid_gap": null,
            "grid_row": null,
            "grid_template_areas": null,
            "grid_template_columns": null,
            "grid_template_rows": null,
            "height": null,
            "justify_content": null,
            "justify_items": null,
            "left": null,
            "margin": null,
            "max_height": null,
            "max_width": null,
            "min_height": null,
            "min_width": null,
            "object_fit": null,
            "object_position": null,
            "order": null,
            "overflow": null,
            "overflow_x": null,
            "overflow_y": null,
            "padding": null,
            "right": null,
            "top": null,
            "visibility": null,
            "width": null
          }
        },
        "39e368bbd4f3465b93c4e02a5f273f79": {
          "model_module": "@jupyter-widgets/base",
          "model_name": "LayoutModel",
          "model_module_version": "1.2.0",
          "state": {
            "_model_module": "@jupyter-widgets/base",
            "_model_module_version": "1.2.0",
            "_model_name": "LayoutModel",
            "_view_count": null,
            "_view_module": "@jupyter-widgets/base",
            "_view_module_version": "1.2.0",
            "_view_name": "LayoutView",
            "align_content": null,
            "align_items": null,
            "align_self": null,
            "border": null,
            "bottom": null,
            "display": null,
            "flex": null,
            "flex_flow": null,
            "grid_area": null,
            "grid_auto_columns": null,
            "grid_auto_flow": null,
            "grid_auto_rows": null,
            "grid_column": null,
            "grid_gap": null,
            "grid_row": null,
            "grid_template_areas": null,
            "grid_template_columns": null,
            "grid_template_rows": null,
            "height": null,
            "justify_content": null,
            "justify_items": null,
            "left": null,
            "margin": null,
            "max_height": null,
            "max_width": null,
            "min_height": null,
            "min_width": null,
            "object_fit": null,
            "object_position": null,
            "order": null,
            "overflow": null,
            "overflow_x": null,
            "overflow_y": null,
            "padding": null,
            "right": null,
            "top": null,
            "visibility": null,
            "width": null
          }
        },
        "9e584705acf543e399f540ac9e827861": {
          "model_module": "@jupyter-widgets/controls",
          "model_name": "DescriptionStyleModel",
          "model_module_version": "1.5.0",
          "state": {
            "_model_module": "@jupyter-widgets/controls",
            "_model_module_version": "1.5.0",
            "_model_name": "DescriptionStyleModel",
            "_view_count": null,
            "_view_module": "@jupyter-widgets/base",
            "_view_module_version": "1.2.0",
            "_view_name": "StyleView",
            "description_width": ""
          }
        },
        "d7a38f11ccd74e92bd042257b35e0733": {
          "model_module": "@jupyter-widgets/base",
          "model_name": "LayoutModel",
          "model_module_version": "1.2.0",
          "state": {
            "_model_module": "@jupyter-widgets/base",
            "_model_module_version": "1.2.0",
            "_model_name": "LayoutModel",
            "_view_count": null,
            "_view_module": "@jupyter-widgets/base",
            "_view_module_version": "1.2.0",
            "_view_name": "LayoutView",
            "align_content": null,
            "align_items": null,
            "align_self": null,
            "border": null,
            "bottom": null,
            "display": null,
            "flex": null,
            "flex_flow": null,
            "grid_area": null,
            "grid_auto_columns": null,
            "grid_auto_flow": null,
            "grid_auto_rows": null,
            "grid_column": null,
            "grid_gap": null,
            "grid_row": null,
            "grid_template_areas": null,
            "grid_template_columns": null,
            "grid_template_rows": null,
            "height": null,
            "justify_content": null,
            "justify_items": null,
            "left": null,
            "margin": null,
            "max_height": null,
            "max_width": null,
            "min_height": null,
            "min_width": null,
            "object_fit": null,
            "object_position": null,
            "order": null,
            "overflow": null,
            "overflow_x": null,
            "overflow_y": null,
            "padding": null,
            "right": null,
            "top": null,
            "visibility": null,
            "width": null
          }
        },
        "96e89f28c9fe4f429f3e4a52b904004f": {
          "model_module": "@jupyter-widgets/controls",
          "model_name": "ProgressStyleModel",
          "model_module_version": "1.5.0",
          "state": {
            "_model_module": "@jupyter-widgets/controls",
            "_model_module_version": "1.5.0",
            "_model_name": "ProgressStyleModel",
            "_view_count": null,
            "_view_module": "@jupyter-widgets/base",
            "_view_module_version": "1.2.0",
            "_view_name": "StyleView",
            "bar_color": null,
            "description_width": ""
          }
        },
        "8246c65bfeed4a668b9dc38cabcdc567": {
          "model_module": "@jupyter-widgets/base",
          "model_name": "LayoutModel",
          "model_module_version": "1.2.0",
          "state": {
            "_model_module": "@jupyter-widgets/base",
            "_model_module_version": "1.2.0",
            "_model_name": "LayoutModel",
            "_view_count": null,
            "_view_module": "@jupyter-widgets/base",
            "_view_module_version": "1.2.0",
            "_view_name": "LayoutView",
            "align_content": null,
            "align_items": null,
            "align_self": null,
            "border": null,
            "bottom": null,
            "display": null,
            "flex": null,
            "flex_flow": null,
            "grid_area": null,
            "grid_auto_columns": null,
            "grid_auto_flow": null,
            "grid_auto_rows": null,
            "grid_column": null,
            "grid_gap": null,
            "grid_row": null,
            "grid_template_areas": null,
            "grid_template_columns": null,
            "grid_template_rows": null,
            "height": null,
            "justify_content": null,
            "justify_items": null,
            "left": null,
            "margin": null,
            "max_height": null,
            "max_width": null,
            "min_height": null,
            "min_width": null,
            "object_fit": null,
            "object_position": null,
            "order": null,
            "overflow": null,
            "overflow_x": null,
            "overflow_y": null,
            "padding": null,
            "right": null,
            "top": null,
            "visibility": null,
            "width": null
          }
        },
        "ecfc4957dbf6486a95b98f9f26fa226b": {
          "model_module": "@jupyter-widgets/controls",
          "model_name": "DescriptionStyleModel",
          "model_module_version": "1.5.0",
          "state": {
            "_model_module": "@jupyter-widgets/controls",
            "_model_module_version": "1.5.0",
            "_model_name": "DescriptionStyleModel",
            "_view_count": null,
            "_view_module": "@jupyter-widgets/base",
            "_view_module_version": "1.2.0",
            "_view_name": "StyleView",
            "description_width": ""
          }
        },
        "4789ce21ae214a1495211f36a83a52dc": {
          "model_module": "@jupyter-widgets/controls",
          "model_name": "HBoxModel",
          "model_module_version": "1.5.0",
          "state": {
            "_dom_classes": [],
            "_model_module": "@jupyter-widgets/controls",
            "_model_module_version": "1.5.0",
            "_model_name": "HBoxModel",
            "_view_count": null,
            "_view_module": "@jupyter-widgets/controls",
            "_view_module_version": "1.5.0",
            "_view_name": "HBoxView",
            "box_style": "",
            "children": [
              "IPY_MODEL_af1b4f88fa414ca79637fc406aed56e5",
              "IPY_MODEL_56f9613573d44218b9475108397c431e",
              "IPY_MODEL_96162f137bdd419fac8c8f7a012ce8a1"
            ],
            "layout": "IPY_MODEL_c5872ef4c38e4b4e9aed0f49eb675bce"
          }
        },
        "af1b4f88fa414ca79637fc406aed56e5": {
          "model_module": "@jupyter-widgets/controls",
          "model_name": "HTMLModel",
          "model_module_version": "1.5.0",
          "state": {
            "_dom_classes": [],
            "_model_module": "@jupyter-widgets/controls",
            "_model_module_version": "1.5.0",
            "_model_name": "HTMLModel",
            "_view_count": null,
            "_view_module": "@jupyter-widgets/controls",
            "_view_module_version": "1.5.0",
            "_view_name": "HTMLView",
            "description": "",
            "description_tooltip": null,
            "layout": "IPY_MODEL_ed167d70850d4d408f75426dea5c239f",
            "placeholder": "​",
            "style": "IPY_MODEL_f72e7f543d254d5482b60166111d3bff",
            "value": "Downloading (…)okenizer_config.json: 100%"
          }
        },
        "56f9613573d44218b9475108397c431e": {
          "model_module": "@jupyter-widgets/controls",
          "model_name": "FloatProgressModel",
          "model_module_version": "1.5.0",
          "state": {
            "_dom_classes": [],
            "_model_module": "@jupyter-widgets/controls",
            "_model_module_version": "1.5.0",
            "_model_name": "FloatProgressModel",
            "_view_count": null,
            "_view_module": "@jupyter-widgets/controls",
            "_view_module_version": "1.5.0",
            "_view_name": "ProgressView",
            "bar_style": "success",
            "description": "",
            "description_tooltip": null,
            "layout": "IPY_MODEL_729e6755f0fe450d9eedf96052c75fa5",
            "max": 2,
            "min": 0,
            "orientation": "horizontal",
            "style": "IPY_MODEL_d9305295d38f44eab355d13fa23cf317",
            "value": 2
          }
        },
        "96162f137bdd419fac8c8f7a012ce8a1": {
          "model_module": "@jupyter-widgets/controls",
          "model_name": "HTMLModel",
          "model_module_version": "1.5.0",
          "state": {
            "_dom_classes": [],
            "_model_module": "@jupyter-widgets/controls",
            "_model_module_version": "1.5.0",
            "_model_name": "HTMLModel",
            "_view_count": null,
            "_view_module": "@jupyter-widgets/controls",
            "_view_module_version": "1.5.0",
            "_view_name": "HTMLView",
            "description": "",
            "description_tooltip": null,
            "layout": "IPY_MODEL_5eb7c371457c454d8c115ec04cf62e6f",
            "placeholder": "​",
            "style": "IPY_MODEL_a2a4b2ddbcca46b5b11fa5800800072d",
            "value": " 2.00/2.00 [00:00&lt;00:00, 77.2B/s]"
          }
        },
        "c5872ef4c38e4b4e9aed0f49eb675bce": {
          "model_module": "@jupyter-widgets/base",
          "model_name": "LayoutModel",
          "model_module_version": "1.2.0",
          "state": {
            "_model_module": "@jupyter-widgets/base",
            "_model_module_version": "1.2.0",
            "_model_name": "LayoutModel",
            "_view_count": null,
            "_view_module": "@jupyter-widgets/base",
            "_view_module_version": "1.2.0",
            "_view_name": "LayoutView",
            "align_content": null,
            "align_items": null,
            "align_self": null,
            "border": null,
            "bottom": null,
            "display": null,
            "flex": null,
            "flex_flow": null,
            "grid_area": null,
            "grid_auto_columns": null,
            "grid_auto_flow": null,
            "grid_auto_rows": null,
            "grid_column": null,
            "grid_gap": null,
            "grid_row": null,
            "grid_template_areas": null,
            "grid_template_columns": null,
            "grid_template_rows": null,
            "height": null,
            "justify_content": null,
            "justify_items": null,
            "left": null,
            "margin": null,
            "max_height": null,
            "max_width": null,
            "min_height": null,
            "min_width": null,
            "object_fit": null,
            "object_position": null,
            "order": null,
            "overflow": null,
            "overflow_x": null,
            "overflow_y": null,
            "padding": null,
            "right": null,
            "top": null,
            "visibility": null,
            "width": null
          }
        },
        "ed167d70850d4d408f75426dea5c239f": {
          "model_module": "@jupyter-widgets/base",
          "model_name": "LayoutModel",
          "model_module_version": "1.2.0",
          "state": {
            "_model_module": "@jupyter-widgets/base",
            "_model_module_version": "1.2.0",
            "_model_name": "LayoutModel",
            "_view_count": null,
            "_view_module": "@jupyter-widgets/base",
            "_view_module_version": "1.2.0",
            "_view_name": "LayoutView",
            "align_content": null,
            "align_items": null,
            "align_self": null,
            "border": null,
            "bottom": null,
            "display": null,
            "flex": null,
            "flex_flow": null,
            "grid_area": null,
            "grid_auto_columns": null,
            "grid_auto_flow": null,
            "grid_auto_rows": null,
            "grid_column": null,
            "grid_gap": null,
            "grid_row": null,
            "grid_template_areas": null,
            "grid_template_columns": null,
            "grid_template_rows": null,
            "height": null,
            "justify_content": null,
            "justify_items": null,
            "left": null,
            "margin": null,
            "max_height": null,
            "max_width": null,
            "min_height": null,
            "min_width": null,
            "object_fit": null,
            "object_position": null,
            "order": null,
            "overflow": null,
            "overflow_x": null,
            "overflow_y": null,
            "padding": null,
            "right": null,
            "top": null,
            "visibility": null,
            "width": null
          }
        },
        "f72e7f543d254d5482b60166111d3bff": {
          "model_module": "@jupyter-widgets/controls",
          "model_name": "DescriptionStyleModel",
          "model_module_version": "1.5.0",
          "state": {
            "_model_module": "@jupyter-widgets/controls",
            "_model_module_version": "1.5.0",
            "_model_name": "DescriptionStyleModel",
            "_view_count": null,
            "_view_module": "@jupyter-widgets/base",
            "_view_module_version": "1.2.0",
            "_view_name": "StyleView",
            "description_width": ""
          }
        },
        "729e6755f0fe450d9eedf96052c75fa5": {
          "model_module": "@jupyter-widgets/base",
          "model_name": "LayoutModel",
          "model_module_version": "1.2.0",
          "state": {
            "_model_module": "@jupyter-widgets/base",
            "_model_module_version": "1.2.0",
            "_model_name": "LayoutModel",
            "_view_count": null,
            "_view_module": "@jupyter-widgets/base",
            "_view_module_version": "1.2.0",
            "_view_name": "LayoutView",
            "align_content": null,
            "align_items": null,
            "align_self": null,
            "border": null,
            "bottom": null,
            "display": null,
            "flex": null,
            "flex_flow": null,
            "grid_area": null,
            "grid_auto_columns": null,
            "grid_auto_flow": null,
            "grid_auto_rows": null,
            "grid_column": null,
            "grid_gap": null,
            "grid_row": null,
            "grid_template_areas": null,
            "grid_template_columns": null,
            "grid_template_rows": null,
            "height": null,
            "justify_content": null,
            "justify_items": null,
            "left": null,
            "margin": null,
            "max_height": null,
            "max_width": null,
            "min_height": null,
            "min_width": null,
            "object_fit": null,
            "object_position": null,
            "order": null,
            "overflow": null,
            "overflow_x": null,
            "overflow_y": null,
            "padding": null,
            "right": null,
            "top": null,
            "visibility": null,
            "width": null
          }
        },
        "d9305295d38f44eab355d13fa23cf317": {
          "model_module": "@jupyter-widgets/controls",
          "model_name": "ProgressStyleModel",
          "model_module_version": "1.5.0",
          "state": {
            "_model_module": "@jupyter-widgets/controls",
            "_model_module_version": "1.5.0",
            "_model_name": "ProgressStyleModel",
            "_view_count": null,
            "_view_module": "@jupyter-widgets/base",
            "_view_module_version": "1.2.0",
            "_view_name": "StyleView",
            "bar_color": null,
            "description_width": ""
          }
        },
        "5eb7c371457c454d8c115ec04cf62e6f": {
          "model_module": "@jupyter-widgets/base",
          "model_name": "LayoutModel",
          "model_module_version": "1.2.0",
          "state": {
            "_model_module": "@jupyter-widgets/base",
            "_model_module_version": "1.2.0",
            "_model_name": "LayoutModel",
            "_view_count": null,
            "_view_module": "@jupyter-widgets/base",
            "_view_module_version": "1.2.0",
            "_view_name": "LayoutView",
            "align_content": null,
            "align_items": null,
            "align_self": null,
            "border": null,
            "bottom": null,
            "display": null,
            "flex": null,
            "flex_flow": null,
            "grid_area": null,
            "grid_auto_columns": null,
            "grid_auto_flow": null,
            "grid_auto_rows": null,
            "grid_column": null,
            "grid_gap": null,
            "grid_row": null,
            "grid_template_areas": null,
            "grid_template_columns": null,
            "grid_template_rows": null,
            "height": null,
            "justify_content": null,
            "justify_items": null,
            "left": null,
            "margin": null,
            "max_height": null,
            "max_width": null,
            "min_height": null,
            "min_width": null,
            "object_fit": null,
            "object_position": null,
            "order": null,
            "overflow": null,
            "overflow_x": null,
            "overflow_y": null,
            "padding": null,
            "right": null,
            "top": null,
            "visibility": null,
            "width": null
          }
        },
        "a2a4b2ddbcca46b5b11fa5800800072d": {
          "model_module": "@jupyter-widgets/controls",
          "model_name": "DescriptionStyleModel",
          "model_module_version": "1.5.0",
          "state": {
            "_model_module": "@jupyter-widgets/controls",
            "_model_module_version": "1.5.0",
            "_model_name": "DescriptionStyleModel",
            "_view_count": null,
            "_view_module": "@jupyter-widgets/base",
            "_view_module_version": "1.2.0",
            "_view_name": "StyleView",
            "description_width": ""
          }
        },
        "6dc0eda2f0c14f45bb978a052bb4c524": {
          "model_module": "@jupyter-widgets/controls",
          "model_name": "HBoxModel",
          "model_module_version": "1.5.0",
          "state": {
            "_dom_classes": [],
            "_model_module": "@jupyter-widgets/controls",
            "_model_module_version": "1.5.0",
            "_model_name": "HBoxModel",
            "_view_count": null,
            "_view_module": "@jupyter-widgets/controls",
            "_view_module_version": "1.5.0",
            "_view_name": "HBoxView",
            "box_style": "",
            "children": [
              "IPY_MODEL_bdbc1d7dcd114285bcaac28bc4d90cea",
              "IPY_MODEL_e82fb0d394b34e4d9efcac927b75d99b",
              "IPY_MODEL_c6549f4777354a20aa08735212799e2e"
            ],
            "layout": "IPY_MODEL_3d07e778bc2d4cb3bddcd2a5221cd04b"
          }
        },
        "bdbc1d7dcd114285bcaac28bc4d90cea": {
          "model_module": "@jupyter-widgets/controls",
          "model_name": "HTMLModel",
          "model_module_version": "1.5.0",
          "state": {
            "_dom_classes": [],
            "_model_module": "@jupyter-widgets/controls",
            "_model_module_version": "1.5.0",
            "_model_name": "HTMLModel",
            "_view_count": null,
            "_view_module": "@jupyter-widgets/controls",
            "_view_module_version": "1.5.0",
            "_view_name": "HTMLView",
            "description": "",
            "description_tooltip": null,
            "layout": "IPY_MODEL_9f95d59ee0664cc7834d0d4adf63411a",
            "placeholder": "​",
            "style": "IPY_MODEL_401139029827466a80dc8df9eee42b20",
            "value": "Downloading (…)solve/main/vocab.txt: 100%"
          }
        },
        "e82fb0d394b34e4d9efcac927b75d99b": {
          "model_module": "@jupyter-widgets/controls",
          "model_name": "FloatProgressModel",
          "model_module_version": "1.5.0",
          "state": {
            "_dom_classes": [],
            "_model_module": "@jupyter-widgets/controls",
            "_model_module_version": "1.5.0",
            "_model_name": "FloatProgressModel",
            "_view_count": null,
            "_view_module": "@jupyter-widgets/controls",
            "_view_module_version": "1.5.0",
            "_view_name": "ProgressView",
            "bar_style": "success",
            "description": "",
            "description_tooltip": null,
            "layout": "IPY_MODEL_1fec0d1be004474b91ebd7d2915f14e2",
            "max": 231508,
            "min": 0,
            "orientation": "horizontal",
            "style": "IPY_MODEL_f58d053b9d7047daa5287c7ef5a9d6f5",
            "value": 231508
          }
        },
        "c6549f4777354a20aa08735212799e2e": {
          "model_module": "@jupyter-widgets/controls",
          "model_name": "HTMLModel",
          "model_module_version": "1.5.0",
          "state": {
            "_dom_classes": [],
            "_model_module": "@jupyter-widgets/controls",
            "_model_module_version": "1.5.0",
            "_model_name": "HTMLModel",
            "_view_count": null,
            "_view_module": "@jupyter-widgets/controls",
            "_view_module_version": "1.5.0",
            "_view_name": "HTMLView",
            "description": "",
            "description_tooltip": null,
            "layout": "IPY_MODEL_c4380cb763b2421ea1faf5b0d35a1178",
            "placeholder": "​",
            "style": "IPY_MODEL_69f2033117d74b68ba47bb9e0a3784c7",
            "value": " 232k/232k [00:00&lt;00:00, 1.92MB/s]"
          }
        },
        "3d07e778bc2d4cb3bddcd2a5221cd04b": {
          "model_module": "@jupyter-widgets/base",
          "model_name": "LayoutModel",
          "model_module_version": "1.2.0",
          "state": {
            "_model_module": "@jupyter-widgets/base",
            "_model_module_version": "1.2.0",
            "_model_name": "LayoutModel",
            "_view_count": null,
            "_view_module": "@jupyter-widgets/base",
            "_view_module_version": "1.2.0",
            "_view_name": "LayoutView",
            "align_content": null,
            "align_items": null,
            "align_self": null,
            "border": null,
            "bottom": null,
            "display": null,
            "flex": null,
            "flex_flow": null,
            "grid_area": null,
            "grid_auto_columns": null,
            "grid_auto_flow": null,
            "grid_auto_rows": null,
            "grid_column": null,
            "grid_gap": null,
            "grid_row": null,
            "grid_template_areas": null,
            "grid_template_columns": null,
            "grid_template_rows": null,
            "height": null,
            "justify_content": null,
            "justify_items": null,
            "left": null,
            "margin": null,
            "max_height": null,
            "max_width": null,
            "min_height": null,
            "min_width": null,
            "object_fit": null,
            "object_position": null,
            "order": null,
            "overflow": null,
            "overflow_x": null,
            "overflow_y": null,
            "padding": null,
            "right": null,
            "top": null,
            "visibility": null,
            "width": null
          }
        },
        "9f95d59ee0664cc7834d0d4adf63411a": {
          "model_module": "@jupyter-widgets/base",
          "model_name": "LayoutModel",
          "model_module_version": "1.2.0",
          "state": {
            "_model_module": "@jupyter-widgets/base",
            "_model_module_version": "1.2.0",
            "_model_name": "LayoutModel",
            "_view_count": null,
            "_view_module": "@jupyter-widgets/base",
            "_view_module_version": "1.2.0",
            "_view_name": "LayoutView",
            "align_content": null,
            "align_items": null,
            "align_self": null,
            "border": null,
            "bottom": null,
            "display": null,
            "flex": null,
            "flex_flow": null,
            "grid_area": null,
            "grid_auto_columns": null,
            "grid_auto_flow": null,
            "grid_auto_rows": null,
            "grid_column": null,
            "grid_gap": null,
            "grid_row": null,
            "grid_template_areas": null,
            "grid_template_columns": null,
            "grid_template_rows": null,
            "height": null,
            "justify_content": null,
            "justify_items": null,
            "left": null,
            "margin": null,
            "max_height": null,
            "max_width": null,
            "min_height": null,
            "min_width": null,
            "object_fit": null,
            "object_position": null,
            "order": null,
            "overflow": null,
            "overflow_x": null,
            "overflow_y": null,
            "padding": null,
            "right": null,
            "top": null,
            "visibility": null,
            "width": null
          }
        },
        "401139029827466a80dc8df9eee42b20": {
          "model_module": "@jupyter-widgets/controls",
          "model_name": "DescriptionStyleModel",
          "model_module_version": "1.5.0",
          "state": {
            "_model_module": "@jupyter-widgets/controls",
            "_model_module_version": "1.5.0",
            "_model_name": "DescriptionStyleModel",
            "_view_count": null,
            "_view_module": "@jupyter-widgets/base",
            "_view_module_version": "1.2.0",
            "_view_name": "StyleView",
            "description_width": ""
          }
        },
        "1fec0d1be004474b91ebd7d2915f14e2": {
          "model_module": "@jupyter-widgets/base",
          "model_name": "LayoutModel",
          "model_module_version": "1.2.0",
          "state": {
            "_model_module": "@jupyter-widgets/base",
            "_model_module_version": "1.2.0",
            "_model_name": "LayoutModel",
            "_view_count": null,
            "_view_module": "@jupyter-widgets/base",
            "_view_module_version": "1.2.0",
            "_view_name": "LayoutView",
            "align_content": null,
            "align_items": null,
            "align_self": null,
            "border": null,
            "bottom": null,
            "display": null,
            "flex": null,
            "flex_flow": null,
            "grid_area": null,
            "grid_auto_columns": null,
            "grid_auto_flow": null,
            "grid_auto_rows": null,
            "grid_column": null,
            "grid_gap": null,
            "grid_row": null,
            "grid_template_areas": null,
            "grid_template_columns": null,
            "grid_template_rows": null,
            "height": null,
            "justify_content": null,
            "justify_items": null,
            "left": null,
            "margin": null,
            "max_height": null,
            "max_width": null,
            "min_height": null,
            "min_width": null,
            "object_fit": null,
            "object_position": null,
            "order": null,
            "overflow": null,
            "overflow_x": null,
            "overflow_y": null,
            "padding": null,
            "right": null,
            "top": null,
            "visibility": null,
            "width": null
          }
        },
        "f58d053b9d7047daa5287c7ef5a9d6f5": {
          "model_module": "@jupyter-widgets/controls",
          "model_name": "ProgressStyleModel",
          "model_module_version": "1.5.0",
          "state": {
            "_model_module": "@jupyter-widgets/controls",
            "_model_module_version": "1.5.0",
            "_model_name": "ProgressStyleModel",
            "_view_count": null,
            "_view_module": "@jupyter-widgets/base",
            "_view_module_version": "1.2.0",
            "_view_name": "StyleView",
            "bar_color": null,
            "description_width": ""
          }
        },
        "c4380cb763b2421ea1faf5b0d35a1178": {
          "model_module": "@jupyter-widgets/base",
          "model_name": "LayoutModel",
          "model_module_version": "1.2.0",
          "state": {
            "_model_module": "@jupyter-widgets/base",
            "_model_module_version": "1.2.0",
            "_model_name": "LayoutModel",
            "_view_count": null,
            "_view_module": "@jupyter-widgets/base",
            "_view_module_version": "1.2.0",
            "_view_name": "LayoutView",
            "align_content": null,
            "align_items": null,
            "align_self": null,
            "border": null,
            "bottom": null,
            "display": null,
            "flex": null,
            "flex_flow": null,
            "grid_area": null,
            "grid_auto_columns": null,
            "grid_auto_flow": null,
            "grid_auto_rows": null,
            "grid_column": null,
            "grid_gap": null,
            "grid_row": null,
            "grid_template_areas": null,
            "grid_template_columns": null,
            "grid_template_rows": null,
            "height": null,
            "justify_content": null,
            "justify_items": null,
            "left": null,
            "margin": null,
            "max_height": null,
            "max_width": null,
            "min_height": null,
            "min_width": null,
            "object_fit": null,
            "object_position": null,
            "order": null,
            "overflow": null,
            "overflow_x": null,
            "overflow_y": null,
            "padding": null,
            "right": null,
            "top": null,
            "visibility": null,
            "width": null
          }
        },
        "69f2033117d74b68ba47bb9e0a3784c7": {
          "model_module": "@jupyter-widgets/controls",
          "model_name": "DescriptionStyleModel",
          "model_module_version": "1.5.0",
          "state": {
            "_model_module": "@jupyter-widgets/controls",
            "_model_module_version": "1.5.0",
            "_model_name": "DescriptionStyleModel",
            "_view_count": null,
            "_view_module": "@jupyter-widgets/base",
            "_view_module_version": "1.2.0",
            "_view_name": "StyleView",
            "description_width": ""
          }
        },
        "63cab447b9ec49508ba84cef9cfbdc75": {
          "model_module": "@jupyter-widgets/controls",
          "model_name": "HBoxModel",
          "model_module_version": "1.5.0",
          "state": {
            "_dom_classes": [],
            "_model_module": "@jupyter-widgets/controls",
            "_model_module_version": "1.5.0",
            "_model_name": "HBoxModel",
            "_view_count": null,
            "_view_module": "@jupyter-widgets/controls",
            "_view_module_version": "1.5.0",
            "_view_name": "HBoxView",
            "box_style": "",
            "children": [
              "IPY_MODEL_310afa36eb8948c9803157e56b2bd5a7",
              "IPY_MODEL_2be9f5074e7b4f6893f4f79cefb5332c",
              "IPY_MODEL_ce4b91538bc74e67858ec5d7672465e2"
            ],
            "layout": "IPY_MODEL_fa453f4c3177444c92bb8b7f32262238"
          }
        },
        "310afa36eb8948c9803157e56b2bd5a7": {
          "model_module": "@jupyter-widgets/controls",
          "model_name": "HTMLModel",
          "model_module_version": "1.5.0",
          "state": {
            "_dom_classes": [],
            "_model_module": "@jupyter-widgets/controls",
            "_model_module_version": "1.5.0",
            "_model_name": "HTMLModel",
            "_view_count": null,
            "_view_module": "@jupyter-widgets/controls",
            "_view_module_version": "1.5.0",
            "_view_name": "HTMLView",
            "description": "",
            "description_tooltip": null,
            "layout": "IPY_MODEL_df06b98b55ef4265977a4874c61aed3d",
            "placeholder": "​",
            "style": "IPY_MODEL_4878a3b4fda54a89a587a768931d2c54",
            "value": "Downloading (…)cial_tokens_map.json: 100%"
          }
        },
        "2be9f5074e7b4f6893f4f79cefb5332c": {
          "model_module": "@jupyter-widgets/controls",
          "model_name": "FloatProgressModel",
          "model_module_version": "1.5.0",
          "state": {
            "_dom_classes": [],
            "_model_module": "@jupyter-widgets/controls",
            "_model_module_version": "1.5.0",
            "_model_name": "FloatProgressModel",
            "_view_count": null,
            "_view_module": "@jupyter-widgets/controls",
            "_view_module_version": "1.5.0",
            "_view_name": "ProgressView",
            "bar_style": "success",
            "description": "",
            "description_tooltip": null,
            "layout": "IPY_MODEL_e915c5faf18746f2b59be710b18e0a4f",
            "max": 112,
            "min": 0,
            "orientation": "horizontal",
            "style": "IPY_MODEL_0c65c36ea2364baebdb70269fdf02b32",
            "value": 112
          }
        },
        "ce4b91538bc74e67858ec5d7672465e2": {
          "model_module": "@jupyter-widgets/controls",
          "model_name": "HTMLModel",
          "model_module_version": "1.5.0",
          "state": {
            "_dom_classes": [],
            "_model_module": "@jupyter-widgets/controls",
            "_model_module_version": "1.5.0",
            "_model_name": "HTMLModel",
            "_view_count": null,
            "_view_module": "@jupyter-widgets/controls",
            "_view_module_version": "1.5.0",
            "_view_name": "HTMLView",
            "description": "",
            "description_tooltip": null,
            "layout": "IPY_MODEL_b1c7121bfb604d7aa63277ff7aefada3",
            "placeholder": "​",
            "style": "IPY_MODEL_d784792d4fe241cd91c238c67c5fbf08",
            "value": " 112/112 [00:00&lt;00:00, 9.43kB/s]"
          }
        },
        "fa453f4c3177444c92bb8b7f32262238": {
          "model_module": "@jupyter-widgets/base",
          "model_name": "LayoutModel",
          "model_module_version": "1.2.0",
          "state": {
            "_model_module": "@jupyter-widgets/base",
            "_model_module_version": "1.2.0",
            "_model_name": "LayoutModel",
            "_view_count": null,
            "_view_module": "@jupyter-widgets/base",
            "_view_module_version": "1.2.0",
            "_view_name": "LayoutView",
            "align_content": null,
            "align_items": null,
            "align_self": null,
            "border": null,
            "bottom": null,
            "display": null,
            "flex": null,
            "flex_flow": null,
            "grid_area": null,
            "grid_auto_columns": null,
            "grid_auto_flow": null,
            "grid_auto_rows": null,
            "grid_column": null,
            "grid_gap": null,
            "grid_row": null,
            "grid_template_areas": null,
            "grid_template_columns": null,
            "grid_template_rows": null,
            "height": null,
            "justify_content": null,
            "justify_items": null,
            "left": null,
            "margin": null,
            "max_height": null,
            "max_width": null,
            "min_height": null,
            "min_width": null,
            "object_fit": null,
            "object_position": null,
            "order": null,
            "overflow": null,
            "overflow_x": null,
            "overflow_y": null,
            "padding": null,
            "right": null,
            "top": null,
            "visibility": null,
            "width": null
          }
        },
        "df06b98b55ef4265977a4874c61aed3d": {
          "model_module": "@jupyter-widgets/base",
          "model_name": "LayoutModel",
          "model_module_version": "1.2.0",
          "state": {
            "_model_module": "@jupyter-widgets/base",
            "_model_module_version": "1.2.0",
            "_model_name": "LayoutModel",
            "_view_count": null,
            "_view_module": "@jupyter-widgets/base",
            "_view_module_version": "1.2.0",
            "_view_name": "LayoutView",
            "align_content": null,
            "align_items": null,
            "align_self": null,
            "border": null,
            "bottom": null,
            "display": null,
            "flex": null,
            "flex_flow": null,
            "grid_area": null,
            "grid_auto_columns": null,
            "grid_auto_flow": null,
            "grid_auto_rows": null,
            "grid_column": null,
            "grid_gap": null,
            "grid_row": null,
            "grid_template_areas": null,
            "grid_template_columns": null,
            "grid_template_rows": null,
            "height": null,
            "justify_content": null,
            "justify_items": null,
            "left": null,
            "margin": null,
            "max_height": null,
            "max_width": null,
            "min_height": null,
            "min_width": null,
            "object_fit": null,
            "object_position": null,
            "order": null,
            "overflow": null,
            "overflow_x": null,
            "overflow_y": null,
            "padding": null,
            "right": null,
            "top": null,
            "visibility": null,
            "width": null
          }
        },
        "4878a3b4fda54a89a587a768931d2c54": {
          "model_module": "@jupyter-widgets/controls",
          "model_name": "DescriptionStyleModel",
          "model_module_version": "1.5.0",
          "state": {
            "_model_module": "@jupyter-widgets/controls",
            "_model_module_version": "1.5.0",
            "_model_name": "DescriptionStyleModel",
            "_view_count": null,
            "_view_module": "@jupyter-widgets/base",
            "_view_module_version": "1.2.0",
            "_view_name": "StyleView",
            "description_width": ""
          }
        },
        "e915c5faf18746f2b59be710b18e0a4f": {
          "model_module": "@jupyter-widgets/base",
          "model_name": "LayoutModel",
          "model_module_version": "1.2.0",
          "state": {
            "_model_module": "@jupyter-widgets/base",
            "_model_module_version": "1.2.0",
            "_model_name": "LayoutModel",
            "_view_count": null,
            "_view_module": "@jupyter-widgets/base",
            "_view_module_version": "1.2.0",
            "_view_name": "LayoutView",
            "align_content": null,
            "align_items": null,
            "align_self": null,
            "border": null,
            "bottom": null,
            "display": null,
            "flex": null,
            "flex_flow": null,
            "grid_area": null,
            "grid_auto_columns": null,
            "grid_auto_flow": null,
            "grid_auto_rows": null,
            "grid_column": null,
            "grid_gap": null,
            "grid_row": null,
            "grid_template_areas": null,
            "grid_template_columns": null,
            "grid_template_rows": null,
            "height": null,
            "justify_content": null,
            "justify_items": null,
            "left": null,
            "margin": null,
            "max_height": null,
            "max_width": null,
            "min_height": null,
            "min_width": null,
            "object_fit": null,
            "object_position": null,
            "order": null,
            "overflow": null,
            "overflow_x": null,
            "overflow_y": null,
            "padding": null,
            "right": null,
            "top": null,
            "visibility": null,
            "width": null
          }
        },
        "0c65c36ea2364baebdb70269fdf02b32": {
          "model_module": "@jupyter-widgets/controls",
          "model_name": "ProgressStyleModel",
          "model_module_version": "1.5.0",
          "state": {
            "_model_module": "@jupyter-widgets/controls",
            "_model_module_version": "1.5.0",
            "_model_name": "ProgressStyleModel",
            "_view_count": null,
            "_view_module": "@jupyter-widgets/base",
            "_view_module_version": "1.2.0",
            "_view_name": "StyleView",
            "bar_color": null,
            "description_width": ""
          }
        },
        "b1c7121bfb604d7aa63277ff7aefada3": {
          "model_module": "@jupyter-widgets/base",
          "model_name": "LayoutModel",
          "model_module_version": "1.2.0",
          "state": {
            "_model_module": "@jupyter-widgets/base",
            "_model_module_version": "1.2.0",
            "_model_name": "LayoutModel",
            "_view_count": null,
            "_view_module": "@jupyter-widgets/base",
            "_view_module_version": "1.2.0",
            "_view_name": "LayoutView",
            "align_content": null,
            "align_items": null,
            "align_self": null,
            "border": null,
            "bottom": null,
            "display": null,
            "flex": null,
            "flex_flow": null,
            "grid_area": null,
            "grid_auto_columns": null,
            "grid_auto_flow": null,
            "grid_auto_rows": null,
            "grid_column": null,
            "grid_gap": null,
            "grid_row": null,
            "grid_template_areas": null,
            "grid_template_columns": null,
            "grid_template_rows": null,
            "height": null,
            "justify_content": null,
            "justify_items": null,
            "left": null,
            "margin": null,
            "max_height": null,
            "max_width": null,
            "min_height": null,
            "min_width": null,
            "object_fit": null,
            "object_position": null,
            "order": null,
            "overflow": null,
            "overflow_x": null,
            "overflow_y": null,
            "padding": null,
            "right": null,
            "top": null,
            "visibility": null,
            "width": null
          }
        },
        "d784792d4fe241cd91c238c67c5fbf08": {
          "model_module": "@jupyter-widgets/controls",
          "model_name": "DescriptionStyleModel",
          "model_module_version": "1.5.0",
          "state": {
            "_model_module": "@jupyter-widgets/controls",
            "_model_module_version": "1.5.0",
            "_model_name": "DescriptionStyleModel",
            "_view_count": null,
            "_view_module": "@jupyter-widgets/base",
            "_view_module_version": "1.2.0",
            "_view_name": "StyleView",
            "description_width": ""
          }
        }
      }
    }
  },
  "cells": [
    {
      "cell_type": "code",
      "source": [
        "!pip install transformers"
      ],
      "metadata": {
        "id": "A-tHTkFBLIcV",
        "colab": {
          "base_uri": "https://localhost:8080/"
        },
        "outputId": "625bbd26-6ac8-4a33-cd5b-c6e6707d9256"
      },
      "execution_count": 1,
      "outputs": [
        {
          "output_type": "stream",
          "name": "stdout",
          "text": [
            "Looking in indexes: https://pypi.org/simple, https://us-python.pkg.dev/colab-wheels/public/simple/\n",
            "Collecting transformers\n",
            "  Downloading transformers-4.28.1-py3-none-any.whl (7.0 MB)\n",
            "\u001b[2K     \u001b[90m━━━━━━━━━━━━━━━━━━━━━━━━━━━━━━━━━━━━━━━━\u001b[0m \u001b[32m7.0/7.0 MB\u001b[0m \u001b[31m72.1 MB/s\u001b[0m eta \u001b[36m0:00:00\u001b[0m\n",
            "\u001b[?25hCollecting huggingface-hub<1.0,>=0.11.0\n",
            "  Downloading huggingface_hub-0.14.1-py3-none-any.whl (224 kB)\n",
            "\u001b[2K     \u001b[90m━━━━━━━━━━━━━━━━━━━━━━━━━━━━━━━━━━━━━━\u001b[0m \u001b[32m224.5/224.5 kB\u001b[0m \u001b[31m33.1 MB/s\u001b[0m eta \u001b[36m0:00:00\u001b[0m\n",
            "\u001b[?25hRequirement already satisfied: numpy>=1.17 in /usr/local/lib/python3.10/dist-packages (from transformers) (1.22.4)\n",
            "Requirement already satisfied: pyyaml>=5.1 in /usr/local/lib/python3.10/dist-packages (from transformers) (6.0)\n",
            "Requirement already satisfied: regex!=2019.12.17 in /usr/local/lib/python3.10/dist-packages (from transformers) (2022.10.31)\n",
            "Requirement already satisfied: filelock in /usr/local/lib/python3.10/dist-packages (from transformers) (3.12.0)\n",
            "Requirement already satisfied: tqdm>=4.27 in /usr/local/lib/python3.10/dist-packages (from transformers) (4.65.0)\n",
            "Requirement already satisfied: packaging>=20.0 in /usr/local/lib/python3.10/dist-packages (from transformers) (23.1)\n",
            "Collecting tokenizers!=0.11.3,<0.14,>=0.11.1\n",
            "  Downloading tokenizers-0.13.3-cp310-cp310-manylinux_2_17_x86_64.manylinux2014_x86_64.whl (7.8 MB)\n",
            "\u001b[2K     \u001b[90m━━━━━━━━━━━━━━━━━━━━━━━━━━━━━━━━━━━━━━━━\u001b[0m \u001b[32m7.8/7.8 MB\u001b[0m \u001b[31m84.8 MB/s\u001b[0m eta \u001b[36m0:00:00\u001b[0m\n",
            "\u001b[?25hRequirement already satisfied: requests in /usr/local/lib/python3.10/dist-packages (from transformers) (2.27.1)\n",
            "Requirement already satisfied: fsspec in /usr/local/lib/python3.10/dist-packages (from huggingface-hub<1.0,>=0.11.0->transformers) (2023.4.0)\n",
            "Requirement already satisfied: typing-extensions>=3.7.4.3 in /usr/local/lib/python3.10/dist-packages (from huggingface-hub<1.0,>=0.11.0->transformers) (4.5.0)\n",
            "Requirement already satisfied: urllib3<1.27,>=1.21.1 in /usr/local/lib/python3.10/dist-packages (from requests->transformers) (1.26.15)\n",
            "Requirement already satisfied: charset-normalizer~=2.0.0 in /usr/local/lib/python3.10/dist-packages (from requests->transformers) (2.0.12)\n",
            "Requirement already satisfied: idna<4,>=2.5 in /usr/local/lib/python3.10/dist-packages (from requests->transformers) (3.4)\n",
            "Requirement already satisfied: certifi>=2017.4.17 in /usr/local/lib/python3.10/dist-packages (from requests->transformers) (2022.12.7)\n",
            "Installing collected packages: tokenizers, huggingface-hub, transformers\n",
            "Successfully installed huggingface-hub-0.14.1 tokenizers-0.13.3 transformers-4.28.1\n"
          ]
        }
      ]
    },
    {
      "cell_type": "code",
      "source": [
        "!pip install contractions"
      ],
      "metadata": {
        "id": "GyX47WPkM2g_",
        "colab": {
          "base_uri": "https://localhost:8080/"
        },
        "outputId": "0175b321-b3c5-48b7-9d0f-1072e0ca2fee"
      },
      "execution_count": 2,
      "outputs": [
        {
          "output_type": "stream",
          "name": "stdout",
          "text": [
            "Looking in indexes: https://pypi.org/simple, https://us-python.pkg.dev/colab-wheels/public/simple/\n",
            "Collecting contractions\n",
            "  Downloading contractions-0.1.73-py2.py3-none-any.whl (8.7 kB)\n",
            "Collecting textsearch>=0.0.21\n",
            "  Downloading textsearch-0.0.24-py2.py3-none-any.whl (7.6 kB)\n",
            "Collecting anyascii\n",
            "  Downloading anyascii-0.3.2-py3-none-any.whl (289 kB)\n",
            "\u001b[2K     \u001b[90m━━━━━━━━━━━━━━━━━━━━━━━━━━━━━━━━━━━━━━━\u001b[0m \u001b[32m289.9/289.9 kB\u001b[0m \u001b[31m9.4 MB/s\u001b[0m eta \u001b[36m0:00:00\u001b[0m\n",
            "\u001b[?25hCollecting pyahocorasick\n",
            "  Downloading pyahocorasick-2.0.0-cp310-cp310-manylinux_2_5_x86_64.manylinux1_x86_64.manylinux_2_12_x86_64.manylinux2010_x86_64.whl (110 kB)\n",
            "\u001b[2K     \u001b[90m━━━━━━━━━━━━━━━━━━━━━━━━━━━━━━━━━━━━━━\u001b[0m \u001b[32m110.8/110.8 kB\u001b[0m \u001b[31m19.0 MB/s\u001b[0m eta \u001b[36m0:00:00\u001b[0m\n",
            "\u001b[?25hInstalling collected packages: pyahocorasick, anyascii, textsearch, contractions\n",
            "Successfully installed anyascii-0.3.2 contractions-0.1.73 pyahocorasick-2.0.0 textsearch-0.0.24\n"
          ]
        }
      ]
    },
    {
      "cell_type": "code",
      "source": [
        "!pip install emoji"
      ],
      "metadata": {
        "colab": {
          "base_uri": "https://localhost:8080/"
        },
        "id": "DpnKnfXZJzgP",
        "outputId": "02e0c75d-c54c-42ac-e411-64e323de3904"
      },
      "execution_count": 3,
      "outputs": [
        {
          "output_type": "stream",
          "name": "stdout",
          "text": [
            "Looking in indexes: https://pypi.org/simple, https://us-python.pkg.dev/colab-wheels/public/simple/\n",
            "Collecting emoji\n",
            "  Downloading emoji-2.2.0.tar.gz (240 kB)\n",
            "\u001b[2K     \u001b[90m━━━━━━━━━━━━━━━━━━━━━━━━━━━━━━━━━━━━━━━\u001b[0m \u001b[32m240.9/240.9 kB\u001b[0m \u001b[31m8.5 MB/s\u001b[0m eta \u001b[36m0:00:00\u001b[0m\n",
            "\u001b[?25h  Preparing metadata (setup.py) ... \u001b[?25l\u001b[?25hdone\n",
            "Building wheels for collected packages: emoji\n",
            "  Building wheel for emoji (setup.py) ... \u001b[?25l\u001b[?25hdone\n",
            "  Created wheel for emoji: filename=emoji-2.2.0-py3-none-any.whl size=234926 sha256=259f1a758b548ab1b5c3731cdc17610c615902dfaad209b3d2657424a9d128ee\n",
            "  Stored in directory: /root/.cache/pip/wheels/02/3d/88/51a592b9ad17e7899126563698b4e3961983ebe85747228ba6\n",
            "Successfully built emoji\n",
            "Installing collected packages: emoji\n",
            "Successfully installed emoji-2.2.0\n"
          ]
        }
      ]
    },
    {
      "cell_type": "code",
      "source": [
        "import json\n",
        "import re\n",
        "import random\n",
        "import numpy as np\n",
        "import pandas as pd\n",
        "import torch\n",
        "import emoji\n",
        "import math\n",
        "\n",
        "import torch.nn as nn\n",
        "import torch.nn.functional as F\n",
        "\n",
        "from torch.utils.data import DataLoader, Dataset\n",
        "\n",
        "import torch.optim as optim\n",
        "from torch.optim import AdamW, Adam, SGD\n",
        "\n",
        "import transformers\n",
        "from transformers import AutoModel, BertTokenizerFast, RobertaTokenizer, RobertaModel, T5EncoderModel,T5Tokenizer\n",
        "# from sentence_transformers import SentenceTransformer \n",
        "from transformers import get_linear_schedule_with_warmup\n",
        "\n",
        "from tqdm import tqdm\n",
        "\n",
        "from sklearn.model_selection import train_test_split\n",
        "from sklearn.metrics import classification_report\n",
        "\n",
        "import contractions"
      ],
      "metadata": {
        "id": "ConuiTiCLMz8"
      },
      "execution_count": 4,
      "outputs": []
    },
    {
      "cell_type": "code",
      "source": [
        "device = torch.device(\"cuda\" if torch.cuda.is_available() else \"cpu\")"
      ],
      "metadata": {
        "id": "ocNQAZ9pLf8S"
      },
      "execution_count": 5,
      "outputs": []
    },
    {
      "cell_type": "code",
      "source": [
        "def merge_text_truth(input_file, output_file):\n",
        "    examples = []\n",
        "    output_data = []\n",
        "    with open(output_file, 'r', encoding='utf-8') as f:\n",
        "      for line in f:\n",
        "          obj = json.loads(line)\n",
        "          output_data.append(obj)\n",
        "    data = {item['twitter user id']: {\"twitter user id\":item['twitter user id'],\n",
        "                                      \"class\":item['class'].strip()} for item in output_data}\n",
        "    \n",
        "    with open(input_file, 'r') as f:\n",
        "        for line in f:\n",
        "          obj = json.loads(line)\n",
        "          data[obj['twitter user id']]['texts'] = obj['texts']\n",
        "    return list(data.values())\n",
        "data = merge_text_truth('./train_text.json','train_truth.json')"
      ],
      "metadata": {
        "id": "Epl9nr4OgZUu"
      },
      "execution_count": 6,
      "outputs": []
    },
    {
      "cell_type": "code",
      "source": [
        "def split_and_save(data, test_size=0.1):\n",
        "  train_data, val_data = train_test_split(data, \n",
        "                                          random_state=40, \n",
        "                                          test_size=test_size, \n",
        "                                          shuffle=True)\n",
        "  with open('train.json', 'w', encoding='utf-8') as f:\n",
        "    for obj in train_data:\n",
        "      f.write(json.dumps(obj))\n",
        "      f.write('\\n')\n",
        "  f.close()\n",
        "\n",
        "  with open('val.json', 'w', encoding='utf-8') as f:\n",
        "    for obj in val_data:\n",
        "      f.write(json.dumps(obj))\n",
        "      f.write('\\n')\n",
        "  f.close()\n",
        "  return train_data, val_data\n",
        "train_data, val_data = split_and_save(data, 0.1)"
      ],
      "metadata": {
        "id": "T1qgo25_kKuT"
      },
      "execution_count": 7,
      "outputs": []
    },
    {
      "cell_type": "code",
      "source": [
        "def remove_emoji(text):\n",
        "    return re.sub('\\s+', ' ', re.sub(':\\S+?:', ' ', emoji.demojize(text)))\n",
        "\n",
        "def remove_long_words(text):\n",
        "    words = text.split()\n",
        "    filtered_words = [word for word in words if len(word) <= 40]\n",
        "    return \" \".join(filtered_words)\n",
        "\n",
        "def preprocess_text(text):\n",
        "  # reemplazar las urls\n",
        "  text = re.sub(r'http\\S+', 'http', text)\n",
        "  # drop letters that start at @&\n",
        "  text = re.sub(r'[&][^\\s]+', '', text)\n",
        "  text = re.sub(r'[@][^\\s]+', '@user', text)\n",
        "  #drop all new lines\n",
        "  text = re.sub(r\"[\\r\\n]+\", \" \", text)\n",
        "  #drop emojis\n",
        "  text = remove_emoji(text)\n",
        "  # Convertir todo el texto a minúsculas\n",
        "  text = text.lower()\n",
        "  #Sustituir los Retweets\n",
        "  text = re.sub(r'\\b(RT|rt)\\b\\s+', ' ', text)\n",
        "  # reemplazar múltiples espacios con un solo espacio\n",
        "  text = re.sub(r'\\s+', ' ', text)\n",
        "  #eliminar secuencia de palabras repetidas\n",
        "  text = re.sub(r'([@]*[a-zA-Z]{1,}\\s+)\\1+', r'\\1', text)\n",
        "  text = remove_long_words(text)\n",
        "  # reemplazar múltiples espacios con un solo espacio\n",
        "  text = re.sub(r'\\s+', ' ', text)\n",
        "  #remove white space at begin and end of line\n",
        "  text = text.strip()\n",
        "\n",
        "  return text"
      ],
      "metadata": {
        "id": "P06jByJrLiUm"
      },
      "execution_count": 8,
      "outputs": []
    },
    {
      "cell_type": "code",
      "source": [
        "class InputExample(object):\n",
        "    def __init__(self, twitter_id, text, label):\n",
        "      self.twitter_id = twitter_id\n",
        "      self.text = text\n",
        "      self.label = label\n",
        "\n",
        "def dataToInputExample(dataset, max_length=80):\n",
        "    examples = []\n",
        "    labels = []\n",
        "    for data in dataset:\n",
        "      text = [text['text'] for text in data['texts']]\n",
        "      text = ' '.join(text)\n",
        "      print(text)\n",
        "      text = preprocess_text(text)\n",
        "      if len(text)<1 or text is None:\n",
        "        continue\n",
        "      print(text)\n",
        "      text_split = text.split()\n",
        "      text_length = len(text_split)\n",
        "      for i in range(math.ceil(text_length/max_length)):\n",
        "        labels.append(data['class'])\n",
        "        if (i+1)*max_length>= text_length:\n",
        "          examples.append(InputExample(twitter_id=data['twitter user id'], text=' '.join(text_split[-max_length:]), label=data['class']))\n",
        "        else:\n",
        "          examples.append(InputExample(twitter_id=data['twitter user id'], text=' '.join(text_split[i*max_length:(i+1)*max_length]), label=data['class']))\n",
        "    return examples, labels\n",
        "_ = dataToInputExample(val_data)"
      ],
      "metadata": {
        "id": "hdN-JEa5LiXC",
        "colab": {
          "base_uri": "https://localhost:8080/"
        },
        "outputId": "f23475a5-b8d9-449e-a1ac-3600a4483e8e"
      },
      "execution_count": 9,
      "outputs": [
        {
          "output_type": "stream",
          "name": "stdout",
          "text": [
            "More unique #art #meme #NFTs for our future Bored Doge #NFT collection with 2D/3D #Metaverse #GameFi Utility on #NEO #blockchain .  $NEO will be the first blockchain with a #doge #shiba multiplayer Metaverse #PlayToEarn  Game!  #MetaverseNFT https://t.co/pd3ngSYK6h\n",
            "more unique #art #meme #nfts for our future bored doge #nft collection with 2d/3d #metaverse #gamefi utility on #neo #blockchain . $neo will be the first blockchain with a #doge #shiba multiplayer metaverse #playtoearn game! #metaversenft http\n",
            "What a year full of challenges, achievements, and growth. Discover the highlights of 2021 in our comprehensive – but never exhaustive – IOG review of the year 🌟   #Cardano $ADA  https://t.co/NKp0RMZ7E1\n",
            "what a year full of challenges, achievements, and growth. discover the highlights of 2021 in our comprehensive – but never exhaustive – iog review of the year #cardano $ada http\n",
            "Looks rare Now i hv 2 Ultra rare 👀 https://t.co/efAPDdXhTa Buy now before sold out #GCG #NFT #NFTCommunity #NFTs #nftcollector #NFTCollection #NEAR $NEAR @ivn430 @NearNft @ParasHQ @gorillacrewgang https://t.co/rHeFcSOpMa\n",
            "looks rare now i hv 2 ultra rare http buy now before sold out #gcg #nft #nftcommunity #nfts #nftcollector #nftcollection #near $near @user http\n",
            "@milesdeutscher $MATIC\n",
            "@user $matic\n",
            "Start Trading $TRX On Ascendex    Sign up now for 10% referral reward     https://t.co/H0OV8sMnbP https://t.co/BBcPJ7ESBa\n",
            "start trading $trx on ascendex sign up now for 10% referral reward http http\n",
            "@TheSandboxGame @binance I just participated in the daily #SandboxAlphaS2Contest for a chance to earn up to 1,000 $SAND! Starting March 20 - Show us your favorite Zodiac character. Check out my screenshot below! 👇 #SandboxAlphaS2 https://t.co/jobbhDRu75\n",
            "@user i just participated in the daily #sandboxalphas2contest for a chance to earn up to 1,000 $sand! starting march 20 - show us your favorite zodiac character. check out my screenshot below! #sandboxalphas2 http\n",
            "Why do I feel like $SYN might win the race 😂 https://t.co/3F5f3hZ4SH\n",
            "why do i feel like $syn might win the race http\n",
            "$LRC Update: breaking out 🚀 https://t.co/MbtMPgqV7k https://t.co/EqG67zym6Y\n",
            "$lrc update: breaking out http http\n",
            "$CREAM Target 1 achieved ✅  #charliecryptone https://t.co/zdvv8nWL1j\n",
            "$cream target 1 achieved #charliecryptone http\n",
            "( $IMX begins getting naked shorted ) https://t.co/yHCLINmJuX\n",
            "( $imx begins getting naked shorted ) http\n",
            "Every other coin:    1. White paper  2. IDO  3. Spend 5 years failing to build    $TRU (truebit is only in Uniswap) @Truebitprotocol:    1. Build Ethereum  2. Devs immediately move to $truebit  3. Spend 5 years building the core engine  4. Build dev community to begin dapps  5. Fair Launch https://t.co/shhnFiRPZg\n",
            "every other coin: 1. white paper 2. ido 3. spend 5 years failing to build $tru (truebit is only in uniswap) @user 1. build ethereum 2. devs immediately move to $truebit 3. spend 5 years building the core engine 4. build dev community to begin dapps 5. fair launch http\n",
            "$ANC  #Anchor protocol  Absolutely killing it\n",
            "$anc #anchor protocol absolutely killing it\n",
            "$CELO next target 3.8 $ , 4 $   LET'S GO 🚀 https://t.co/koe01zr7ub\n",
            "$celo next target 3.8 $ , 4 $ let's go http\n",
            "@bbtc $ANC love it\n",
            "@user $anc love it\n",
            "@deezy_BTC Buy more $ADA 😂😂😂\n",
            "@user buy more $ada\n",
            "growing economies with weekly $RLY rewards. This means that all holders of a creator coin can literally get paid just for supporting their favorite creators. 6. NFTs are just one part of a whole, give it a year a people will see why creator coins can be even bigger than NFTs.\n",
            "growing economies with weekly $rly rewards. this means that all holders of a creator coin can literally get paid just for supporting their favorite creators. 6. nfts are just one part of a whole, give it a year a people will see why creator coins can be even bigger than nfts.\n",
            "Looking at #CRO plays pooping out , are we gonna see a $CRO season soon ?\n",
            "looking at #cro plays pooping out , are we gonna see a $cro season soon ?\n",
            "$ADA is so fk*** undervalued\n",
            "$ada is so fk*** undervalued\n",
            "One thing.. I like $IMX @Immutable #immutableX I already grabbed them at 3,05, sold at peak. It's very low again. &lt;maybe with a crash ... 2,95-3.20 would be nice. Just be patience. You can see here, My first meeting with #IMX. And some charts now .. https://t.co/hSTCuTzR3U https://t.co/DQMMPzPSzo\n",
            "one thing.. i like $imx @user #immutablex i already grabbed them at 3,05, sold at peak. it's very low again. with a crash ... 2,95-3.20 would be nice. just be patience. you can see here, my first meeting with #imx. and some charts now .. http http\n",
            "First NFT with launchpad utility going live on Oasis Network soon!  Don't miss out this amazing artwork follow @rose_apes  #Oasis #OasisNetwork #roseapes #RosePad $ROSE #NFT https://t.co/5z1PkFnIMZ\n",
            "first nft with launchpad utility going live on oasis network soon! don't miss out this amazing artwork follow @user #oasis #oasisnetwork #roseapes #rosepad $rose #nft http\n",
            "StellaSwap going live with #Fantom #ILO on 22 Feb, 4PM UTC ⚡️    Bridge your $FTM to @MoonbeamNetwork with no fees now to earn 10% discount on STELLA! 💰    Bookmark the ILO page for later: https://t.co/Mz8x5tcxnd    #Fantom #ILO #FTM #StellaSwap https://t.co/r7nFQOzT3X\n",
            "stellaswap going live with #fantom #ilo on 22 feb, 4pm utc bridge your $ftm to @user with no fees now to earn 10% discount on stella! bookmark the ilo page for later: http #fantom #ilo #ftm #stellaswap http\n",
            "Opera browser now supports Handshake domains giving millions access to web3 and the decentralized internet. Make sure you own your online identity with $HNS top level domains.     Check out https://t.co/PNmCpiUUHU and https://t.co/nQQSnvAGtG\n",
            "opera browser now supports handshake domains giving millions access to web3 and the decentralized internet. make sure you own your online identity with $hns top level domains. check out http and http\n",
            "@TheSandboxGame I just participated in the daily #SandboxAlphaS2Contest for a chance to earn up to 1,000 $SAND! Starting March 8 - Find Michonne &amp; her zombies. Check out my screenshot below! 👇 #SandboxAlphaS2 https://t.co/2LSkNxyusN\n",
            "@user i just participated in the daily #sandboxalphas2contest for a chance to earn up to 1,000 $sand! starting march 8 - find michonne her zombies. check out my screenshot below! #sandboxalphas2 http\n",
            "@NunDaoSol Great project right here @KayodeAkinlade2 @OlasojiAyomide4 @comedianjossyb #Solana #SolanaAirdrop #NunDao $SOL #Solana #Airdrop\n",
            "@user great project right here @user #solana #solanaairdrop #nundao $sol #solana #airdrop\n",
            "@Ralvero Hmmm! #Faraland sir, both of $FARA and #Faraland #NFTs. And will you analyze #Bemil in the next month when it released sir?, https://t.co/NUiqmYcAl5\n",
            "@user hmmm! #faraland sir, both of $fara and #faraland #nfts. and will you analyze #bemil in the next month when it released sir?, http\n",
            "@MattWallace888 $Aave\n",
            "@user $aave\n",
            "$CREAM  All targets given have been met.  But I still believe there's still room for more upside just as the HTF looks even more promising.  🚀 🚀 https://t.co/DTax0qQNkg https://t.co/U7CS7dwcYe\n",
            "$cream all targets given have been met. but i still believe there's still room for more upside just as the htf looks even more promising. http http\n",
            "Full thanks to @Tradecrypto11  as they have analysed this #Crypto crash so my funds doesn't affected and I have not faced any type of losses  They are absolutely amazing in tips,advices and everything.  $BNB #BSC #BTC #Solana #NFTvv\n",
            "full thanks to @user as they have analysed this #crypto crash so my funds doesn't affected and i have not faced any type of losses they are absolutely amazing in tips,advices and everything. $bnb #bsc #btc #solana #nftvv\n",
            "So, how does the $ANC token capture value from this?   The answer is protocol fees and governance fees.\n",
            "so, how does the $anc token capture value from this? the answer is protocol fees and governance fees.\n",
            "@DODOCN Great project really hoping to get whitelisted on this huge project.Optimistic about the future of the project.  @yogaswara_sandy @booorinn @ilmys2708    $DODO #Moonriver #DODO\n",
            "@user great project really hoping to get whitelisted on this huge project.optimistic about the future of the project. @user $dodo #moonriver #dodo\n",
            "A lucky person will win 5000 $TRX    🍀To enter:-  Follow me RT🔁 and like❤️     Sign up link 👇👇👇    https://t.co/bbCgiuh3IK https://t.co/CWetY7BYie\n",
            "a lucky person will win 5000 $trx to enter:- follow me and like sign up link http http\n",
            "@GreatLeekster $IMX WILL POWER THE NFT MARKETPLACE LEVEL 2 Eth\n",
            "@user $imx will power the nft marketplace level 2 eth\n"
          ]
        }
      ]
    },
    {
      "cell_type": "code",
      "source": [
        "class CryptocurrencyDataset(Dataset):\n",
        "    def __init__(self, data, tokenizer, seq_length=16, n_ways=5, k_shots=1, k_queries=5):\n",
        "        self.n_ways = n_ways\n",
        "        self.k_shots = k_shots\n",
        "        self.k_queries = k_queries\n",
        "        self.tokenizer = tokenizer\n",
        "        self.seq_length = seq_length\n",
        "\n",
        "        proto_examples, proto_labels = data\n",
        "        self.proto_features = [self.text_to_features(example.text) for example in proto_examples]\n",
        "        self.proto_labels = np.array(proto_labels)\n",
        "        self.proto_classes = np.array(list(set(self.proto_labels)))\n",
        "        self.proto_classes_to_id = {v:k for k, v in enumerate(self.proto_classes)}\n",
        "        self.id_to_proto_classes = {v:k for k, v in self.proto_classes_to_id.items()}\n",
        "        self.nb_proto_classes = len(self.proto_classes)\n",
        "\n",
        "    def __len__(self):\n",
        "        return len(self.proto_labels)*self.n_ways*self.k_shots*self.k_queries\n",
        "\n",
        "    def __getitem__(self, item_poss):\n",
        "        support, support_mask, support_label = [], [], []\n",
        "        query, query_mask, query_label = [], [], []\n",
        "        target_classes = np.random.choice(self.proto_classes, self.n_ways, replace=False)\n",
        "        for class_idx, class_name in enumerate(target_classes):\n",
        "            support.append([])\n",
        "            support_mask.append([])\n",
        "            query.append([])\n",
        "            query_mask.append([])\n",
        "            label_index = np.argwhere(self.proto_labels==class_name).reshape(-1,)\n",
        "            samples = np.random.choice(label_index, self.k_shots + self.k_queries, replace=False)\n",
        "            for idx, sample in enumerate(samples):\n",
        "              if idx < self.k_shots:\n",
        "                support[class_idx].append(self.proto_features[sample].input_ids)\n",
        "                support_mask[class_idx].append(self.proto_features[sample].attention_mask)\n",
        "                support_label.append(self.proto_classes_to_id[class_name])\n",
        "              else:\n",
        "                query[class_idx].append(self.proto_features[sample].input_ids)\n",
        "                query_mask[class_idx].append(self.proto_features[sample].attention_mask)\n",
        "                query_label.append(self.proto_classes_to_id[class_name])\n",
        "            \n",
        "        return (torch.tensor(support, dtype=torch.long),\n",
        "                torch.tensor(support_mask, dtype=torch.long),\n",
        "                torch.tensor(query, dtype=torch.long),\n",
        "                torch.tensor(query_mask, dtype=torch.long),\n",
        "                torch.tensor(support_label, dtype=torch.long),\n",
        "                torch.tensor(query_label, dtype=torch.long))\n",
        "        \n",
        "    def text_to_features(self, inputs):\n",
        "      if isinstance(inputs, str):\n",
        "        encode = self.tokenizer.encode_plus(\n",
        "          inputs,\n",
        "          max_length = self.seq_length,\n",
        "          padding='max_length',\n",
        "          truncation=True,\n",
        "          return_attention_mask=True,\n",
        "          return_token_type_ids=False,\n",
        "          add_special_tokens = True,\n",
        "          # return_tensors = 'pt',\n",
        "          )\n",
        "      else:\n",
        "        encode = self.tokenizer.batch_encode_plus(\n",
        "          inputs,\n",
        "          max_length = self.seq_length,\n",
        "          padding='max_length',\n",
        "          truncation=True,\n",
        "          return_attention_mask=True,\n",
        "          return_token_type_ids=False,\n",
        "          add_special_tokens = True,\n",
        "          return_tensors = 'pt',\n",
        "          )\n",
        "      # return encode['input_ids'], encode['attention_mask']\n",
        "      return encode"
      ],
      "metadata": {
        "id": "SANWzg20LiZj"
      },
      "execution_count": 10,
      "outputs": []
    },
    {
      "cell_type": "code",
      "source": [
        "class CryptocurrencyDatasetEval(Dataset):\n",
        "    def __init__(self, train_data, val_data, tokenizer, seq_length=16, n_ways=5, k_shots=1):\n",
        "        self.n_ways = n_ways\n",
        "        self.k_shots = k_shots\n",
        "        # self.k_queries = k_queries\n",
        "        self.tokenizer = tokenizer\n",
        "        self.seq_length = seq_length\n",
        "\n",
        "        proto_examples, proto_labels = train_data\n",
        "        self.proto_features = [self.text_to_features(example.text) for example in proto_examples]\n",
        "        self.proto_labels = np.array(proto_labels)\n",
        "        self.proto_classes = np.array(list(set(self.proto_labels)))\n",
        "        self.proto_classes_to_id = {v:k for k, v in enumerate(self.proto_classes)}\n",
        "        self.id_to_proto_classes = {v:k for k, v in self.proto_classes_to_id.items()}\n",
        "        self.nb_proto_classes = len(self.proto_classes)\n",
        "\n",
        "        examples, labels = val_data\n",
        "        self.features = [self.text_to_features(example.text) for example in examples]\n",
        "        self.labels = np.array(labels)\n",
        "        self.classes = np.array(list(set(self.labels)))\n",
        "\n",
        "    def __len__(self):\n",
        "        return len(self.labels)\n",
        "\n",
        "    def __getitem__(self, item_poss):\n",
        "        support, support_mask, support_label = [], [], []\n",
        "        query, query_mask, query_label = [], [], []\n",
        "        target_classes = np.random.choice(self.proto_classes, self.n_ways, replace=False)\n",
        "        for class_idx, class_name in enumerate(target_classes):\n",
        "            support.append([])\n",
        "            support_mask.append([])\n",
        "            label_index = np.argwhere(self.proto_labels==class_name).reshape(-1,)\n",
        "            samples = np.random.choice(label_index, self.k_shots, replace=False)\n",
        "            for idx, sample in enumerate(samples):\n",
        "              support[class_idx].append(self.proto_features[sample].input_ids)\n",
        "              support_mask[class_idx].append(self.proto_features[sample].attention_mask)\n",
        "              support_label.append(self.proto_classes_to_id[class_name])\n",
        "\n",
        "        query.append([])\n",
        "        query_mask.append([])\n",
        "        query[0].append(self.features[item_poss].input_ids)\n",
        "        query_mask[0].append(self.features[item_poss].attention_mask)\n",
        "        query_label.append(self.proto_classes_to_id[self.labels[item_poss]])\n",
        "            \n",
        "        return (torch.tensor(support, dtype=torch.long),\n",
        "                torch.tensor(support_mask, dtype=torch.long),\n",
        "                torch.tensor(query, dtype=torch.long),\n",
        "                torch.tensor(query_mask, dtype=torch.long),\n",
        "                torch.tensor(support_label, dtype=torch.long),\n",
        "                torch.tensor(query_label, dtype=torch.long))\n",
        "    def text_to_features(self, inputs):\n",
        "      if isinstance(inputs, str):\n",
        "        encode = self.tokenizer.encode_plus(\n",
        "          inputs,\n",
        "          max_length = self.seq_length,\n",
        "          padding='max_length',\n",
        "          truncation=True,\n",
        "          return_attention_mask=True,\n",
        "          return_token_type_ids=False,\n",
        "          add_special_tokens = True,\n",
        "          # return_tensors = 'pt',\n",
        "          )\n",
        "      else:\n",
        "        encode = self.tokenizer.batch_encode_plus(\n",
        "          inputs,\n",
        "          max_length = self.seq_length,\n",
        "          padding='max_length',\n",
        "          truncation=True,\n",
        "          return_attention_mask=True,\n",
        "          return_token_type_ids=False,\n",
        "          add_special_tokens = True,\n",
        "          return_tensors = 'pt',\n",
        "          )\n",
        "      # return encode['input_ids'], encode['attention_mask']\n",
        "      return encode"
      ],
      "metadata": {
        "id": "F4x7Ey-h5SgH"
      },
      "execution_count": 11,
      "outputs": []
    },
    {
      "cell_type": "code",
      "source": [
        "class GaussianNoise(nn.Module):\n",
        "    def __init__(self, sigma=0.1):\n",
        "        super(GaussianNoise, self).__init__()\n",
        "        self.sigma = sigma\n",
        "\n",
        "    def forward(self, x):\n",
        "        if self.training:\n",
        "            noise = torch.randn_like(x) * self.sigma\n",
        "            return x + noise\n",
        "        else:\n",
        "            return x"
      ],
      "metadata": {
        "id": "VmYLF5vuyAfq"
      },
      "execution_count": 12,
      "outputs": []
    },
    {
      "cell_type": "code",
      "source": [
        "# Calculates Euclidean distance between class protoypes and query samples\n",
        "class L2Distance(nn.Module):\n",
        "  def __init__(self):\n",
        "    super(L2Distance, self).__init__()\n",
        "\n",
        "  def forward(self, support, query):\n",
        "    \"\"\"\n",
        "    Args:\n",
        "        support: torch.Tensor, [B, totalQ, N, D]\n",
        "        query: torch.Tensor, [B, totalQ, N, D]\n",
        "        \n",
        "    Returns:\n",
        "        relation_score: torch.Tensor, [B, totalQ, N]\"\"\"\n",
        "    l2_distance = torch.pow(support - query, 2).sum(-1, keepdim=False)  # [B, totalQ, N]\n",
        "    return F.softmax(-l2_distance, dim=-1)"
      ],
      "metadata": {
        "id": "uo3l1pcW67j9"
      },
      "execution_count": 13,
      "outputs": []
    },
    {
      "cell_type": "code",
      "source": [
        "def prototypical_loss(predict_proba, label):\n",
        "  \"\"\"prototypical_loss.\n",
        "      Args:\n",
        "          predict_proba: torch.Tensor, [B, totalQ, N]\n",
        "          label: torch.Tensor, [B, totalQ]\n",
        "          \n",
        "      Returns:\n",
        "          loss: torch.Float\"\"\"\n",
        "  N = predict_proba.size(-1)\n",
        "  return F.cross_entropy(predict_proba.view(-1, N), label.view(-1))"
      ],
      "metadata": {
        "id": "dbD7hJlM7Joe"
      },
      "execution_count": 14,
      "outputs": []
    },
    {
      "cell_type": "code",
      "source": [
        "def mean_accuracy(predict_label, label):\n",
        "  return torch.mean((predict_label.view(-1) == label.view(-1)).type(torch.FloatTensor))"
      ],
      "metadata": {
        "id": "P7nmkyh87U8R"
      },
      "execution_count": 15,
      "outputs": []
    },
    {
      "cell_type": "code",
      "source": [
        "def mean_pooling(model_output, attention_mask):\n",
        "    token_embeddings = model_output[0] #First element of model_output contains all token embeddings\n",
        "    input_mask_expanded = attention_mask.unsqueeze(-1).expand(token_embeddings.size()).float()\n",
        "    return torch.sum(token_embeddings * input_mask_expanded, 1) / torch.clamp(input_mask_expanded.sum(1), min=1e-9)\n",
        "\n",
        "class PrototypicalNetwork(nn.Module):\n",
        "    def __init__(self, bert_model):\n",
        "        super(PrototypicalNetwork, self).__init__()\n",
        "        self.bert_model = bert_model\n",
        "        # self.encoder = nn.Sequential(\n",
        "        #     # GaussianNoise(0.1),\n",
        "        #     nn.Dropout(0.2),\n",
        "        #     # nn.Linear(self.bert_model.config.hidden_size, self.bert_model.config.hidden_size),\n",
        "        #     # nn.ReLU(),\n",
        "        #     # GaussianNoise(0.1),\n",
        "        #     # nn.Dropout(0.2),\n",
        "        #     # nn.Linear(self.bert_model.config.hidden_size, out_channels)\n",
        "        # )\n",
        "\n",
        "    def forward(self, ids, ids_mask):\n",
        "      \"\"\"Prototype Networks forward.\n",
        "      Args:\n",
        "          ids: torch.Tensor, [-1, N, K, max_length]\n",
        "          ids_mask: torch.Tensor, [-1, N, K, max_length]\n",
        "          \n",
        "      Returns:\n",
        "          ids: torch.Tensor, [B, N*K, D]\"\"\"\n",
        "      B, N, K, max_length = ids.size()\n",
        "      \n",
        "      # 1. Encoder\n",
        "      ids = ids.view(-1, max_length)  # [B * N * K, max_length]\n",
        "      ids_mask = ids_mask.view(-1, max_length)\n",
        "      ids = self.bert_model(input_ids=ids, attention_mask=ids_mask)[1]  # [B * N * K, D]\n",
        "      # ids = self.encoder(ids)\n",
        "      # Perform pooling\n",
        "      # ids = mean_pooling(ids, ids_mask)\n",
        "      # Normalize embeddings\n",
        "      id = F.normalize(ids, p=2, dim=1)\n",
        "      ids = ids.view(B, -1, ids.size()[-1])  # [B, N*K, D] D=self.bert_model.config.hidden_size\n",
        "      return ids"
      ],
      "metadata": {
        "id": "_zPb_KJINVXZ"
      },
      "execution_count": 16,
      "outputs": []
    },
    {
      "cell_type": "code",
      "source": [
        "def get_num_samples(targets, num_classes, dtype=None):\n",
        "    \"\"\" count number of same shots examples and set this value taking\n",
        "    in account all total classes\n",
        "    Parameters\n",
        "    ----------\n",
        "    targets: `torch.IntegerTensor` instance\n",
        "    has shape `((batch_size, num_examples))`\n",
        "\n",
        "    num_classes: int, number of classes.\n",
        "    Returns\n",
        "    -------\n",
        "    num_samples: ((batch_size, num_classes))    \n",
        "    \"\"\"\n",
        "    batch_size = targets.size(0)\n",
        "    with torch.no_grad():\n",
        "        ones = torch.ones_like(targets, dtype=dtype)\n",
        "        num_samples = ones.new_zeros((batch_size, num_classes))\n",
        "        num_samples.scatter_add_(1, targets, ones)\n",
        "    return num_samples\n",
        "\n",
        "\n",
        "def get_prototypes(embeddings, targets, num_classes):\n",
        "    \"\"\"Compute the prototypes (the mean vector of the embedded training/support \n",
        "    points belonging to its class) for each classes in the task.\n",
        "    Parameters\n",
        "    ----------\n",
        "    embeddings : `torch.FloatTensor` instance\n",
        "        A tensor containing the embeddings of the support points. This tensor \n",
        "        has shape `(batch_size, num_examples, embedding_size)`.\n",
        "    targets : `torch.LongTensor` instance\n",
        "        A tensor containing the targets of the support points. This tensor has \n",
        "        shape `(batch_size, num_examples)`.\n",
        "    num_classes : int\n",
        "        Number of classes in the task.\n",
        "    Returns\n",
        "    -------\n",
        "    prototypes : `torch.FloatTensor` instance\n",
        "        A tensor containing the prototypes for each class. This tensor has shape\n",
        "        `(batch_size, num_classes, embedding_size)`.\n",
        "    \"\"\"\n",
        "    batch_size, embedding_size = embeddings.size(0), embeddings.size(-1)\n",
        "    \n",
        "    num_samples = get_num_samples(targets, num_classes, dtype=embeddings.dtype)\n",
        "    num_samples.unsqueeze_(-1)\n",
        "    num_samples = torch.max(num_samples, torch.ones_like(num_samples))\n",
        "\n",
        "    prototypes = embeddings.new_zeros((batch_size, num_classes, embedding_size))\n",
        "    indices = targets.unsqueeze(-1).expand_as(embeddings)\n",
        "    prototypes.scatter_add_(1, indices, embeddings).div_(num_samples)\n",
        "\n",
        "    return prototypes\n",
        "\n",
        "# def prototypical_loss(prototypes, embeddings, targets, **kwargs):\n",
        "#     \"\"\"Compute the loss (i.e. negative log-likelihood) for the prototypical \n",
        "#     network, on the test/query points.\n",
        "#     Parameters\n",
        "#     ----------\n",
        "#     prototypes : `torch.FloatTensor` instance\n",
        "#         A tensor containing the prototypes for each class. This tensor has shape \n",
        "#         `(batch_size, num_classes, embedding_size)`.\n",
        "#     embeddings : `torch.FloatTensor` instance\n",
        "#         A tensor containing the embeddings of the query points. This tensor has \n",
        "#         shape `(batch_size, num_examples, embedding_size)`.\n",
        "#     targets : `torch.LongTensor` instance\n",
        "#         A tensor containing the targets of the query points. This tensor has \n",
        "#         shape `(batch_size, num_examples)`.\n",
        "#     Returns\n",
        "#     -------\n",
        "#     loss : `torch.FloatTensor` instance\n",
        "#         The negative log-likelihood on the query points.\n",
        "#     \"\"\"\n",
        "#     B, classes, D = prototypes.size() \n",
        "#     B, examples, D = embeddings.size() \n",
        "#     prototypes = prototypes.unsqueeze(1).repeat(1,examples,1,1).view(-1,D)\n",
        "#     embeddings = embeddings.unsqueeze(2).repeat(1,1,classes,1).view(-1,D)\n",
        "#     targets = 2*F.one_hot(targets, num_classes=classes).view(-1,)-1\n",
        "#     return torch.nn.CosineEmbeddingLoss()(prototypes, embeddings , targets)\n",
        "\n",
        "def prototypical_loss(prototypes, embeddings, targets, **kwargs):\n",
        "    \"\"\"Compute the loss (i.e. negative log-likelihood) for the prototypical \n",
        "    network, on the test/query points.\n",
        "    Parameters\n",
        "    ----------\n",
        "    prototypes : `torch.FloatTensor` instance\n",
        "        A tensor containing the prototypes for each class. This tensor has shape \n",
        "        `(batch_size, num_classes, embedding_size)`.\n",
        "    embeddings : `torch.FloatTensor` instance\n",
        "        A tensor containing the embeddings of the query points. This tensor has \n",
        "        shape `(batch_size, num_examples, embedding_size)`.\n",
        "    targets : `torch.LongTensor` instance\n",
        "        A tensor containing the targets of the query points. This tensor has \n",
        "        shape `(batch_size, num_examples)`.\n",
        "    Returns\n",
        "    -------\n",
        "    loss : `torch.FloatTensor` instance\n",
        "        The negative log-likelihood on the query points.\n",
        "    \"\"\"\n",
        "    squared_distances = torch.sum((prototypes.unsqueeze(2)\n",
        "        - embeddings.unsqueeze(1)) ** 2, dim=-1)\n",
        "    return F.cross_entropy(-squared_distances, targets, **kwargs)\n",
        "\n",
        "def get_accuracy(prototypes, embeddings, targets):\n",
        "    \"\"\"Compute the accuracy of the prototypical network on the test/query points.\n",
        "    Parameters\n",
        "    ----------\n",
        "    prototypes : `torch.FloatTensor` instance\n",
        "        A tensor containing the prototypes for each class. This tensor has shape \n",
        "        `(meta_batch_size, num_classes, embedding_size)`.\n",
        "    embeddings : `torch.FloatTensor` instance\n",
        "        A tensor containing the embeddings of the query points. This tensor has \n",
        "        shape `(meta_batch_size, num_examples, embedding_size)`.\n",
        "    targets : `torch.LongTensor` instance\n",
        "        A tensor containing the targets of the query points. This tensor has \n",
        "        shape `(meta_batch_size, num_examples)`.\n",
        "    Returns\n",
        "    -------\n",
        "    accuracy : `torch.FloatTensor` instance\n",
        "        Mean accuracy on the query points.\n",
        "    \"\"\"\n",
        "    sq_distances = torch.sum((prototypes.unsqueeze(1)\n",
        "        - embeddings.unsqueeze(2)) ** 2, dim=-1)\n",
        "    _, predictions = torch.min(sq_distances, dim=-1)\n",
        "    return torch.mean(predictions.eq(targets).float()), predictions\n",
        "\n",
        "# def get_accuracy(prototypes, embeddings, targets):\n",
        "#     \"\"\"\n",
        "#     Compute the accuracy of the prototypical network on the test/query points using cosine similarity.\n",
        "#     \"\"\"\n",
        "#     # Compute cosine similarity between prototypes and embeddings\n",
        "#     sim = F.cosine_similarity(prototypes.unsqueeze(1), embeddings.unsqueeze(2), dim=-1)\n",
        "#     # Predict class with the highest cosine similarity\n",
        "#     _, predictions = torch.max(sim, dim=2)\n",
        "#     # Compute mean accuracy\n",
        "#     accuracy = torch.mean(predictions.eq(targets).float())\n",
        "#     return accuracy, predictions"
      ],
      "metadata": {
        "id": "9W6lNoIXhWFp"
      },
      "execution_count": 17,
      "outputs": []
    },
    {
      "cell_type": "code",
      "source": [
        "def fit(prototypical_model, data_loader, optimizer, scheduler, train_steps):\n",
        "  prototypical_model.train()\n",
        "  total_loss, total_accuracy = 0, 0\n",
        "  with tqdm(data_loader, total=train_steps) as pbar:\n",
        "    for batch_idx, batch in enumerate(pbar):\n",
        "      if batch_idx >= train_steps:\n",
        "          break\n",
        "\n",
        "      support, support_mask, query, query_mask, support_label, query_label = [tensor.to(device) for tensor in batch]\n",
        "      support_embedding = prototypical_model(support, support_mask)\n",
        "      query_embedding = prototypical_model(query, query_mask)\n",
        "\n",
        "      prototypes = get_prototypes(support_embedding, support_label,data_loader.dataset.nb_proto_classes)\n",
        "      loss = prototypical_loss(prototypes, query_embedding, query_label)\n",
        "      loss.backward()\n",
        "      optimizer.step()\n",
        "      optimizer.zero_grad()\n",
        "      scheduler.step()\n",
        "\n",
        "      with torch.no_grad():\n",
        "        accuracy, _ = get_accuracy(prototypes, query_embedding, query_label)\n",
        "        pbar.set_postfix(accuracy='{0:.4f}'.format(accuracy.item()))\n",
        "      # add on to the total loss\n",
        "      total_loss = total_loss + loss.item()\n",
        "      total_accuracy = total_accuracy + accuracy.item()\n",
        "    return total_loss/train_steps, total_accuracy/train_steps"
      ],
      "metadata": {
        "id": "sfr5iYLRO3n8"
      },
      "execution_count": 18,
      "outputs": []
    },
    {
      "cell_type": "code",
      "source": [
        "def eval(prototypical_model, data_loader):\n",
        "  # switch prototypical_model to evaluation mode\n",
        "  prototypical_model.eval()\n",
        "  total_loss, total_accuracy = 0, 0\n",
        "  # iterate over batches in test loader\n",
        "  steps = len(data_loader)\n",
        "  with torch.no_grad():\n",
        "    with tqdm(data_loader, total=steps) as pbar:\n",
        "      for batch_idx, batch in enumerate(pbar):\n",
        "        support, support_mask, query, query_mask, support_label, query_label = [tensor.to(device) for tensor in batch]\n",
        "        support_embedding = prototypical_model(support, support_mask)\n",
        "        query_embedding = prototypical_model(query, query_mask)\n",
        "\n",
        "        prototypes = get_prototypes(support_embedding, support_label,data_loader.dataset.nb_proto_classes)\n",
        "        loss = prototypical_loss(prototypes, query_embedding, query_label)\n",
        "        accuracy, _ = get_accuracy(prototypes, query_embedding, query_label)\n",
        "        # add on to the total loss\n",
        "        total_loss = total_loss + loss.item()\n",
        "        total_accuracy = total_accuracy + accuracy.item()\n",
        "        pbar.set_postfix(accuracy='{0:.4f}'.format(accuracy.item()))\n",
        "      return total_loss/steps, total_accuracy/steps"
      ],
      "metadata": {
        "id": "EHRYP96eSSip"
      },
      "execution_count": 19,
      "outputs": []
    },
    {
      "cell_type": "code",
      "source": [
        "def test(prototypical_model, data_loader):\n",
        "  # switch prototypical_model to evaluation mode\n",
        "  prototypical_model.eval()\n",
        "  total_loss, total_accuracy = 0, 0\n",
        "  # iterate over batches in test loader\n",
        "  predicted_labels = []\n",
        "  labels = []\n",
        "  steps = len(data_loader)\n",
        "  with torch.no_grad():\n",
        "    with tqdm(data_loader, total=steps) as pbar:\n",
        "      for batch_idx, batch in enumerate(pbar):\n",
        "        support, support_mask, query, query_mask, support_label, query_label = [tensor.to(device) for tensor in batch]\n",
        "        support_embedding = prototypical_model(support, support_mask)\n",
        "        query_embedding = prototypical_model(query, query_mask)\n",
        "\n",
        "        prototypes = get_prototypes(support_embedding, support_label,data_loader.dataset.nb_proto_classes)\n",
        "        loss = prototypical_loss(prototypes, query_embedding, query_label)\n",
        "        accuracy, predict_label = get_accuracy(prototypes, query_embedding, query_label)\n",
        "        # add on to the total loss\n",
        "        total_loss = total_loss + loss.item()\n",
        "        total_accuracy = total_accuracy + accuracy.item()\n",
        "\n",
        "        predicted_labels.extend(predict_label.view(-1,).detach().cpu().numpy().tolist())\n",
        "        labels.extend(query_label.view(-1,).detach().cpu().numpy().tolist())\n",
        "        pbar.set_postfix(accuracy='{0:.4f}'.format(accuracy.item()))\n",
        "      return total_loss/steps, total_accuracy/steps, labels, predicted_labels "
      ],
      "metadata": {
        "id": "L40GZ3uTK5yb"
      },
      "execution_count": 20,
      "outputs": []
    },
    {
      "cell_type": "code",
      "source": [
        "def training(epoch, lr, tokenizer_length, n_ways, k_shots, k_queries, train_steps):\n",
        "  # empty lists to store training and validation loss of each epoch\n",
        "  train_losses=[]\n",
        "  valid_losses=[]\n",
        "\n",
        "  train_accuracies=[]\n",
        "  valid_accuracies=[]\n",
        "  try:\n",
        "    # # import BERT-base pretrained model\n",
        "    # # bert = T5EncoderModel.from_pretrained('sentence-transformers/sentence-t5-base')\n",
        "    # # bert = AutoModel.from_pretrained('bert-base-uncased')\n",
        "    # bert = AutoModel.from_pretrained('sentence-transformers/bert-base-nli-mean-tokens')\n",
        "    # # bert = AutoModel.from_pretrained('microsoft/MiniLM-L12-H384-uncased')\n",
        "    # # bert = RobertaModel.from_pretrained('roberta-base')\n",
        "    # # Load the BERT tokenizer\n",
        "    # # tokenizer = T5Tokenizer.from_pretrained('t5-base',do_lower_case=True)\n",
        "    # # tokenizer = BertTokenizerFast.from_pretrained('bert-base-uncased',do_lower_case=True)\n",
        "    # tokenizer = BertTokenizerFast.from_pretrained('sentence-transformers/bert-base-nli-mean-tokens',do_lower_case=True)\n",
        "    # # tokenizer = BertTokenizerFast.from_pretrained('microsoft/MiniLM-L12-H384-uncased',do_lower_case=True)\n",
        "    # # tokenizer = RobertaTokenizer.from_pretrained('roberta-base',do_lower_case=True)\n",
        "    # #initialize model\n",
        "    # # model = PrototypicalNetwork(bert, 256, hidden_size=512)\n",
        "    # model = PrototypicalNetwork(bert)\n",
        "    # model.to(device)\n",
        "\n",
        "    # Example usage:\n",
        "    crypto_train = CryptocurrencyDataset(train_examples, tokenizer, tokenizer_length, n_ways, k_shots, k_queries)\n",
        "    train_loader = DataLoader(crypto_train, batch_size=2, shuffle=True)\n",
        "    # crypto_val = CryptocurrencyDataset(val_text, val_labels, tokenizer, max_seq_len, Nc = Nc, Ni = 1, Nq = 1)\n",
        "    crypto_val = CryptocurrencyDatasetEval(train_examples,val_examples, tokenizer, tokenizer_length, n_ways, k_shots)\n",
        "    val_loader = DataLoader(crypto_val, batch_size=8, shuffle=True)\n",
        "\n",
        "    \n",
        "    # Initialize variables for early stopping\n",
        "    # set initial loss to infinite\n",
        "    best_valid_loss = float('inf')\n",
        "    best_valid_acc = 0\n",
        "    # best_acc = 0.0\n",
        "    best_epoch = 0\n",
        "    patience = epochs*0.20\n",
        "\n",
        "    parameter_list = list(model.named_parameters())\n",
        "    no_decay = [\"bias\", \"LayerNorm.bias\", \"LayerNorm.weight\"]  # Do not use weight decay.\n",
        "    optimizer = Adam(\n",
        "        [\n",
        "            {\n",
        "                \"params\": [param for name, param in parameter_list\n",
        "                if not any(nd in name for nd in no_decay)],\n",
        "                \"weight_decay\": 0.0\n",
        "            },\n",
        "            {\n",
        "                \"params\": [param for name, param in parameter_list\n",
        "                if any(nd in name for nd in no_decay)],\n",
        "                \"weight_decay\": 0.0\n",
        "            }\n",
        "        ], lr=lr, \n",
        "        # weight_decay=1e-3,\n",
        "        betas=(0.9,0.999),\n",
        "        eps=1e-08\n",
        "    )\n",
        "    scheduler = transformers.get_linear_schedule_with_warmup(\n",
        "          optimizer,\n",
        "          num_warmup_steps=int(0.06 * 400),\n",
        "          num_training_steps=400\n",
        "      )\n",
        "    # scheduler = transformers.get_polynomial_decay_schedule_with_warmup(\n",
        "    #       optimizer,\n",
        "    #       num_warmup_steps=int(0.05 * 400),\n",
        "    #       num_training_steps=400,\n",
        "    #       power = 3,\n",
        "    #       lr_end=1e-8\n",
        "    #   )\n",
        "    \n",
        "    # scheduler = optim.lr_scheduler.CosineAnnealingLR(optimizer, T_max=20)\n",
        "    for epoch in range(epochs):\n",
        "      print('\\n Epoch {:} / {:}'.format(epoch + 1, epochs))\n",
        "      train_loss, train_accuracy = fit(model, train_loader, optimizer, scheduler, train_steps)\n",
        "\n",
        "      # scheduler.step()\n",
        "      valid_loss, valid_accuracy = eval(model, val_loader)\n",
        "      # Update the scheduler and early stopping\n",
        "      if valid_accuracy > best_valid_acc:\n",
        "          best_valid_acc = valid_accuracy\n",
        "          best_epoch = epoch\n",
        "          torch.save(model.state_dict(), 'saved_weights.pt')\n",
        "\n",
        "      if valid_loss < best_valid_loss:\n",
        "          best_valid_loss = valid_loss\n",
        "          # best_epoch = epoch\n",
        "          torch.save(model.state_dict(), 'saved_weights_l.pt')\n",
        "    \n",
        "      # append training and validation loss\n",
        "      train_losses.append(train_loss)\n",
        "      valid_losses.append(valid_loss)\n",
        "      train_accuracies.append(train_accuracy)\n",
        "      valid_accuracies.append(valid_accuracy)\n",
        "      print(f'\\nTraining Loss: {train_loss:.3f} Training Accuracy: {train_accuracy:.3f}')\n",
        "      print(f'Validation Loss: {valid_loss:.3f} Validation Accuracy: {valid_accuracy:.3f}')\n",
        "        \n",
        "      if epoch - best_epoch > patience:\n",
        "          print(\"Early stopping: Validation loss did not improve for {} epochs\".format(patience))\n",
        "          break\n",
        "  except Exception as inst:\n",
        "    print(inst) \n",
        "  except KeyboardInterrupt:\n",
        "    return train_accuracies, train_losses, valid_accuracies, valid_losses\n",
        "  return train_accuracies, train_losses, valid_accuracies, valid_losses"
      ],
      "metadata": {
        "id": "fxBAiWN9Uwa-"
      },
      "execution_count": 21,
      "outputs": []
    },
    {
      "cell_type": "code",
      "source": [
        "# import BERT-base pretrained model\n",
        "# bert = AutoModel.from_pretrained('yiyanghkust/finbert-tone')\n",
        "# tokenizer = BertTokenizerFast.from_pretrained('yiyanghkust/finbert-tone',do_lower_case=True) 0\n",
        "# bert = AutoModel.from_pretrained('sentence-transformers/bert-base-nli-mean-tokens')\n",
        "# tokenizer = BertTokenizerFast.from_pretrained('sentence-transformers/bert-base-nli-mean-tokens',do_lower_case=True)\n",
        "# bert = AutoModel.from_pretrained('sentence-transformers/all-MiniLM-L6-v2')\n",
        "# tokenizer = BertTokenizerFast.from_pretrained('sentence-transformers/all-MiniLM-L6-v2')\n",
        "bert = AutoModel.from_pretrained('microsoft/MiniLM-L12-H384-uncased')\n",
        "tokenizer = BertTokenizerFast.from_pretrained('microsoft/MiniLM-L12-H384-uncased',do_lower_case=True)"
      ],
      "metadata": {
        "id": "QF3JP0cxppW2",
        "colab": {
          "base_uri": "https://localhost:8080/",
          "height": 177,
          "referenced_widgets": [
            "5c11f60c7363461dbad26d0690d03f41",
            "7c87c81f8b264e8e96f1336ff9db9238",
            "bdb42b4f63e24bcdb7acfb6510d627ad",
            "0df798dd6f7445eca366e6026cb4bef9",
            "179aa035e17f493e94379d610c4810ee",
            "69e9593e3c2e4fc29668a41004da2ecb",
            "f21db790f3c8482cb9a0dd42c99d6b04",
            "42115fe696d34aa793a8a74a6cf14d0c",
            "a61799ed3692417ab08a66d1ce4e296d",
            "495628fe384842f9b457fba803707faa",
            "13e1dcf2fac845578e09f702be43167b",
            "629806e2895045aeb4e09682309198df",
            "ea1c3b17c60446a2941f98ff20d29c15",
            "83bb2ce5fbf14258b6582b616f430753",
            "0f52cb574db34d07b967ceae1d7c4a10",
            "dd84727e9bb141c1b5c028ae0c0374a8",
            "39e368bbd4f3465b93c4e02a5f273f79",
            "9e584705acf543e399f540ac9e827861",
            "d7a38f11ccd74e92bd042257b35e0733",
            "96e89f28c9fe4f429f3e4a52b904004f",
            "8246c65bfeed4a668b9dc38cabcdc567",
            "ecfc4957dbf6486a95b98f9f26fa226b",
            "4789ce21ae214a1495211f36a83a52dc",
            "af1b4f88fa414ca79637fc406aed56e5",
            "56f9613573d44218b9475108397c431e",
            "96162f137bdd419fac8c8f7a012ce8a1",
            "c5872ef4c38e4b4e9aed0f49eb675bce",
            "ed167d70850d4d408f75426dea5c239f",
            "f72e7f543d254d5482b60166111d3bff",
            "729e6755f0fe450d9eedf96052c75fa5",
            "d9305295d38f44eab355d13fa23cf317",
            "5eb7c371457c454d8c115ec04cf62e6f",
            "a2a4b2ddbcca46b5b11fa5800800072d",
            "6dc0eda2f0c14f45bb978a052bb4c524",
            "bdbc1d7dcd114285bcaac28bc4d90cea",
            "e82fb0d394b34e4d9efcac927b75d99b",
            "c6549f4777354a20aa08735212799e2e",
            "3d07e778bc2d4cb3bddcd2a5221cd04b",
            "9f95d59ee0664cc7834d0d4adf63411a",
            "401139029827466a80dc8df9eee42b20",
            "1fec0d1be004474b91ebd7d2915f14e2",
            "f58d053b9d7047daa5287c7ef5a9d6f5",
            "c4380cb763b2421ea1faf5b0d35a1178",
            "69f2033117d74b68ba47bb9e0a3784c7",
            "63cab447b9ec49508ba84cef9cfbdc75",
            "310afa36eb8948c9803157e56b2bd5a7",
            "2be9f5074e7b4f6893f4f79cefb5332c",
            "ce4b91538bc74e67858ec5d7672465e2",
            "fa453f4c3177444c92bb8b7f32262238",
            "df06b98b55ef4265977a4874c61aed3d",
            "4878a3b4fda54a89a587a768931d2c54",
            "e915c5faf18746f2b59be710b18e0a4f",
            "0c65c36ea2364baebdb70269fdf02b32",
            "b1c7121bfb604d7aa63277ff7aefada3",
            "d784792d4fe241cd91c238c67c5fbf08"
          ]
        },
        "outputId": "8e1afbe4-8fe1-46af-f3c5-501c56ef4494"
      },
      "execution_count": 22,
      "outputs": [
        {
          "output_type": "display_data",
          "data": {
            "text/plain": [
              "Downloading (…)lve/main/config.json:   0%|          | 0.00/385 [00:00<?, ?B/s]"
            ],
            "application/vnd.jupyter.widget-view+json": {
              "version_major": 2,
              "version_minor": 0,
              "model_id": "5c11f60c7363461dbad26d0690d03f41"
            }
          },
          "metadata": {}
        },
        {
          "output_type": "display_data",
          "data": {
            "text/plain": [
              "Downloading pytorch_model.bin:   0%|          | 0.00/133M [00:00<?, ?B/s]"
            ],
            "application/vnd.jupyter.widget-view+json": {
              "version_major": 2,
              "version_minor": 0,
              "model_id": "629806e2895045aeb4e09682309198df"
            }
          },
          "metadata": {}
        },
        {
          "output_type": "display_data",
          "data": {
            "text/plain": [
              "Downloading (…)okenizer_config.json:   0%|          | 0.00/2.00 [00:00<?, ?B/s]"
            ],
            "application/vnd.jupyter.widget-view+json": {
              "version_major": 2,
              "version_minor": 0,
              "model_id": "4789ce21ae214a1495211f36a83a52dc"
            }
          },
          "metadata": {}
        },
        {
          "output_type": "display_data",
          "data": {
            "text/plain": [
              "Downloading (…)solve/main/vocab.txt:   0%|          | 0.00/232k [00:00<?, ?B/s]"
            ],
            "application/vnd.jupyter.widget-view+json": {
              "version_major": 2,
              "version_minor": 0,
              "model_id": "6dc0eda2f0c14f45bb978a052bb4c524"
            }
          },
          "metadata": {}
        },
        {
          "output_type": "display_data",
          "data": {
            "text/plain": [
              "Downloading (…)cial_tokens_map.json:   0%|          | 0.00/112 [00:00<?, ?B/s]"
            ],
            "application/vnd.jupyter.widget-view+json": {
              "version_major": 2,
              "version_minor": 0,
              "model_id": "63cab447b9ec49508ba84cef9cfbdc75"
            }
          },
          "metadata": {}
        }
      ]
    },
    {
      "cell_type": "code",
      "source": [
        "#text preprocessing\n",
        "text_seq_length = 80\n",
        "train_examples = dataToInputExample(train_data,text_seq_length)\n",
        "val_examples = dataToInputExample(val_data,text_seq_length)\n",
        "seq_len = [len(tokenizer.encode(i.text)) for i in train_examples[0]]\n",
        "pd.Series(seq_len).hist(bins = 30)"
      ],
      "metadata": {
        "colab": {
          "base_uri": "https://localhost:8080/",
          "height": 1000
        },
        "id": "nC6XA1fPNiHh",
        "outputId": "941298db-c113-4408-fab9-cef3f3922335"
      },
      "execution_count": 23,
      "outputs": [
        {
          "output_type": "stream",
          "name": "stdout",
          "text": [
            "Aave Core Team Launches Social Media Platform Lens Protocol  https://t.co/utEz5xUicC  #AaveProtocol #Aave #SocialMedia #LensProtocol #SocialMediaPlatform $Aave #coinspeaker #crypto #cryptocurrency https://t.co/1Cod6bjVvC\n",
            "aave core team launches social media platform lens protocol http #aaveprotocol #aave #socialmedia #lensprotocol #socialmediaplatform $aave #coinspeaker #crypto #cryptocurrency http\n",
            "@svantetobias @R2D3X @mikedemarais lmao ICANN is literally your king. They control the DNS root zone &amp; basically everyone in the ENS DAO (myself included) voted not to add TLDs unless granted by a DNS authority.  $HNS @NamebaseHQ is the only permissio\n",
            "@user lmao icann is literally your king. they control the dns root zone basically everyone in the ens dao (myself included) voted not to add tlds unless granted by a dns authority. $hns @user is the only permissio\n",
            "Public testnet has officially launched!  Shoutout to all the testooors from our private testnet who gave us lots of great feedback.   Head over to https://t.co/5U31MjmsHn to test the product out for yourself!  https://t.co/xas99fHRiw  #Algorand #xBacked $ALGO https://t.co/fbyQDaZFhD\n",
            "public testnet has officially launched! shoutout to all the testooors from our private testnet who gave us lots of great feedback. head over to http to test the product out for yourself! http #algorand #xbacked $algo http\n",
            "@MatijaR0 @The_CryptoDad @YouTube Hi, $BNB is supported by Trezor! You can receive the ERC20 token version of BNB into your Trezor Model One ETH account🔒  https://t.co/IQHTQPnXDs\n",
            "@user hi, $bnb is supported by trezor! you can receive the erc20 token version of bnb into your trezor model one eth account http\n",
            "Goddamn I haven't had Monday feel this good  since well.... since  the god forsaken year of 2021. 2022 proving to be to be a great year! For you too!     And of course for legacy ethereum chain $ETC.     #ClassicIsComing whether you care or not. I don't think Satoshi did either. https://t.co/wNZLNDMzEQ\n",
            "goddamn i haven't had monday feel this good since well.... since the god forsaken year of 2021. 2022 proving to be to be a great year! for you too! and of course for legacy ethereum chain $etc. #classiciscoming whether you care or not. i don't think satoshi did either. http\n",
            "$PERP looking v attractive on this dip\n",
            "$perp looking v attractive on this dip\n",
            "Yes yes.    The price action of $FARA token is still trashy. Not gonna lie there.    I just love their new update.     The sound effects, battle animations and new maps made it more AWESOME.    Kudos to the team - @KelvFara @uyenltt1508 @AlfredMKL 👏     #BSC #Gaming #GameFi #PlayToEarn\n",
            "yes yes. the price action of $fara token is still trashy. not gonna lie there. i just love their new update. the sound effects, battle animations and new maps made it more awesome. kudos to the team - @user #bsc #gaming #gamefi #playtoearn\n",
            "@staratlas the only thing i have to do with my $ATLAS is dump it\n",
            "@user the only thing i have to do with my $atlas is dump it\n",
            "@FLS_News_1 @faraland_io Alright! Your upcoming features will absolutely a huge impact for this industry! $FARA to the moon 🚀\n",
            "@user alright! your upcoming features will absolutely a huge impact for this industry! $fara to the moon\n",
            "Decentralized + PoW + BASE-LAYER internet naming service = Censorhip-proof internet.    $HNS = WEB3  #HNSisWEB3 https://t.co/JrExhhSO1p\n",
            "decentralized + pow + base-layer internet naming service = censorhip-proof internet. $hns = web3 #hnsisweb3 http\n",
            "@TheSandboxGame I just participated in the daily #SandboxAlphaS2Contest for a chance to earn up to 1,000 $SAND! Starting March 14 -  Show your Raffle Tickets. Check out my screenshot below! 👇 #SandboxAlphaS2 https://t.co/bonvgEsKn6\n",
            "@user i just participated in the daily #sandboxalphas2contest for a chance to earn up to 1,000 $sand! starting march 14 - show your raffle tickets. check out my screenshot below! #sandboxalphas2 http\n",
            "🔥A giveaway from @DopeWolvesNFT   ✅Prizes🌹: 5 Dope Wolves #NFT (listed on @tofuNFT)  ✅How to join:  1️⃣Follow @oasisrosenews &amp;  @DopeWolvesNFT 2️⃣Like, retweet 3⃣Tag 2 #OasisNetwork friend, comment $ROSE  ✅End after 72h⏰ https://t.co/q8BFEdjWHI\n",
            "a giveaway from @user prizes : 5 dope wolves #nft (listed on @user how to join: follow @user like, retweet tag 2 #oasisnetwork friend, comment $rose end after 72h http\n",
            "@crypto_bitlord7 Star Atlas, buy some NFT ships, buy the token $ATLAS it's like Star Citizen but with crypto and NFTs https://t.co/N7B5m3oAmA\n",
            "@user star atlas, buy some nft ships, buy the token $atlas it's like star citizen but with crypto and nfts http\n",
            "Maybe the masses would see it more clearly if $MKR did a 1000:1 split 🤔 https://t.co/Qwo7XJTE67\n",
            "maybe the masses would see it more clearly if $mkr did a 1000:1 split http\n",
            "This is probably the best time to buy $XCH. https://t.co/uBd3QI1yYM\n",
            "this probably the best time to buy $xch. http\n",
            "@JayHao_OKX @elonmusk And the future of cryptocurrency is $MINA :)\n",
            "@user and the future of cryptocurrency is $mina :)\n",
            "Social Activity Coin of the Day - #Anchor Protocol   $ANC    February 14, 2022  🤔🧐💪👏🐳  Exchange that pays!👉 https://t.co/ixBuCYWBKH   #Bitcoin #Ethereum #Cardano #Binance #Defi #Avian #Gala #Stacks   #Polkadot #Dogecoin #Raptoreum #Polygon #Zcash #Solana #token #NFTs #shibainu https://t.co/ZerSzFXoy1\n",
            "social activity coin of the day - #anchor protocol $anc february 14, 2022 exchange that pays! http #bitcoin #ethereum #cardano #binance #defi #avian #gala #stacks #polkadot #dogecoin #raptoreum #polygon #zcash #solana #token #nfts #shibainu http\n",
            "Quite the sudden pump on $RAY. I had actually just placed some bids at $4.10 or so. Lucky me. https://t.co/u3Q3cR5Ct7\n",
            "quite the sudden pump on $ray. i had actually just placed some bids at $4.10 or so. lucky me. http\n",
            "FREE #NFT GIVEAWAY!! 🎉    Rt + Follow me + Drop $ETH Wallet!\n",
            "free #nft giveaway!! + follow me + drop $eth wallet!\n",
            "Y'all about to pump $JOE back to ATH again aren't you? https://t.co/kSd881exPT\n",
            "y'all about to pump $joe back to ath again aren't you? http\n",
            "Is Aave a Good Investment?     https://t.co/FCwZgdrDGf     $Aave\n",
            "is aave a good investment? http $aave\n",
            "Breaking Crypto News: $RLY #RALLY Why staying away from The Graph token may be a good idea despite its 38% rally https://t.co/3rUXCnYmdy   #CWN #Crypto @AlgocryptoM\n",
            "breaking crypto news: $rly #rally why staying away from the graph token may be a good idea despite its 38% rally http #cwn #crypto @user\n",
            "@news_of_bsc @MooMonsterNFT @playbithotel @faraland_io @faraland_io #Faraland is the best game on BSC $FARA\n",
            "@user #faraland is the best game on bsc $fara\n",
            "First out// $SYN: Synthetic Biologics to Present at 2022 BIO CEO &amp; Investor Conference  https://t.co/fBVsgY98tW\n",
            "first out// $syn: synthetic biologics to present at 2022 bio ceo investor conference http\n",
            "PSA: #BlockFiCard holders can now earn rewards in $ALGO https://t.co/gpScuGujuM\n",
            "psa: #blockficard holders can now earn rewards in $algo http\n",
            "@bigshortbets @rafal_zaorski @stablekwon @evilscorpionDAO will devour your #Bitcoin, your money, and your dreams. Our teams of super coders are acting as we speak. We will sting your pierogi with our venomous segmented tail. $LUNA is the one true asset. h\n",
            "@user will devour your #bitcoin, your money, and your dreams. our teams of super coders are acting as we speak. we will sting your pierogi with our venomous segmented tail. $luna is the one true asset. h\n",
            "🔥 Faraland PvP update version is ready! 🎉    @faraland_io  #metaverse #Faraland #PvP $FARA https://t.co/AF9IUTLloo\n",
            "faraland pvp update version is ready! @user #metaverse #faraland #pvp $fara http\n",
            "$CRV #CRV    1) if that level is broken, it is a short  2) wait for confirmation on this level to be extra safe  3) TP 1 below  4) do not long before this level is broken + retested https://t.co/7Bh9xg9Nhz\n",
            "$crv #crv 1) if that level is broken, it is a short 2) wait for confirmation this level to be extra safe 3) tp 1 below 4) do not long before this level is broken + retested http\n",
            "@TheCryptoLark $Aave is essentially a web3 bank!\n",
            "@user $aave is essentially a web3 bank!\n",
            "City of Legends is a helium-based metaverse game, tribute to the spirit of helium miners 🔥    COL Community Giveaways:    1 - HNT Airdrop   500 $HNT, worth $15,000 🙀  https://t.co/E9iEmA6Mtz    2 - 1000 NFT Mint Whitelist 🙀  https://t.co/hEBNO45BR3    Deadline: Feb 28th, PARTICIPATE NOW~ https://t.co/KbyLEPHaeb\n",
            "city of legends is a helium-based metaverse game, tribute to the spirit of helium miners col community giveaways: 1 - hnt airdrop 500 $hnt, worth $15,000 http 2 - 1000 nft mint whitelist http deadline: feb 28th, participate now~ http\n",
            "@DelucaDougie @lunaterraluna @anchor_protocol Does it have anything about one must be holding $ANC to earn the full 20%?\n",
            "@user does it have anything about one must be holding $anc to earn the full 20%?\n",
            "You can build a team and draft your starters, ern $ILV through play, and become part of the community-based governance!    For #nfts trading they use @Immutable X. Zero gas fees with instant transactions!    6/20 https://t.co/oZgF0jNVfa\n",
            "you can build a team and draft your starters, ern $ilv through play, and become part of the community-based governance! for #nfts trading they use @user x. zero gas fees with instant transactions! 6/20 http\n",
            "$QUICK hit $900+ on Coinbase not too long ago     The sky is so clear. 🤑 https://t.co/l2vO2Go7Uz\n",
            "$quick hit $900+ on coinbase not too long ago the sky is so clear. http\n",
            "$SOL is amazing https://t.co/35xS1ijVWr\n",
            "$sol is amazing http\n",
            "CHECK OUT THIS THREAD to see announcements made so far regarding @Theta_Network ecosystem since the beginning of February $THETA #THETA 👀 https://t.co/OvMtkF5dwP\n",
            "check out this thread to see announcements made so far regarding @user ecosystem since the beginning of february $theta #theta http\n",
            "The #Dogecoin devs are working extremely hard focusing specifically on making $DOGE the best currency on earth\n",
            "the #dogecoin devs are working extremely hard focusing specifically on making $doge the best currency on earth\n",
            "DAY 519 . #BETA​ 8.00 . ** THE DAILY BETA ** .   November 15 2021     A NEW FORM   OF MUSIC     #MUSIC FOR #CATTOKENS .     ADDED - #THEDAILYBETA 519   ANFOM - #ANFOM ​  STATUS - ONLINE https://t.co/kUH5lujFNF  #EDWARDLOOSE #SUPERGIRL #PROFITABLETICKETS #BANGKOK2025  #CHIANETWORK $XCH https://t.co/8Uhoaay38d\n",
            "day 519 . #beta​ 8.00 . ** the daily beta ** . november 15 2021 a new form of music #music for #cattokens . added - #thedailybeta 519 anfom - #anfom ​ status - online http #edwardloose #supergirl #profitabletickets #bangkok2025 #chianetwork $xch http\n",
            "$HNT *Hey guys,, I've made $55K with them in a week,, by their alerts ,. https://t.co/NAcAgXCwED\n",
            "$hnt *hey guys,, i've made $55k with them in a week,, by their alerts ,. http\n",
            "#CryptoNews Faraland Details $FARA Token Use Cases https://t.co/SAv8WZrVXW\n",
            "#cryptonews faraland details $fara token use cases http\n",
            "CATS taking over 🙀 #CHIA🌱 $XCH https://t.co/u8gbJHxZGw\n",
            "cats taking over #chia $xch http\n",
            "$LOOKS almost at breakeven. Never doubted it for a second https://t.co/1SgGKRoalt\n",
            "$looks almost at breakeven. never doubted it for a second http\n",
            "To those who accept $DOGE https://t.co/RxEvfiqdTl\n",
            "to those who accept $doge http\n",
            "@Dr_Kojipup @AtlasCloud__ Hell yes, precious $ATLAS tokens..... @adlam_craig  @realLisaDaly\n",
            "@user hell yes, precious $atlas tokens..... @user @user\n",
            "$PERP 3.97$ leverage x5 Target 4.15$\n",
            "$perp 3.97$ leverage x5 target 4.15$\n",
            "$300 💸  $BNB |  One WINNER! 💰    • RT+follow me + reply \"done\"    Ends fast!\n",
            "$300 $bnb | one winner! • rt+follow me + reply \"done\" ends fast!\n",
            "Farmer Frank is an interesting entrant to the $JOE wars, with a novel bonding mechanism.  I'm doing a deep dive into their documentation now and will be following their progress.  #veJOE  #AVAX  #Avalanche  #DeFi https://t.co/LBUP64c7jk\n",
            "farmer frank is an interesting entrant to the $joe wars, with a novel bonding mechanism. i'm doing a deep dive into their documentation now and will be following their progress. #vejoe #avax #avalanche #defi http\n",
            "@ProjectAyven   Our #NFT👉Escape Game👈 launches this Sunday 🚀     🎁The first one to solve all puzzles wins a free NFT🎁    The next 99 receive the life-time role 💎Arrivant, which offers great benefits, such as an instant 2.5 $XCH pre-sale offer 👀    \n",
            "@user our #nft escape game launches this sunday the first one to solve all puzzles wins a free nft the next 99 receive the life-time role arrivant, which offers great benefits, such as an instant 2.5 $xch pre-sale offer\n",
            "https://t.co/iccwcBjBj0  EOSweekly: Wombat Dungeon, Gamebox, Eden Tokens, Hack Resolution, Helios, Bullish, Eva, EVM, ENF  #EOS $EOS @eos_marketing\n",
            "http eosweekly: wombat dungeon, gamebox, eden tokens, hack resolution, helios, bullish, eva, evm, enf #eos $eos @user\n",
            "@Deniz92773494 @HodlMagoo What is this nonsense? If you’re trying to use these tweets as “gotcha” moments, it’s not working. $XCH is a shitcoin .. just do a little research and save yourself before it’s too late\n",
            "@user what is this nonsense? if you’re trying to use these tweets as “gotcha” moments, it’s not working. $xch is a shitcoin .. just do a little research and save yourself before it’s too late\n",
            "$RAY bounce or die https://t.co/Nwtb96q0XW\n",
            "$ray bounce or die http\n",
            "$SPELL #SpellToken one of the BEST #tokens to be invested right now IMO 🚀 #MultiChain #token with $290M trading hands 🚀 $559M #marketcap 🚀 #ATH $0.075 buy now at $0.007+/- 🚀 Market rebound make millions of millionaires 🚀🚀🚀 https://t.co/2LXsZqXZ29\n",
            "$spell #spelltoken one of the best #tokens to be invested right now imo #multichain #token with $290m trading hands $559m #marketcap #ath $0.075 buy now at $0.007+/- market rebound make millions of millionaires http\n",
            "$BNT Crowd-sourced alerts, ranking system, and get paid being a top contributor.  https://t.co/uOBGPrpijH\n",
            "$bnt crowd-sourced alerts, ranking system, and get paid being a top contributor. http\n",
            "$AXS finally entering the FTA ( = First Trouble Area ) and MFI in 8h chart finally entering overbought as well  that was a beautiful pump after a long time https://t.co/2hzj26wGEa\n",
            "$axs finally entering the fta ( = first trouble area ) and mfi in 8h chart finally entering overbought as well that was a beautiful pump after a long time http\n",
            "$NEO price had a surprise breakout after China’s Blockchain-based Service Network selected the project to host “Decentralized Digital Certificates” and new NFT marketplaces. https://t.co/upT67Z9RkT\n",
            "$neo price had a surprise breakout after china’s blockchain-based service network selected the project to host “decentralized digital certificates” and new nft marketplaces. http\n",
            "Put your crypto to work on AscendEX with $XTZ!  Tezos smart contracts use formal verification, allowing them to be mathematically verified, reliable, and secure.   The process is simple: Hold and earn!   Stake @tezos on AscendEX.    https://t.co/NLa1VwgoTU https://t.co/KAuRhwqmbO\n",
            "put your crypto work on ascendex with $xtz! tezos smart contracts use formal verification, allowing them to be mathematically verified, reliable, and secure. the process is simple: hold and earn! stake @user on ascendex. http http\n",
            "$CRO — 0.42 incoming!  #altcoins #CRO\n",
            "$cro — 0.42 incoming! #altcoins #cro\n",
            "At @ShareMineAI 🤖 we focus on #Sustainability using 🌳 #GreenEnergy 🌊🌬⚡ for our ⛏ #CryptoMining of #Ethereum &amp; #Bitcoin    And we also offer #MiningPool of #GREENcrypto ➡️ $XCH @Chia_Project     https://t.co/PwILTmBGBI    #BTC #BitcoinMiner #XCH #ShareMineAI #SustainableMining https://t.co/n5Exu0QGzI\n",
            "at @user we focus on #sustainability using #greenenergy for our #cryptomining of #ethereum #bitcoin and we also offer #miningpool of #greencrypto $xch @user http #btc #bitcoinminer #xch #sharemineai #sustainablemining http\n",
            "#FWSells $SNX POLK DENNIS, Executive Chair of TD SYNNEX CORP sold 3,204 shares on 2022-02-01. https://t.co/gdHP9KKSMR\n",
            "#fwsells $snx polk dennis, executive chair of td synnex corp sold 3,204 shares on 2022-02-01. http\n",
            "First 10 of 2500 from the Shibnobi collection dropped on CDC! 25% of royalties go to HODLers in $CRO! Get yours today! #NFT #cro #fftb #cdcnft #cryptodotcomnft #NFTdrop https://t.co/HTweBC26Um\n",
            "first 10 of 2500 from the shibnobi collection dropped on cdc! 25% of royalties go to hodlers in $cro! get yours today! #nft #cro #fftb #cdcnft #cryptodotcomnft #nftdrop http\n",
            "Back in $FTM short, shitcoin looks like it's losing 2 dollars and #btc has a massive FVG https://t.co/He2225wzIy\n",
            "back in $ftm short, shitcoin looks like it's losing 2 dollars and #btc has a massive fvg http\n",
            "we are at 4 .. $MANA #altszn 💸 https://t.co/Wpx2X4ws0O\n",
            "we are at 4 .. $mana #altszn http\n",
            "$BNT ~Find active market alerts here in this best  trading community. https://t.co/Qc7kPAhjPB\n",
            "$bnt ~find active market alerts here in this best trading community. http\n",
            "reddit /r/CryptoCurrency DD coin mentions (past hour)  #1🥇 Bitcoin: 34 (+21) #2🥈 Ethereum: 18 (+6) #3🥉 Dogecoin: 12 (+2) #4 NEAR Protocol: 10 (+9) #5 Oasis Network: 6 (+5) #6 Algorand: 4 (+2)  #BTC #ETH #DOGE #NEAR #ROSE $ALGO\n",
            "reddit /r/cryptocurrency dd coin mentions (past hour) #1 bitcoin: 34 (+21) #2 ethereum: 18 (+6) #3 dogecoin: 12 (+2) #4 near protocol: 10 (+9) #5 oasis network: 6 (+5) #6 algorand: 4 (+2) #btc #eth #doge #near #rose $algo\n",
            "@MrZackMorris Me and Zack pumping $SYN together https://t.co/Uz5WMCDav2\n",
            "@user me and zack pumping $syn together http\n",
            "$OXT really like how simple this chart is.  just playing pingpong within the range.  the last wick at the low cleared all the previous stops. gigalonging  a break above the range considering how long its been consolidating. https://t.co/gRlNsZXr8Y\n",
            "$oxt really like how simple this chart is. just playing pingpong within the range. the last wick at the low cleared all the previous stops. gigalonging a break above the range considering how long its been consolidating. http\n",
            "Bullish exchange is live! 💣🚀    #EOS $EOS #EOSIO #BULLISH #bullishonEOS #crypto #cripto #cryptocurrency #CryptoNews #bitcoin  #btc  #ethereum #eth https://t.co/xSQQzKegQ4\n",
            "bullish exchange is live! #eos $eos #eosio #bullish #bullishoneos #crypto #cripto #cryptocurrency #cryptonews #bitcoin #btc #ethereum #eth http\n",
            "$SNX Best room on the net..; Stay turned https://t.co/spRzkYUty2\n",
            "$snx best room on the net..; stay turned http\n",
            "Join @Bancor one of the most decentralized protocol on blockchain in this season of love as they announce  DEXloverz NFT!    Built on @0xPolygon &amp; designed by @DIGITALAX_     Participate below for a chance to win one of the 1500 unique NFT.    $BNT #NFTs https://t.co/Dgs3titPFU\n",
            "join @user one of the most decentralized protocol on blockchain this season of love as they announce dexloverz nft! built on @user designed by @user participate below for a chance to win one of the 1500 unique nft. $bnt #nfts http\n",
            "Please get in touch with @get_delta, Internet Computer. Would really like to get my news via #DeltaDirect :) #internetcomputer #icp $ICP\n",
            "please get in touch with @user internet computer. would really like to get my news via #deltadirect :) #internetcomputer #icp $icp\n",
            "$IMX Perpetual #Futures - Short Sell Order ↘️ ↘️ Price: 1.5262 Take Profit: #HODL Exchange: #OKX  #Trading ID: 1358\n",
            "$imx perpetual #futures - short sell order price: 1.5262 take profit: #hodl exchange: #okx #trading id: 1358\n",
            "@TheCrypticWolf1 What’s your thought on $ATLAS node?\n",
            "@user what’s your thought on $atlas node?\n",
            "@DrCle4n @mirror_protocol Me and my 70 $MIR will be ready and waiting to vote. https://t.co/qa7zK5T31Q\n",
            "@user me and my 70 $mir will be ready and waiting to vote. http\n",
            "&gt; Casually shilled $AR.  &gt; Ducks.\n",
            "casually shilled $ar. ducks.\n",
            "$XCH For a limited time, we are opening our trading chatroom to the public.. Get access to chatrooms, stock alerts,, option alerts, portfolios, and more. https://t.co/X1z4gkzJ5B\n",
            "$xch for a limited time, we are opening our trading chatroom to the public.. get access to chatrooms, stock alerts,, option alerts, portfolios, and more. http\n",
            "@0xGokek $AVAX has strong support of holders and developers, it’s probably bit undervalued ATM in my subjective opinion it’s fair price is somwhere near 105 at lows and may be +40 at highs\n",
            "@user $avax has strong support of holders and developers, it’s probably bit undervalued atm in my subjective opinion it’s fair price is somwhere near 105 at lows and may be +40 at highs\n",
            "The sea of Ancient 👀     @illuviumio #illuvium $ILV  #NFT #Gaming #P2E #CryptoGaming #PlayToEarn #Play2Earn #NFTs https://t.co/LZWzf58tMd\n",
            "the sea of ancient @user #illuvium $ilv #nft #gaming #p2e #cryptogaming #playtoearn #play2earn #nfts http\n",
            "@DegenDefiYT @BenqiFinance @traderjoe_xyz @cryptofishx Nice vid! $JOE #AVAX\n",
            "@user nice vid! $joe #avax\n",
            "The current price of #Cardano is:  $1.432879 (6.356% in the past 24 hours) £1.068992 (5.866% in the past 24 hours) €1.264715 (5.599% in the past 24 hours)  $ADA\n",
            "the current price of #cardano is: $1.432879 (6.356% in the past 24 hours) £1.068992 (5.866% in the past 24 hours) €1.264715 (5.599% in the past 24 hours) $ada\n",
            "$DOGE making a bullish ascending triangle on smaller timeframe. If breaks upwards Happy Meals for everyone! https://t.co/mrOkN3drz9\n",
            "$doge making a bullish ascending triangle on smaller timeframe. if breaks upwards happy meals for everyone! http\n",
            "&amp; allowed me to be whitelisted for this reward  The first Social Media Engagement Data NFT collection for the $ROSE Oasis Blockchain has been revealed, and this one is mine.  This artwork has been fully generated with Artificial Intelligence  I am ready for the future to pop off! https://t.co/F6CsjPXQvs\n",
            "allowed me to be whitelisted for this reward the first social media engagement data nft collection for the $rose oasis blockchain has been revealed, and this one is mine. this artwork has been fully generated with artificial intelligence i am ready for the future to pop off! http\n",
            "#CommunityAlert 🚨  We have compiled a list of the https://t.co/39vWrfHHjF victim Wallet addresses, the hacker addresses, and the amounts.  The total loss is around 4,836 ETH and 282 users' wallets have been affected by the hack.  $CRO #CRO https://t.co/Vi3lJCMQuF https://t.co/kiweognSbW\n",
            "#communityalert we have compiled a list of the http victim wallet addresses, the hacker addresses, and the amounts. the total loss is around 4,836 eth and 282 users' wallets have been affected by the hack. $cro #cro http http\n",
            "@lucianc_11 Seeing buy orders for 10k-30k $ICP at these prices. Probably nothing\n",
            "@user seeing buy orders for 10k-30k $icp at these prices. probably nothing\n",
            "Just got my first @flexpool_io win farming ~160TB of @Chia_Project plots with them.   That .25 $XCH bump pre-pool distribution is another nice perk of this blockchain!\n",
            "just got my first @user win farming ~160tb of @user plots with them. that .25 $xch bump pre-pool distribution is another nice perk of this blockchain!\n",
            "MetaCelo NFT Game - Adventure to the New Metaverse    https://t.co/vX6GdV4425    #MetaCelo $CELO\n",
            "metacelo nft game - adventure to the new metaverse http #metacelo $celo\n",
            "WTF is going on with #GameStop?  Is the NFT marketplace on $IMX or #LRC.  Both are claiming victory.  https://t.co/26nGTle5g0 https://t.co/j0MI5t1QP1\n",
            "wtf is going on with #gamestop? is the nft marketplace on $imx or #lrc. both are claiming victory. http http\n",
            ".@Uniswap delegates are considering a proposal to launch a liquidity mining campaign on layer-2.  If approved, it will be the first time Uniswap taps into its $6.7B treasury to provide liquidity mining since the launch of its $UNI token.  by @jacqmelinek https://t.co/U3CuL9d3sH\n",
            ".@user delegates are considering a proposal to launch a liquidity mining campaign on layer-2. if approved, it will be the first time uniswap taps into its $6.7b treasury to provide liquidity mining since the launch of its $uni token. by @user http\n",
            "@EvolvingEmmy @stablekwon $LUNA 4 figures before 2025\n",
            "@user $luna 4 figures before 2025\n",
            "$CVX $150.00 Mar 25 2022 PUT ⬇️🌊 Underlying: $159.05 % Difference: 6.03% Daily $ Volume: $345,202 Volume: 2,431 OI: 541 IV: 43.69% Bid/Ask: $1.38/$1.46\n",
            "$cvx $150.00 mar 25 2022 put underlying: $159.05 % difference: 6.03% daily $ volume: $345,202 volume: 2,431 oi: 541 iv: 43.69% bid/ask: $1.38/$1.46\n",
            "Binance Chain and #BSC has been renamed to BNB Chain on Feb 15th. The name change was announced by @binance as the evolution of #BSC. $BNB Chain will embrace large-scale applications, including #GameFi, #SocialFi and the #Metaverse. #CryptoIA    Read More: https://t.co/swim7xHrWy\n",
            "binance chain and #bsc has been renamed to bnb chain on feb 15th. the name change was announced by @user as the evolution of #bsc. $bnb chain will embrace large-scale applications, including #gamefi, #socialfi and the #metaverse. #cryptoia read more: http\n",
            "The situation is not much different...  $ILV support and resistance's 👀 https://t.co/3473bygAJc\n",
            "the situation is not much different... $ilv support and resistance's http\n",
            "With $BNT on @VauldOfficial you can:  - Borrow ✅ - Deposit ✅ - trade with INR ✅ - trade with USDT ✅ - @BinanceChain integration ✅  What are you waiting for? https://t.co/oo61mCzyvw\n",
            "with $bnt on @user you can: - borrow - deposit - trade with inr - trade with usdt - @user integration what are you waiting for? http\n",
            "$LRC  Call me the Rollup King. 😎 https://t.co/BXiVpBVnzh https://t.co/3oBYYDoxkh\n",
            "$lrc call me the rollup king. http http\n",
            "JUST IN: $SPELL @MIM_Spell now on top 10 purchased tokens by 2500 #AVAX whales in the past 24hrs 🐳🐳  Whale leaderboard: https://t.co/RNVyHmyAtP https://t.co/KVFMuERvs5\n",
            "just in: $spell @user now on top 10 purchased tokens by 2500 #avax whales in the past 24hrs whale leaderboard: http http\n",
            "$MANA is up more than 17% in the last 24 hours and more than 40% in the last week\n",
            "$mana is up more than 17% in the last 24 hours and more than 40% in the last week\n",
            "@anchor_protocol | $ANC    Another easy 20x gem on display once the market picks up, Rated B1 on https://t.co/C2qqLdbgN8 the worlds leading crypto asset rating platform🤖     This gem can be deposited to create new governance polls, that can be voted on b\n",
            "@user | $anc another easy 20x gem on display once the market picks up, rated b1 on http the worlds leading crypto asset rating platform this gem can be deposited to create new governance polls, that can be voted on b\n",
            "Bitrue Launched $TRX/#USDC  #XRP Community &amp; All #Crypto Investors I Highly Recommend To Sign Up For #Bitrue (Click Link Below) 👇👇👇👇👇👇👇👇👇👇👇👇👇 https://t.co/PnJbh0rv07\n",
            "bitrue launched $trx/#usdc #xrp community all #crypto investors i highly recommend to sign up for #bitrue (click link below) http\n",
            "You can join the celebration and enter for a chance to win a #Decentraland LAND by submitting your best #wearable.   Top 10 submissions take home 100 $MANA and strut their stuff on the Community Precinct catwalk on final day of the #MVFW festival!  https://t.co/VY9dFosRQW   3/3 https://t.co/6e5vjr8JZi\n",
            "you can join the celebration and enter for a chance to win a #decentraland by submitting your best #wearable. top 10 submissions take home 100 $mana and strut their stuff on the community precinct catwalk on final day of the #mvfw festival! http 3/3 http\n",
            "@nikichain #EOS $EOS and everything #EOSIO-related.\n",
            "@user #eos $eos and everything #eosio-related.\n",
            "Great news! $CELO is listed on @LBank_Exchange today.    👉 https://t.co/xXrDwn0ldJ https://t.co/LDRur8keOM\n",
            "great news! $celo is listed on @user today. http http\n",
            "@kunalkamble My las drop   ✨Luces✨ on @hicetnunc2000   5/5  1 $XTZ  https://t.co/JK5Ot01UFd https://t.co/DkZ9vzXpTh\n",
            "@user my las drop luces on @user 5/5 1 $xtz http http\n",
            "Expect $20 min for $NEAR in November 🚀\n",
            "expect $20 min for $near in november\n",
            "🔥New #listing    💫 $CELO will be listed on LBank @CeloOrg     CELO is a blockchain ecosystem focused on increasing cryptocurrency adoption among smartphone users.    ❤️ Details:https://t.co/xd5owVxncQ    #crypto #Pos https://t.co/4DCm3K5jzC\n",
            "new #listing $celo will be listed on lbank @user celo is a blockchain ecosystem focused on increasing cryptocurrency adoption among smartphone users. details:http #crypto #pos http\n",
            "If you liked + RTd a giveaway post and followed DryEye, your address gets added to the WL every day at 12PM PST 👁💀🌈 All WL spot holders will be able to mint one DryEye for free on March 7th ⚡️  #NFTs #NFTGiveaway #art #ETH $MATIC\n",
            "if you liked + rtd a giveaway post and followed dryeye, your address gets added to the wl every day at 12pm pst all wl spot holders will be able to mint one dryeye for free on march 7th #nfts #nftgiveaway #art #eth $matic\n",
            "🔥New Listing on #Huobi!    👏 $CELO @CeloOrg    Deposits open   Trading starts soon👇\n",
            "new listing on #huobi! $celo @user deposits open trading starts soon\n",
            "We are giving away 20 #BNB -&gt;&gt;&gt; 20 Winners     To Win :  1️⃣ Follow  2️⃣ Like+Retweet  3️⃣ Fill in your $BNB address\n",
            "we are giving away 20 #bnb - 20 winners to win : follow like+retweet fill in your $bnb address\n",
            "@TheMoonCarl 🔱 Ethereum cofounder 🔱 Christian Reitwießner's project 'Truebit Protocol'   $TRU.    It's a different kind of scaling solution and is currently less than $1\n",
            "@user ethereum cofounder christian reitwießner's project 'truebit protocol' $tru. it's a different kind of scaling solution and is currently less than $1\n",
            "I got my $EOS bag waiting for a while now: send it! 🚀 https://t.co/FTFAF06ym0\n",
            "i got my $eos bag waiting for a while now: send it! http\n",
            "@Fibonaccious Have a look at $ATLAS, basically Strong on #FTM\n",
            "@user have a look at $atlas, basically strong on #ftm\n",
            "@dltk @satsdart @traderjoe_xyz I never turned on @traderjoe_xyz, I use their product daily, and am also heavily invested into $JOE.  But I also like (liked, don't know yet) Dani's projects ...     I guess I'll wipe my tears, and grab a bag of popcorn beca\n",
            "@user i never turned on @user i use their product daily, and am also heavily invested into $joe. but i also like (liked, don't know yet) dani's projects ... i guess i'll wipe my tears, and grab a bag of popcorn beca\n",
            "I’ll airdrop 5.500.000.000 in #shib Web5 to 3 lucky winners just follow me, RT ❤️and post your $ETH  wallet address. You must be following so I dm you informing that you’ll receive\n",
            "i’ll airdrop 5.500.000.000 in #shib web5 to 3 lucky winners just follow me, and post your $eth wallet address. you must be following so i dm you informing that you’ll receive\n",
            "@ape280 OS sea is trash. $LOOKS is the solution\n",
            "@user os sea is trash. $looks is the solution\n",
            "$KEEP ✅  Increased 3.70% in 5.0 hour(s) 💵 Price - 0.68900000 USDT ⏱️ [2 Nov] - 02:43:55 UTC #KEEP #KEEPUSDT #CryptoBOT\n",
            "$keep increased 3.70% in 5.0 hour(s) price - 0.68900000 usdt [2 nov] - 02 55 utc #keep #keepusdt #cryptobot\n",
            "$PERP *Hey guys,, I've made $55K with them in a week,, by their alerts ,.. https://t.co/Lxp4S3mTN6\n",
            "$perp *hey guys,, i've made $55k with them in a week,, by their alerts ,.. http\n",
            "https://t.co/VyHjtElv2B ok this indeed looks rare 👀💎    Never know $LOOKS got some metaverse vibes as well?\n",
            "http ok this indeed looks rare never know $looks got some metaverse vibes as well?\n",
            "Take a look at👀the key Weekly updates📝by @BalancerLabs   ▪️Highlights👇 💥Balancer Labs and the @balancer DAO shared a 2022 roadmap 💥New grants were allocated 💥A proposal is presented to partner with Polygon DOA  In Detail⬇️ https://t.co/05on4z6eDf $BAL https://t.co/VQwgI7GQKF\n",
            "take a look at the key weekly updates by @user highlights balancer labs and the @user dao shared a 2022 roadmap new grants were allocated a proposal is presented to partner with polygon doa in detail http $bal http\n",
            "@inmortalcrypto The only issue with Cardano and $ADA are the short-sighted lemmings that regurgitate the FUD and jump ship.\n",
            "@user the only issue with cardano and $ada are the short-sighted lemmings that regurgitate the fud and jump ship.\n",
            "UPDATE to this news from last week: Limewire has revealed it will use the Algorand blockchain for its NFT launch. $ALGO https://t.co/SDSwEr66ni\n",
            "update to this news from last week: limewire has revealed it will use the algorand blockchain for its nft launch. $algo http\n",
            "🔥 Less than 40 minutes until $TRX/$USDT is live for trading on Bybit!     ⏰ Keep your eye on the clock! https://t.co/CRMhpHU0RO\n",
            "less than 40 minutes until $trx/$usdt is live for trading on bybit! keep your eye on the clock! http\n",
            "$KEEP PLAY IN MY TG: +50% PROFIT https://t.co/VPgfYB5kQr https://t.co/rgZLQLIFv6\n",
            "$keep play in my tg: +50% profit http http\n",
            "@KingsFantom My understanding is that they essentially want to be the $CVX of this. However, the fact that the largest voting share is ~10% means it'll be a more competitive mkt. I imagine we'll eventually see some sort of marketplace form where protocols\n",
            "@user my understanding is that they essentially want to be the $cvx of this. however, the fact that the largest voting share is ~10% means it'll be a more competitive mkt. i imagine we'll eventually see some sort of marketplace form where protocols\n",
            "$CVX puts printed. 343.78%🔥 https://t.co/cVNuQCIJ3g https://t.co/AXgIUMxlLY\n",
            "$cvx puts printed. 343.78% http http\n",
            "@DODOCN Such a beautiful project and congratulations to the whole team and highly Appreciated the visionary thought of the project and best wishes for the future.  @Safari10751637  @Hameed_MaTTTi @Ayaan38835861   #giveaway #Airdrop $DODO\n",
            "@user such a beautiful project and congratulations to the whole team and highly appreciated the visionary thought of the project and best wishes for the future. @user #giveaway #airdrop $dodo\n",
            "@_NFTsArt @cybotz_nft ✨Psychedelic fungi collection ✨  0.005～0.03 $ETH each!  https://t.co/fchk2SO5fe  #opensea #nft #nftart #nfts #nftcollection #digitalillustration #digitalart #illustration #characterdesign #character #logo #icon https://t.co/21JMVOk7O\n",
            "@user psychedelic fungi collection 0.005～0.03 $eth each! http #opensea #nft #nftart #nfts #nftcollection #digitalillustration #digitalart #illustration #characterdesign #character #logo #icon http\n",
            ". 智能合约  (.smartcontract) domains open soon for registration!  You could point your Domains to any digital asset: host a #Website or receive #Crypto !  🛡 secure 🔐 private 😉 censorship-resistant  #China #DomainNameForSale #SmartContracts $HNS @NamebaseHQ @hns_fans\n",
            ". 智能合约 (.smartcontract) domains open soon for registration! you could point your domains to any digital asset: host a #website or receive #crypto ! secure private censorship-resistant #china #domainnameforsale #smartcontracts $hns @user @user\n",
            "@DropYourNFT i love this project! 🇹🇭 legit my wallet holdings went from 10 eth to 100+ eth after i added a @cryptoamulets #NFTdrop to my collection (100% true... check my wallets) 🤩 Launching new set on $SOL tomorrow. Follow @cryptoamulets &amp; get in\n",
            "@user i love this project! legit my wallet holdings went from 10 eth to 100+ eth after i added a @user #nftdrop to my collection (100% true... check my wallets) launching new set on $sol tomorrow. follow @user get in\n",
            "Are u all complete out of touch with the crypto space? All think it’s dead, traders won’t touch with a barge pole, tell people to stay away. There have never been more need of extreme aggressive marketing in history of crypto. Are u blind aswell as mute? $NEO @dahongfei\n",
            "are u all complete out of touch with the crypto space? all think it’s dead, traders won’t touch with a barge pole, tell people to stay away. there have never been more need of extreme aggressive marketing in history of crypto. are u blind aswell as mute? $neo @user\n",
            "Huobi Wallet ✖️@balancer #Airdrop 🎊    ⏰Feb. 18th - Mar. 3rd    ✅Use #HuobiWallet to stake in any Polygon pool on @balancer    ✅Comment below with👇  1⃣Staking screenshot  2⃣#balancerhuobiwallet  3⃣Your #Polygon address    3 Lucky Winners to Share 15 $BAL!🤩 https://t.co/8w6A4T1Ccu\n",
            "huobi wallet @user #airdrop feb. 18th - mar. 3rd use #huobiwallet to stake in any polygon pool on @user comment below with staking screenshot #balancerhuobiwallet your #polygon address 3 lucky winners to share 15 $bal! http\n",
            "@rsalame7926 is this the $FTT Genesis block?  @SBF_FTX\n",
            "@user is this the $ftt genesis block? @user\n",
            "17-) #balancer WhitePaper Analiz?  $BAL Nedir? https://t.co/400qaIkzRg\n",
            "17-) #balancer whitepaper analiz? $bal nedir? http\n",
            "We are pleased to announce that our Block Bounty program is going strong, with over 1.0 XCH awarded already this week, and continues on until the end of the year! Additionally we've enabled email notifications to alert on missing partials!  #CHIA $XCH  https://t.co/qYW31b5TNM\n",
            "we are pleased to announce that our block bounty program is going strong, with over 1.0 xch awarded already this week, and continues on until the end of the year! additionally we've enabled email notifications to alert on missing partials! #chia $xch http\n",
            "24 likes for one of the best looking charts when you want to fish near the bottom.....    Just did a textbook retest of the break out and bouncing with a nice reversal candle     $SNX https://t.co/cn1iYXQQot\n",
            "24 likes for one of the best looking charts when you want to fish near the bottom..... just did a textbook retest of the break out and bouncing with a nice reversal candle $snx http\n",
            "@TheSandboxGame I just participated in the daily #SandboxAlphaS2Contest for a chance to earn up to 1,000 $SAND! Starting March 19 - Gather the equipment. Check out my screenshot below! 👇 #SandboxAlphaS2 https://t.co/BXrxt0mdSd\n",
            "@user i just participated in the daily #sandboxalphas2contest for a chance to earn up to 1,000 $sand! starting march 19 - gather the equipment. check out my screenshot below! #sandboxalphas2 http\n",
            "@jaydee_757 $KEEP\n",
            "@user $keep\n",
            "Why does no one see how lucky $IMX and #immutableX are to be working with #GameStop ???     You'd think it was some coup by game stop to get this brand new crypto when in reality GameStop is a big brand and could have picked any of them..    Ffs.\n",
            "why does no one see how lucky $imx and #immutablex are to be working with #gamestop ??? you'd think it was some coup by game stop to get this brand new crypto when in reality gamestop is a big brand could have picked any of them.. ffs.\n",
            "$AR weekly cup moving on expanding volume with Relative Strength https://t.co/4H5nQz7dnh\n",
            "$ar weekly cup moving on expanding volume with relative strength http\n",
            "@Walt_Crypto @redactedcartel @Curvance Super bullish, but i think that the real value goes to the projects involved in the curve wars rather than to retails investing in $CRV token.\n",
            "@user super bullish, but i think that the real value goes to the projects involved in the curve wars rather than to retails investing in $crv token.\n",
            "To celebrate @Ethlas_Official hitting 32K Discord members,🏆 BIG #GIVEAWAY for 55 $MATIC prize for 1 lucky winner and 3 WL!!!  To enter :  ✅ Follow @Ethlas_Official  ✅ Like, RT &amp; Tag 3 #NFT Friends ✅ Must Join Discord : https://t.co/pIvnfsjYT1 🚀  Ends in 48 hrs   #AD https://t.co/Rd9hX1nxAd\n",
            "to celebrate @user hitting 32k discord members, big #giveaway for 55 $matic prize for 1 lucky winner and 3 wl!!! to enter : follow @user like, tag 3 #nft friends must join discord : http ends in 48 hrs #ad http\n",
            "The price of #InternetComputer is currently $44.77  #Crypto $ICP #ICP  https://t.co/XbywniOMCz\n",
            "the price of #internetcomputer is currently $44.77 #crypto $icp #icp http\n",
            "$FTT $FTTUSDT #FTXTOKEN @FarmaTrust - Daily: The basic trend is slightly bearish and the short term is tentatively bullish. With such a pattern, it is difficult to favour buying or selling.  The... https://t.co/9sGyHHFz6f\n",
            "$ftt $fttusdt #ftxtoken @user - daily: the basic trend is slightly bearish and the short term is tentatively bullish. with such a pattern, it is difficult to favour buying or selling. the... http\n",
            "Is $AVAX ever going to slow down 🔺🔻 https://t.co/iavsZV6NFW\n",
            "is $avax ever going to slow down http\n",
            "$DOGE did yoy hear what I just said a Tesla for 10k. ❤\n",
            "$doge did yoy hear what i just said a tesla for 10k.\n",
            "Nice !  $HNS https://t.co/hWHgCdt8wp\n",
            "nice ! $hns http\n",
            "Full thanks to @Tradecrypto11 as they have analysed this #Crypto crash so my funds doesn't affected and I have not faced any type of losses  They are absolutely amazing in tips,advices and everything.  $FIL #BSC #TRX #XRP #NFT😘\n",
            "full thanks to @user as they have analysed this #crypto crash so my funds doesn't affected and i have not faced any type of losses they are absolutely amazing in tips,advices and everything. $fil #bsc #trx #xrp #nft\n",
            "$PYR / USDT  Seeing some action https://t.co/z0cfdJETF9\n",
            "$pyr / usdt seeing some action http\n",
            "@saylor $CHZ went 200% from my call . This is the best channel to recover your losses from in futures trade, join now https://t.co/lmJkNknqwB https://t.co/UAKifQqM2r\n",
            "@user $chz went 200% from my call . this the best channel to recover your losses from in futures trade, join now http http\n",
            "@Mk2Trading Can you look $LRC ?\n",
            "@user can you look $lrc ?\n",
            "@bull_bnb27 @coinbase @ensdomains Do you know what Handy Host is?     Web2 ain't for me mate.   I'm from the future.   ENS don't live there.   Web2 garbage.   Y'all getting rugged.   $HNS 🤝\n",
            "@user do you know what handy host is? web2 ain't for me mate. i'm from the future. ens don't live there. web2 garbage. y'all getting rugged. $hns\n",
            "Maybe one day i'll stop guesstimating when the markets get smarter but im longing around 178-180 15-30x leverage. $Aave #Aave https://t.co/m5pEBfSM2P\n",
            "maybe one day i'll stop guesstimating when the markets get smarter but im longing around 178-180 15-30x leverage. $aave #aave http\n",
            "In Helium's case, crypto was the incentive that worked. Allowing people to mine $HNT by providing wireless coverage solved the cold-start problem, because jumping in early meant getting the most tokens, even if the network wasn't fully functional yet.\n",
            "in helium's case, crypto was the incentive that worked. allowing people to mine $hnt by providing wireless coverage solved the cold-start problem, because jumping in early meant getting the most tokens, even if the network wasn't fully functional yet.\n",
            "@_GAME_official Huge appreciation and gratitude @_GAME_official for hosting this $ATOM giveaway! 🙇🏻🙋🏻  Good luck everyone! 🌈🌷🤍  👨🏻‍🚀🔭🌖⚛️ https://t.co/SFsAwEUZ6Y\n",
            "@user huge appreciation and gratitude @user for hosting this $atom giveaway! good luck everyone! http\n",
            "No, it is simply up 208% in the last 30 days because I sold mine off at the bottom to repay some of the borrow in the downturn to avoid liquidation. My sale clearly triggered this catalyst and you will never convince me otherwise. You're welcome, $ANC holders. https://t.co/L5PmcjqBgB\n",
            "no, it is simply up 208% in the last 30 days because i sold mine off at the bottom to repay some of the borrow in the downturn to avoid liquidation. my sale clearly triggered this catalyst and you will never convince me otherwise. you're welcome, $anc holders. http\n",
            "@mst1985holding @BabyDogeCoin McDogenald’s = LIVE!    $DOGE rewards + NFTs for holders, available on pancakeswap    Buy here 👉 https://t.co/VDRA5PUPYz…    Telegram: https://t.co/HpZ2YG3sF2… https://t.co/12XcmTmAaB\n",
            "@user mcdogenald’s = live! $doge rewards + nfts for holders, available on pancakeswap buy here http telegram: http http\n",
            "#Faraland #FARA #VietnamBlockchainExpoverse #BSC #NFT #GameFi #Metaverse #BinanceBlockchainWeek #BNBchain I don't know if you hold any $FARA but you should deff get it! #faraland always good to have in your Portfolio https://t.co/3WF5PGIRfe https://t.co/hHgPA3kDO2\n",
            "#faraland #fara #vietnamblockchainexpoverse #bsc #nft #gamefi #metaverse #binanceblockchainweek #bnbchain i don't know if you hold any $fara but you should deff get it! #faraland always good to have in your portfolio http http\n",
            "(2/7) Total TRYP supply is 270M. 21% of that is 56.7M.     If $ILV MC is stagnant until the end of September and TRYP can match it (w/21% supply) then the market would be valuing TRYP at:    $346.84M/56.7M = $6.1171USD per token.    FYI @ 16% it would be $8.0287USD per token. https://t.co/67NYK4s20L\n",
            "(2/7) total tryp supply is 270m. 21% of that is 56.7m. if $ilv mc is stagnant until the end of september and tryp can match it (w/21% supply) then the market would be valuing tryp at: $346.84m/56.7m = $6.1171usd per token. fyi @ 16% it would be $8.0287usd per token. http\n",
            "if you saw this and didn't sell $FTM idk what to say https://t.co/G0X3j98QTk\n",
            "if you saw this and didn't sell $ftm idk what to say http\n",
            "Burnquist Gold roadmap will be added to our .io website soon. Still time to give us some ideas💡 #NFTCommunity #BurnquistGold $XTZ\n",
            "burnquist gold roadmap will be added to our .io website soon. still time to give us some ideas #nftcommunity #burnquistgold $xtz\n",
            "+80% from OP for $SYN 😎 https://t.co/3J1ObTEuzX\n",
            "+80% from op for $syn http\n",
            "Advisory role with @SynapseProtocol     $SYN    Dedicating funds to jungle and any paid subs!     Join the discord and help grow the project!    https://t.co/llGuCuDfnK\n",
            "advisory role with @user $syn dedicating funds to jungle and any paid subs! join the discord and help grow the project! http\n",
            "$MIR 4H    So much for getting that retrace entry at 1.24...    Now to wait and see if it clears 1.60 to recheck the fib levels for another entry later. https://t.co/FuFk61usId\n",
            "$mir 4h so much for getting that retrace entry at 1.24... now to wait and see if it clears 1.60 to recheck the fib levels for another entry later. http\n",
            "⭐️Setup A Node on Testnet⭐️    📢@harmonyprotocol $ONE Validators    🎓Learn How to Setup a Validator Node on Testnet.    ✅Test new features   ✅Hone your skills    🔖https://t.co/vimbC6yVH3    💙#VDaoDotOne💙\n",
            "setup a node on testnet @user $one validators learn how to setup a validator node on testnet. test new features hone your skills http #vdaodotone\n",
            "Just got these as a Surprise Gift!  Thank you @ElephantNFTS  🙏 hopefully we will see you in the $HNS space soon.   It would be awesome to see some NFT projects get involved with Handshake. https://t.co/dN4hzBT3Lf\n",
            "just got these as a surprise gift! thank you @user hopefully we will see you in the $hns space soon. it would be awesome to see some nft projects get involved with handshake. http\n",
            "Ouch, as expected! Glad I sold my bag around $3,60 right before the reward halving. I still really love the platform tho! $LOOKS https://t.co/LGSLnk8ZIK\n",
            "ouch, as expected! glad i sold my bag around $3,60 right before the reward halving. i still really love the platform tho! $looks http\n",
            "Sold my $LOOKS earlier at $6.80.  AMA\n",
            "sold my $looks earlier at $6.80. ama\n",
            "@stablekwon @0xwagmi So $MIR?\n",
            "@user so $mir?\n",
            "@TheMoonCarl Yep, I've been #bullish on $CRO for quite some time now. I hope @Mecha_Morphing will launch their token too; I'll definitely hold them on my dear life! 😉    Also, check their #NFT box sale on @TheBinanceNFT which will happen on Feb. 22 at 11\n",
            "@user yep, i've been #bullish on $cro for quite some time now. i hope @user will launch their token too; i'll definitely hold them on my dear life! also, check their #nft box sale on @user which will happen on feb. 22 at 11\n",
            "#SOLGiveaway 🎁  Sweet Apocalypse- a P2E on Solana  Prizes 🏆0.2 $SOL 🏆10 WL  Rules: 🏠Follow @sweetapocaIypse and me 🏠❤️+RT 🏠Tag 3 frends  ⭐️Bonus join Discord: https://t.co/xTzh3jEp7e  48 hrs⏰  #NFTGiveaway #NFTCommunity #Solana  #NFTs #nftart #NFTCollection #SolanaNFTs https://t.co/wKnzC7YKh9\n",
            "#solgiveaway sweet apocalypse- a p2e on solana prizes 0.2 $sol 10 wl rules: follow @user and me + tag 3 frends bonus join discord: http 48 hrs #nftgiveaway #nftcommunity #solana #nfts #nftart #nftcollection #solananfts http\n",
            "$ALGO NFT alerts, crypto alerts. We've got both. Check us out today for a free 10 day trial. https://t.co/AnMo7pDvX0\n",
            "$algo nft alerts, crypto alerts. we've got both. check us out today for a free 10 day trial. http\n",
            "Orders filled ready for launch $LUNA https://t.co/tLfzlKM7Ef\n",
            "orders filled ready for launch $luna http\n",
            "@Tetranode Dump $SPELL then?\n",
            "@user dump $spell then?\n",
            "Comfy as fck right now $FTM https://t.co/iJOIfce5hF\n",
            "comfy as fck right now $ftm http\n",
            "@LiminalityNFT $HNS the Decentralized Naming System. Everyone owns their name on the DWeb 😊\n",
            "@user $hns the decentralized naming system. everyone owns their name on the dweb\n",
            "@faraland_io’s $FARA token is for? Read the article to find out the different use cases of the native token.     #BSCNews #NFTs #PlayToEarn #Cryptocurrency #DeFi #BSC #BNB https://t.co/FHyQAkP5yr\n",
            "@user $fara token is for? read the article to find out the different use cases of the native token. #bscnews #nfts #playtoearn #cryptocurrency #defi #bsc #bnb http\n",
            "@CryptoHighNFT My low cap gem is $FARA #Faraland #FARA #VietnamBlockchainExpoverse #BSC #NFT #GameFi #Metaverse #BinanceBlockchainWeek #BNBchain https://t.co/YYIdasvQ3Z\n",
            "@user my low cap gem is $fara #faraland #fara #vietnamblockchainexpoverse #bsc #nft #gamefi #metaverse #binanceblockchainweek #bnbchain http\n",
            "$ATLAS  Long term investment for me, have ridden this all of the way down. Not worried at all.  Consolidating in a small bull flag against descending resistance, usually leads to expansion through on volume. Watching this closely, may add to position if it happens. https://t.co/HGfEZUNe8L\n",
            "$atlas long term investment for me, have ridden this all of the way down. not worried at all. consolidating in a small bull flag against descending resistance, usually leads to expansion through on volume. watching this closely, may add to position if it happens. http\n",
            "@CryptoAsia_ $KEEP is already high https://t.co/8EFbjuMJIW\n",
            "@user $keep is already high http\n",
            "Who is still sleeping on this? $LOOKS https://t.co/nWFbdd6KMc\n",
            "who is still sleeping on this? $looks http\n",
            "EOS 1-day Bullish Sentiment is down -15.74% to 1,665 with price up 11.2% to $5.18   https://t.co/nPFsanYHke $EOS #EOS #LunarShare #LunarCrush\n",
            "eos 1-day bullish sentiment is down -15.74% to 1,665 with price up 11.2% to $5.18 http $eos #eos #lunarshare #lunarcrush\n",
            "@crypto_blkbeard $ROSE https://t.co/dCDR4GaCYy\n",
            "@user $rose http\n",
            "Are you bullish on $MATIC?    No           Sure            Yes  👇            👇                👇\n",
            "are you bullish on $matic? no sure yes\n",
            "$ROSE buying any and all major / minor / interim / mega dips and dumps https://t.co/nh080SGPg5\n",
            "$rose buying any and all major / minor / interim / mega dips and dumps http\n",
            "#Orchid has reached for the clouds over the past week. $OXT #Coinbase @Trading_Tech https://t.co/eJ1M8vGv5n\n",
            "#orchid has reached for the clouds over the past week. $oxt #coinbase @user http\n",
            "Lunatics, can anyone explain what happened with $ANC in a few weeks? Happy I did not touch it🕹. Dangerous games… #luna https://t.co/CenlXJ50nI\n",
            "lunatics, can anyone explain what happened with $anc in a few weeks? happy i did not touch it . dangerous games… #luna http\n",
            "@8tevenInfinity @danielesesta Ok Poor man! I’m not begging for anything. Just Shaming the Dev. for a shit project! Enjoying holding my bags tho ;) $SPELL\n",
            "@user ok poor man! i’m not begging for anything. just shaming the dev. for a shit project! enjoying holding my bags tho ;) $spell\n",
            "$ANC was always in business!!    Here are the numbers!    https://t.co/X7CEQBp5mV\n",
            "$anc was always in business!! here are the numbers! http\n",
            "$RAY   I'm part of a server where top traders actually get paid based on results. Members gets winning alerts. Everyone wins. https://t.co/4UlI9SKENl https://t.co/Ql72RBfF0H\n",
            "$ray i'm part of a server where top traders actually get paid based on results. members gets winning alerts. everyone wins. http http\n",
            "The tile designer stole my caption 😪. Anyways, L1s' scalability trilemma led to the rise of L2 platforms. And $IMX might be the next big L2!  https://t.co/TfwbO4FwjE https://t.co/rt52Io2ejm\n",
            "the tile designer stole my caption . anyways, l1s' scalability trilemma led to the rise of l2 platforms. and $imx might be the next big l2! http http\n",
            "@Fwiz @YouTube @0xPolygon Good job I bought some $MATIC earlier\n",
            "@user good job i bought some $matic earlier\n",
            "Meanwhile, our $SNX trade keeps rocking and doesn't care about all the bears. https://t.co/4fsYoyE831\n",
            "meanwhile, our $snx trade keeps rocking and doesn't care about all the bears. http\n",
            "@souzfusion @NFT_Enterprise Grumpy Robot🤖⚠️  ⚡️✌️☮️⚡️  @hellruler1819 @cryptception  @Zihad44   🚀 #NFTGiveaway 🚀  $ENJ #Enjin #Airdrop #giveaway #NFT #NFTs #freeNFT #NFTgiveaway #NFTcollectible #GrumpyFaces #NFTClub #NFTdrop\n",
            "@user grumpy robot @user #nftgiveaway $enj #enjin #airdrop #giveaway #nft #nfts #freenft #nftgiveaway #nftcollectible #grumpyfaces #nftclub #nftdrop\n",
            "In last 48hrs, $ICP price increased over 25% after the recent retest of its $27.7 major support. Currently, #ICP price trades around $35.5 with resistance area within $36.6-$38.5 area. We can see #ICP take a $34.3 local support retest before it tests the $36 resistance.  #ICPUSDT https://t.co/8hm6Od0960\n",
            "in last 48hrs, $icp price increased over 25% after the recent retest of its $27.7 major support. currently, #icp price trades around $35.5 with resistance area within $36.6-$38.5 area. we can see #icp take a $34.3 local support retest before it tests the $36 resistance. #icpusdt http\n",
            "I wonder if anyone is paying attention to the fact that $HNT is #3/N in protocol revenue across *all* L1 chains over the last 30/60/90 days.   (Click \"Blockchains (L1)\" on this graph.)   https://t.co/xUbPGQxLvf\n",
            "i wonder if anyone is paying attention to the fact that $hnt is #3/n in protocol revenue across *all* l1 chains over the last 30/60/90 days. (click \"blockchains (l1)\" on this graph.) http\n",
            "$MINA *Hey guys,, I've made $55K with them in a week,. by their alerts ...  https://t.co/lV7jP89ASC\n",
            "$mina *hey guys,, i've made $55k with them in a week,. by their alerts ... http\n",
            "Symbol: $ETC  Timeframe: 15m  Position: Long  Price: 27.763  Time: 2022-02-03 22:45:00\n",
            "symbol: $etc timeframe: 15m position: long price: 27.763 time: 2022-02-03 22 00\n",
            "@CryptoZide damn $FTT moving places\n",
            "@user damn $ftt moving places\n",
            "@harmonyprotocol is a scalable L1 blockchain that uses BLS signatures to speed up traditional PBFT consensus &amp; relies on sharding to increase transaction throughput. With currently four shards (plus the beacon chain), Harmony can process around 2000 T\n",
            "@user is a scalable l1 blockchain that uses bls signatures to speed up traditional pbft consensus relies on sharding to increase transaction throughput. with currently four shards (plus the beacon chain), harmony can process around 2000 t\n",
            "@btc_charlie Suing me for everything I have (10 $ADA)\n",
            "@user suing me for everything i have (10 $ada)\n",
            "$DOT For a limited time,,. we are opening our trading chatroom to the public https://t.co/SqrM5NA8R1\n",
            "$dot for a limited time,,. we are opening our trading chatroom to the public http\n",
            "Crypto of the day: FTX Token $FTT is the native cryptocurrency token of the crypto derivatives trading platform FTX. FTX claims that it stands out due to such features as clawback prevention, a centralized collateral pool and universal stablecoin settlement. #cryptocurrency #FTX https://t.co/GrbPkYrlyk\n",
            "crypto of the day: ftx token $ftt is the native cryptocurrency token of the crypto derivatives trading platform ftx. ftx claims that it stands out due to such features as clawback prevention, a centralized collateral pool and universal stablecoin settlement. #cryptocurrency #ftx http\n",
            "🚀 One year ago today, the @Filecoin mainnet went live at block 148,888, launching a new era of decentralized storage.    As we celebrate the one-year anniversary of the launch, we take a look at the massive growth in Filecoin ecosystem in 2021. $FIL    https://t.co/19BGYRfrxX\n",
            "one year ago today, the @user mainnet went live at block 148,888, launching a new era of decentralized storage. as we celebrate the one-year anniversary of the launch, we take a look at the massive growth in filecoin ecosystem in 2021. $fil http\n",
            "$ATLAS after game release 5$ and after 6-9 months target price will 35$-50$. Patience.\n",
            "$atlas after game release 5$ and after 6-9 months target price will 35$-50$. patience.\n",
            "@IncomeSharks - Bull Div on the daily OBV for $MIR?  Slight test pop today  feels like fuse is lit for take off.  I'm still learning, so correct if wrong.\n",
            "@user - bull div on the daily obv for $mir? slight test pop today feels like fuse is lit for take off. i'm still learning, so correct if wrong.\n",
            "@TheCryptoLark $RLY because web3\n",
            "@user $rly because web3\n",
            "@SOLsquidToken The project is great, invite everyone to join, let's become an investor together!!! Go to Moon.  @KKaoru74458081  @chibao061299  @Kiet45620  $SOL #SOL #SolanaAirdrop #SOLsquid #squid #SquidGame #memecoin #Solana #Airdrop\n",
            "@user the project is great, invite everyone to join, let's become an investor together!!! go to moon. @user $sol #sol #solanaairdrop #solsquid #squid #squidgame #memecoin #solana #airdrop\n",
            "$PERP~I made $50000000000 in 30 seconds.......  https://t.co/go0ATAUu6L\n",
            "$perp~i made $50000000000 in 30 seconds....... http\n",
            "$MINA  Real price come out soon.,. Hit the target price.  https://t.co/k9PlJRikGb\n",
            "$mina real price come out soon.,. hit the target price. http\n",
            "$AR looking good to head up higher here\n",
            "$ar looking good to head up higher here\n",
            "@CryptoDiffer @LunarCrush @ethereum @AlchemixFi @MoonbeamNetwork @TheUFOtoken @gamestarter_co @Theta_Network @DIAdata_org @rarible @decentraland @BreederDodo $DODO  this is a good project you can profit by buying from etf #DODO3L #mexc if you want  @MEXC_\n",
            "@user $dodo this a good project you can profit by buying from etf #dodo3l #mexc if you want @user\n",
            "I’ll send one NFT worth $1,250 in $ETH to someone who likes , retweets and follows.   ⏰18h\n",
            "i’ll send one nft worth $1,250 in $eth to someone who likes , retweets and follows. 18h\n",
            "Top 🔟 GAINING cryptocurrency this hour 1. $MANA or #MANA Show More https://t.co/Wd1UnIOBEG https://t.co/FjD0d07N0Q\n",
            "top gaining cryptocurrency this hour 1. $mana or #mana show more http http\n",
            "#ONTO is excited to host a #giveaway with our ecosystem partner @harmonyprotocol! 👏  💰 A total of 4,000 $ONE up for grabs!   📅 Event runs until Feb 20, 13:00 UTC  Complete all tasks in Gleam to share the REWARDS! 🤑  Get started now 👇 https://t.co/goWvY179mK https://t.co/AajN0FzCJl\n",
            "#onto is excited to host a #giveaway with our ecosystem partner @user a total of 4,000 $one up for grabs! event runs until feb 20, 13:00 utc complete all tasks in gleam to share the rewards! get started now http http\n",
            "@mattigags @ivangbi_ @0xTomoyo you mean like $HNS workdrop to undervalued open-source developers?\n",
            "@user you mean like $hns workdrop to undervalued open-source developers?\n",
            "@TheBabylonBee $FIL is preparing for a launch  Technically &amp; fundamentally verified  #Filecoin #Bitcoin\n",
            "@user $fil is preparing for a launch technically fundamentally verified #filecoin #bitcoin\n",
            "@SirRobArtII1 What do you think about $TRX ?\n",
            "@user what do you think about $trx ?\n",
            "@ByzGeneral I am thinking of $LUNA as basic stoichiometry from college chemistry:  Buying LUNA/USDT + Buying UST/LUNA (through burn) + Buying BTC/UST -&gt; LUNA/BTC A balanced equation simply gives Selling #Luna for BTC  just like on exchanges...\n",
            "@user i am thinking of $luna as basic stoichiometry from college chemistry: buying luna/usdt + buying ust/luna (through burn) + buying btc/ust - luna/btc a balanced equation simply gives selling #luna for btc just like on exchanges...\n",
            "10.2 BTC worth of Currency was purchased   $TRX   On the Binance platform in the past minutes!   ❇️🔝   Current currency rate 0.071💲   daily rise rate is 2%    #BTC #FALCONS #FALCONSWAPS #ETH #LTC https://t.co/AH7rs7gWaV\n",
            "10.2 btc worth of currency was purchased $trx on the binance platform in the past minutes! current currency rate 0.071 daily rise rate is 2% #btc #falcons #falconswaps #eth #ltc http\n",
            "@cryptoastekz @YouTube $NEAR Strong, buy all\n",
            "@user $near strong, buy all\n",
            "back in w/ a tighter SL; laddering into the box  still somewhat iffy, so half size   $DOT https://t.co/siGpfAoirs\n",
            "back in w/ a tighter sl; laddering into the box still somewhat iffy, so half size $dot http\n",
            "1 person who retweets and follows me with notifications 🔔 will win a @AzukiZen NFT worth 7.6 $ETH ($20,000) https://t.co/JRE7D4WxLG\n",
            "1 person who retweets and follows me with notifications will win a @user nft worth 7.6 $eth ($20,000) http\n",
            "@tomskiweb Ya feel like a $NEO TA ?\n",
            "@user ya feel like a $neo ta ?\n",
            "dWebGuide Jordan is back on #YouTube looking at #Decentraland, also known as $MANA! Decentraland has been getting a lot of interest about their #virtual land and #NFTs in the metaverse! We need to keep our eyes on MANA!     https://t.co/eZEU7EnPCM\n",
            "dwebguide jordan is back on #youtube looking at #decentraland, also known as $mana! decentraland has been getting a lot of interest about their #virtual land #nfts in the metaverse! we need to keep our eyes on mana! http\n",
            "You gonna let me buy $CRV below $4?    For real?    Lol k thx\n",
            "you gonna let me buy $crv below $4? for real? lol k thx\n",
            "@ReySantoscrypto $ANC bang\n",
            "@user $anc bang\n",
            "$SUSHI Real price will come out soon,  For a limited time, we are opening our trading chatroom to the public. Come learn and make huge profits with us,.,,., https://t.co/V4XuDDIVzE\n",
            "$sushi real price will come out soon, for a limited time, we are opening our trading chatroom to the public. come learn and make huge profits with us,.,,., http\n",
            "$BAL ✅  Increased 3.56% in 7.9 hour(s) 💵 Price - 12.70000000 USDT ⏱️ [23 Mar] - 22:36:19 UTC #BAL #BALUSDT #CryptoBOT\n",
            "$bal increased 3.56% in 7.9 hour(s) price - 12.70000000 usdt [23 mar] - 22 19 utc #bal #balusdt #cryptobot\n",
            "Hey @elonmusk Who else is a real fan of $DOGE?    Here’s a full stainless steel #Dogecoin wallet to match the style of the #Cybertruck! https://t.co/CCL9825XbT\n",
            "hey @user who else is a real fan of $doge? here’s a full stainless steel #dogecoin wallet to match the style of the #cybertruck! http\n",
            "🚀Axieinfinity Token Airdrop🎗    🔰Join the Axieinfinity Token Before Launch and Earn 10 Binance Global Token    🗒Token: Axieinfinity Token $AXS   🌎Start Earning Now 👇: https://t.co/9NRvKZYqyL  #DYOR #Airdrop #Airdrops #Cryptos #NFTs #BabyDogeCoin #BTC #NFT #BNB #Airdrop_Exp\n",
            "axieinfinity token airdrop join the axieinfinity token before launch and earn 10 binance global token token: axieinfinity token $axs start earning now : http #dyor #airdrop #airdrops #cryptos #nfts #babydogecoin #btc #nft #bnb #airdrop_exp\n",
            "news_of_bsc: 👉 @faraland_io reminds its community on the use cases of their native token. Check out the article below to know more about the utility that $FARA can bring.  #BSCNews #NFTs #PlayToEarn #Cryptocurrency #DeFi #BSC #BNB https://t.co/YRwBPii41Y\n",
            "news_of_bsc: @user reminds its community on the use cases of their native token. check out the article below to know more about the utility that $fara can bring. #bscnews #nfts #playtoearn #cryptocurrency #defi #bsc #bnb http\n",
            "YESS PUMP IT $KEEP SEND TO 1$🤑🤑🤑 https://t.co/LOHKvxwFWw\n",
            "yess pump it $keep send to 1$ http\n",
            "@GopalMa43762014 @EOS_Bees @EOSIO 3 December is flying date of $EOS\n",
            "@user 3 december is flying date of $eos\n",
            "@Biswap_Dex @FaraStarter @faraland_io @moonknight You want to become a millionaire? Buy $FARA now, this is a project with x100 potential. #Faraland #FARA #VietnamBlockchainExpoverse #BSC #NFT #GameFi #Metaverse #BinanceBlockchainWeek #BNBchain https://t.c\n",
            "@user you want to become a millionaire? buy $fara now, this a project with x100 potential. #faraland #fara #vietnamblockchainexpoverse #bsc #nft #gamefi #metaverse #binanceblockchainweek #bnbchain http\n",
            "NFT gaming is about sharing ownership with the world.     I never had ownership in any games I played until I found @AxieInfinity. 🚀    $AXS\n",
            "nft gaming is about sharing ownership with the world. i never had ownership in any games i played until i found @user $axs\n",
            "Check it out who followed to @faraland_io $FARA in Twitter!  @DavidNage, @IvanOnTech, @WarcMeinstein, @fomosaurus, @SmartContracter, @bitcoinPalmer, @antony_btc, @CryptoDiffer and many other!  Twitter Score is 15!🔥  🚀https://t.co/Z1JekqJxB1   #BTC #crypto  via @CoinsGuru_io\n",
            "check it out who followed to @user $fara in twitter! @user and many other! twitter score is 15! http #btc #crypto via @user\n",
            "Check out @AutoSharkFin ‘s Atlantis. Treasury is higher than total market cap. $ATLAS price is therefore lower than backing (from the treasury) per token!\n",
            "check out @user ‘s atlantis. treasury is higher than total market cap. $atlas price is therefore lower than backing (from the treasury) per token!\n",
            "@cz_binance Please consider Chia network $XCH\n",
            "@user please consider chia network $xch\n",
            "@Theta_Sol behind a very interesting project, there must be those (teams) who work very hard on this project.  I will always support this project in the future.  @Kopiii_Pagi @PahitLidah19 @D_Rogue007  $THETA #Solana #SolanaAirdrop #SolanaMeta #Airdrop\n",
            "@user behind a very interesting project, there must be those (teams) who work very hard on this project. i will always support this project in the future. @user $theta #solana #solanaairdrop #solanameta #airdrop\n",
            "Are you a $PERP holder but not a trader? We get you covered! Once this integration is completed, you can pick your own fund managers to trade on Perpetual Protocol for you.   Check what they're building at 👇 https://t.co/D62GKfzoYE https://t.co/KMOe418fgz\n",
            "are you a $perp holder but not a trader? we get you covered! once this integration is completed, you can pick your own fund managers to trade on perpetual protocol for you. check what they're building at http http\n",
            "4/x  @TAYC_DAO (arrogant youth circle) it’s a small supply project with a working Rock Paper Scissors game where you can earn $NEAR. They aim to build a series of mini games where players can bet NEAR   With 75% game revenue distributed to their holders from the mini games\n",
            "4/x @user (arrogant youth circle) it’s a small supply project with a working rock paper scissors game where you can earn $near. they aim to build a series of mini games where players can bet near with 75% game revenue distributed to their holders from the mini games\n",
            "$EOS runs to that ~4.15 zone/100ema on rejects, RSI at resistance as well.    Wait for that 100ema hold and we are golden. https://t.co/eEVwsOeqYX https://t.co/vAdoRZnYQd\n",
            "$eos runs to that ~4.15 zone/100ema on rejects, rsi at resistance as well. wait for that 100ema hold and we are golden. http http\n",
            "Today - on my time zone 02-02-2022 will Something happen with @MinaProtocol ?🧐🤑  $MINA #blockchain22kb\n",
            "today - on my time zone 02-02-2022 will something happen with @user ? $mina #blockchain22kb\n",
            "StellaSwap going live with #Fantom #ILO on 22 Feb, 4PM UTC ⚡️    Bridge your $FTM to @MoonbeamNetwork with no fees now to earn 10% discount on STELLA! 💰    Bookmark the ILO page for later: https://t.co/6WNIXk8XsX    #Fantom #ILO #FTM #StellaSwap https://t.co/KTexjnDdih\n",
            "stellaswap going live with #fantom #ilo on 22 feb, 4pm utc bridge your $ftm to @user with no fees now to earn 10% discount on stella! bookmark the ilo page for later: http #fantom #ilo #ftm #stellaswap http\n",
            "$CRV Profitable Crypto Alerts Chatroom, I've made $30k in a week. Lot of thanks to this chatroom,,   https://t.co/urgXPOCGkj\n",
            "$crv profitable crypto alerts chatroom, i've made $30k in a week. lot of thanks to this chatroom,, http\n",
            "Me, waiting the $JOE pump  @0xwildinvestor @tezukaTez https://t.co/qSZgzhQgLA\n",
            "me, waiting the $joe pump @user http\n",
            "$JOE Real profit come out soon hit the target price. Enjoy premium alerts $1 for 30 days... https://t.co/ZSXk7Rr0Wy\n",
            "$joe real profit come out soon hit the target price. enjoy premium alerts $1 for 30 days... http\n",
            "@coinbase Please consider listing $XCH\n",
            "@user please consider listing $xch\n",
            "🥳🥳 #CeloPunks are finally available! 🥳🥳    The first and original #Punks to launch on the #Celo blockchain!    Mint yours now for 15 $CELO and earn 2% lifetime royalty on any sale of your minted #Celopunk!     #NFT #launch @CeloOrg #NFTshill #NFTGiveaway #NFTCommunity #nftsolana https://t.co/tkIh7FjqSZ\n",
            "#celopunks are finally available! the first and original #punks to launch on the #celo blockchain! mint yours now for 15 $celo and earn 2% lifetime royalty on any sale of your minted #celopunk! #nft #launch @user #nftshill #nftgiveaway #nftcommunity #nftsolana http\n",
            " @TheSandboxGame  I just participated in the daily D878 for a chance to earn up to 1,000 $SAND! Day 1 - Selfie with the S2 Alpha Pass. Check out my screenshot below! 👇 #SandboxAlphaS2 https://t.co/L6ml7O5Ygq\n",
            "@user i just participated in the daily d878 for a chance to earn up to 1,000 $sand! day 1 - selfie with the s2 alpha pass. check out my screenshot below! #sandboxalphas2 http\n",
            "1 hour countdown -  $MATIC #ILO is about to begin soon now on StellaSwap 🚀 Get Ready!  Make sure you bookmark the ILO Page: https://t.co/ZaOsEuh9w9  #Polygon #Moonbeam #ILO https://t.co/kS797QdD4u\n",
            "1 hour countdown - $matic #ilo is about to begin soon now on stellaswap get ready! make sure you bookmark the ilo page: http #polygon #moonbeam #ilo http\n",
            "@MdRehan05 Not sure why u wanna short this when $LRC and metaverse tokens are trending down, short scalp is fine just don't get too comfortable.\n",
            "@user not sure why u wanna short this when $lrc and metaverse tokens are trending down, short scalp is fine just don't get too comfortable.\n",
            "📢 Upgraded yield delegating vaults available at https://t.co/MkmAAjoZyM incorporating community feedback on $RLY reward emissions related to Yearn withdrawal fees. More details 👇 https://t.co/ElnNJVqj3P\n",
            "upgraded yield delegating vaults available at http incorporating community feedback on $rly reward emissions related to yearn withdrawal fees. more details http\n",
            "#Chia $XCH with a giant leap introducing the building blocks for fully de-centralized P2P exchanges.    Imagine the future. Integrating browser-wallets, no centralized logins, no middleman-fees. Endless possibilities.     Dont sleep on this one friends.    #crypto #DeFi #future https://t.co/1D6AM92iQa https://t.co/UaVSGbR1D6\n",
            "#chia $xch with a giant leap introducing the building blocks for fully de-centralized p2p exchanges. imagine the future. integrating browser-wallets, no centralized logins, no middleman-fees. endless possibilities. dont sleep on this one friends. #crypto #defi #future http http\n",
            "So, 16 left!  Generative collection with 320 variations   1 $XTZ  https://t.co/A5wQgISDEc https://t.co/7zjcZZ8dSF\n",
            "so, 16 left! generative collection with 320 variations 1 $xtz http http\n",
            "$ALGO looks interesting https://t.co/DeGUr4Z3En\n",
            "$algo looks interesting http\n",
            "$ETC just what in the hell https://t.co/5aUOqnSArl\n",
            "$etc just what in the hell http\n",
            "🎙@Biswap_Dex x @faraland_io🎙  Live AMA Session - $200 in $FARA!  ⏰ 10:00 AM (UTC), 11 March 📍https://t.co/wNZDzmkzxJ               🤴10 winners   1️⃣ Like+RT 2️⃣ Follow @Biswap_Dex &amp; @faraland_io 3️⃣ Comment with a question about Faraland &amp; BEP-20 wallet  Ask to win FARA tokens! https://t.co/T172fLJfKc\n",
            "@user x @user live ama session - $200 in $fara! 10:00 am (utc), 11 march http 10 winners like+ follow @user comment with a question about faraland bep-20 wallet ask to win fara tokens! http\n",
            "🌟 @cronos_chain announces 👉 #Cryptocurrency Coin $CRO is now Cronos — formerly known as “https://t.co/rgFXakGgp7 Coin”, CRO’s rebrand reflects the #decentralization of the coin and tremendous growth of Cronos ecosystem: https://t.co/BeNu8W610y #CryptoNews #DAO #DeFi #blockchain https://t.co/OvOUthjgJa\n",
            "@user announces #cryptocurrency coin $cro is now cronos — formerly known as “http coin”, cro’s rebrand reflects the #decentralization of the coin and tremendous growth of cronos ecosystem: http #cryptonews #dao #defi #blockchain http\n",
            "@showmethebit $ANC,$STX\n",
            "@user $anc,$stx\n",
            "$KEEP    SHORT at 0.5904$    #KEEPUSDT #KEEP\n",
            "$keep short at 0.5904$ #keepusdt #keep\n",
            "$ICP needs to bounce 😅\n",
            "$icp needs to bounce\n",
            "@0xFenrir @beaniemaxi Don't send out the bat signal or he'll come in and be like wow $LOOKS like I'm not the only bad guy.\n",
            "@user don't send out the bat signal or he'll come in and be like wow $looks like i'm not the only bad guy.\n",
            " @JaTwittak @triaslab Look at $BNT with strong protocol and successfully team behind it, lack of performance price wise is related to continuously inflated supply to provide rewards to D370.\n",
            "@user look at $bnt with strong protocol and successfully team behind it, lack of performance price wise is related to continuously inflated supply to provide rewards to d370.\n",
            "Longed $FIL\n",
            "longed $fil\n",
            "Contributions to the advancement of my humanity can be sent in #dogecoin $DOGE   #WWTankGirlDo #DoYouDareToDoge and #DoOnlyGoodEveryday    DCsgKVoZAqxBVKaLuVWevaPq7dsxrDreMa https://t.co/6ZlHR0ZPb3\n",
            "contributions to the advancement of my humanity can be sent in #dogecoin $doge #wwtankgirldo #doyoudaretodoge and #doonlygoodeveryday dcsgkvozaqxbvkaluvwevapq7dsxrdrema http\n",
            "Guys join the most popular #Cronos call channel on Telegram! ❤️  They don´t call everything. The team do a lot of research. And their calls often bring a lot of profits!  🎁 #GIVEAWAY of 50 $CRO:  - Join : https://t.co/EkyMvS4YLq - RT and Follow\n",
            "guys join the most popular #cronos call channel on telegram! they don´t call everything. the team do a lot of research. and their calls often bring a lot of profits! #giveaway of 50 $cro: - join : http - and follow\n",
            "$MINA *Hey guys, I've made $55K with them in a week,, by their alerts ....  https://t.co/WCIegKOl1Y\n",
            "$mina *hey guys, i've made $55k with them in a week,, by their alerts .... http\n",
            "Happy Friday! $ONE final push before the weekend! woohoo!\n",
            "happy friday! $one final push before the weekend! woohoo!\n",
            "Should I Buy more $MATIC?\n",
            "should i buy more $matic?\n",
            "@stellaachenbach @Bancor Need to start stacking some $BNT first 😁. But B3 release will be close to permissionless...🤔 can maybe do this live in Florida with good company and some beers to celebrate? 🍻\n",
            "@user need to start stacking some $bnt first . but b3 release will be close to permissionless... can maybe do this live in florida with good company and some beers to celebrate?\n",
            "Can’t wait to get my early access to Dappio Wonderland; Down the rabbit hole! @Dappio_🐰 https://t.co/8YX6JyVEwD  $SOL #Solana #Solszn #FTX   very good project  !!! gogo gogogogo to the  mooooon @whddnffj @Jyoon94 @Dongjun12752451\n",
            "can’t wait to get my early access to dappio wonderland; down the rabbit hole! @user http $sol #solana #solszn #ftx very good project !!! gogo gogogogo to the mooooon @user @user\n",
            "@TheSandboxGame I just participated in the daily #SandboxAlphaS2Contest for a chance to earn up to 1,000 $SAND! Day 1 - Selfie with the S2 Alpha Pass. Check out my screenshot below! 👇 #SandboxAlphaS2 https://t.co/OpEsGda4p0\n",
            "@user i just participated in the daily #sandboxalphas2contest for a chance to earn up to 1,000 $sand! day 1 - selfie with the s2 alpha pass. check out my screenshot below! #sandboxalphas2 http\n",
            "$COMP Nasdaq 📊👀 About 180 more points down until Technology wipes out step 4 on the way to Step #5-6 IMO. Lower lows and highs. I’m not touching Technology or Consumer related stocks. I am banking a few profits today, raising my cash position for dip buying. Have a good weekend https://t.co/uk4XXpgjNM\n",
            "$comp nasdaq about 180 more points down until technology wipes out step 4 on the way to step #5-6 imo. lower lows and highs. i’m not touching technology or consumer related stocks. i am banking a few profits today, raising my cash position for dip buying. have a good weekend http\n",
            "@HiBlockTalks @FaraStarter I understand that FaraStarter is an offshoot of FaraLand and they even use the $FARA token. So, can you explain if both the team behind FaraLand is the same team that manages FaraStarter? If so, can you give details of the chall\n",
            "@user i understand that farastarter is an offshoot of faraland they even use the $fara token. so, can you explain if both the team behind faraland is the same team that manages farastarter? if so, can you give details of the chall\n",
            "Crown  There is only one edition left 20 $XTZ https://t.co/0CZsSIXuDy  #nft #nftphotography #Monochrome  #nftart #tezos #tezosart #CleanNFT https://t.co/f9By3ovctG\n",
            "crown there is only one edition left 20 $xtz http #nft #nftphotography #monochrome #nftart #tezos #tezosart #cleannft http\n",
            "My personal opinion on the @LooksRareNFT situation     I don't care if the team sells WETH rewards as long as they don't dump $LOOKS token    I had no idea the ponzinomics for team (which perhaps team should be limited on their staking) but at the same time the airdrop was generous https://t.co/3DLJgbFdiY\n",
            "my personal opinion the @user situation i don't care if the team sells weth rewards as long as they don't dump $looks token i had no idea the ponzinomics for team (which perhaps team should be limited on their staking) but at the same time the airdrop was generous http\n",
            "@IncomeSharks You mean $SYN @SynapseProtocol\n",
            "@user you mean $syn @user\n",
            "Introducing our new protocol RNA Cash, that expands provide and more liquidity into the ecosystem that is pegged to $CRO.    Medium article: https://t.co/vdIWIE1zem  Docs: https://t.co/fqTID89aXf  Website: https://t.co/7n41B4hRRV    #FFTB   #CRO   #DNADollar   #CronosChain  #CroFam  #DeFi https://t.co/g1mXHoKhmP\n",
            "introducing our new protocol rna cash, that expands provide and more liquidity into the ecosystem that is pegged to $cro. medium article: http docs: http website: http #fftb #cro #dnadollar #cronoschain #crofam #defi http\n",
            "$YFI Real price come out soon;. Hit the target price https://t.co/mueuT8yrs1\n",
            "$yfi real price come out soon;. hit the target price http\n",
            "Quickswap is a decentralized exchange (DEX) on the Polygon Network. It is a based on the Uniswap V2 AMM protocol and allows users on Polygon to trade tokens through a liquidity pool. https://t.co/3lrvNMiNm0  $QUICK #QuickSwap https://t.co/TxT8qfwOwC\n",
            "quickswap is a decentralized exchange (dex) on the polygon network. it is a based on the uniswap v2 amm protocol and allows users on polygon to trade tokens through a liquidity pool. http $quick #quickswap http\n",
            "So who’s gonna be the first to integrate Lightning Address with Handshake? I think this could be what bridges bitcoiners over to using $HNS.\n",
            "so who’s gonna be the first to integrate lightning address with handshake? i think this could be what bridges bitcoiners over to using $hns.\n",
            "$CREAM (IceCream Finance, CMC rank: 3111) https://t.co/mD1RsECMwr\n",
            "$cream (icecream finance, cmc rank: 3111) http\n",
            "$OHM Real price will come out soon; Follow price targets.,           ✅✅ https://t.co/2fah1P8o20\n",
            "$ohm real price will come out soon; follow price targets., http\n",
            "TheSandboxGame One-page Overview    The Sandbox is a unique virtual world where players can build, own, and monetize their gaming experiences using $SAND, the main utility token of the platform. @TheSandboxGame https://t.co/zF4C4b50jx\n",
            "thesandboxgame one-page overview the sandbox is a unique virtual world where players can build, own, and monetize their gaming experiences using $sand, the main utility token of the platform. @user http\n",
            "@GIGAhoff Started to dca back in Jan 21 🙌    $ROSE https://t.co/1dxjkdr9ZD\n",
            "@user started to dca back in jan 21 $rose http\n",
            "$FTM     ... that's the tweet.\n",
            "$ftm ... that's the tweet.\n",
            "$HNS proud possession #5. My acquired names that are potential and powerful names.  https://t.co/XfKixYJKIt #HNS #Handshake #domains #dweb #NFTs #web3 #Metaverse\n",
            "$hns proud possession #5. my acquired names that are potential and powerful names. http #hns #handshake #domains #dweb #nfts #web3 #metaverse\n",
            "Drop your $BNB address\n",
            "drop your $bnb address\n",
            "Let's go!!! Finally got my new card. 💎💎 @cryptocom \"Icy White\" Private member! #Crypto #CryptoCard #CRO $CRO https://t.co/SiDB4udIZR\n",
            "let's go!!! finally got my new card. @user \"icy white\" private member! #crypto #cryptocard #cro $cro http\n",
            "#ValentinesDay is coming up next week💙    👀Seeking a #Valentine who:   * Doesn't mind my morning breath 🔥  * Values scarcity (few) 🐲  * Likes things done $QUICK ⚡️    HBU? What are you looking for on #ValentinesDay2022? 👇👇👇 https://t.co/LwDJc8mdEj\n",
            "#valentinesday is coming up next week seeking a #valentine who: * doesn't mind my morning breath * values scarcity (few) * likes things done $quick hbu? what are you looking for on #valentinesday2022? http\n",
            "ICYMI: Last call. Supply drops next week for $FIL - 🚀 time... https://t.co/UewwD2wupp\n",
            "icymi: last call. supply drops next week for $fil - time... http\n",
            "More unique #art #meme #NFTs for our future Bored Doge #NFT collection with 2D/3D #Metaverse #GameFi Utility on #NEO #blockchain .  $NEO will be the first blockchain with a #doge #shiba multiplayer Metaverse #PlayToEarn  Game!  #MetaverseNFT https://t.co/pd3ngSYK6h\n",
            "more unique #art #meme #nfts for our future bored doge #nft collection with 2d/3d #metaverse #gamefi utility on #neo #blockchain . $neo will be the first blockchain with a #doge #shiba multiplayer metaverse #playtoearn game! #metaversenft http\n",
            "What a year full of challenges, achievements, and growth. Discover the highlights of 2021 in our comprehensive – but never exhaustive – IOG review of the year 🌟   #Cardano $ADA  https://t.co/NKp0RMZ7E1\n",
            "what a year full of challenges, achievements, and growth. discover the highlights of 2021 in our comprehensive – but never exhaustive – iog review of the year #cardano $ada http\n",
            "Looks rare Now i hv 2 Ultra rare 👀 https://t.co/efAPDdXhTa Buy now before sold out #GCG #NFT #NFTCommunity #NFTs #nftcollector #NFTCollection #NEAR $NEAR @ivn430 @NearNft @ParasHQ @gorillacrewgang https://t.co/rHeFcSOpMa\n",
            "looks rare now i hv 2 ultra rare http buy now before sold out #gcg #nft #nftcommunity #nfts #nftcollector #nftcollection #near $near @user http\n",
            "@milesdeutscher $MATIC\n",
            "@user $matic\n",
            "Start Trading $TRX On Ascendex    Sign up now for 10% referral reward     https://t.co/H0OV8sMnbP https://t.co/BBcPJ7ESBa\n",
            "start trading $trx on ascendex sign up now for 10% referral reward http http\n",
            "@TheSandboxGame @binance I just participated in the daily #SandboxAlphaS2Contest for a chance to earn up to 1,000 $SAND! Starting March 20 - Show us your favorite Zodiac character. Check out my screenshot below! 👇 #SandboxAlphaS2 https://t.co/jobbhDRu75\n",
            "@user i just participated in the daily #sandboxalphas2contest for a chance to earn up to 1,000 $sand! starting march 20 - show us your favorite zodiac character. check out my screenshot below! #sandboxalphas2 http\n",
            "Why do I feel like $SYN might win the race 😂 https://t.co/3F5f3hZ4SH\n",
            "why do i feel like $syn might win the race http\n",
            "$LRC Update: breaking out 🚀 https://t.co/MbtMPgqV7k https://t.co/EqG67zym6Y\n",
            "$lrc update: breaking out http http\n",
            "$CREAM Target 1 achieved ✅  #charliecryptone https://t.co/zdvv8nWL1j\n",
            "$cream target 1 achieved #charliecryptone http\n",
            "( $IMX begins getting naked shorted ) https://t.co/yHCLINmJuX\n",
            "( $imx begins getting naked shorted ) http\n",
            "Every other coin:    1. White paper  2. IDO  3. Spend 5 years failing to build    $TRU (truebit is only in Uniswap) @Truebitprotocol:    1. Build Ethereum  2. Devs immediately move to $truebit  3. Spend 5 years building the core engine  4. Build dev community to begin dapps  5. Fair Launch https://t.co/shhnFiRPZg\n",
            "every other coin: 1. white paper 2. ido 3. spend 5 years failing to build $tru (truebit is only in uniswap) @user 1. build ethereum 2. devs immediately move to $truebit 3. spend 5 years building the core engine 4. build dev community to begin dapps 5. fair launch http\n",
            "$ANC  #Anchor protocol  Absolutely killing it\n",
            "$anc #anchor protocol absolutely killing it\n",
            "$CELO next target 3.8 $ , 4 $   LET'S GO 🚀 https://t.co/koe01zr7ub\n",
            "$celo next target 3.8 $ , 4 $ let's go http\n",
            "@bbtc $ANC love it\n",
            "@user $anc love it\n",
            "@deezy_BTC Buy more $ADA 😂😂😂\n",
            "@user buy more $ada\n",
            "growing economies with weekly $RLY rewards. This means that all holders of a creator coin can literally get paid just for supporting their favorite creators. 6. NFTs are just one part of a whole, give it a year a people will see why creator coins can be even bigger than NFTs.\n",
            "growing economies with weekly $rly rewards. this means that all holders of a creator coin can literally get paid just for supporting their favorite creators. 6. nfts are just one part of a whole, give it a year a people will see why creator coins can be even bigger than nfts.\n",
            "Looking at #CRO plays pooping out , are we gonna see a $CRO season soon ?\n",
            "looking at #cro plays pooping out , are we gonna see a $cro season soon ?\n",
            "$ADA is so fk*** undervalued\n",
            "$ada is so fk*** undervalued\n",
            "One thing.. I like $IMX @Immutable #immutableX I already grabbed them at 3,05, sold at peak. It's very low again. &lt;maybe with a crash ... 2,95-3.20 would be nice. Just be patience. You can see here, My first meeting with #IMX. And some charts now .. https://t.co/hSTCuTzR3U https://t.co/DQMMPzPSzo\n",
            "one thing.. i like $imx @user #immutablex i already grabbed them at 3,05, sold at peak. it's very low again. with a crash ... 2,95-3.20 would be nice. just be patience. you can see here, my first meeting with #imx. and some charts now .. http http\n",
            "First NFT with launchpad utility going live on Oasis Network soon!  Don't miss out this amazing artwork follow @rose_apes  #Oasis #OasisNetwork #roseapes #RosePad $ROSE #NFT https://t.co/5z1PkFnIMZ\n",
            "first nft with launchpad utility going live on oasis network soon! don't miss out this amazing artwork follow @user #oasis #oasisnetwork #roseapes #rosepad $rose #nft http\n",
            "StellaSwap going live with #Fantom #ILO on 22 Feb, 4PM UTC ⚡️    Bridge your $FTM to @MoonbeamNetwork with no fees now to earn 10% discount on STELLA! 💰    Bookmark the ILO page for later: https://t.co/Mz8x5tcxnd    #Fantom #ILO #FTM #StellaSwap https://t.co/r7nFQOzT3X\n",
            "stellaswap going live with #fantom #ilo on 22 feb, 4pm utc bridge your $ftm to @user with no fees now to earn 10% discount on stella! bookmark the ilo page for later: http #fantom #ilo #ftm #stellaswap http\n",
            "Opera browser now supports Handshake domains giving millions access to web3 and the decentralized internet. Make sure you own your online identity with $HNS top level domains.     Check out https://t.co/PNmCpiUUHU and https://t.co/nQQSnvAGtG\n",
            "opera browser now supports handshake domains giving millions access to web3 and the decentralized internet. make sure you own your online identity with $hns top level domains. check out http and http\n",
            "@TheSandboxGame I just participated in the daily #SandboxAlphaS2Contest for a chance to earn up to 1,000 $SAND! Starting March 8 - Find Michonne &amp; her zombies. Check out my screenshot below! 👇 #SandboxAlphaS2 https://t.co/2LSkNxyusN\n",
            "@user i just participated in the daily #sandboxalphas2contest for a chance to earn up to 1,000 $sand! starting march 8 - find michonne her zombies. check out my screenshot below! #sandboxalphas2 http\n",
            "@NunDaoSol Great project right here @KayodeAkinlade2 @OlasojiAyomide4 @comedianjossyb #Solana #SolanaAirdrop #NunDao $SOL #Solana #Airdrop\n",
            "@user great project right here @user #solana #solanaairdrop #nundao $sol #solana #airdrop\n",
            "@Ralvero Hmmm! #Faraland sir, both of $FARA and #Faraland #NFTs. And will you analyze #Bemil in the next month when it released sir?, https://t.co/NUiqmYcAl5\n",
            "@user hmmm! #faraland sir, both of $fara and #faraland #nfts. and will you analyze #bemil in the next month when it released sir?, http\n",
            "@MattWallace888 $Aave\n",
            "@user $aave\n",
            "$CREAM  All targets given have been met.  But I still believe there's still room for more upside just as the HTF looks even more promising.  🚀 🚀 https://t.co/DTax0qQNkg https://t.co/U7CS7dwcYe\n",
            "$cream all targets given have been met. but i still believe there's still room for more upside just as the htf looks even more promising. http http\n",
            "Full thanks to @Tradecrypto11  as they have analysed this #Crypto crash so my funds doesn't affected and I have not faced any type of losses  They are absolutely amazing in tips,advices and everything.  $BNB #BSC #BTC #Solana #NFTvv\n",
            "full thanks to @user as they have analysed this #crypto crash so my funds doesn't affected and i have not faced any type of losses they are absolutely amazing in tips,advices and everything. $bnb #bsc #btc #solana #nftvv\n",
            "So, how does the $ANC token capture value from this?   The answer is protocol fees and governance fees.\n",
            "so, how does the $anc token capture value from this? the answer is protocol fees and governance fees.\n",
            "@DODOCN Great project really hoping to get whitelisted on this huge project.Optimistic about the future of the project.  @yogaswara_sandy @booorinn @ilmys2708    $DODO #Moonriver #DODO\n",
            "@user great project really hoping to get whitelisted on this huge project.optimistic about the future of the project. @user $dodo #moonriver #dodo\n",
            "A lucky person will win 5000 $TRX    🍀To enter:-  Follow me RT🔁 and like❤️     Sign up link 👇👇👇    https://t.co/bbCgiuh3IK https://t.co/CWetY7BYie\n",
            "a lucky person will win 5000 $trx to enter:- follow me and like sign up link http http\n",
            "@GreatLeekster $IMX WILL POWER THE NFT MARKETPLACE LEVEL 2 Eth\n",
            "@user $imx will power the nft marketplace level 2 eth\n"
          ]
        },
        {
          "output_type": "execute_result",
          "data": {
            "text/plain": [
              "<Axes: >"
            ]
          },
          "metadata": {},
          "execution_count": 23
        },
        {
          "output_type": "display_data",
          "data": {
            "text/plain": [
              "<Figure size 640x480 with 1 Axes>"
            ],
            "image/png": "[encoded data removed]"
          },
          "metadata": {}
        }
      ]
    },
    {
      "cell_type": "code",
      "source": [
        "#training parameters\n",
        "epochs = 400\n",
        "lr = 2e-04\n",
        "tokenizer_length = 95 #sentence length\n",
        "n_ways = 5 #clases\n",
        "k_shots = 20 # vectores soporte\n",
        "k_queries = 10 # querys\n",
        "\n",
        "train_steps = 5\n",
        "\n",
        "model = PrototypicalNetwork(bert)\n",
        "model.to(device)\n",
        "history = training(epochs, lr, tokenizer_length, n_ways, k_shots, k_queries, train_steps)"
      ],
      "metadata": {
        "colab": {
          "base_uri": "https://localhost:8080/"
        },
        "id": "CJEE1hagpL2K",
        "outputId": "68f91219-c462-41eb-9dc7-44fb44b0f3f3"
      },
      "execution_count": 24,
      "outputs": [
        {
          "output_type": "stream",
          "name": "stdout",
          "text": [
            "\n",
            " Epoch 1 / 400\n"
          ]
        },
        {
          "output_type": "stream",
          "name": "stderr",
          "text": [
            "100%|██████████| 5/5 [00:09<00:00,  1.88s/it, accuracy=0.3800]\n",
            "100%|██████████| 4/4 [00:05<00:00,  1.25s/it, accuracy=0.2500]\n"
          ]
        },
        {
          "output_type": "stream",
          "name": "stdout",
          "text": [
            "\n",
            "Training Loss: 1.608 Training Accuracy: 0.372\n",
            "Validation Loss: 1.597 Validation Accuracy: 0.469\n",
            "\n",
            " Epoch 2 / 400\n"
          ]
        },
        {
          "output_type": "stream",
          "name": "stderr",
          "text": [
            "100%|██████████| 5/5 [00:06<00:00,  1.25s/it, accuracy=0.3500]\n",
            "100%|██████████| 4/4 [00:04<00:00,  1.21s/it, accuracy=0.5000]\n"
          ]
        },
        {
          "output_type": "stream",
          "name": "stdout",
          "text": [
            "\n",
            "Training Loss: 1.559 Training Accuracy: 0.354\n",
            "Validation Loss: 1.290 Validation Accuracy: 0.406\n",
            "\n",
            " Epoch 3 / 400\n"
          ]
        },
        {
          "output_type": "stream",
          "name": "stderr",
          "text": [
            "100%|██████████| 5/5 [00:06<00:00,  1.27s/it, accuracy=0.4500]\n",
            "100%|██████████| 4/4 [00:04<00:00,  1.22s/it, accuracy=0.3750]\n"
          ]
        },
        {
          "output_type": "stream",
          "name": "stdout",
          "text": [
            "\n",
            "Training Loss: 1.386 Training Accuracy: 0.404\n",
            "Validation Loss: 1.323 Validation Accuracy: 0.500\n",
            "\n",
            " Epoch 4 / 400\n"
          ]
        },
        {
          "output_type": "stream",
          "name": "stderr",
          "text": [
            "100%|██████████| 5/5 [00:06<00:00,  1.29s/it, accuracy=0.4600]\n",
            "100%|██████████| 4/4 [00:05<00:00,  1.26s/it, accuracy=0.2500]\n"
          ]
        },
        {
          "output_type": "stream",
          "name": "stdout",
          "text": [
            "\n",
            "Training Loss: 1.201 Training Accuracy: 0.490\n",
            "Validation Loss: 1.372 Validation Accuracy: 0.344\n",
            "\n",
            " Epoch 5 / 400\n"
          ]
        },
        {
          "output_type": "stream",
          "name": "stderr",
          "text": [
            "100%|██████████| 5/5 [00:06<00:00,  1.31s/it, accuracy=0.6100]\n",
            "100%|██████████| 4/4 [00:05<00:00,  1.28s/it, accuracy=0.3750]\n"
          ]
        },
        {
          "output_type": "stream",
          "name": "stdout",
          "text": [
            "\n",
            "Training Loss: 1.042 Training Accuracy: 0.540\n",
            "Validation Loss: 1.306 Validation Accuracy: 0.438\n",
            "\n",
            " Epoch 6 / 400\n"
          ]
        },
        {
          "output_type": "stream",
          "name": "stderr",
          "text": [
            "100%|██████████| 5/5 [00:06<00:00,  1.34s/it, accuracy=0.6300]\n",
            "100%|██████████| 4/4 [00:05<00:00,  1.32s/it, accuracy=0.3750]\n"
          ]
        },
        {
          "output_type": "stream",
          "name": "stdout",
          "text": [
            "\n",
            "Training Loss: 0.791 Training Accuracy: 0.620\n",
            "Validation Loss: 1.776 Validation Accuracy: 0.531\n",
            "\n",
            " Epoch 7 / 400\n"
          ]
        },
        {
          "output_type": "stream",
          "name": "stderr",
          "text": [
            "100%|██████████| 5/5 [00:06<00:00,  1.37s/it, accuracy=0.7800]\n",
            "100%|██████████| 4/4 [00:05<00:00,  1.37s/it, accuracy=0.1250]\n"
          ]
        },
        {
          "output_type": "stream",
          "name": "stdout",
          "text": [
            "\n",
            "Training Loss: 0.671 Training Accuracy: 0.700\n",
            "Validation Loss: 2.619 Validation Accuracy: 0.531\n",
            "\n",
            " Epoch 8 / 400\n"
          ]
        },
        {
          "output_type": "stream",
          "name": "stderr",
          "text": [
            "100%|██████████| 5/5 [00:07<00:00,  1.41s/it, accuracy=0.8900]\n",
            "100%|██████████| 4/4 [00:05<00:00,  1.40s/it, accuracy=0.3750]\n"
          ]
        },
        {
          "output_type": "stream",
          "name": "stdout",
          "text": [
            "\n",
            "Training Loss: 0.459 Training Accuracy: 0.856\n",
            "Validation Loss: 3.228 Validation Accuracy: 0.562\n",
            "\n",
            " Epoch 9 / 400\n"
          ]
        },
        {
          "output_type": "stream",
          "name": "stderr",
          "text": [
            "100%|██████████| 5/5 [00:07<00:00,  1.41s/it, accuracy=0.8900]\n",
            "100%|██████████| 4/4 [00:05<00:00,  1.37s/it, accuracy=0.6250]\n"
          ]
        },
        {
          "output_type": "stream",
          "name": "stdout",
          "text": [
            "\n",
            "Training Loss: 0.341 Training Accuracy: 0.882\n",
            "Validation Loss: 3.492 Validation Accuracy: 0.531\n",
            "\n",
            " Epoch 10 / 400\n"
          ]
        },
        {
          "output_type": "stream",
          "name": "stderr",
          "text": [
            "100%|██████████| 5/5 [00:06<00:00,  1.38s/it, accuracy=0.9400]\n",
            "100%|██████████| 4/4 [00:05<00:00,  1.34s/it, accuracy=0.7500]\n"
          ]
        },
        {
          "output_type": "stream",
          "name": "stdout",
          "text": [
            "\n",
            "Training Loss: 0.248 Training Accuracy: 0.910\n",
            "Validation Loss: 5.005 Validation Accuracy: 0.594\n",
            "\n",
            " Epoch 11 / 400\n"
          ]
        },
        {
          "output_type": "stream",
          "name": "stderr",
          "text": [
            "100%|██████████| 5/5 [00:06<00:00,  1.36s/it, accuracy=0.9400]\n",
            "100%|██████████| 4/4 [00:05<00:00,  1.32s/it, accuracy=0.7500]\n"
          ]
        },
        {
          "output_type": "stream",
          "name": "stdout",
          "text": [
            "\n",
            "Training Loss: 0.166 Training Accuracy: 0.948\n",
            "Validation Loss: 2.647 Validation Accuracy: 0.500\n",
            "\n",
            " Epoch 12 / 400\n"
          ]
        },
        {
          "output_type": "stream",
          "name": "stderr",
          "text": [
            "100%|██████████| 5/5 [00:06<00:00,  1.35s/it, accuracy=0.9800]\n",
            "100%|██████████| 4/4 [00:05<00:00,  1.32s/it, accuracy=0.2500]\n"
          ]
        },
        {
          "output_type": "stream",
          "name": "stdout",
          "text": [
            "\n",
            "Training Loss: 0.105 Training Accuracy: 0.964\n",
            "Validation Loss: 2.391 Validation Accuracy: 0.500\n",
            "\n",
            " Epoch 13 / 400\n"
          ]
        },
        {
          "output_type": "stream",
          "name": "stderr",
          "text": [
            "100%|██████████| 5/5 [00:06<00:00,  1.36s/it, accuracy=0.9800]\n",
            "100%|██████████| 4/4 [00:05<00:00,  1.34s/it, accuracy=1.0000]\n"
          ]
        },
        {
          "output_type": "stream",
          "name": "stdout",
          "text": [
            "\n",
            "Training Loss: 0.075 Training Accuracy: 0.974\n",
            "Validation Loss: 4.927 Validation Accuracy: 0.562\n",
            "\n",
            " Epoch 14 / 400\n"
          ]
        },
        {
          "output_type": "stream",
          "name": "stderr",
          "text": [
            "100%|██████████| 5/5 [00:06<00:00,  1.38s/it, accuracy=0.9900]\n",
            "100%|██████████| 4/4 [00:05<00:00,  1.36s/it, accuracy=0.2500]\n"
          ]
        },
        {
          "output_type": "stream",
          "name": "stdout",
          "text": [
            "\n",
            "Training Loss: 0.084 Training Accuracy: 0.976\n",
            "Validation Loss: 5.210 Validation Accuracy: 0.594\n",
            "\n",
            " Epoch 15 / 400\n"
          ]
        },
        {
          "output_type": "stream",
          "name": "stderr",
          "text": [
            "100%|██████████| 5/5 [00:06<00:00,  1.38s/it, accuracy=0.9800]\n",
            "100%|██████████| 4/4 [00:05<00:00,  1.35s/it, accuracy=0.5000]\n"
          ]
        },
        {
          "output_type": "stream",
          "name": "stdout",
          "text": [
            "\n",
            "Training Loss: 0.050 Training Accuracy: 0.980\n",
            "Validation Loss: 3.008 Validation Accuracy: 0.594\n",
            "\n",
            " Epoch 16 / 400\n"
          ]
        },
        {
          "output_type": "stream",
          "name": "stderr",
          "text": [
            "100%|██████████| 5/5 [00:06<00:00,  1.38s/it, accuracy=0.9900]\n",
            "100%|██████████| 4/4 [00:05<00:00,  1.34s/it, accuracy=0.5000]\n"
          ]
        },
        {
          "output_type": "stream",
          "name": "stdout",
          "text": [
            "\n",
            "Training Loss: 0.064 Training Accuracy: 0.988\n",
            "Validation Loss: 2.687 Validation Accuracy: 0.625\n",
            "\n",
            " Epoch 17 / 400\n"
          ]
        },
        {
          "output_type": "stream",
          "name": "stderr",
          "text": [
            "100%|██████████| 5/5 [00:06<00:00,  1.37s/it, accuracy=1.0000]\n",
            "100%|██████████| 4/4 [00:05<00:00,  1.34s/it, accuracy=0.7500]\n"
          ]
        },
        {
          "output_type": "stream",
          "name": "stdout",
          "text": [
            "\n",
            "Training Loss: 0.021 Training Accuracy: 0.994\n",
            "Validation Loss: 5.092 Validation Accuracy: 0.531\n",
            "\n",
            " Epoch 18 / 400\n"
          ]
        },
        {
          "output_type": "stream",
          "name": "stderr",
          "text": [
            "100%|██████████| 5/5 [00:06<00:00,  1.37s/it, accuracy=1.0000]\n",
            "100%|██████████| 4/4 [00:05<00:00,  1.33s/it, accuracy=0.5000]\n"
          ]
        },
        {
          "output_type": "stream",
          "name": "stdout",
          "text": [
            "\n",
            "Training Loss: 0.022 Training Accuracy: 0.994\n",
            "Validation Loss: 6.193 Validation Accuracy: 0.531\n",
            "\n",
            " Epoch 19 / 400\n"
          ]
        },
        {
          "output_type": "stream",
          "name": "stderr",
          "text": [
            "100%|██████████| 5/5 [00:06<00:00,  1.37s/it, accuracy=1.0000]\n",
            "100%|██████████| 4/4 [00:05<00:00,  1.34s/it, accuracy=0.6250]\n"
          ]
        },
        {
          "output_type": "stream",
          "name": "stdout",
          "text": [
            "\n",
            "Training Loss: 0.003 Training Accuracy: 1.000\n",
            "Validation Loss: 6.650 Validation Accuracy: 0.562\n",
            "\n",
            " Epoch 20 / 400\n"
          ]
        },
        {
          "output_type": "stream",
          "name": "stderr",
          "text": [
            "100%|██████████| 5/5 [00:06<00:00,  1.38s/it, accuracy=1.0000]\n",
            "100%|██████████| 4/4 [00:05<00:00,  1.34s/it, accuracy=0.7500]\n"
          ]
        },
        {
          "output_type": "stream",
          "name": "stdout",
          "text": [
            "\n",
            "Training Loss: 0.012 Training Accuracy: 0.996\n",
            "Validation Loss: 7.195 Validation Accuracy: 0.562\n",
            "\n",
            " Epoch 21 / 400\n"
          ]
        },
        {
          "output_type": "stream",
          "name": "stderr",
          "text": [
            "100%|██████████| 5/5 [00:06<00:00,  1.38s/it, accuracy=0.9700]\n",
            "100%|██████████| 4/4 [00:05<00:00,  1.35s/it, accuracy=0.7500]\n"
          ]
        },
        {
          "output_type": "stream",
          "name": "stdout",
          "text": [
            "\n",
            "Training Loss: 0.050 Training Accuracy: 0.990\n",
            "Validation Loss: 7.498 Validation Accuracy: 0.625\n",
            "\n",
            " Epoch 22 / 400\n"
          ]
        },
        {
          "output_type": "stream",
          "name": "stderr",
          "text": [
            "100%|██████████| 5/5 [00:06<00:00,  1.38s/it, accuracy=1.0000]\n",
            "100%|██████████| 4/4 [00:05<00:00,  1.35s/it, accuracy=0.7500]\n"
          ]
        },
        {
          "output_type": "stream",
          "name": "stdout",
          "text": [
            "\n",
            "Training Loss: 0.011 Training Accuracy: 0.996\n",
            "Validation Loss: 7.193 Validation Accuracy: 0.562\n",
            "\n",
            " Epoch 23 / 400\n"
          ]
        },
        {
          "output_type": "stream",
          "name": "stderr",
          "text": [
            "100%|██████████| 5/5 [00:06<00:00,  1.38s/it, accuracy=1.0000]\n",
            "100%|██████████| 4/4 [00:05<00:00,  1.35s/it, accuracy=0.7500]\n"
          ]
        },
        {
          "output_type": "stream",
          "name": "stdout",
          "text": [
            "\n",
            "Training Loss: 0.018 Training Accuracy: 0.994\n",
            "Validation Loss: 6.414 Validation Accuracy: 0.594\n",
            "\n",
            " Epoch 24 / 400\n"
          ]
        },
        {
          "output_type": "stream",
          "name": "stderr",
          "text": [
            "100%|██████████| 5/5 [00:06<00:00,  1.37s/it, accuracy=0.9900]\n",
            "100%|██████████| 4/4 [00:05<00:00,  1.34s/it, accuracy=1.0000]\n"
          ]
        },
        {
          "output_type": "stream",
          "name": "stdout",
          "text": [
            "\n",
            "Training Loss: 0.033 Training Accuracy: 0.994\n",
            "Validation Loss: 2.700 Validation Accuracy: 0.719\n",
            "\n",
            " Epoch 25 / 400\n"
          ]
        },
        {
          "output_type": "stream",
          "name": "stderr",
          "text": [
            "100%|██████████| 5/5 [00:06<00:00,  1.36s/it, accuracy=0.9700]\n",
            "100%|██████████| 4/4 [00:05<00:00,  1.34s/it, accuracy=0.6250]\n"
          ]
        },
        {
          "output_type": "stream",
          "name": "stdout",
          "text": [
            "\n",
            "Training Loss: 0.037 Training Accuracy: 0.986\n",
            "Validation Loss: 2.504 Validation Accuracy: 0.625\n",
            "\n",
            " Epoch 26 / 400\n"
          ]
        },
        {
          "output_type": "stream",
          "name": "stderr",
          "text": [
            "100%|██████████| 5/5 [00:06<00:00,  1.37s/it, accuracy=1.0000]\n",
            "100%|██████████| 4/4 [00:05<00:00,  1.34s/it, accuracy=0.7500]\n"
          ]
        },
        {
          "output_type": "stream",
          "name": "stdout",
          "text": [
            "\n",
            "Training Loss: 0.011 Training Accuracy: 0.994\n",
            "Validation Loss: 3.668 Validation Accuracy: 0.625\n",
            "\n",
            " Epoch 27 / 400\n"
          ]
        },
        {
          "output_type": "stream",
          "name": "stderr",
          "text": [
            "100%|██████████| 5/5 [00:06<00:00,  1.37s/it, accuracy=0.9800]\n",
            "100%|██████████| 4/4 [00:05<00:00,  1.34s/it, accuracy=0.8750]\n"
          ]
        },
        {
          "output_type": "stream",
          "name": "stdout",
          "text": [
            "\n",
            "Training Loss: 0.029 Training Accuracy: 0.990\n",
            "Validation Loss: 4.301 Validation Accuracy: 0.594\n",
            "\n",
            " Epoch 28 / 400\n"
          ]
        },
        {
          "output_type": "stream",
          "name": "stderr",
          "text": [
            "100%|██████████| 5/5 [00:06<00:00,  1.37s/it, accuracy=0.9900]\n",
            "100%|██████████| 4/4 [00:05<00:00,  1.34s/it, accuracy=0.6250]\n"
          ]
        },
        {
          "output_type": "stream",
          "name": "stdout",
          "text": [
            "\n",
            "Training Loss: 0.024 Training Accuracy: 0.994\n",
            "Validation Loss: 5.644 Validation Accuracy: 0.594\n",
            "\n",
            " Epoch 29 / 400\n"
          ]
        },
        {
          "output_type": "stream",
          "name": "stderr",
          "text": [
            "100%|██████████| 5/5 [00:06<00:00,  1.37s/it, accuracy=1.0000]\n",
            "100%|██████████| 4/4 [00:05<00:00,  1.34s/it, accuracy=0.5000]\n"
          ]
        },
        {
          "output_type": "stream",
          "name": "stdout",
          "text": [
            "\n",
            "Training Loss: 0.021 Training Accuracy: 0.994\n",
            "Validation Loss: 6.425 Validation Accuracy: 0.531\n",
            "\n",
            " Epoch 30 / 400\n"
          ]
        },
        {
          "output_type": "stream",
          "name": "stderr",
          "text": [
            "100%|██████████| 5/5 [00:06<00:00,  1.37s/it, accuracy=1.0000]\n",
            "100%|██████████| 4/4 [00:05<00:00,  1.34s/it, accuracy=0.3750]\n"
          ]
        },
        {
          "output_type": "stream",
          "name": "stdout",
          "text": [
            "\n",
            "Training Loss: 0.008 Training Accuracy: 0.996\n",
            "Validation Loss: 5.925 Validation Accuracy: 0.531\n",
            "\n",
            " Epoch 31 / 400\n"
          ]
        },
        {
          "output_type": "stream",
          "name": "stderr",
          "text": [
            "100%|██████████| 5/5 [00:06<00:00,  1.37s/it, accuracy=0.9900]\n",
            "100%|██████████| 4/4 [00:05<00:00,  1.34s/it, accuracy=0.6250]\n"
          ]
        },
        {
          "output_type": "stream",
          "name": "stdout",
          "text": [
            "\n",
            "Training Loss: 0.046 Training Accuracy: 0.990\n",
            "Validation Loss: 5.183 Validation Accuracy: 0.562\n",
            "\n",
            " Epoch 32 / 400\n"
          ]
        },
        {
          "output_type": "stream",
          "name": "stderr",
          "text": [
            "100%|██████████| 5/5 [00:06<00:00,  1.37s/it, accuracy=1.0000]\n",
            "100%|██████████| 4/4 [00:05<00:00,  1.34s/it, accuracy=0.5000]\n"
          ]
        },
        {
          "output_type": "stream",
          "name": "stdout",
          "text": [
            "\n",
            "Training Loss: 0.005 Training Accuracy: 1.000\n",
            "Validation Loss: 4.581 Validation Accuracy: 0.656\n",
            "\n",
            " Epoch 33 / 400\n"
          ]
        },
        {
          "output_type": "stream",
          "name": "stderr",
          "text": [
            "100%|██████████| 5/5 [00:06<00:00,  1.37s/it, accuracy=0.9900]\n",
            "100%|██████████| 4/4 [00:05<00:00,  1.34s/it, accuracy=0.7500]\n"
          ]
        },
        {
          "output_type": "stream",
          "name": "stdout",
          "text": [
            "\n",
            "Training Loss: 0.014 Training Accuracy: 0.992\n",
            "Validation Loss: 3.815 Validation Accuracy: 0.688\n",
            "\n",
            " Epoch 34 / 400\n"
          ]
        },
        {
          "output_type": "stream",
          "name": "stderr",
          "text": [
            "100%|██████████| 5/5 [00:06<00:00,  1.37s/it, accuracy=1.0000]\n",
            "100%|██████████| 4/4 [00:05<00:00,  1.34s/it, accuracy=0.7500]\n"
          ]
        },
        {
          "output_type": "stream",
          "name": "stdout",
          "text": [
            "\n",
            "Training Loss: 0.007 Training Accuracy: 0.998\n",
            "Validation Loss: 3.298 Validation Accuracy: 0.688\n",
            "\n",
            " Epoch 35 / 400\n"
          ]
        },
        {
          "output_type": "stream",
          "name": "stderr",
          "text": [
            "100%|██████████| 5/5 [00:06<00:00,  1.37s/it, accuracy=1.0000]\n",
            "100%|██████████| 4/4 [00:05<00:00,  1.34s/it, accuracy=0.8750]\n"
          ]
        },
        {
          "output_type": "stream",
          "name": "stdout",
          "text": [
            "\n",
            "Training Loss: 0.006 Training Accuracy: 0.998\n",
            "Validation Loss: 3.679 Validation Accuracy: 0.625\n",
            "\n",
            " Epoch 36 / 400\n"
          ]
        },
        {
          "output_type": "stream",
          "name": "stderr",
          "text": [
            "100%|██████████| 5/5 [00:06<00:00,  1.37s/it, accuracy=1.0000]\n",
            "100%|██████████| 4/4 [00:05<00:00,  1.35s/it, accuracy=0.6250]\n"
          ]
        },
        {
          "output_type": "stream",
          "name": "stdout",
          "text": [
            "\n",
            "Training Loss: 0.001 Training Accuracy: 1.000\n",
            "Validation Loss: 4.031 Validation Accuracy: 0.594\n",
            "\n",
            " Epoch 37 / 400\n"
          ]
        },
        {
          "output_type": "stream",
          "name": "stderr",
          "text": [
            "100%|██████████| 5/5 [00:06<00:00,  1.37s/it, accuracy=1.0000]\n",
            "100%|██████████| 4/4 [00:05<00:00,  1.34s/it, accuracy=0.8750]\n"
          ]
        },
        {
          "output_type": "stream",
          "name": "stdout",
          "text": [
            "\n",
            "Training Loss: 0.001 Training Accuracy: 1.000\n",
            "Validation Loss: 3.982 Validation Accuracy: 0.594\n",
            "\n",
            " Epoch 38 / 400\n"
          ]
        },
        {
          "output_type": "stream",
          "name": "stderr",
          "text": [
            "100%|██████████| 5/5 [00:06<00:00,  1.37s/it, accuracy=1.0000]\n",
            "100%|██████████| 4/4 [00:05<00:00,  1.34s/it, accuracy=0.7500]\n"
          ]
        },
        {
          "output_type": "stream",
          "name": "stdout",
          "text": [
            "\n",
            "Training Loss: 0.002 Training Accuracy: 1.000\n",
            "Validation Loss: 4.034 Validation Accuracy: 0.625\n",
            "\n",
            " Epoch 39 / 400\n"
          ]
        },
        {
          "output_type": "stream",
          "name": "stderr",
          "text": [
            "100%|██████████| 5/5 [00:06<00:00,  1.38s/it, accuracy=1.0000]\n",
            "100%|██████████| 4/4 [00:05<00:00,  1.34s/it, accuracy=0.7500]\n"
          ]
        },
        {
          "output_type": "stream",
          "name": "stdout",
          "text": [
            "\n",
            "Training Loss: 0.000 Training Accuracy: 1.000\n",
            "Validation Loss: 3.930 Validation Accuracy: 0.625\n",
            "\n",
            " Epoch 40 / 400\n"
          ]
        },
        {
          "output_type": "stream",
          "name": "stderr",
          "text": [
            "100%|██████████| 5/5 [00:06<00:00,  1.38s/it, accuracy=1.0000]\n",
            "100%|██████████| 4/4 [00:05<00:00,  1.35s/it, accuracy=0.5000]\n"
          ]
        },
        {
          "output_type": "stream",
          "name": "stdout",
          "text": [
            "\n",
            "Training Loss: 0.000 Training Accuracy: 1.000\n",
            "Validation Loss: 4.063 Validation Accuracy: 0.625\n",
            "\n",
            " Epoch 41 / 400\n"
          ]
        },
        {
          "output_type": "stream",
          "name": "stderr",
          "text": [
            "100%|██████████| 5/5 [00:06<00:00,  1.38s/it, accuracy=1.0000]\n",
            "100%|██████████| 4/4 [00:05<00:00,  1.34s/it, accuracy=0.7500]\n"
          ]
        },
        {
          "output_type": "stream",
          "name": "stdout",
          "text": [
            "\n",
            "Training Loss: 0.000 Training Accuracy: 1.000\n",
            "Validation Loss: 4.221 Validation Accuracy: 0.625\n",
            "\n",
            " Epoch 42 / 400\n"
          ]
        },
        {
          "output_type": "stream",
          "name": "stderr",
          "text": [
            "100%|██████████| 5/5 [00:06<00:00,  1.38s/it, accuracy=1.0000]\n",
            "100%|██████████| 4/4 [00:05<00:00,  1.34s/it, accuracy=0.7500]\n"
          ]
        },
        {
          "output_type": "stream",
          "name": "stdout",
          "text": [
            "\n",
            "Training Loss: 0.000 Training Accuracy: 1.000\n",
            "Validation Loss: 4.488 Validation Accuracy: 0.625\n",
            "\n",
            " Epoch 43 / 400\n"
          ]
        },
        {
          "output_type": "stream",
          "name": "stderr",
          "text": [
            "100%|██████████| 5/5 [00:06<00:00,  1.38s/it, accuracy=1.0000]\n",
            "100%|██████████| 4/4 [00:05<00:00,  1.34s/it, accuracy=0.5000]\n"
          ]
        },
        {
          "output_type": "stream",
          "name": "stdout",
          "text": [
            "\n",
            "Training Loss: 0.000 Training Accuracy: 1.000\n",
            "Validation Loss: 4.665 Validation Accuracy: 0.625\n",
            "\n",
            " Epoch 44 / 400\n"
          ]
        },
        {
          "output_type": "stream",
          "name": "stderr",
          "text": [
            "100%|██████████| 5/5 [00:06<00:00,  1.38s/it, accuracy=1.0000]\n",
            "100%|██████████| 4/4 [00:05<00:00,  1.34s/it, accuracy=0.7500]\n"
          ]
        },
        {
          "output_type": "stream",
          "name": "stdout",
          "text": [
            "\n",
            "Training Loss: 0.001 Training Accuracy: 1.000\n",
            "Validation Loss: 4.573 Validation Accuracy: 0.625\n",
            "\n",
            " Epoch 45 / 400\n"
          ]
        },
        {
          "output_type": "stream",
          "name": "stderr",
          "text": [
            "100%|██████████| 5/5 [00:06<00:00,  1.38s/it, accuracy=1.0000]\n",
            "100%|██████████| 4/4 [00:05<00:00,  1.35s/it, accuracy=0.1250]\n"
          ]
        },
        {
          "output_type": "stream",
          "name": "stdout",
          "text": [
            "\n",
            "Training Loss: 0.002 Training Accuracy: 0.998\n",
            "Validation Loss: 5.297 Validation Accuracy: 0.562\n",
            "\n",
            " Epoch 46 / 400\n"
          ]
        },
        {
          "output_type": "stream",
          "name": "stderr",
          "text": [
            "100%|██████████| 5/5 [00:06<00:00,  1.38s/it, accuracy=1.0000]\n",
            "100%|██████████| 4/4 [00:05<00:00,  1.35s/it, accuracy=0.3750]\n"
          ]
        },
        {
          "output_type": "stream",
          "name": "stdout",
          "text": [
            "\n",
            "Training Loss: 0.000 Training Accuracy: 1.000\n",
            "Validation Loss: 6.450 Validation Accuracy: 0.562\n",
            "\n",
            " Epoch 47 / 400\n"
          ]
        },
        {
          "output_type": "stream",
          "name": "stderr",
          "text": [
            "100%|██████████| 5/5 [00:06<00:00,  1.38s/it, accuracy=1.0000]\n",
            "100%|██████████| 4/4 [00:05<00:00,  1.35s/it, accuracy=0.5000]\n"
          ]
        },
        {
          "output_type": "stream",
          "name": "stdout",
          "text": [
            "\n",
            "Training Loss: 0.030 Training Accuracy: 0.996\n",
            "Validation Loss: 4.653 Validation Accuracy: 0.625\n",
            "\n",
            " Epoch 48 / 400\n"
          ]
        },
        {
          "output_type": "stream",
          "name": "stderr",
          "text": [
            "100%|██████████| 5/5 [00:06<00:00,  1.38s/it, accuracy=1.0000]\n",
            "100%|██████████| 4/4 [00:05<00:00,  1.35s/it, accuracy=0.6250]\n"
          ]
        },
        {
          "output_type": "stream",
          "name": "stdout",
          "text": [
            "\n",
            "Training Loss: 0.003 Training Accuracy: 0.998\n",
            "Validation Loss: 3.588 Validation Accuracy: 0.625\n",
            "\n",
            " Epoch 49 / 400\n"
          ]
        },
        {
          "output_type": "stream",
          "name": "stderr",
          "text": [
            "100%|██████████| 5/5 [00:06<00:00,  1.38s/it, accuracy=1.0000]\n",
            "100%|██████████| 4/4 [00:05<00:00,  1.35s/it, accuracy=0.6250]\n"
          ]
        },
        {
          "output_type": "stream",
          "name": "stdout",
          "text": [
            "\n",
            "Training Loss: 0.004 Training Accuracy: 1.000\n",
            "Validation Loss: 3.832 Validation Accuracy: 0.594\n",
            "\n",
            " Epoch 50 / 400\n"
          ]
        },
        {
          "output_type": "stream",
          "name": "stderr",
          "text": [
            "100%|██████████| 5/5 [00:06<00:00,  1.37s/it, accuracy=1.0000]\n",
            "100%|██████████| 4/4 [00:05<00:00,  1.34s/it, accuracy=0.3750]\n"
          ]
        },
        {
          "output_type": "stream",
          "name": "stdout",
          "text": [
            "\n",
            "Training Loss: 0.003 Training Accuracy: 1.000\n",
            "Validation Loss: 4.308 Validation Accuracy: 0.594\n",
            "\n",
            " Epoch 51 / 400\n"
          ]
        },
        {
          "output_type": "stream",
          "name": "stderr",
          "text": [
            "100%|██████████| 5/5 [00:06<00:00,  1.38s/it, accuracy=1.0000]\n",
            "100%|██████████| 4/4 [00:05<00:00,  1.34s/it, accuracy=0.6250]\n"
          ]
        },
        {
          "output_type": "stream",
          "name": "stdout",
          "text": [
            "\n",
            "Training Loss: 0.004 Training Accuracy: 0.998\n",
            "Validation Loss: 4.667 Validation Accuracy: 0.625\n",
            "\n",
            " Epoch 52 / 400\n"
          ]
        },
        {
          "output_type": "stream",
          "name": "stderr",
          "text": [
            "100%|██████████| 5/5 [00:06<00:00,  1.38s/it, accuracy=1.0000]\n",
            "100%|██████████| 4/4 [00:05<00:00,  1.34s/it, accuracy=0.7500]\n"
          ]
        },
        {
          "output_type": "stream",
          "name": "stdout",
          "text": [
            "\n",
            "Training Loss: 0.004 Training Accuracy: 0.998\n",
            "Validation Loss: 4.740 Validation Accuracy: 0.656\n",
            "\n",
            " Epoch 53 / 400\n"
          ]
        },
        {
          "output_type": "stream",
          "name": "stderr",
          "text": [
            "100%|██████████| 5/5 [00:06<00:00,  1.38s/it, accuracy=1.0000]\n",
            "100%|██████████| 4/4 [00:05<00:00,  1.34s/it, accuracy=0.5000]\n"
          ]
        },
        {
          "output_type": "stream",
          "name": "stdout",
          "text": [
            "\n",
            "Training Loss: 0.001 Training Accuracy: 1.000\n",
            "Validation Loss: 5.302 Validation Accuracy: 0.625\n",
            "\n",
            " Epoch 54 / 400\n"
          ]
        },
        {
          "output_type": "stream",
          "name": "stderr",
          "text": [
            "100%|██████████| 5/5 [00:06<00:00,  1.37s/it, accuracy=1.0000]\n",
            "100%|██████████| 4/4 [00:05<00:00,  1.34s/it, accuracy=0.7500]\n"
          ]
        },
        {
          "output_type": "stream",
          "name": "stdout",
          "text": [
            "\n",
            "Training Loss: 0.003 Training Accuracy: 0.998\n",
            "Validation Loss: 5.742 Validation Accuracy: 0.625\n",
            "\n",
            " Epoch 55 / 400\n"
          ]
        },
        {
          "output_type": "stream",
          "name": "stderr",
          "text": [
            "100%|██████████| 5/5 [00:06<00:00,  1.37s/it, accuracy=1.0000]\n",
            "100%|██████████| 4/4 [00:05<00:00,  1.34s/it, accuracy=0.3750]\n"
          ]
        },
        {
          "output_type": "stream",
          "name": "stdout",
          "text": [
            "\n",
            "Training Loss: 0.000 Training Accuracy: 1.000\n",
            "Validation Loss: 6.287 Validation Accuracy: 0.594\n",
            "\n",
            " Epoch 56 / 400\n"
          ]
        },
        {
          "output_type": "stream",
          "name": "stderr",
          "text": [
            "100%|██████████| 5/5 [00:06<00:00,  1.38s/it, accuracy=1.0000]\n",
            "100%|██████████| 4/4 [00:05<00:00,  1.34s/it, accuracy=0.6250]\n"
          ]
        },
        {
          "output_type": "stream",
          "name": "stdout",
          "text": [
            "\n",
            "Training Loss: 0.000 Training Accuracy: 1.000\n",
            "Validation Loss: 6.441 Validation Accuracy: 0.594\n",
            "\n",
            " Epoch 57 / 400\n"
          ]
        },
        {
          "output_type": "stream",
          "name": "stderr",
          "text": [
            "100%|██████████| 5/5 [00:06<00:00,  1.37s/it, accuracy=1.0000]\n",
            "100%|██████████| 4/4 [00:05<00:00,  1.34s/it, accuracy=0.8750]\n"
          ]
        },
        {
          "output_type": "stream",
          "name": "stdout",
          "text": [
            "\n",
            "Training Loss: 0.000 Training Accuracy: 1.000\n",
            "Validation Loss: 6.295 Validation Accuracy: 0.594\n",
            "\n",
            " Epoch 58 / 400\n"
          ]
        },
        {
          "output_type": "stream",
          "name": "stderr",
          "text": [
            "100%|██████████| 5/5 [00:06<00:00,  1.37s/it, accuracy=1.0000]\n",
            "100%|██████████| 4/4 [00:05<00:00,  1.34s/it, accuracy=0.5000]\n"
          ]
        },
        {
          "output_type": "stream",
          "name": "stdout",
          "text": [
            "\n",
            "Training Loss: 0.000 Training Accuracy: 1.000\n",
            "Validation Loss: 6.176 Validation Accuracy: 0.594\n",
            "\n",
            " Epoch 59 / 400\n"
          ]
        },
        {
          "output_type": "stream",
          "name": "stderr",
          "text": [
            "100%|██████████| 5/5 [00:06<00:00,  1.38s/it, accuracy=1.0000]\n",
            "100%|██████████| 4/4 [00:05<00:00,  1.35s/it, accuracy=0.6250]\n"
          ]
        },
        {
          "output_type": "stream",
          "name": "stdout",
          "text": [
            "\n",
            "Training Loss: 0.000 Training Accuracy: 1.000\n",
            "Validation Loss: 6.060 Validation Accuracy: 0.594\n",
            "\n",
            " Epoch 60 / 400\n"
          ]
        },
        {
          "output_type": "stream",
          "name": "stderr",
          "text": [
            "100%|██████████| 5/5 [00:06<00:00,  1.38s/it, accuracy=1.0000]\n",
            "100%|██████████| 4/4 [00:05<00:00,  1.35s/it, accuracy=0.6250]\n"
          ]
        },
        {
          "output_type": "stream",
          "name": "stdout",
          "text": [
            "\n",
            "Training Loss: 0.000 Training Accuracy: 1.000\n",
            "Validation Loss: 6.164 Validation Accuracy: 0.594\n",
            "\n",
            " Epoch 61 / 400\n"
          ]
        },
        {
          "output_type": "stream",
          "name": "stderr",
          "text": [
            "100%|██████████| 5/5 [00:06<00:00,  1.38s/it, accuracy=1.0000]\n",
            "100%|██████████| 4/4 [00:05<00:00,  1.35s/it, accuracy=0.7500]\n"
          ]
        },
        {
          "output_type": "stream",
          "name": "stdout",
          "text": [
            "\n",
            "Training Loss: 0.000 Training Accuracy: 1.000\n",
            "Validation Loss: 5.836 Validation Accuracy: 0.594\n",
            "\n",
            " Epoch 62 / 400\n"
          ]
        },
        {
          "output_type": "stream",
          "name": "stderr",
          "text": [
            "100%|██████████| 5/5 [00:06<00:00,  1.38s/it, accuracy=1.0000]\n",
            "100%|██████████| 4/4 [00:05<00:00,  1.35s/it, accuracy=0.6250]\n"
          ]
        },
        {
          "output_type": "stream",
          "name": "stdout",
          "text": [
            "\n",
            "Training Loss: 0.000 Training Accuracy: 1.000\n",
            "Validation Loss: 6.035 Validation Accuracy: 0.594\n",
            "\n",
            " Epoch 63 / 400\n"
          ]
        },
        {
          "output_type": "stream",
          "name": "stderr",
          "text": [
            "100%|██████████| 5/5 [00:06<00:00,  1.38s/it, accuracy=1.0000]\n",
            "100%|██████████| 4/4 [00:05<00:00,  1.35s/it, accuracy=0.5000]\n"
          ]
        },
        {
          "output_type": "stream",
          "name": "stdout",
          "text": [
            "\n",
            "Training Loss: 0.000 Training Accuracy: 1.000\n",
            "Validation Loss: 5.810 Validation Accuracy: 0.594\n",
            "\n",
            " Epoch 64 / 400\n"
          ]
        },
        {
          "output_type": "stream",
          "name": "stderr",
          "text": [
            "100%|██████████| 5/5 [00:06<00:00,  1.38s/it, accuracy=1.0000]\n",
            "100%|██████████| 4/4 [00:05<00:00,  1.35s/it, accuracy=0.6250]\n"
          ]
        },
        {
          "output_type": "stream",
          "name": "stdout",
          "text": [
            "\n",
            "Training Loss: 0.000 Training Accuracy: 1.000\n",
            "Validation Loss: 5.919 Validation Accuracy: 0.594\n",
            "\n",
            " Epoch 65 / 400\n"
          ]
        },
        {
          "output_type": "stream",
          "name": "stderr",
          "text": [
            "100%|██████████| 5/5 [00:06<00:00,  1.38s/it, accuracy=1.0000]\n",
            "100%|██████████| 4/4 [00:05<00:00,  1.35s/it, accuracy=0.6250]\n"
          ]
        },
        {
          "output_type": "stream",
          "name": "stdout",
          "text": [
            "\n",
            "Training Loss: 0.000 Training Accuracy: 1.000\n",
            "Validation Loss: 5.856 Validation Accuracy: 0.594\n",
            "\n",
            " Epoch 66 / 400\n"
          ]
        },
        {
          "output_type": "stream",
          "name": "stderr",
          "text": [
            "100%|██████████| 5/5 [00:06<00:00,  1.38s/it, accuracy=1.0000]\n",
            "100%|██████████| 4/4 [00:05<00:00,  1.35s/it, accuracy=0.7500]\n"
          ]
        },
        {
          "output_type": "stream",
          "name": "stdout",
          "text": [
            "\n",
            "Training Loss: 0.000 Training Accuracy: 1.000\n",
            "Validation Loss: 5.834 Validation Accuracy: 0.594\n",
            "\n",
            " Epoch 67 / 400\n"
          ]
        },
        {
          "output_type": "stream",
          "name": "stderr",
          "text": [
            "100%|██████████| 5/5 [00:06<00:00,  1.37s/it, accuracy=1.0000]\n",
            "100%|██████████| 4/4 [00:05<00:00,  1.34s/it, accuracy=0.6250]\n"
          ]
        },
        {
          "output_type": "stream",
          "name": "stdout",
          "text": [
            "\n",
            "Training Loss: 0.000 Training Accuracy: 1.000\n",
            "Validation Loss: 5.885 Validation Accuracy: 0.594\n",
            "\n",
            " Epoch 68 / 400\n"
          ]
        },
        {
          "output_type": "stream",
          "name": "stderr",
          "text": [
            "100%|██████████| 5/5 [00:06<00:00,  1.38s/it, accuracy=1.0000]\n",
            "100%|██████████| 4/4 [00:05<00:00,  1.34s/it, accuracy=0.8750]\n"
          ]
        },
        {
          "output_type": "stream",
          "name": "stdout",
          "text": [
            "\n",
            "Training Loss: 0.000 Training Accuracy: 1.000\n",
            "Validation Loss: 5.861 Validation Accuracy: 0.594\n",
            "\n",
            " Epoch 69 / 400\n"
          ]
        },
        {
          "output_type": "stream",
          "name": "stderr",
          "text": [
            "100%|██████████| 5/5 [00:06<00:00,  1.37s/it, accuracy=1.0000]\n",
            "100%|██████████| 4/4 [00:05<00:00,  1.34s/it, accuracy=0.7500]\n"
          ]
        },
        {
          "output_type": "stream",
          "name": "stdout",
          "text": [
            "\n",
            "Training Loss: 0.000 Training Accuracy: 1.000\n",
            "Validation Loss: 6.009 Validation Accuracy: 0.594\n",
            "\n",
            " Epoch 70 / 400\n"
          ]
        },
        {
          "output_type": "stream",
          "name": "stderr",
          "text": [
            "100%|██████████| 5/5 [00:06<00:00,  1.38s/it, accuracy=1.0000]\n",
            "100%|██████████| 4/4 [00:05<00:00,  1.34s/it, accuracy=0.5000]\n"
          ]
        },
        {
          "output_type": "stream",
          "name": "stdout",
          "text": [
            "\n",
            "Training Loss: 0.000 Training Accuracy: 1.000\n",
            "Validation Loss: 5.803 Validation Accuracy: 0.594\n",
            "\n",
            " Epoch 71 / 400\n"
          ]
        },
        {
          "output_type": "stream",
          "name": "stderr",
          "text": [
            "100%|██████████| 5/5 [00:06<00:00,  1.37s/it, accuracy=1.0000]\n",
            "100%|██████████| 4/4 [00:05<00:00,  1.34s/it, accuracy=0.3750]\n"
          ]
        },
        {
          "output_type": "stream",
          "name": "stdout",
          "text": [
            "\n",
            "Training Loss: 0.000 Training Accuracy: 1.000\n",
            "Validation Loss: 5.905 Validation Accuracy: 0.594\n",
            "\n",
            " Epoch 72 / 400\n"
          ]
        },
        {
          "output_type": "stream",
          "name": "stderr",
          "text": [
            "100%|██████████| 5/5 [00:06<00:00,  1.37s/it, accuracy=1.0000]\n",
            "100%|██████████| 4/4 [00:05<00:00,  1.34s/it, accuracy=0.6250]\n"
          ]
        },
        {
          "output_type": "stream",
          "name": "stdout",
          "text": [
            "\n",
            "Training Loss: 0.000 Training Accuracy: 1.000\n",
            "Validation Loss: 5.877 Validation Accuracy: 0.594\n",
            "\n",
            " Epoch 73 / 400\n"
          ]
        },
        {
          "output_type": "stream",
          "name": "stderr",
          "text": [
            "100%|██████████| 5/5 [00:06<00:00,  1.37s/it, accuracy=1.0000]\n",
            "100%|██████████| 4/4 [00:05<00:00,  1.34s/it, accuracy=0.3750]\n"
          ]
        },
        {
          "output_type": "stream",
          "name": "stdout",
          "text": [
            "\n",
            "Training Loss: 0.000 Training Accuracy: 1.000\n",
            "Validation Loss: 5.899 Validation Accuracy: 0.594\n",
            "\n",
            " Epoch 74 / 400\n"
          ]
        },
        {
          "output_type": "stream",
          "name": "stderr",
          "text": [
            "100%|██████████| 5/5 [00:06<00:00,  1.37s/it, accuracy=1.0000]\n",
            "100%|██████████| 4/4 [00:05<00:00,  1.35s/it, accuracy=0.7500]\n"
          ]
        },
        {
          "output_type": "stream",
          "name": "stdout",
          "text": [
            "\n",
            "Training Loss: 0.000 Training Accuracy: 1.000\n",
            "Validation Loss: 5.696 Validation Accuracy: 0.594\n",
            "\n",
            " Epoch 75 / 400\n"
          ]
        },
        {
          "output_type": "stream",
          "name": "stderr",
          "text": [
            "100%|██████████| 5/5 [00:06<00:00,  1.38s/it, accuracy=1.0000]\n",
            "100%|██████████| 4/4 [00:05<00:00,  1.35s/it, accuracy=0.7500]\n"
          ]
        },
        {
          "output_type": "stream",
          "name": "stdout",
          "text": [
            "\n",
            "Training Loss: 0.000 Training Accuracy: 1.000\n",
            "Validation Loss: 5.834 Validation Accuracy: 0.594\n",
            "\n",
            " Epoch 76 / 400\n"
          ]
        },
        {
          "output_type": "stream",
          "name": "stderr",
          "text": [
            "100%|██████████| 5/5 [00:06<00:00,  1.38s/it, accuracy=1.0000]\n",
            "100%|██████████| 4/4 [00:05<00:00,  1.34s/it, accuracy=0.6250]\n"
          ]
        },
        {
          "output_type": "stream",
          "name": "stdout",
          "text": [
            "\n",
            "Training Loss: 0.000 Training Accuracy: 1.000\n",
            "Validation Loss: 5.720 Validation Accuracy: 0.594\n",
            "\n",
            " Epoch 77 / 400\n"
          ]
        },
        {
          "output_type": "stream",
          "name": "stderr",
          "text": [
            "100%|██████████| 5/5 [00:06<00:00,  1.38s/it, accuracy=1.0000]\n",
            "100%|██████████| 4/4 [00:05<00:00,  1.34s/it, accuracy=0.3750]\n"
          ]
        },
        {
          "output_type": "stream",
          "name": "stdout",
          "text": [
            "\n",
            "Training Loss: 0.000 Training Accuracy: 1.000\n",
            "Validation Loss: 5.853 Validation Accuracy: 0.594\n",
            "\n",
            " Epoch 78 / 400\n"
          ]
        },
        {
          "output_type": "stream",
          "name": "stderr",
          "text": [
            "100%|██████████| 5/5 [00:06<00:00,  1.37s/it, accuracy=1.0000]\n",
            "100%|██████████| 4/4 [00:05<00:00,  1.34s/it, accuracy=0.6250]\n"
          ]
        },
        {
          "output_type": "stream",
          "name": "stdout",
          "text": [
            "\n",
            "Training Loss: 0.000 Training Accuracy: 1.000\n",
            "Validation Loss: 5.856 Validation Accuracy: 0.594\n",
            "\n",
            " Epoch 79 / 400\n"
          ]
        },
        {
          "output_type": "stream",
          "name": "stderr",
          "text": [
            "100%|██████████| 5/5 [00:06<00:00,  1.38s/it, accuracy=1.0000]\n",
            "100%|██████████| 4/4 [00:05<00:00,  1.34s/it, accuracy=0.3750]\n"
          ]
        },
        {
          "output_type": "stream",
          "name": "stdout",
          "text": [
            "\n",
            "Training Loss: 0.000 Training Accuracy: 1.000\n",
            "Validation Loss: 5.760 Validation Accuracy: 0.594\n",
            "\n",
            " Epoch 80 / 400\n"
          ]
        },
        {
          "output_type": "stream",
          "name": "stderr",
          "text": [
            "100%|██████████| 5/5 [00:06<00:00,  1.38s/it, accuracy=1.0000]\n",
            "100%|██████████| 4/4 [00:05<00:00,  1.34s/it, accuracy=0.5000]\n"
          ]
        },
        {
          "output_type": "stream",
          "name": "stdout",
          "text": [
            "\n",
            "Training Loss: 0.000 Training Accuracy: 1.000\n",
            "Validation Loss: 5.899 Validation Accuracy: 0.594\n",
            "\n",
            " Epoch 81 / 400\n"
          ]
        },
        {
          "output_type": "stream",
          "name": "stderr",
          "text": [
            "100%|██████████| 5/5 [00:06<00:00,  1.38s/it, accuracy=1.0000]\n",
            "100%|██████████| 4/4 [00:05<00:00,  1.34s/it, accuracy=0.5000]\n"
          ]
        },
        {
          "output_type": "stream",
          "name": "stdout",
          "text": [
            "\n",
            "Training Loss: 0.000 Training Accuracy: 1.000\n",
            "Validation Loss: 5.803 Validation Accuracy: 0.594\n",
            "\n",
            " Epoch 82 / 400\n"
          ]
        },
        {
          "output_type": "stream",
          "name": "stderr",
          "text": [
            "100%|██████████| 5/5 [00:06<00:00,  1.37s/it, accuracy=1.0000]\n",
            "100%|██████████| 4/4 [00:05<00:00,  1.34s/it, accuracy=0.6250]\n"
          ]
        },
        {
          "output_type": "stream",
          "name": "stdout",
          "text": [
            "\n",
            "Training Loss: 0.000 Training Accuracy: 1.000\n",
            "Validation Loss: 5.602 Validation Accuracy: 0.594\n",
            "\n",
            " Epoch 83 / 400\n"
          ]
        },
        {
          "output_type": "stream",
          "name": "stderr",
          "text": [
            "100%|██████████| 5/5 [00:06<00:00,  1.37s/it, accuracy=1.0000]\n",
            "100%|██████████| 4/4 [00:05<00:00,  1.34s/it, accuracy=0.6250]\n"
          ]
        },
        {
          "output_type": "stream",
          "name": "stdout",
          "text": [
            "\n",
            "Training Loss: 0.000 Training Accuracy: 1.000\n",
            "Validation Loss: 5.720 Validation Accuracy: 0.594\n",
            "\n",
            " Epoch 84 / 400\n"
          ]
        },
        {
          "output_type": "stream",
          "name": "stderr",
          "text": [
            "100%|██████████| 5/5 [00:06<00:00,  1.37s/it, accuracy=1.0000]\n",
            "100%|██████████| 4/4 [00:05<00:00,  1.34s/it, accuracy=0.7500]\n"
          ]
        },
        {
          "output_type": "stream",
          "name": "stdout",
          "text": [
            "\n",
            "Training Loss: 0.000 Training Accuracy: 1.000\n",
            "Validation Loss: 5.685 Validation Accuracy: 0.594\n",
            "\n",
            " Epoch 85 / 400\n"
          ]
        },
        {
          "output_type": "stream",
          "name": "stderr",
          "text": [
            "100%|██████████| 5/5 [00:06<00:00,  1.37s/it, accuracy=1.0000]\n",
            "100%|██████████| 4/4 [00:05<00:00,  1.34s/it, accuracy=0.7500]\n"
          ]
        },
        {
          "output_type": "stream",
          "name": "stdout",
          "text": [
            "\n",
            "Training Loss: 0.000 Training Accuracy: 1.000\n",
            "Validation Loss: 5.940 Validation Accuracy: 0.594\n",
            "\n",
            " Epoch 86 / 400\n"
          ]
        },
        {
          "output_type": "stream",
          "name": "stderr",
          "text": [
            "100%|██████████| 5/5 [00:06<00:00,  1.37s/it, accuracy=1.0000]\n",
            "100%|██████████| 4/4 [00:05<00:00,  1.34s/it, accuracy=0.6250]\n"
          ]
        },
        {
          "output_type": "stream",
          "name": "stdout",
          "text": [
            "\n",
            "Training Loss: 0.000 Training Accuracy: 1.000\n",
            "Validation Loss: 5.731 Validation Accuracy: 0.594\n",
            "\n",
            " Epoch 87 / 400\n"
          ]
        },
        {
          "output_type": "stream",
          "name": "stderr",
          "text": [
            "100%|██████████| 5/5 [00:06<00:00,  1.37s/it, accuracy=1.0000]\n",
            "100%|██████████| 4/4 [00:05<00:00,  1.34s/it, accuracy=0.6250]\n"
          ]
        },
        {
          "output_type": "stream",
          "name": "stdout",
          "text": [
            "\n",
            "Training Loss: 0.000 Training Accuracy: 1.000\n",
            "Validation Loss: 5.891 Validation Accuracy: 0.594\n",
            "\n",
            " Epoch 88 / 400\n"
          ]
        },
        {
          "output_type": "stream",
          "name": "stderr",
          "text": [
            "100%|██████████| 5/5 [00:06<00:00,  1.37s/it, accuracy=1.0000]\n",
            "100%|██████████| 4/4 [00:05<00:00,  1.34s/it, accuracy=0.6250]\n"
          ]
        },
        {
          "output_type": "stream",
          "name": "stdout",
          "text": [
            "\n",
            "Training Loss: 0.000 Training Accuracy: 1.000\n",
            "Validation Loss: 5.786 Validation Accuracy: 0.594\n",
            "\n",
            " Epoch 89 / 400\n"
          ]
        },
        {
          "output_type": "stream",
          "name": "stderr",
          "text": [
            "100%|██████████| 5/5 [00:06<00:00,  1.38s/it, accuracy=1.0000]\n",
            "100%|██████████| 4/4 [00:05<00:00,  1.34s/it, accuracy=0.5000]\n"
          ]
        },
        {
          "output_type": "stream",
          "name": "stdout",
          "text": [
            "\n",
            "Training Loss: 0.000 Training Accuracy: 1.000\n",
            "Validation Loss: 5.814 Validation Accuracy: 0.594\n",
            "\n",
            " Epoch 90 / 400\n"
          ]
        },
        {
          "output_type": "stream",
          "name": "stderr",
          "text": [
            "100%|██████████| 5/5 [00:06<00:00,  1.38s/it, accuracy=1.0000]\n",
            "100%|██████████| 4/4 [00:05<00:00,  1.34s/it, accuracy=0.2500]\n"
          ]
        },
        {
          "output_type": "stream",
          "name": "stdout",
          "text": [
            "\n",
            "Training Loss: 0.000 Training Accuracy: 1.000\n",
            "Validation Loss: 5.747 Validation Accuracy: 0.594\n",
            "\n",
            " Epoch 91 / 400\n"
          ]
        },
        {
          "output_type": "stream",
          "name": "stderr",
          "text": [
            "100%|██████████| 5/5 [00:06<00:00,  1.38s/it, accuracy=1.0000]\n",
            "100%|██████████| 4/4 [00:05<00:00,  1.34s/it, accuracy=0.7500]\n"
          ]
        },
        {
          "output_type": "stream",
          "name": "stdout",
          "text": [
            "\n",
            "Training Loss: 0.000 Training Accuracy: 1.000\n",
            "Validation Loss: 5.787 Validation Accuracy: 0.594\n",
            "\n",
            " Epoch 92 / 400\n"
          ]
        },
        {
          "output_type": "stream",
          "name": "stderr",
          "text": [
            "100%|██████████| 5/5 [00:06<00:00,  1.38s/it, accuracy=1.0000]\n",
            "100%|██████████| 4/4 [00:05<00:00,  1.34s/it, accuracy=0.7500]\n"
          ]
        },
        {
          "output_type": "stream",
          "name": "stdout",
          "text": [
            "\n",
            "Training Loss: 0.000 Training Accuracy: 1.000\n",
            "Validation Loss: 5.768 Validation Accuracy: 0.594\n",
            "\n",
            " Epoch 93 / 400\n"
          ]
        },
        {
          "output_type": "stream",
          "name": "stderr",
          "text": [
            "100%|██████████| 5/5 [00:06<00:00,  1.37s/it, accuracy=1.0000]\n",
            "100%|██████████| 4/4 [00:05<00:00,  1.34s/it, accuracy=0.6250]\n"
          ]
        },
        {
          "output_type": "stream",
          "name": "stdout",
          "text": [
            "\n",
            "Training Loss: 0.000 Training Accuracy: 1.000\n",
            "Validation Loss: 5.950 Validation Accuracy: 0.594\n",
            "\n",
            " Epoch 94 / 400\n"
          ]
        },
        {
          "output_type": "stream",
          "name": "stderr",
          "text": [
            "100%|██████████| 5/5 [00:06<00:00,  1.37s/it, accuracy=1.0000]\n",
            "100%|██████████| 4/4 [00:05<00:00,  1.34s/it, accuracy=0.3750]\n"
          ]
        },
        {
          "output_type": "stream",
          "name": "stdout",
          "text": [
            "\n",
            "Training Loss: 0.000 Training Accuracy: 1.000\n",
            "Validation Loss: 5.742 Validation Accuracy: 0.594\n",
            "\n",
            " Epoch 95 / 400\n"
          ]
        },
        {
          "output_type": "stream",
          "name": "stderr",
          "text": [
            "100%|██████████| 5/5 [00:06<00:00,  1.37s/it, accuracy=1.0000]\n",
            "100%|██████████| 4/4 [00:05<00:00,  1.34s/it, accuracy=0.3750]\n"
          ]
        },
        {
          "output_type": "stream",
          "name": "stdout",
          "text": [
            "\n",
            "Training Loss: 0.000 Training Accuracy: 1.000\n",
            "Validation Loss: 5.810 Validation Accuracy: 0.594\n",
            "\n",
            " Epoch 96 / 400\n"
          ]
        },
        {
          "output_type": "stream",
          "name": "stderr",
          "text": [
            " 20%|██        | 1/5 [00:02<00:10,  2.73s/it, accuracy=1.0000]\n"
          ]
        }
      ]
    },
    {
      "cell_type": "code",
      "source": [
        "import matplotlib.pyplot as plt\n",
        "\n",
        "def plot_metrics(train_accuracies, train_losses, valid_accuracies, valid_losses):\n",
        "    # plot train and valid accuracy on the same plot\n",
        "    plt.figure(figsize=(8,4))\n",
        "    plt.plot(train_accuracies, label='Train Accuracy')\n",
        "    plt.plot(valid_accuracies, label='Valid Accuracy')\n",
        "    plt.xlabel('Steps (x4)')\n",
        "    plt.ylabel('Accuracy')\n",
        "    plt.title('Train and Valid Accuracy')\n",
        "    plt.grid()\n",
        "    plt.legend()\n",
        "    plt.savefig('accuracy.png')\n",
        "    plt.show()\n",
        "\n",
        "    # plot train and valid loss on the same plot\n",
        "    plt.figure(figsize=(8,4))\n",
        "    plt.plot(train_losses, label='Train Loss')\n",
        "    plt.plot(valid_losses, label='Valid Loss')\n",
        "    plt.xlabel('Steps (x4)')\n",
        "    plt.ylabel('Loss')\n",
        "    plt.title('Train and Valid Loss')\n",
        "    plt.grid()\n",
        "    plt.legend()\n",
        "    plt.savefig('loss.png')\n",
        "    plt.show()\n",
        "\n",
        "plot_metrics(*history)"
      ],
      "metadata": {
        "colab": {
          "base_uri": "https://localhost:8080/",
          "height": 803
        },
        "id": "VXL832qIPC0A",
        "outputId": "a6123a37-8db9-4fae-c76e-6588e3975a86"
      },
      "execution_count": 25,
      "outputs": [
        {
          "output_type": "display_data",
          "data": {
            "text/plain": [
              "<Figure size 800x400 with 1 Axes>"
            ],
            "image/png": "[encoded data removed]"
          },
          "metadata": {}
        },
        {
          "output_type": "display_data",
          "data": {
            "text/plain": [
              "<Figure size 800x400 with 1 Axes>"
            ],
            "image/png": "[encoded data removed]"
          },
          "metadata": {}
        }
      ]
    },
    {
      "cell_type": "code",
      "source": [
        "def save_prototypes(input_examples, model, tokenizer, output_name, tokenizer_length=100):\n",
        "  proto_examples, proto_labels = input_examples\n",
        "  proto_dict = {label:[] for label in list(set(proto_labels))}\n",
        "  with torch.no_grad():\n",
        "    for data in proto_examples:\n",
        "      feature = tokenizer.encode_plus(\n",
        "                data.text,\n",
        "                max_length = tokenizer_length,\n",
        "                padding='max_length',\n",
        "                truncation=True,\n",
        "                return_attention_mask=True,\n",
        "                return_token_type_ids=False,\n",
        "                add_special_tokens = True,\n",
        "                return_tensors = 'pt',\n",
        "                )\n",
        "      input_ids = feature['input_ids'].to(device)\n",
        "      input_ids_shape = input_ids.size()\n",
        "      attention_mask = feature['attention_mask'].to(device)\n",
        "      input_ids = input_ids.view(1,1,*input_ids_shape)  \n",
        "      attention_mask = attention_mask.view(1,1,*input_ids_shape)\n",
        "      input_embeding = model(input_ids, attention_mask)\n",
        "      proto_dict[data.label].append(input_embeding)\n",
        "  for key, value in proto_dict.items():\n",
        "    proto_dict[key] = torch.mean(torch.cat(value, dim=1),1)\n",
        "  torch.save({\n",
        "      'model_state_dic': model.state_dict(),\n",
        "      'prototypes': proto_dict\n",
        "    }, output_name)\n",
        "\n",
        "# bert = AutoModel.from_pretrained('yiyanghkust/finbert-tone')\n",
        "# tokenizer = BertTokenizerFast.from_pretrained('yiyanghkust/finbert-tone',do_lower_case=True)\n",
        "output_file_name = \"weights.pth\"\n",
        "model = PrototypicalNetwork(bert)\n",
        "state_dict = torch.load('saved_weights.pt')\n",
        "model.load_state_dict(state_dict)\n",
        "model.to(device)\n",
        "save_prototypes(train_examples, model, tokenizer, output_file_name, tokenizer_length)"
      ],
      "metadata": {
        "id": "dGi28FYgBM23"
      },
      "execution_count": 26,
      "outputs": []
    },
    {
      "cell_type": "code",
      "source": [
        "def evaluating(tokenizer_length,n_ways, k_shots):\n",
        "  # Example usage:\n",
        "  crypto_data = CryptocurrencyDatasetEval(train_examples,val_examples, tokenizer, tokenizer_length, n_ways, k_shots)\n",
        "  data_loader = DataLoader(crypto_data, batch_size=5, shuffle=False)\n",
        "  \n",
        "  valid_loss, valid_accuracy, labels, predicted_labels = test(model, data_loader)\n",
        "  labels = [crypto_data.id_to_proto_classes[i] for i in labels]\n",
        "  predicted_labels = [crypto_data.id_to_proto_classes[i] for i in predicted_labels]\n",
        "  print(classification_report(labels, predicted_labels))\n",
        "  print(valid_loss, valid_accuracy)\n"
      ],
      "metadata": {
        "id": "YCSQXb6mMzEp"
      },
      "execution_count": null,
      "outputs": []
    },
    {
      "cell_type": "code",
      "source": [
        "model = PrototypicalNetwork(bert)\n",
        "state_dict = torch.load('saved_weights.pt')\n",
        "model.load_state_dict(state_dict)\n",
        "model.to(device)\n",
        "evaluating(tokenizer_length, n_ways, k_shots=10)"
      ],
      "metadata": {
        "id": "TkDP95livrZf",
        "colab": {
          "base_uri": "https://localhost:8080/"
        },
        "outputId": "5308ec24-3a28-47eb-8782-c697faa19a07"
      },
      "execution_count": null,
      "outputs": [
        {
          "output_type": "stream",
          "name": "stderr",
          "text": [
            "100%|██████████| 6/6 [00:05<00:00,  1.09it/s, accuracy=0.0000]"
          ]
        },
        {
          "output_type": "stream",
          "name": "stdout",
          "text": [
            "                       precision    recall  f1-score   support\n",
            "\n",
            "          advertising       1.00      0.50      0.67         8\n",
            "         announcement       0.43      1.00      0.60         3\n",
            "financial information       0.86      0.67      0.75         9\n",
            "   subjective opinion       0.50      0.67      0.57         6\n",
            "\n",
            "             accuracy                           0.65        26\n",
            "            macro avg       0.70      0.71      0.65        26\n",
            "         weighted avg       0.77      0.65      0.67        26\n",
            "\n",
            "10.179399490356445 0.5666666825612386\n"
          ]
        },
        {
          "output_type": "stream",
          "name": "stderr",
          "text": [
            "\n"
          ]
        }
      ]
    },
    {
      "cell_type": "code",
      "source": [
        "model = PrototypicalNetwork(bert)\n",
        "state_dict = torch.load('saved_weights_a.pt')\n",
        "model.load_state_dict(state_dict)\n",
        "model.to(device)\n",
        "evaluating(tokenizer_length, n_ways, k_shots=10)"
      ],
      "metadata": {
        "colab": {
          "base_uri": "https://localhost:8080/"
        },
        "id": "iX_XWIfeKTeq",
        "outputId": "0b629d50-d419-4c84-9b91-1ec183891dc9"
      },
      "execution_count": null,
      "outputs": [
        {
          "output_type": "stream",
          "name": "stderr",
          "text": [
            "100%|██████████| 6/6 [00:01<00:00,  3.84it/s, accuracy=1.0000]"
          ]
        },
        {
          "output_type": "stream",
          "name": "stdout",
          "text": [
            "                       precision    recall  f1-score   support\n",
            "\n",
            "          advertising       1.00      0.25      0.40         8\n",
            "         announcement       0.33      1.00      0.50         3\n",
            "financial information       1.00      0.67      0.80         9\n",
            "   subjective opinion       0.44      0.67      0.53         6\n",
            "\n",
            "             accuracy                           0.58        26\n",
            "            macro avg       0.69      0.65      0.56        26\n",
            "         weighted avg       0.79      0.58      0.58        26\n",
            "\n",
            "2.9677700890849033 0.6333333452542623\n"
          ]
        },
        {
          "output_type": "stream",
          "name": "stderr",
          "text": [
            "\n"
          ]
        }
      ]
    },
    {
      "cell_type": "markdown",
      "source": [
        "# PAM"
      ],
      "metadata": {
        "id": "2X5Drxwus51Q"
      }
    },
    {
      "cell_type": "code",
      "source": [
        "# import torch.nn.functional as F\n",
        "\n",
        "def get_accuracyy(prototypes, embeddings):\n",
        "    \"\"\"Compute the accuracy of the prototypical network on the test/query points.\n",
        "    Parameters\n",
        "    ----------\n",
        "    prototypes : `torch.FloatTensor` instance\n",
        "        A tensor containing the prototypes for each class. This tensor has shape \n",
        "        `(meta_batch_size, num_classes, embedding_size)`.\n",
        "    embeddings : `torch.FloatTensor` instance\n",
        "        A tensor containing the embeddings of the query points. This tensor has \n",
        "        shape `(meta_batch_size, num_examples, embedding_size)`.\n",
        "    Returns\n",
        "    -------\n",
        "    probability : `torch.FloatTensor` instance\n",
        "    index of probability:    torch.Int\n",
        "    \"\"\"\n",
        "    # Calcula la distancia euclidiana entre cada prototipo y las incrustaciones de las muestras de consulta\n",
        "    distances = torch.sum((prototypes.unsqueeze(1)\n",
        "        - embeddings.unsqueeze(2)) ** 2, dim=-1)\n",
        "    \n",
        "    # Calcula la probabilidad mediante la aplicación de Softmax sobre la negación de las distancias\n",
        "    neg_distances = -distances\n",
        "    probability = F.softmax(neg_distances, dim=-1)\n",
        "    \n",
        "    # Encuentra la clase predicha para cada muestra de consulta\n",
        "    y_hat, index = torch.max(probability, dim=-1)\n",
        "\n",
        "    return y_hat, index\n"
      ],
      "metadata": {
        "id": "5J7tKGLECNHL"
      },
      "execution_count": 27,
      "outputs": []
    },
    {
      "cell_type": "code",
      "source": [
        "class InputExample(object):\n",
        "  def __init__(self, twitter_id, text, label='unk'):\n",
        "    self.twitter_id = twitter_id\n",
        "    self.text = text\n",
        "    self.label = label\n",
        "      \n",
        "def read_examples(input_file, max_length=100):\n",
        "  examples = []\n",
        "  labels = []\n",
        "  with open(input_file, 'r') as f:\n",
        "    for line in f:\n",
        "      obj = json.loads(line)\n",
        "      text = [text['text'] for text in obj['texts']]\n",
        "      text = ' '.join(text)\n",
        "      text = preprocess_text(text)\n",
        "      text_split = text.split()\n",
        "      text_length = len(text_split)\n",
        "      new_text = []\n",
        "      for i in range(math.ceil(text_length/max_length)):\n",
        "        if (i+1)*max_length>= text_length:\n",
        "          new_text.append(' '.join(text_split[-max_length:]))\n",
        "        else:\n",
        "          new_text.append(' '.join(text_split[i*max_length:(i+1)*max_length]))\n",
        "      label = 'unk'\n",
        "      if 'class' in obj:\n",
        "        label = obj['class']\n",
        "      labels.append(label)\n",
        "      if len(new_text)==0:\n",
        "        new_text.append(\"\")\n",
        "      examples.append(InputExample(twitter_id=obj['twitter user id'], text=new_text, label=label))\n",
        "  return examples, labels\n",
        "\n",
        "def load_prototypes(proto_dict):\n",
        "  # proto_dict = torch.load(file_name)\n",
        "  proto_stack = torch.stack(list(proto_dict.values()), dim=1)\n",
        "  labels = list(proto_dict.keys())\n",
        "  return proto_stack, labels"
      ],
      "metadata": {
        "id": "EvJYfKQLCNML"
      },
      "execution_count": 28,
      "outputs": []
    },
    {
      "cell_type": "code",
      "source": [
        "# tokenizer_length = 100\n",
        "#Load tokenizer\n",
        "# bert = AutoModel.from_pretrained('yiyanghkust/finbert-tone')\n",
        "# tokenizer = BertTokenizerFast.from_pretrained('yiyanghkust/finbert-tone',do_lower_case=True)\n",
        "# Initialize Model\n",
        "model = PrototypicalNetwork(bert)\n",
        "# state_dict = torch.jit.load('./task1/saved_weights.pt')\n",
        "# state_dict = torch.load('./saved_weights.pt', map_location=torch.device('cpu'))\n",
        "checkpoint = torch.load('./weights.pth')\n",
        "model.load_state_dict(checkpoint['model_state_dic'])\n",
        "\n",
        "model.to(device)\n",
        "model.eval()\n",
        "\n",
        "# Read example files\n",
        "examples, _ = read_examples('./val.json')\n",
        "y_hats = []\n",
        "y = []\n",
        "results = []\n",
        "with torch.no_grad():\n",
        "  prototypes, labels = load_prototypes(checkpoint['prototypes'])\n",
        "  for i, example in enumerate(examples):\n",
        "    encode = tokenizer.batch_encode_plus(\n",
        "                example.text,\n",
        "                max_length = tokenizer_length,\n",
        "                padding='max_length',\n",
        "                truncation=True,\n",
        "                return_attention_mask=True,\n",
        "                return_token_type_ids=False,\n",
        "                add_special_tokens = True,\n",
        "                return_tensors = 'pt',\n",
        "                )\n",
        "    input_ids = encode['input_ids'].to(device)\n",
        "    input_ids_shape = input_ids.size()\n",
        "    attention_mask = encode['attention_mask'].to(device)\n",
        "    input_ids = input_ids.view(1,1,*input_ids_shape)  \n",
        "    attention_mask = attention_mask.view(1,1,*input_ids_shape)\n",
        "    input_embeding = model(input_ids, attention_mask)\n",
        "    input_embeding = torch.mean(input_embeding, 1, keepdim=True)  \n",
        "    y_hat, y_hat_id = get_accuracyy(prototypes, input_embeding)\n",
        "    # print(y_hat.item(), labels[y_hat_id.item()])\n",
        "    y_hats.append(labels[y_hat_id.item()])\n",
        "    y.append(example.label)\n",
        "    results.append({\"twitter user id\":example.twitter_id, \"class\":labels[y_hat_id.item()], \"probability\":round(y_hat.item(),3)})\n",
        "\n",
        "with open('subtask1.json', 'w', encoding='utf-8') as f:\n",
        "  for obj in results:\n",
        "    f.write(json.dumps(obj))\n",
        "    f.write('\\n')\n",
        "  f.close()\n",
        "print(classification_report(y, y_hats))"
      ],
      "metadata": {
        "colab": {
          "base_uri": "https://localhost:8080/"
        },
        "id": "G-doxP1YG-JI",
        "outputId": "1ff99212-bc7d-4737-9984-26be43585b21"
      },
      "execution_count": 29,
      "outputs": [
        {
          "output_type": "stream",
          "name": "stdout",
          "text": [
            "                       precision    recall  f1-score   support\n",
            "\n",
            "               gaming       0.89      0.89      0.89         9\n",
            "                other       0.75      0.60      0.67         5\n",
            "         price update       0.75      0.38      0.50         8\n",
            "technical information       0.80      0.80      0.80         5\n",
            "      trading matters       0.50      1.00      0.67         5\n",
            "\n",
            "             accuracy                           0.72        32\n",
            "            macro avg       0.74      0.73      0.70        32\n",
            "         weighted avg       0.76      0.72      0.71        32\n",
            "\n"
          ]
        }
      ]
    },
    {
      "cell_type": "code",
      "source": [],
      "metadata": {
        "colab": {
          "base_uri": "https://localhost:8080/"
        },
        "id": "kLxkU41DCNSB",
        "outputId": "adf6c793-3c92-4521-a522-2bd8b494dbec"
      },
      "execution_count": null,
      "outputs": [
        {
          "output_type": "stream",
          "name": "stdout",
          "text": [
            "                       precision    recall  f1-score   support\n",
            "\n",
            "               gaming       0.89      0.89      0.89         9\n",
            "                other       0.43      0.60      0.50         5\n",
            "         price update       1.00      0.38      0.55         8\n",
            "technical information       0.57      0.80      0.67         5\n",
            "      trading matters       0.67      0.80      0.73         5\n",
            "\n",
            "             accuracy                           0.69        32\n",
            "            macro avg       0.71      0.69      0.67        32\n",
            "         weighted avg       0.76      0.69      0.68        32\n",
            "\n"
          ]
        }
      ]
    },
    {
      "cell_type": "code",
      "source": [],
      "metadata": {
        "id": "i6lwQXWdw4so"
      },
      "execution_count": null,
      "outputs": []
    }
  ]
}