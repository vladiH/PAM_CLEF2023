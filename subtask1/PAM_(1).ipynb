{
  "nbformat": 4,
  "nbformat_minor": 0,
  "metadata": {
    "colab": {
      "provenance": [],
      "gpuType": "T4"
    },
    "kernelspec": {
      "name": "python3",
      "display_name": "Python 3"
    },
    "language_info": {
      "name": "python"
    },
    "gpuClass": "standard",
    "accelerator": "GPU"
  },
  "cells": [
    {
      "cell_type": "code",
      "source": [
        "!pip install transformers"
      ],
      "metadata": {
        "id": "A-tHTkFBLIcV",
        "colab": {
          "base_uri": "https://localhost:8080/"
        },
        "outputId": "6422f9f8-32f3-4f80-f573-f168f3ca1102"
      },
      "execution_count": 1,
      "outputs": [
        {
          "output_type": "stream",
          "name": "stdout",
          "text": [
            "Looking in indexes: https://pypi.org/simple, https://us-python.pkg.dev/colab-wheels/public/simple/\n",
            "Collecting transformers\n",
            "  Downloading transformers-4.28.1-py3-none-any.whl (7.0 MB)\n",
            "\u001b[2K     \u001b[90m━━━━━━━━━━━━━━━━━━━━━━━━━━━━━━━━━━━━━━━━\u001b[0m \u001b[32m7.0/7.0 MB\u001b[0m \u001b[31m44.5 MB/s\u001b[0m eta \u001b[36m0:00:00\u001b[0m\n",
            "\u001b[?25hCollecting tokenizers!=0.11.3,<0.14,>=0.11.1\n",
            "  Downloading tokenizers-0.13.3-cp310-cp310-manylinux_2_17_x86_64.manylinux2014_x86_64.whl (7.8 MB)\n",
            "\u001b[2K     \u001b[90m━━━━━━━━━━━━━━━━━━━━━━━━━━━━━━━━━━━━━━━━\u001b[0m \u001b[32m7.8/7.8 MB\u001b[0m \u001b[31m39.0 MB/s\u001b[0m eta \u001b[36m0:00:00\u001b[0m\n",
            "\u001b[?25hRequirement already satisfied: tqdm>=4.27 in /usr/local/lib/python3.10/dist-packages (from transformers) (4.65.0)\n",
            "Requirement already satisfied: requests in /usr/local/lib/python3.10/dist-packages (from transformers) (2.27.1)\n",
            "Requirement already satisfied: regex!=2019.12.17 in /usr/local/lib/python3.10/dist-packages (from transformers) (2022.10.31)\n",
            "Requirement already satisfied: packaging>=20.0 in /usr/local/lib/python3.10/dist-packages (from transformers) (23.1)\n",
            "Requirement already satisfied: filelock in /usr/local/lib/python3.10/dist-packages (from transformers) (3.12.0)\n",
            "Collecting huggingface-hub<1.0,>=0.11.0\n",
            "  Downloading huggingface_hub-0.14.1-py3-none-any.whl (224 kB)\n",
            "\u001b[2K     \u001b[90m━━━━━━━━━━━━━━━━━━━━━━━━━━━━━━━━━━━━━━\u001b[0m \u001b[32m224.5/224.5 kB\u001b[0m \u001b[31m17.6 MB/s\u001b[0m eta \u001b[36m0:00:00\u001b[0m\n",
            "\u001b[?25hRequirement already satisfied: pyyaml>=5.1 in /usr/local/lib/python3.10/dist-packages (from transformers) (6.0)\n",
            "Requirement already satisfied: numpy>=1.17 in /usr/local/lib/python3.10/dist-packages (from transformers) (1.22.4)\n",
            "Requirement already satisfied: typing-extensions>=3.7.4.3 in /usr/local/lib/python3.10/dist-packages (from huggingface-hub<1.0,>=0.11.0->transformers) (4.5.0)\n",
            "Requirement already satisfied: fsspec in /usr/local/lib/python3.10/dist-packages (from huggingface-hub<1.0,>=0.11.0->transformers) (2023.4.0)\n",
            "Requirement already satisfied: certifi>=2017.4.17 in /usr/local/lib/python3.10/dist-packages (from requests->transformers) (2022.12.7)\n",
            "Requirement already satisfied: charset-normalizer~=2.0.0 in /usr/local/lib/python3.10/dist-packages (from requests->transformers) (2.0.12)\n",
            "Requirement already satisfied: idna<4,>=2.5 in /usr/local/lib/python3.10/dist-packages (from requests->transformers) (3.4)\n",
            "Requirement already satisfied: urllib3<1.27,>=1.21.1 in /usr/local/lib/python3.10/dist-packages (from requests->transformers) (1.26.15)\n",
            "Installing collected packages: tokenizers, huggingface-hub, transformers\n",
            "Successfully installed huggingface-hub-0.14.1 tokenizers-0.13.3 transformers-4.28.1\n"
          ]
        }
      ]
    },
    {
      "cell_type": "code",
      "source": [
        "!pip install contractions"
      ],
      "metadata": {
        "id": "GyX47WPkM2g_",
        "colab": {
          "base_uri": "https://localhost:8080/"
        },
        "outputId": "3a65540d-d8c6-4078-c334-bf08ff0b44b5"
      },
      "execution_count": 2,
      "outputs": [
        {
          "output_type": "stream",
          "name": "stdout",
          "text": [
            "Looking in indexes: https://pypi.org/simple, https://us-python.pkg.dev/colab-wheels/public/simple/\n",
            "Collecting contractions\n",
            "  Downloading contractions-0.1.73-py2.py3-none-any.whl (8.7 kB)\n",
            "Collecting textsearch>=0.0.21\n",
            "  Downloading textsearch-0.0.24-py2.py3-none-any.whl (7.6 kB)\n",
            "Collecting pyahocorasick\n",
            "  Downloading pyahocorasick-2.0.0-cp310-cp310-manylinux_2_5_x86_64.manylinux1_x86_64.manylinux_2_12_x86_64.manylinux2010_x86_64.whl (110 kB)\n",
            "\u001b[2K     \u001b[90m━━━━━━━━━━━━━━━━━━━━━━━━━━━━━━━━━━━━━━━\u001b[0m \u001b[32m110.8/110.8 kB\u001b[0m \u001b[31m3.9 MB/s\u001b[0m eta \u001b[36m0:00:00\u001b[0m\n",
            "\u001b[?25hCollecting anyascii\n",
            "  Downloading anyascii-0.3.2-py3-none-any.whl (289 kB)\n",
            "\u001b[2K     \u001b[90m━━━━━━━━━━━━━━━━━━━━━━━━━━━━━━━━━━━━━━\u001b[0m \u001b[32m289.9/289.9 kB\u001b[0m \u001b[31m15.1 MB/s\u001b[0m eta \u001b[36m0:00:00\u001b[0m\n",
            "\u001b[?25hInstalling collected packages: pyahocorasick, anyascii, textsearch, contractions\n",
            "Successfully installed anyascii-0.3.2 contractions-0.1.73 pyahocorasick-2.0.0 textsearch-0.0.24\n"
          ]
        }
      ]
    },
    {
      "cell_type": "code",
      "source": [
        "!pip install emoji"
      ],
      "metadata": {
        "colab": {
          "base_uri": "https://localhost:8080/"
        },
        "id": "DpnKnfXZJzgP",
        "outputId": "b12a4bc1-716a-4ea1-fe18-c77b70c3968e"
      },
      "execution_count": 3,
      "outputs": [
        {
          "output_type": "stream",
          "name": "stdout",
          "text": [
            "Looking in indexes: https://pypi.org/simple, https://us-python.pkg.dev/colab-wheels/public/simple/\n",
            "Collecting emoji\n",
            "  Downloading emoji-2.2.0.tar.gz (240 kB)\n",
            "\u001b[2K     \u001b[90m━━━━━━━━━━━━━━━━━━━━━━━━━━━━━━━━━━━━━━━\u001b[0m \u001b[32m240.9/240.9 kB\u001b[0m \u001b[31m6.5 MB/s\u001b[0m eta \u001b[36m0:00:00\u001b[0m\n",
            "\u001b[?25h  Preparing metadata (setup.py) ... \u001b[?25l\u001b[?25hdone\n",
            "Building wheels for collected packages: emoji\n",
            "  Building wheel for emoji (setup.py) ... \u001b[?25l\u001b[?25hdone\n",
            "  Created wheel for emoji: filename=emoji-2.2.0-py3-none-any.whl size=234926 sha256=ad7ab8abcc3f1158a6d2d5aaf16b2d74e7ea931667e7f04f61b53978799c184d\n",
            "  Stored in directory: /root/.cache/pip/wheels/02/3d/88/51a592b9ad17e7899126563698b4e3961983ebe85747228ba6\n",
            "Successfully built emoji\n",
            "Installing collected packages: emoji\n",
            "Successfully installed emoji-2.2.0\n"
          ]
        }
      ]
    },
    {
      "cell_type": "code",
      "source": [
        "import json\n",
        "import re\n",
        "import random\n",
        "import numpy as np\n",
        "import pandas as pd\n",
        "import torch\n",
        "import emoji\n",
        "import math\n",
        "\n",
        "import torch.nn as nn\n",
        "import torch.nn.functional as F\n",
        "\n",
        "from torch.utils.data import DataLoader, Dataset\n",
        "\n",
        "import torch.optim as optim\n",
        "from torch.optim import AdamW, Adam, SGD\n",
        "\n",
        "import transformers\n",
        "from transformers import AutoModel, BertTokenizerFast, RobertaTokenizer, RobertaModel, T5EncoderModel,T5Tokenizer\n",
        "# from sentence_transformers import SentenceTransformer \n",
        "from transformers import get_linear_schedule_with_warmup\n",
        "\n",
        "from tqdm import tqdm\n",
        "\n",
        "from sklearn.model_selection import train_test_split\n",
        "from sklearn.metrics import classification_report\n",
        "\n",
        "import contractions"
      ],
      "metadata": {
        "id": "ConuiTiCLMz8"
      },
      "execution_count": 1,
      "outputs": []
    },
    {
      "cell_type": "code",
      "source": [
        "device = torch.device(\"cuda\" if torch.cuda.is_available() else \"cpu\")"
      ],
      "metadata": {
        "id": "ocNQAZ9pLf8S"
      },
      "execution_count": 2,
      "outputs": []
    },
    {
      "cell_type": "code",
      "source": [
        "def merge_text_truth(input_file, output_file):\n",
        "    examples = []\n",
        "    output_data = []\n",
        "    with open(output_file, 'r', encoding='utf-8') as f:\n",
        "      for line in f:\n",
        "          obj = json.loads(line)\n",
        "          output_data.append(obj)\n",
        "    data = {item['twitter user id']: {\"twitter user id\":item['twitter user id'],\n",
        "                                      \"class\":item['class'].strip()} for item in output_data}\n",
        "    \n",
        "    with open(input_file, 'r') as f:\n",
        "        for line in f:\n",
        "          obj = json.loads(line)\n",
        "          data[obj['twitter user id']]['texts'] = obj['texts']\n",
        "    return list(data.values())\n",
        "data = merge_text_truth('./train_text.json','train_truth.json')"
      ],
      "metadata": {
        "id": "Epl9nr4OgZUu"
      },
      "execution_count": 3,
      "outputs": []
    },
    {
      "cell_type": "code",
      "source": [
        "def split_and_save(data, test_size=0.1):\n",
        "  train_data, val_data = train_test_split(data, \n",
        "                                          random_state=568, \n",
        "                                          test_size=test_size, \n",
        "                                          shuffle=True)\n",
        "  with open('train.json', 'w', encoding='utf-8') as f:\n",
        "    for obj in train_data:\n",
        "      f.write(json.dumps(obj))\n",
        "      f.write('\\n')\n",
        "  f.close()\n",
        "\n",
        "  with open('val.json', 'w', encoding='utf-8') as f:\n",
        "    for obj in val_data:\n",
        "      f.write(json.dumps(obj))\n",
        "      f.write('\\n')\n",
        "  f.close()\n",
        "  return train_data, val_data\n",
        "train_data, val_data = split_and_save(data, 0.1)"
      ],
      "metadata": {
        "id": "T1qgo25_kKuT"
      },
      "execution_count": 11,
      "outputs": []
    },
    {
      "cell_type": "code",
      "source": [
        "def remove_emoji(text):\n",
        "    return re.sub('\\s+', ' ', re.sub(':\\S+?:', ' ', emoji.demojize(text)))\n",
        "\n",
        "def remove_long_words(text):\n",
        "    words = text.split()\n",
        "    filtered_words = [word for word in words if len(word) <= 40]\n",
        "    return \" \".join(filtered_words)\n",
        "\n",
        "def preprocess_text(text):\n",
        "  # reemplazar las urls\n",
        "  text = re.sub(r'http\\S+', 'http', text)\n",
        "  # drop letters that start at @&\n",
        "  text = re.sub(r'[&][^\\s]+', '', text)\n",
        "  text = re.sub(r'[@][^\\s]+', '@user', text)\n",
        "  #drop all new lines\n",
        "  text = re.sub(r\"[\\r\\n]+\", \" \", text)\n",
        "  #drop emojis\n",
        "  text = remove_emoji(text)\n",
        "  # Convertir todo el texto a minúsculas\n",
        "  text = text.lower()\n",
        "  #Sustituir los Retweets\n",
        "  text = re.sub(r'\\b(RT|rt)\\b\\s+', ' ', text)\n",
        "  # reemplazar múltiples espacios con un solo espacio\n",
        "  text = re.sub(r'\\s+', ' ', text)\n",
        "  #eliminar secuencia de palabras repetidas\n",
        "  text = re.sub(r'([@]*[a-zA-Z]{1,}\\s+)\\1+', r'\\1', text)\n",
        "  text = remove_long_words(text)\n",
        "  # reemplazar múltiples espacios con un solo espacio\n",
        "  text = re.sub(r'\\s+', ' ', text)\n",
        "  #remove white space at begin and end of line\n",
        "  text = text.strip()\n",
        "\n",
        "  return text"
      ],
      "metadata": {
        "id": "P06jByJrLiUm"
      },
      "execution_count": 12,
      "outputs": []
    },
    {
      "cell_type": "code",
      "source": [
        "class InputExample(object):\n",
        "    def __init__(self, twitter_id, text, label):\n",
        "      self.twitter_id = twitter_id\n",
        "      self.text = text\n",
        "      self.label = label\n",
        "\n",
        "def dataToInputExample(dataset, max_length=80):\n",
        "    examples = []\n",
        "    labels = []\n",
        "    for data in dataset:\n",
        "      text = [text['text'] for text in data['texts']]\n",
        "      text = ' '.join(text)\n",
        "      # print(text)\n",
        "      text = preprocess_text(text)\n",
        "      if len(text)<1 or text is None:\n",
        "        continue\n",
        "      # print(text)\n",
        "      text_split = text.split()\n",
        "      text_length = len(text_split)\n",
        "      for i in range(math.ceil(text_length/max_length)):\n",
        "        labels.append(data['class'])\n",
        "        if (i+1)*max_length>= text_length:\n",
        "          examples.append(InputExample(twitter_id=data['twitter user id'], text=' '.join(text_split[-max_length:]), label=data['class']))\n",
        "        else:\n",
        "          examples.append(InputExample(twitter_id=data['twitter user id'], text=' '.join(text_split[i*max_length:(i+1)*max_length]), label=data['class']))\n",
        "    return examples, labels\n",
        "_ = dataToInputExample(val_data)"
      ],
      "metadata": {
        "id": "hdN-JEa5LiXC"
      },
      "execution_count": 13,
      "outputs": []
    },
    {
      "cell_type": "code",
      "source": [
        "class CryptocurrencyDataset(Dataset):\n",
        "    def __init__(self, data, tokenizer, seq_length=16, n_ways=5, k_shots=1, k_queries=5):\n",
        "        self.n_ways = n_ways\n",
        "        self.k_shots = k_shots\n",
        "        self.k_queries = k_queries\n",
        "        self.tokenizer = tokenizer\n",
        "        self.seq_length = seq_length\n",
        "\n",
        "        proto_examples, proto_labels = data\n",
        "        self.proto_features = [self.text_to_features(example.text) for example in proto_examples]\n",
        "        self.proto_labels = np.array(proto_labels)\n",
        "        self.proto_classes = np.array(list(set(self.proto_labels)))\n",
        "        self.proto_classes_to_id = {v:k for k, v in enumerate(self.proto_classes)}\n",
        "        self.id_to_proto_classes = {v:k for k, v in self.proto_classes_to_id.items()}\n",
        "        self.nb_proto_classes = len(self.proto_classes)\n",
        "\n",
        "    def __len__(self):\n",
        "        return len(self.proto_labels)*self.n_ways*self.k_shots*self.k_queries\n",
        "\n",
        "    def __getitem__(self, item_poss):\n",
        "        support, support_mask, support_label = [], [], []\n",
        "        query, query_mask, query_label = [], [], []\n",
        "        target_classes = np.random.choice(self.proto_classes, self.n_ways, replace=False)\n",
        "        for class_idx, class_name in enumerate(target_classes):\n",
        "            support.append([])\n",
        "            support_mask.append([])\n",
        "            query.append([])\n",
        "            query_mask.append([])\n",
        "            label_index = np.argwhere(self.proto_labels==class_name).reshape(-1,)\n",
        "            samples = np.random.choice(label_index, self.k_shots + self.k_queries, replace=False)\n",
        "            for idx, sample in enumerate(samples):\n",
        "              if idx < self.k_shots:\n",
        "                support[class_idx].append(self.proto_features[sample].input_ids)\n",
        "                support_mask[class_idx].append(self.proto_features[sample].attention_mask)\n",
        "                support_label.append(self.proto_classes_to_id[class_name])\n",
        "              else:\n",
        "                query[class_idx].append(self.proto_features[sample].input_ids)\n",
        "                query_mask[class_idx].append(self.proto_features[sample].attention_mask)\n",
        "                query_label.append(self.proto_classes_to_id[class_name])\n",
        "            \n",
        "        return (torch.tensor(support, dtype=torch.long),\n",
        "                torch.tensor(support_mask, dtype=torch.long),\n",
        "                torch.tensor(query, dtype=torch.long),\n",
        "                torch.tensor(query_mask, dtype=torch.long),\n",
        "                torch.tensor(support_label, dtype=torch.long),\n",
        "                torch.tensor(query_label, dtype=torch.long))\n",
        "        \n",
        "    def text_to_features(self, inputs):\n",
        "      if isinstance(inputs, str):\n",
        "        encode = self.tokenizer.encode_plus(\n",
        "          inputs,\n",
        "          max_length = self.seq_length,\n",
        "          padding='max_length',\n",
        "          truncation=True,\n",
        "          return_attention_mask=True,\n",
        "          return_token_type_ids=False,\n",
        "          add_special_tokens = True,\n",
        "          # return_tensors = 'pt',\n",
        "          )\n",
        "      else:\n",
        "        encode = self.tokenizer.batch_encode_plus(\n",
        "          inputs,\n",
        "          max_length = self.seq_length,\n",
        "          padding='max_length',\n",
        "          truncation=True,\n",
        "          return_attention_mask=True,\n",
        "          return_token_type_ids=False,\n",
        "          add_special_tokens = True,\n",
        "          return_tensors = 'pt',\n",
        "          )\n",
        "      # return encode['input_ids'], encode['attention_mask']\n",
        "      return encode"
      ],
      "metadata": {
        "id": "SANWzg20LiZj"
      },
      "execution_count": 14,
      "outputs": []
    },
    {
      "cell_type": "code",
      "source": [
        "class CryptocurrencyDatasetEval(Dataset):\n",
        "    def __init__(self, train_data, val_data, tokenizer, seq_length=16, n_ways=5, k_shots=1):\n",
        "        self.n_ways = n_ways\n",
        "        self.k_shots = k_shots\n",
        "        # self.k_queries = k_queries\n",
        "        self.tokenizer = tokenizer\n",
        "        self.seq_length = seq_length\n",
        "\n",
        "        proto_examples, proto_labels = train_data\n",
        "        self.proto_features = [self.text_to_features(example.text) for example in proto_examples]\n",
        "        self.proto_labels = np.array(proto_labels)\n",
        "        self.proto_classes = np.array(list(set(self.proto_labels)))\n",
        "        self.proto_classes_to_id = {v:k for k, v in enumerate(self.proto_classes)}\n",
        "        self.id_to_proto_classes = {v:k for k, v in self.proto_classes_to_id.items()}\n",
        "        self.nb_proto_classes = len(self.proto_classes)\n",
        "\n",
        "        examples, labels = val_data\n",
        "        self.features = [self.text_to_features(example.text) for example in examples]\n",
        "        self.labels = np.array(labels)\n",
        "        self.classes = np.array(list(set(self.labels)))\n",
        "\n",
        "    def __len__(self):\n",
        "        return len(self.labels)\n",
        "\n",
        "    def __getitem__(self, item_poss):\n",
        "        support, support_mask, support_label = [], [], []\n",
        "        query, query_mask, query_label = [], [], []\n",
        "        target_classes = np.random.choice(self.proto_classes, self.n_ways, replace=False)\n",
        "        for class_idx, class_name in enumerate(target_classes):\n",
        "            support.append([])\n",
        "            support_mask.append([])\n",
        "            label_index = np.argwhere(self.proto_labels==class_name).reshape(-1,)\n",
        "            samples = np.random.choice(label_index, self.k_shots, replace=False)\n",
        "            for idx, sample in enumerate(samples):\n",
        "              support[class_idx].append(self.proto_features[sample].input_ids)\n",
        "              support_mask[class_idx].append(self.proto_features[sample].attention_mask)\n",
        "              support_label.append(self.proto_classes_to_id[class_name])\n",
        "\n",
        "        query.append([])\n",
        "        query_mask.append([])\n",
        "        query[0].append(self.features[item_poss].input_ids)\n",
        "        query_mask[0].append(self.features[item_poss].attention_mask)\n",
        "        query_label.append(self.proto_classes_to_id[self.labels[item_poss]])\n",
        "            \n",
        "        return (torch.tensor(support, dtype=torch.long),\n",
        "                torch.tensor(support_mask, dtype=torch.long),\n",
        "                torch.tensor(query, dtype=torch.long),\n",
        "                torch.tensor(query_mask, dtype=torch.long),\n",
        "                torch.tensor(support_label, dtype=torch.long),\n",
        "                torch.tensor(query_label, dtype=torch.long))\n",
        "    def text_to_features(self, inputs):\n",
        "      if isinstance(inputs, str):\n",
        "        encode = self.tokenizer.encode_plus(\n",
        "          inputs,\n",
        "          max_length = self.seq_length,\n",
        "          padding='max_length',\n",
        "          truncation=True,\n",
        "          return_attention_mask=True,\n",
        "          return_token_type_ids=False,\n",
        "          add_special_tokens = True,\n",
        "          # return_tensors = 'pt',\n",
        "          )\n",
        "      else:\n",
        "        encode = self.tokenizer.batch_encode_plus(\n",
        "          inputs,\n",
        "          max_length = self.seq_length,\n",
        "          padding='max_length',\n",
        "          truncation=True,\n",
        "          return_attention_mask=True,\n",
        "          return_token_type_ids=False,\n",
        "          add_special_tokens = True,\n",
        "          return_tensors = 'pt',\n",
        "          )\n",
        "      # return encode['input_ids'], encode['attention_mask']\n",
        "      return encode"
      ],
      "metadata": {
        "id": "F4x7Ey-h5SgH"
      },
      "execution_count": 15,
      "outputs": []
    },
    {
      "cell_type": "code",
      "source": [
        "class GaussianNoise(nn.Module):\n",
        "    def __init__(self, sigma=0.1):\n",
        "        super(GaussianNoise, self).__init__()\n",
        "        self.sigma = sigma\n",
        "\n",
        "    def forward(self, x):\n",
        "        if self.training:\n",
        "            noise = torch.randn_like(x) * self.sigma\n",
        "            return x + noise\n",
        "        else:\n",
        "            return x"
      ],
      "metadata": {
        "id": "VmYLF5vuyAfq"
      },
      "execution_count": 16,
      "outputs": []
    },
    {
      "cell_type": "code",
      "source": [
        "# Calculates Euclidean distance between class protoypes and query samples\n",
        "class L2Distance(nn.Module):\n",
        "  def __init__(self):\n",
        "    super(L2Distance, self).__init__()\n",
        "\n",
        "  def forward(self, support, query):\n",
        "    \"\"\"\n",
        "    Args:\n",
        "        support: torch.Tensor, [B, totalQ, N, D]\n",
        "        query: torch.Tensor, [B, totalQ, N, D]\n",
        "        \n",
        "    Returns:\n",
        "        relation_score: torch.Tensor, [B, totalQ, N]\"\"\"\n",
        "    l2_distance = torch.pow(support - query, 2).sum(-1, keepdim=False)  # [B, totalQ, N]\n",
        "    return F.softmax(-l2_distance, dim=-1)"
      ],
      "metadata": {
        "id": "uo3l1pcW67j9"
      },
      "execution_count": 17,
      "outputs": []
    },
    {
      "cell_type": "code",
      "source": [
        "def prototypical_loss(predict_proba, label):\n",
        "  \"\"\"prototypical_loss.\n",
        "      Args:\n",
        "          predict_proba: torch.Tensor, [B, totalQ, N]\n",
        "          label: torch.Tensor, [B, totalQ]\n",
        "          \n",
        "      Returns:\n",
        "          loss: torch.Float\"\"\"\n",
        "  N = predict_proba.size(-1)\n",
        "  return F.cross_entropy(predict_proba.view(-1, N), label.view(-1))"
      ],
      "metadata": {
        "id": "dbD7hJlM7Joe"
      },
      "execution_count": 18,
      "outputs": []
    },
    {
      "cell_type": "code",
      "source": [
        "def mean_accuracy(predict_label, label):\n",
        "  return torch.mean((predict_label.view(-1) == label.view(-1)).type(torch.FloatTensor))"
      ],
      "metadata": {
        "id": "P7nmkyh87U8R"
      },
      "execution_count": 19,
      "outputs": []
    },
    {
      "cell_type": "code",
      "source": [
        "def mean_pooling(model_output, attention_mask):\n",
        "    token_embeddings = model_output[0] #First element of model_output contains all token embeddings\n",
        "    input_mask_expanded = attention_mask.unsqueeze(-1).expand(token_embeddings.size()).float()\n",
        "    return torch.sum(token_embeddings * input_mask_expanded, 1) / torch.clamp(input_mask_expanded.sum(1), min=1e-9)\n",
        "\n",
        "class PrototypicalNetwork(nn.Module):\n",
        "    def __init__(self, bert_model):\n",
        "        super(PrototypicalNetwork, self).__init__()\n",
        "        self.bert_model = bert_model\n",
        "        # self.encoder = nn.Sequential(\n",
        "        #     # GaussianNoise(0.1),\n",
        "        #     nn.Dropout(0.2),\n",
        "        #     # nn.Linear(self.bert_model.config.hidden_size, self.bert_model.config.hidden_size),\n",
        "        #     # nn.ReLU(),\n",
        "        #     # GaussianNoise(0.1),\n",
        "        #     # nn.Dropout(0.2),\n",
        "        #     # nn.Linear(self.bert_model.config.hidden_size, out_channels)\n",
        "        # )\n",
        "\n",
        "    def forward(self, ids, ids_mask):\n",
        "      \"\"\"Prototype Networks forward.\n",
        "      Args:\n",
        "          ids: torch.Tensor, [-1, N, K, max_length]\n",
        "          ids_mask: torch.Tensor, [-1, N, K, max_length]\n",
        "          \n",
        "      Returns:\n",
        "          ids: torch.Tensor, [B, N*K, D]\"\"\"\n",
        "      B, N, K, max_length = ids.size()\n",
        "      \n",
        "      # 1. Encoder\n",
        "      ids = ids.view(-1, max_length)  # [B * N * K, max_length]\n",
        "      ids_mask = ids_mask.view(-1, max_length)\n",
        "      ids = self.bert_model(input_ids=ids, attention_mask=ids_mask)[1]  # [B * N * K, D]\n",
        "      # ids = self.encoder(ids)\n",
        "      # Perform pooling\n",
        "      # ids = mean_pooling(ids, ids_mask)\n",
        "      # Normalize embeddings\n",
        "      # ids = F.normalize(ids, p=2, dim=1)\n",
        "      ids = ids.view(B, -1, ids.size()[-1])  # [B, N*K, D] D=self.bert_model.config.hidden_size\n",
        "      return ids"
      ],
      "metadata": {
        "id": "_zPb_KJINVXZ"
      },
      "execution_count": 20,
      "outputs": []
    },
    {
      "cell_type": "code",
      "source": [
        "def get_num_samples(targets, num_classes, dtype=None):\n",
        "    \"\"\" count number of same shots examples and set this value taking\n",
        "    in account all total classes\n",
        "    Parameters\n",
        "    ----------\n",
        "    targets: `torch.IntegerTensor` instance\n",
        "    has shape `((batch_size, num_examples))`\n",
        "\n",
        "    num_classes: int, number of classes.\n",
        "    Returns\n",
        "    -------\n",
        "    num_samples: ((batch_size, num_classes))    \n",
        "    \"\"\"\n",
        "    batch_size = targets.size(0)\n",
        "    with torch.no_grad():\n",
        "        ones = torch.ones_like(targets, dtype=dtype)\n",
        "        num_samples = ones.new_zeros((batch_size, num_classes))\n",
        "        num_samples.scatter_add_(1, targets, ones)\n",
        "    return num_samples\n",
        "\n",
        "\n",
        "def get_prototypes(embeddings, targets, num_classes):\n",
        "    \"\"\"Compute the prototypes (the mean vector of the embedded training/support \n",
        "    points belonging to its class) for each classes in the task.\n",
        "    Parameters\n",
        "    ----------\n",
        "    embeddings : `torch.FloatTensor` instance\n",
        "        A tensor containing the embeddings of the support points. This tensor \n",
        "        has shape `(batch_size, num_examples, embedding_size)`.\n",
        "    targets : `torch.LongTensor` instance\n",
        "        A tensor containing the targets of the support points. This tensor has \n",
        "        shape `(batch_size, num_examples)`.\n",
        "    num_classes : int\n",
        "        Number of classes in the task.\n",
        "    Returns\n",
        "    -------\n",
        "    prototypes : `torch.FloatTensor` instance\n",
        "        A tensor containing the prototypes for each class. This tensor has shape\n",
        "        `(batch_size, num_classes, embedding_size)`.\n",
        "    \"\"\"\n",
        "    batch_size, embedding_size = embeddings.size(0), embeddings.size(-1)\n",
        "    \n",
        "    num_samples = get_num_samples(targets, num_classes, dtype=embeddings.dtype)\n",
        "    num_samples.unsqueeze_(-1)\n",
        "    num_samples = torch.max(num_samples, torch.ones_like(num_samples))\n",
        "\n",
        "    prototypes = embeddings.new_zeros((batch_size, num_classes, embedding_size))\n",
        "    indices = targets.unsqueeze(-1).expand_as(embeddings)\n",
        "    prototypes.scatter_add_(1, indices, embeddings).div_(num_samples)\n",
        "\n",
        "    return prototypes\n",
        "\n",
        "# def prototypical_loss(prototypes, embeddings, targets, **kwargs):\n",
        "#     \"\"\"Compute the loss (i.e. negative log-likelihood) for the prototypical \n",
        "#     network, on the test/query points.\n",
        "#     Parameters\n",
        "#     ----------\n",
        "#     prototypes : `torch.FloatTensor` instance\n",
        "#         A tensor containing the prototypes for each class. This tensor has shape \n",
        "#         `(batch_size, num_classes, embedding_size)`.\n",
        "#     embeddings : `torch.FloatTensor` instance\n",
        "#         A tensor containing the embeddings of the query points. This tensor has \n",
        "#         shape `(batch_size, num_examples, embedding_size)`.\n",
        "#     targets : `torch.LongTensor` instance\n",
        "#         A tensor containing the targets of the query points. This tensor has \n",
        "#         shape `(batch_size, num_examples)`.\n",
        "#     Returns\n",
        "#     -------\n",
        "#     loss : `torch.FloatTensor` instance\n",
        "#         The negative log-likelihood on the query points.\n",
        "#     \"\"\"\n",
        "#     B, classes, D = prototypes.size() \n",
        "#     B, examples, D = embeddings.size() \n",
        "#     prototypes = prototypes.unsqueeze(1).repeat(1,examples,1,1).view(-1,D)\n",
        "#     embeddings = embeddings.unsqueeze(2).repeat(1,1,classes,1).view(-1,D)\n",
        "#     targets = 2*F.one_hot(targets, num_classes=classes).view(-1,)-1\n",
        "#     return torch.nn.CosineEmbeddingLoss()(prototypes, embeddings , targets)\n",
        "\n",
        "def prototypical_loss(prototypes, embeddings, targets, **kwargs):\n",
        "    \"\"\"Compute the loss (i.e. negative log-likelihood) for the prototypical \n",
        "    network, on the test/query points.\n",
        "    Parameters\n",
        "    ----------\n",
        "    prototypes : `torch.FloatTensor` instance\n",
        "        A tensor containing the prototypes for each class. This tensor has shape \n",
        "        `(batch_size, num_classes, embedding_size)`.\n",
        "    embeddings : `torch.FloatTensor` instance\n",
        "        A tensor containing the embeddings of the query points. This tensor has \n",
        "        shape `(batch_size, num_examples, embedding_size)`.\n",
        "    targets : `torch.LongTensor` instance\n",
        "        A tensor containing the targets of the query points. This tensor has \n",
        "        shape `(batch_size, num_examples)`.\n",
        "    Returns\n",
        "    -------\n",
        "    loss : `torch.FloatTensor` instance\n",
        "        The negative log-likelihood on the query points.\n",
        "    \"\"\"\n",
        "    squared_distances = torch.sum((prototypes.unsqueeze(2)\n",
        "        - embeddings.unsqueeze(1)) ** 2, dim=-1)\n",
        "    return F.cross_entropy(-squared_distances, targets, **kwargs)\n",
        "\n",
        "def get_accuracy(prototypes, embeddings, targets):\n",
        "    \"\"\"Compute the accuracy of the prototypical network on the test/query points.\n",
        "    Parameters\n",
        "    ----------\n",
        "    prototypes : `torch.FloatTensor` instance\n",
        "        A tensor containing the prototypes for each class. This tensor has shape \n",
        "        `(meta_batch_size, num_classes, embedding_size)`.\n",
        "    embeddings : `torch.FloatTensor` instance\n",
        "        A tensor containing the embeddings of the query points. This tensor has \n",
        "        shape `(meta_batch_size, num_examples, embedding_size)`.\n",
        "    targets : `torch.LongTensor` instance\n",
        "        A tensor containing the targets of the query points. This tensor has \n",
        "        shape `(meta_batch_size, num_examples)`.\n",
        "    Returns\n",
        "    -------\n",
        "    accuracy : `torch.FloatTensor` instance\n",
        "        Mean accuracy on the query points.\n",
        "    \"\"\"\n",
        "    sq_distances = torch.sum((prototypes.unsqueeze(1)\n",
        "        - embeddings.unsqueeze(2)) ** 2, dim=-1)\n",
        "    _, predictions = torch.min(sq_distances, dim=-1)\n",
        "    return torch.mean(predictions.eq(targets).float()), predictions\n",
        "\n",
        "# def get_accuracy(prototypes, embeddings, targets):\n",
        "#     \"\"\"\n",
        "#     Compute the accuracy of the prototypical network on the test/query points using cosine similarity.\n",
        "#     \"\"\"\n",
        "#     # Compute cosine similarity between prototypes and embeddings\n",
        "#     sim = F.cosine_similarity(prototypes.unsqueeze(1), embeddings.unsqueeze(2), dim=-1)\n",
        "#     # Predict class with the highest cosine similarity\n",
        "#     _, predictions = torch.max(sim, dim=2)\n",
        "#     # Compute mean accuracy\n",
        "#     accuracy = torch.mean(predictions.eq(targets).float())\n",
        "#     return accuracy, predictions"
      ],
      "metadata": {
        "id": "9W6lNoIXhWFp"
      },
      "execution_count": 21,
      "outputs": []
    },
    {
      "cell_type": "code",
      "source": [
        "def fit(prototypical_model, data_loader, optimizer, scheduler, train_steps):\n",
        "  prototypical_model.train()\n",
        "  total_loss, total_accuracy = 0, 0\n",
        "  with tqdm(data_loader, total=train_steps) as pbar:\n",
        "    for batch_idx, batch in enumerate(pbar):\n",
        "      if batch_idx >= train_steps:\n",
        "          break\n",
        "\n",
        "      support, support_mask, query, query_mask, support_label, query_label = [tensor.to(device) for tensor in batch]\n",
        "      support_embedding = prototypical_model(support, support_mask)\n",
        "      query_embedding = prototypical_model(query, query_mask)\n",
        "\n",
        "      prototypes = get_prototypes(support_embedding, support_label,data_loader.dataset.nb_proto_classes)\n",
        "      loss = prototypical_loss(prototypes, query_embedding, query_label)\n",
        "      loss.backward()\n",
        "      optimizer.step()\n",
        "      optimizer.zero_grad()\n",
        "      scheduler.step()\n",
        "\n",
        "      with torch.no_grad():\n",
        "        accuracy, _ = get_accuracy(prototypes, query_embedding, query_label)\n",
        "        pbar.set_postfix(accuracy='{0:.4f}'.format(accuracy.item()))\n",
        "      # add on to the total loss\n",
        "      total_loss = total_loss + loss.item()\n",
        "      total_accuracy = total_accuracy + accuracy.item()\n",
        "    return total_loss/train_steps, total_accuracy/train_steps"
      ],
      "metadata": {
        "id": "sfr5iYLRO3n8"
      },
      "execution_count": 22,
      "outputs": []
    },
    {
      "cell_type": "code",
      "source": [
        "def eval(prototypical_model, data_loader):\n",
        "  # switch prototypical_model to evaluation mode\n",
        "  prototypical_model.eval()\n",
        "  total_loss, total_accuracy = 0, 0\n",
        "  # iterate over batches in test loader\n",
        "  steps = len(data_loader)\n",
        "  with torch.no_grad():\n",
        "    with tqdm(data_loader, total=steps) as pbar:\n",
        "      for batch_idx, batch in enumerate(pbar):\n",
        "        support, support_mask, query, query_mask, support_label, query_label = [tensor.to(device) for tensor in batch]\n",
        "        support_embedding = prototypical_model(support, support_mask)\n",
        "        query_embedding = prototypical_model(query, query_mask)\n",
        "\n",
        "        prototypes = get_prototypes(support_embedding, support_label,data_loader.dataset.nb_proto_classes)\n",
        "        loss = prototypical_loss(prototypes, query_embedding, query_label)\n",
        "        accuracy, _ = get_accuracy(prototypes, query_embedding, query_label)\n",
        "        # add on to the total loss\n",
        "        total_loss = total_loss + loss.item()\n",
        "        total_accuracy = total_accuracy + accuracy.item()\n",
        "        pbar.set_postfix(accuracy='{0:.4f}'.format(accuracy.item()))\n",
        "      return total_loss/steps, total_accuracy/steps"
      ],
      "metadata": {
        "id": "EHRYP96eSSip"
      },
      "execution_count": 23,
      "outputs": []
    },
    {
      "cell_type": "code",
      "source": [
        "def test(prototypical_model, data_loader):\n",
        "  # switch prototypical_model to evaluation mode\n",
        "  prototypical_model.eval()\n",
        "  total_loss, total_accuracy = 0, 0\n",
        "  # iterate over batches in test loader\n",
        "  predicted_labels = []\n",
        "  labels = []\n",
        "  steps = len(data_loader)\n",
        "  with torch.no_grad():\n",
        "    with tqdm(data_loader, total=steps) as pbar:\n",
        "      for batch_idx, batch in enumerate(pbar):\n",
        "        support, support_mask, query, query_mask, support_label, query_label = [tensor.to(device) for tensor in batch]\n",
        "        support_embedding = prototypical_model(support, support_mask)\n",
        "        query_embedding = prototypical_model(query, query_mask)\n",
        "\n",
        "        prototypes = get_prototypes(support_embedding, support_label,data_loader.dataset.nb_proto_classes)\n",
        "        loss = prototypical_loss(prototypes, query_embedding, query_label)\n",
        "        accuracy, predict_label = get_accuracy(prototypes, query_embedding, query_label)\n",
        "        # add on to the total loss\n",
        "        total_loss = total_loss + loss.item()\n",
        "        total_accuracy = total_accuracy + accuracy.item()\n",
        "\n",
        "        predicted_labels.extend(predict_label.view(-1,).detach().cpu().numpy().tolist())\n",
        "        labels.extend(query_label.view(-1,).detach().cpu().numpy().tolist())\n",
        "        pbar.set_postfix(accuracy='{0:.4f}'.format(accuracy.item()))\n",
        "      return total_loss/steps, total_accuracy/steps, labels, predicted_labels "
      ],
      "metadata": {
        "id": "L40GZ3uTK5yb"
      },
      "execution_count": 24,
      "outputs": []
    },
    {
      "cell_type": "code",
      "source": [
        "def training(epoch, lr, tokenizer_length, n_ways, k_shots, k_queries, train_steps):\n",
        "  # empty lists to store training and validation loss of each epoch\n",
        "  train_losses=[]\n",
        "  valid_losses=[]\n",
        "\n",
        "  train_accuracies=[]\n",
        "  valid_accuracies=[]\n",
        "  try:\n",
        "    # # import BERT-base pretrained model\n",
        "    # # bert = T5EncoderModel.from_pretrained('sentence-transformers/sentence-t5-base')\n",
        "    # # bert = AutoModel.from_pretrained('bert-base-uncased')\n",
        "    # bert = AutoModel.from_pretrained('sentence-transformers/bert-base-nli-mean-tokens')\n",
        "    # # bert = AutoModel.from_pretrained('microsoft/MiniLM-L12-H384-uncased')\n",
        "    # # bert = RobertaModel.from_pretrained('roberta-base')\n",
        "    # # Load the BERT tokenizer\n",
        "    # # tokenizer = T5Tokenizer.from_pretrained('t5-base',do_lower_case=True)\n",
        "    # # tokenizer = BertTokenizerFast.from_pretrained('bert-base-uncased',do_lower_case=True)\n",
        "    # tokenizer = BertTokenizerFast.from_pretrained('sentence-transformers/bert-base-nli-mean-tokens',do_lower_case=True)\n",
        "    # # tokenizer = BertTokenizerFast.from_pretrained('microsoft/MiniLM-L12-H384-uncased',do_lower_case=True)\n",
        "    # # tokenizer = RobertaTokenizer.from_pretrained('roberta-base',do_lower_case=True)\n",
        "    # #initialize model\n",
        "    # # model = PrototypicalNetwork(bert, 256, hidden_size=512)\n",
        "    # model = PrototypicalNetwork(bert)\n",
        "    # model.to(device)\n",
        "\n",
        "    # Example usage:\n",
        "    crypto_train = CryptocurrencyDataset(train_examples, tokenizer, tokenizer_length, n_ways, k_shots, k_queries)\n",
        "    train_loader = DataLoader(crypto_train, batch_size=1, shuffle=True)\n",
        "    # crypto_val = CryptocurrencyDataset(val_text, val_labels, tokenizer, max_seq_len, Nc = Nc, Ni = 1, Nq = 1)\n",
        "    crypto_val = CryptocurrencyDatasetEval(train_examples,val_examples, tokenizer, tokenizer_length, n_ways, k_shots)\n",
        "    val_loader = DataLoader(crypto_val, batch_size=8, shuffle=True)\n",
        "\n",
        "    \n",
        "    # Initialize variables for early stopping\n",
        "    # set initial loss to infinite\n",
        "    best_valid_loss = float('inf')\n",
        "    best_valid_acc = 0\n",
        "    # best_acc = 0.0\n",
        "    best_epoch = 0\n",
        "    patience = epochs*0.20\n",
        "\n",
        "    parameter_list = list(model.named_parameters())\n",
        "    no_decay = [\"bias\", \"LayerNorm.bias\", \"LayerNorm.weight\"]  # Do not use weight decay.\n",
        "    optimizer = Adam(\n",
        "        [\n",
        "            {\n",
        "                \"params\": [param for name, param in parameter_list\n",
        "                if not any(nd in name for nd in no_decay)],\n",
        "                \"weight_decay\": 0.0\n",
        "            },\n",
        "            {\n",
        "                \"params\": [param for name, param in parameter_list\n",
        "                if any(nd in name for nd in no_decay)],\n",
        "                \"weight_decay\": 0.0\n",
        "            }\n",
        "        ], lr=lr, \n",
        "        # weight_decay=1e-3,\n",
        "        betas=(0.9,0.999),\n",
        "        eps=1e-08\n",
        "    )\n",
        "    scheduler = transformers.get_linear_schedule_with_warmup(\n",
        "          optimizer,\n",
        "          num_warmup_steps=int(0.06 * 400),\n",
        "          num_training_steps=400\n",
        "      )\n",
        "    # scheduler = transformers.get_polynomial_decay_schedule_with_warmup(\n",
        "    #       optimizer,\n",
        "    #       num_warmup_steps=int(0.05 * 400),\n",
        "    #       num_training_steps=400,\n",
        "    #       power = 3,\n",
        "    #       lr_end=1e-8\n",
        "    #   )\n",
        "    \n",
        "    # scheduler = optim.lr_scheduler.CosineAnnealingLR(optimizer, T_max=20)\n",
        "    for epoch in range(epochs):\n",
        "      print('\\n Epoch {:} / {:}'.format(epoch + 1, epochs))\n",
        "      train_loss, train_accuracy = fit(model, train_loader, optimizer, scheduler, train_steps)\n",
        "\n",
        "      # scheduler.step()\n",
        "      valid_loss, valid_accuracy = eval(model, val_loader)\n",
        "      # Update the scheduler and early stopping\n",
        "      if valid_accuracy > best_valid_acc:\n",
        "          best_valid_acc = valid_accuracy\n",
        "          best_epoch = epoch\n",
        "          torch.save(model.state_dict(), 'saved_weights.pt')\n",
        "\n",
        "      if valid_loss < best_valid_loss:\n",
        "          best_valid_loss = valid_loss\n",
        "          # best_epoch = epoch\n",
        "          torch.save(model.state_dict(), 'saved_weights_l.pt')\n",
        "    \n",
        "      # append training and validation loss\n",
        "      train_losses.append(train_loss)\n",
        "      valid_losses.append(valid_loss)\n",
        "      train_accuracies.append(train_accuracy)\n",
        "      valid_accuracies.append(valid_accuracy)\n",
        "      print(f'\\nTraining Loss: {train_loss:.3f} Training Accuracy: {train_accuracy:.3f}')\n",
        "      print(f'Validation Loss: {valid_loss:.3f} Validation Accuracy: {valid_accuracy:.3f}')\n",
        "        \n",
        "      if epoch - best_epoch > patience:\n",
        "          print(\"Early stopping: Validation loss did not improve for {} epochs\".format(patience))\n",
        "          break\n",
        "  except Exception as inst:\n",
        "    print(inst) \n",
        "  except KeyboardInterrupt:\n",
        "    return train_accuracies, train_losses, valid_accuracies, valid_losses\n",
        "  return train_accuracies, train_losses, valid_accuracies, valid_losses"
      ],
      "metadata": {
        "id": "fxBAiWN9Uwa-"
      },
      "execution_count": 25,
      "outputs": []
    },
    {
      "cell_type": "code",
      "source": [
        "# import BERT-base pretrained model\n",
        "# bert = AutoModel.from_pretrained('yiyanghkust/finbert-tone')\n",
        "# tokenizer = BertTokenizerFast.from_pretrained('yiyanghkust/finbert-tone',do_lower_case=True) 0\n",
        "# bert = AutoModel.from_pretrained('sentence-transformers/bert-base-nli-mean-tokens')\n",
        "# tokenizer = BertTokenizerFast.from_pretrained('sentence-transformers/bert-base-nli-mean-tokens',do_lower_case=True)\n",
        "# bert = AutoModel.from_pretrained('sentence-transformers/all-MiniLM-L6-v2')\n",
        "# tokenizer = BertTokenizerFast.from_pretrained('sentence-transformers/all-MiniLM-L6-v2')\n",
        "bert = AutoModel.from_pretrained('microsoft/MiniLM-L12-H384-uncased')\n",
        "tokenizer = BertTokenizerFast.from_pretrained('microsoft/MiniLM-L12-H384-uncased',do_lower_case=True)"
      ],
      "metadata": {
        "id": "QF3JP0cxppW2"
      },
      "execution_count": 26,
      "outputs": []
    },
    {
      "cell_type": "code",
      "source": [
        "#text preprocessing\n",
        "text_seq_length = 80\n",
        "train_examples = dataToInputExample(train_data,text_seq_length)\n",
        "val_examples = dataToInputExample(val_data,text_seq_length)\n",
        "seq_len = [len(tokenizer.encode(i.text)) for i in train_examples[0]]\n",
        "pd.Series(seq_len).hist(bins = 30)"
      ],
      "metadata": {
        "colab": {
          "base_uri": "https://localhost:8080/",
          "height": 447
        },
        "id": "nC6XA1fPNiHh",
        "outputId": "bc7e0961-cbf9-470b-eefe-153c9f255bd0"
      },
      "execution_count": 27,
      "outputs": [
        {
          "output_type": "execute_result",
          "data": {
            "text/plain": [
              "<Axes: >"
            ]
          },
          "metadata": {},
          "execution_count": 27
        },
        {
          "output_type": "display_data",
          "data": {
            "text/plain": [
              "<Figure size 640x480 with 1 Axes>"
            ],
            "image/png": "[encoded data removed]"
          },
          "metadata": {}
        }
      ]
    },
    {
      "cell_type": "code",
      "source": [
        "#training parameters\n",
        "epochs = 400\n",
        "lr = 2e-04\n",
        "tokenizer_length = 150 #sentence length\n",
        "n_ways = 5 #clases\n",
        "k_shots = 20 # vectores soporte\n",
        "k_queries = 10 # querys\n",
        "\n",
        "train_steps = 5\n",
        "\n",
        "model = PrototypicalNetwork(bert)\n",
        "model.to(device)\n",
        "history = training(epochs, lr, tokenizer_length, n_ways, k_shots, k_queries, train_steps)"
      ],
      "metadata": {
        "colab": {
          "base_uri": "https://localhost:8080/"
        },
        "id": "CJEE1hagpL2K",
        "outputId": "f1053db3-9a26-4a7a-93a0-0275a0d73bfa"
      },
      "execution_count": 28,
      "outputs": [
        {
          "output_type": "stream",
          "name": "stdout",
          "text": [
            "\n",
            " Epoch 1 / 400\n"
          ]
        },
        {
          "output_type": "stream",
          "name": "stderr",
          "text": [
            "100%|██████████| 5/5 [00:07<00:00,  1.57s/it, accuracy=0.4000]\n",
            "100%|██████████| 5/5 [00:08<00:00,  1.67s/it, accuracy=0.0000]\n"
          ]
        },
        {
          "output_type": "stream",
          "name": "stdout",
          "text": [
            "\n",
            "Training Loss: 1.608 Training Accuracy: 0.444\n",
            "Validation Loss: 1.607 Validation Accuracy: 0.250\n",
            "\n",
            " Epoch 2 / 400\n"
          ]
        },
        {
          "output_type": "stream",
          "name": "stderr",
          "text": [
            "100%|██████████| 5/5 [00:05<00:00,  1.08s/it, accuracy=0.3200]\n",
            "100%|██████████| 5/5 [00:08<00:00,  1.64s/it, accuracy=0.0000]\n"
          ]
        },
        {
          "output_type": "stream",
          "name": "stdout",
          "text": [
            "\n",
            "Training Loss: 1.572 Training Accuracy: 0.372\n",
            "Validation Loss: 1.575 Validation Accuracy: 0.250\n",
            "\n",
            " Epoch 3 / 400\n"
          ]
        },
        {
          "output_type": "stream",
          "name": "stderr",
          "text": [
            "100%|██████████| 5/5 [00:05<00:00,  1.10s/it, accuracy=0.5400]\n",
            "100%|██████████| 5/5 [00:08<00:00,  1.68s/it, accuracy=0.0000]\n"
          ]
        },
        {
          "output_type": "stream",
          "name": "stdout",
          "text": [
            "\n",
            "Training Loss: 1.318 Training Accuracy: 0.424\n",
            "Validation Loss: 1.294 Validation Accuracy: 0.225\n",
            "\n",
            " Epoch 4 / 400\n"
          ]
        },
        {
          "output_type": "stream",
          "name": "stderr",
          "text": [
            "100%|██████████| 5/5 [00:05<00:00,  1.12s/it, accuracy=0.5800]\n",
            "100%|██████████| 5/5 [00:08<00:00,  1.71s/it, accuracy=0.0000]\n"
          ]
        },
        {
          "output_type": "stream",
          "name": "stdout",
          "text": [
            "\n",
            "Training Loss: 1.057 Training Accuracy: 0.520\n",
            "Validation Loss: 1.317 Validation Accuracy: 0.300\n",
            "\n",
            " Epoch 5 / 400\n"
          ]
        },
        {
          "output_type": "stream",
          "name": "stderr",
          "text": [
            "100%|██████████| 5/5 [00:05<00:00,  1.14s/it, accuracy=0.6000]\n",
            "100%|██████████| 5/5 [00:08<00:00,  1.78s/it, accuracy=1.0000]\n"
          ]
        },
        {
          "output_type": "stream",
          "name": "stdout",
          "text": [
            "\n",
            "Training Loss: 0.916 Training Accuracy: 0.592\n",
            "Validation Loss: 1.485 Validation Accuracy: 0.575\n",
            "\n",
            " Epoch 6 / 400\n"
          ]
        },
        {
          "output_type": "stream",
          "name": "stderr",
          "text": [
            "100%|██████████| 5/5 [00:05<00:00,  1.18s/it, accuracy=0.6800]\n",
            "100%|██████████| 5/5 [00:09<00:00,  1.86s/it, accuracy=1.0000]\n"
          ]
        },
        {
          "output_type": "stream",
          "name": "stdout",
          "text": [
            "\n",
            "Training Loss: 1.005 Training Accuracy: 0.604\n",
            "Validation Loss: 1.087 Validation Accuracy: 0.550\n",
            "\n",
            " Epoch 7 / 400\n"
          ]
        },
        {
          "output_type": "stream",
          "name": "stderr",
          "text": [
            "100%|██████████| 5/5 [00:06<00:00,  1.21s/it, accuracy=0.7800]\n",
            "100%|██████████| 5/5 [00:09<00:00,  1.86s/it, accuracy=0.0000]\n"
          ]
        },
        {
          "output_type": "stream",
          "name": "stdout",
          "text": [
            "\n",
            "Training Loss: 0.681 Training Accuracy: 0.736\n",
            "Validation Loss: 1.671 Validation Accuracy: 0.325\n",
            "\n",
            " Epoch 8 / 400\n"
          ]
        },
        {
          "output_type": "stream",
          "name": "stderr",
          "text": [
            "100%|██████████| 5/5 [00:05<00:00,  1.18s/it, accuracy=0.9200]\n",
            "100%|██████████| 5/5 [00:09<00:00,  1.81s/it, accuracy=1.0000]\n"
          ]
        },
        {
          "output_type": "stream",
          "name": "stdout",
          "text": [
            "\n",
            "Training Loss: 0.710 Training Accuracy: 0.760\n",
            "Validation Loss: 1.345 Validation Accuracy: 0.700\n",
            "\n",
            " Epoch 9 / 400\n"
          ]
        },
        {
          "output_type": "stream",
          "name": "stderr",
          "text": [
            "100%|██████████| 5/5 [00:05<00:00,  1.16s/it, accuracy=0.8200]\n",
            "100%|██████████| 5/5 [00:08<00:00,  1.78s/it, accuracy=0.0000]\n"
          ]
        },
        {
          "output_type": "stream",
          "name": "stdout",
          "text": [
            "\n",
            "Training Loss: 0.456 Training Accuracy: 0.836\n",
            "Validation Loss: 3.166 Validation Accuracy: 0.325\n",
            "\n",
            " Epoch 10 / 400\n"
          ]
        },
        {
          "output_type": "stream",
          "name": "stderr",
          "text": [
            "100%|██████████| 5/5 [00:05<00:00,  1.16s/it, accuracy=0.7400]\n",
            "100%|██████████| 5/5 [00:08<00:00,  1.78s/it, accuracy=1.0000]\n"
          ]
        },
        {
          "output_type": "stream",
          "name": "stdout",
          "text": [
            "\n",
            "Training Loss: 0.632 Training Accuracy: 0.768\n",
            "Validation Loss: 0.968 Validation Accuracy: 0.725\n",
            "\n",
            " Epoch 11 / 400\n"
          ]
        },
        {
          "output_type": "stream",
          "name": "stderr",
          "text": [
            "100%|██████████| 5/5 [00:05<00:00,  1.17s/it, accuracy=0.8600]\n",
            "100%|██████████| 5/5 [00:09<00:00,  1.81s/it, accuracy=1.0000]\n"
          ]
        },
        {
          "output_type": "stream",
          "name": "stdout",
          "text": [
            "\n",
            "Training Loss: 0.521 Training Accuracy: 0.812\n",
            "Validation Loss: 1.308 Validation Accuracy: 0.650\n",
            "\n",
            " Epoch 12 / 400\n"
          ]
        },
        {
          "output_type": "stream",
          "name": "stderr",
          "text": [
            "100%|██████████| 5/5 [00:05<00:00,  1.19s/it, accuracy=0.8800]\n",
            "100%|██████████| 5/5 [00:09<00:00,  1.82s/it, accuracy=0.0000]\n"
          ]
        },
        {
          "output_type": "stream",
          "name": "stdout",
          "text": [
            "\n",
            "Training Loss: 0.279 Training Accuracy: 0.892\n",
            "Validation Loss: 3.296 Validation Accuracy: 0.475\n",
            "\n",
            " Epoch 13 / 400\n"
          ]
        },
        {
          "output_type": "stream",
          "name": "stderr",
          "text": [
            "100%|██████████| 5/5 [00:05<00:00,  1.18s/it, accuracy=0.9400]\n",
            "100%|██████████| 5/5 [00:09<00:00,  1.82s/it, accuracy=1.0000]\n"
          ]
        },
        {
          "output_type": "stream",
          "name": "stdout",
          "text": [
            "\n",
            "Training Loss: 0.262 Training Accuracy: 0.932\n",
            "Validation Loss: 2.387 Validation Accuracy: 0.625\n",
            "\n",
            " Epoch 14 / 400\n"
          ]
        },
        {
          "output_type": "stream",
          "name": "stderr",
          "text": [
            "100%|██████████| 5/5 [00:05<00:00,  1.18s/it, accuracy=1.0000]\n",
            "100%|██████████| 5/5 [00:09<00:00,  1.81s/it, accuracy=1.0000]\n"
          ]
        },
        {
          "output_type": "stream",
          "name": "stdout",
          "text": [
            "\n",
            "Training Loss: 0.173 Training Accuracy: 0.960\n",
            "Validation Loss: 2.167 Validation Accuracy: 0.625\n",
            "\n",
            " Epoch 15 / 400\n"
          ]
        },
        {
          "output_type": "stream",
          "name": "stderr",
          "text": [
            "100%|██████████| 5/5 [00:05<00:00,  1.17s/it, accuracy=0.9800]\n",
            "100%|██████████| 5/5 [00:08<00:00,  1.80s/it, accuracy=0.0000]\n"
          ]
        },
        {
          "output_type": "stream",
          "name": "stdout",
          "text": [
            "\n",
            "Training Loss: 0.119 Training Accuracy: 0.960\n",
            "Validation Loss: 6.309 Validation Accuracy: 0.325\n",
            "\n",
            " Epoch 16 / 400\n"
          ]
        },
        {
          "output_type": "stream",
          "name": "stderr",
          "text": [
            "100%|██████████| 5/5 [00:05<00:00,  1.17s/it, accuracy=0.9600]\n",
            "100%|██████████| 5/5 [00:09<00:00,  1.81s/it, accuracy=1.0000]\n"
          ]
        },
        {
          "output_type": "stream",
          "name": "stdout",
          "text": [
            "\n",
            "Training Loss: 0.045 Training Accuracy: 0.988\n",
            "Validation Loss: 4.237 Validation Accuracy: 0.550\n",
            "\n",
            " Epoch 17 / 400\n"
          ]
        },
        {
          "output_type": "stream",
          "name": "stderr",
          "text": [
            "100%|██████████| 5/5 [00:05<00:00,  1.17s/it, accuracy=1.0000]\n",
            "100%|██████████| 5/5 [00:09<00:00,  1.82s/it, accuracy=0.0000]\n"
          ]
        },
        {
          "output_type": "stream",
          "name": "stdout",
          "text": [
            "\n",
            "Training Loss: 0.084 Training Accuracy: 0.972\n",
            "Validation Loss: 4.466 Validation Accuracy: 0.400\n",
            "\n",
            " Epoch 18 / 400\n"
          ]
        },
        {
          "output_type": "stream",
          "name": "stderr",
          "text": [
            "100%|██████████| 5/5 [00:05<00:00,  1.18s/it, accuracy=1.0000]\n",
            "100%|██████████| 5/5 [00:09<00:00,  1.82s/it, accuracy=0.0000]\n"
          ]
        },
        {
          "output_type": "stream",
          "name": "stdout",
          "text": [
            "\n",
            "Training Loss: 0.073 Training Accuracy: 0.968\n",
            "Validation Loss: 4.924 Validation Accuracy: 0.400\n",
            "\n",
            " Epoch 19 / 400\n"
          ]
        },
        {
          "output_type": "stream",
          "name": "stderr",
          "text": [
            "100%|██████████| 5/5 [00:05<00:00,  1.18s/it, accuracy=1.0000]\n",
            "100%|██████████| 5/5 [00:09<00:00,  1.82s/it, accuracy=1.0000]\n"
          ]
        },
        {
          "output_type": "stream",
          "name": "stdout",
          "text": [
            "\n",
            "Training Loss: 0.032 Training Accuracy: 0.992\n",
            "Validation Loss: 5.571 Validation Accuracy: 0.600\n",
            "\n",
            " Epoch 20 / 400\n"
          ]
        },
        {
          "output_type": "stream",
          "name": "stderr",
          "text": [
            "100%|██████████| 5/5 [00:05<00:00,  1.18s/it, accuracy=0.9400]\n",
            "100%|██████████| 5/5 [00:09<00:00,  1.81s/it, accuracy=0.0000]\n"
          ]
        },
        {
          "output_type": "stream",
          "name": "stdout",
          "text": [
            "\n",
            "Training Loss: 0.030 Training Accuracy: 0.984\n",
            "Validation Loss: 10.836 Validation Accuracy: 0.475\n",
            "\n",
            " Epoch 21 / 400\n"
          ]
        },
        {
          "output_type": "stream",
          "name": "stderr",
          "text": [
            "100%|██████████| 5/5 [00:05<00:00,  1.18s/it, accuracy=0.9600]\n",
            "100%|██████████| 5/5 [00:09<00:00,  1.81s/it, accuracy=0.0000]\n"
          ]
        },
        {
          "output_type": "stream",
          "name": "stdout",
          "text": [
            "\n",
            "Training Loss: 0.134 Training Accuracy: 0.980\n",
            "Validation Loss: 8.671 Validation Accuracy: 0.400\n",
            "\n",
            " Epoch 22 / 400\n"
          ]
        },
        {
          "output_type": "stream",
          "name": "stderr",
          "text": [
            "100%|██████████| 5/5 [00:05<00:00,  1.18s/it, accuracy=0.9600]\n",
            "100%|██████████| 5/5 [00:09<00:00,  1.82s/it, accuracy=1.0000]\n"
          ]
        },
        {
          "output_type": "stream",
          "name": "stdout",
          "text": [
            "\n",
            "Training Loss: 0.249 Training Accuracy: 0.956\n",
            "Validation Loss: 3.121 Validation Accuracy: 0.725\n",
            "\n",
            " Epoch 23 / 400\n"
          ]
        },
        {
          "output_type": "stream",
          "name": "stderr",
          "text": [
            "100%|██████████| 5/5 [00:05<00:00,  1.17s/it, accuracy=0.9600]\n",
            "100%|██████████| 5/5 [00:09<00:00,  1.81s/it, accuracy=1.0000]\n"
          ]
        },
        {
          "output_type": "stream",
          "name": "stdout",
          "text": [
            "\n",
            "Training Loss: 0.139 Training Accuracy: 0.968\n",
            "Validation Loss: 4.193 Validation Accuracy: 0.525\n",
            "\n",
            " Epoch 24 / 400\n"
          ]
        },
        {
          "output_type": "stream",
          "name": "stderr",
          "text": [
            "100%|██████████| 5/5 [00:05<00:00,  1.18s/it, accuracy=0.9800]\n",
            "100%|██████████| 5/5 [00:09<00:00,  1.81s/it, accuracy=1.0000]\n"
          ]
        },
        {
          "output_type": "stream",
          "name": "stdout",
          "text": [
            "\n",
            "Training Loss: 0.150 Training Accuracy: 0.968\n",
            "Validation Loss: 3.350 Validation Accuracy: 0.600\n",
            "\n",
            " Epoch 25 / 400\n"
          ]
        },
        {
          "output_type": "stream",
          "name": "stderr",
          "text": [
            "100%|██████████| 5/5 [00:05<00:00,  1.18s/it, accuracy=0.9600]\n",
            "100%|██████████| 5/5 [00:09<00:00,  1.81s/it, accuracy=1.0000]\n"
          ]
        },
        {
          "output_type": "stream",
          "name": "stdout",
          "text": [
            "\n",
            "Training Loss: 0.060 Training Accuracy: 0.976\n",
            "Validation Loss: 2.344 Validation Accuracy: 0.650\n",
            "\n",
            " Epoch 26 / 400\n"
          ]
        },
        {
          "output_type": "stream",
          "name": "stderr",
          "text": [
            "100%|██████████| 5/5 [00:05<00:00,  1.17s/it, accuracy=1.0000]\n",
            "100%|██████████| 5/5 [00:09<00:00,  1.81s/it, accuracy=0.0000]\n"
          ]
        },
        {
          "output_type": "stream",
          "name": "stdout",
          "text": [
            "\n",
            "Training Loss: 0.034 Training Accuracy: 1.000\n",
            "Validation Loss: 5.102 Validation Accuracy: 0.450\n",
            "\n",
            " Epoch 27 / 400\n"
          ]
        },
        {
          "output_type": "stream",
          "name": "stderr",
          "text": [
            "100%|██████████| 5/5 [00:05<00:00,  1.18s/it, accuracy=1.0000]\n",
            "100%|██████████| 5/5 [00:09<00:00,  1.81s/it, accuracy=1.0000]\n"
          ]
        },
        {
          "output_type": "stream",
          "name": "stdout",
          "text": [
            "\n",
            "Training Loss: 0.038 Training Accuracy: 0.992\n",
            "Validation Loss: 4.029 Validation Accuracy: 0.675\n",
            "\n",
            " Epoch 28 / 400\n"
          ]
        },
        {
          "output_type": "stream",
          "name": "stderr",
          "text": [
            "100%|██████████| 5/5 [00:05<00:00,  1.17s/it, accuracy=1.0000]\n",
            "100%|██████████| 5/5 [00:09<00:00,  1.81s/it, accuracy=1.0000]\n"
          ]
        },
        {
          "output_type": "stream",
          "name": "stdout",
          "text": [
            "\n",
            "Training Loss: 0.019 Training Accuracy: 0.992\n",
            "Validation Loss: 4.439 Validation Accuracy: 0.600\n",
            "\n",
            " Epoch 29 / 400\n"
          ]
        },
        {
          "output_type": "stream",
          "name": "stderr",
          "text": [
            "100%|██████████| 5/5 [00:05<00:00,  1.18s/it, accuracy=1.0000]\n",
            "100%|██████████| 5/5 [00:09<00:00,  1.81s/it, accuracy=1.0000]\n"
          ]
        },
        {
          "output_type": "stream",
          "name": "stdout",
          "text": [
            "\n",
            "Training Loss: 0.001 Training Accuracy: 1.000\n",
            "Validation Loss: 5.489 Validation Accuracy: 0.575\n",
            "\n",
            " Epoch 30 / 400\n"
          ]
        },
        {
          "output_type": "stream",
          "name": "stderr",
          "text": [
            "100%|██████████| 5/5 [00:05<00:00,  1.18s/it, accuracy=1.0000]\n",
            "100%|██████████| 5/5 [00:09<00:00,  1.82s/it, accuracy=0.0000]\n"
          ]
        },
        {
          "output_type": "stream",
          "name": "stdout",
          "text": [
            "\n",
            "Training Loss: 0.006 Training Accuracy: 1.000\n",
            "Validation Loss: 6.867 Validation Accuracy: 0.375\n",
            "\n",
            " Epoch 31 / 400\n"
          ]
        },
        {
          "output_type": "stream",
          "name": "stderr",
          "text": [
            "100%|██████████| 5/5 [00:05<00:00,  1.18s/it, accuracy=1.0000]\n",
            "100%|██████████| 5/5 [00:09<00:00,  1.83s/it, accuracy=0.0000]\n"
          ]
        },
        {
          "output_type": "stream",
          "name": "stdout",
          "text": [
            "\n",
            "Training Loss: 0.026 Training Accuracy: 0.996\n",
            "Validation Loss: 8.833 Validation Accuracy: 0.475\n",
            "\n",
            " Epoch 32 / 400\n"
          ]
        },
        {
          "output_type": "stream",
          "name": "stderr",
          "text": [
            "100%|██████████| 5/5 [00:05<00:00,  1.18s/it, accuracy=1.0000]\n",
            "100%|██████████| 5/5 [00:09<00:00,  1.82s/it, accuracy=1.0000]\n"
          ]
        },
        {
          "output_type": "stream",
          "name": "stdout",
          "text": [
            "\n",
            "Training Loss: 0.017 Training Accuracy: 0.992\n",
            "Validation Loss: 5.977 Validation Accuracy: 0.575\n",
            "\n",
            " Epoch 33 / 400\n"
          ]
        },
        {
          "output_type": "stream",
          "name": "stderr",
          "text": [
            "100%|██████████| 5/5 [00:05<00:00,  1.18s/it, accuracy=1.0000]\n",
            "100%|██████████| 5/5 [00:09<00:00,  1.82s/it, accuracy=0.0000]\n"
          ]
        },
        {
          "output_type": "stream",
          "name": "stdout",
          "text": [
            "\n",
            "Training Loss: 0.046 Training Accuracy: 0.984\n",
            "Validation Loss: 9.468 Validation Accuracy: 0.375\n",
            "\n",
            " Epoch 34 / 400\n"
          ]
        },
        {
          "output_type": "stream",
          "name": "stderr",
          "text": [
            "100%|██████████| 5/5 [00:05<00:00,  1.18s/it, accuracy=1.0000]\n",
            "100%|██████████| 5/5 [00:09<00:00,  1.82s/it, accuracy=1.0000]\n"
          ]
        },
        {
          "output_type": "stream",
          "name": "stdout",
          "text": [
            "\n",
            "Training Loss: 0.011 Training Accuracy: 1.000\n",
            "Validation Loss: 5.472 Validation Accuracy: 0.700\n",
            "\n",
            " Epoch 35 / 400\n"
          ]
        },
        {
          "output_type": "stream",
          "name": "stderr",
          "text": [
            "100%|██████████| 5/5 [00:05<00:00,  1.18s/it, accuracy=1.0000]\n",
            "100%|██████████| 5/5 [00:09<00:00,  1.81s/it, accuracy=1.0000]\n"
          ]
        },
        {
          "output_type": "stream",
          "name": "stdout",
          "text": [
            "\n",
            "Training Loss: 0.032 Training Accuracy: 0.988\n",
            "Validation Loss: 5.375 Validation Accuracy: 0.700\n",
            "\n",
            " Epoch 36 / 400\n"
          ]
        },
        {
          "output_type": "stream",
          "name": "stderr",
          "text": [
            "100%|██████████| 5/5 [00:05<00:00,  1.18s/it, accuracy=1.0000]\n",
            "100%|██████████| 5/5 [00:09<00:00,  1.81s/it, accuracy=0.0000]\n"
          ]
        },
        {
          "output_type": "stream",
          "name": "stdout",
          "text": [
            "\n",
            "Training Loss: 0.012 Training Accuracy: 0.996\n",
            "Validation Loss: 6.432 Validation Accuracy: 0.525\n",
            "\n",
            " Epoch 37 / 400\n"
          ]
        },
        {
          "output_type": "stream",
          "name": "stderr",
          "text": [
            "100%|██████████| 5/5 [00:05<00:00,  1.18s/it, accuracy=1.0000]\n",
            "100%|██████████| 5/5 [00:09<00:00,  1.81s/it, accuracy=1.0000]\n"
          ]
        },
        {
          "output_type": "stream",
          "name": "stdout",
          "text": [
            "\n",
            "Training Loss: 0.002 Training Accuracy: 1.000\n",
            "Validation Loss: 4.638 Validation Accuracy: 0.700\n",
            "\n",
            " Epoch 38 / 400\n"
          ]
        },
        {
          "output_type": "stream",
          "name": "stderr",
          "text": [
            "100%|██████████| 5/5 [00:05<00:00,  1.18s/it, accuracy=1.0000]\n",
            "100%|██████████| 5/5 [00:09<00:00,  1.81s/it, accuracy=1.0000]\n"
          ]
        },
        {
          "output_type": "stream",
          "name": "stdout",
          "text": [
            "\n",
            "Training Loss: 0.002 Training Accuracy: 1.000\n",
            "Validation Loss: 5.011 Validation Accuracy: 0.700\n",
            "\n",
            " Epoch 39 / 400\n"
          ]
        },
        {
          "output_type": "stream",
          "name": "stderr",
          "text": [
            "100%|██████████| 5/5 [00:05<00:00,  1.18s/it, accuracy=0.9800]\n",
            "100%|██████████| 5/5 [00:09<00:00,  1.82s/it, accuracy=1.0000]\n"
          ]
        },
        {
          "output_type": "stream",
          "name": "stdout",
          "text": [
            "\n",
            "Training Loss: 0.013 Training Accuracy: 0.992\n",
            "Validation Loss: 6.191 Validation Accuracy: 0.700\n",
            "\n",
            " Epoch 40 / 400\n"
          ]
        },
        {
          "output_type": "stream",
          "name": "stderr",
          "text": [
            "100%|██████████| 5/5 [00:05<00:00,  1.17s/it, accuracy=0.9800]\n",
            "100%|██████████| 5/5 [00:09<00:00,  1.81s/it, accuracy=0.0000]\n"
          ]
        },
        {
          "output_type": "stream",
          "name": "stdout",
          "text": [
            "\n",
            "Training Loss: 0.011 Training Accuracy: 0.996\n",
            "Validation Loss: 7.264 Validation Accuracy: 0.400\n",
            "\n",
            " Epoch 41 / 400\n"
          ]
        },
        {
          "output_type": "stream",
          "name": "stderr",
          "text": [
            "100%|██████████| 5/5 [00:05<00:00,  1.18s/it, accuracy=1.0000]\n",
            "100%|██████████| 5/5 [00:09<00:00,  1.81s/it, accuracy=0.0000]\n"
          ]
        },
        {
          "output_type": "stream",
          "name": "stdout",
          "text": [
            "\n",
            "Training Loss: 0.039 Training Accuracy: 0.996\n",
            "Validation Loss: 7.787 Validation Accuracy: 0.325\n",
            "\n",
            " Epoch 42 / 400\n"
          ]
        },
        {
          "output_type": "stream",
          "name": "stderr",
          "text": [
            "100%|██████████| 5/5 [00:05<00:00,  1.18s/it, accuracy=0.9800]\n",
            "100%|██████████| 5/5 [00:09<00:00,  1.81s/it, accuracy=1.0000]\n"
          ]
        },
        {
          "output_type": "stream",
          "name": "stdout",
          "text": [
            "\n",
            "Training Loss: 0.039 Training Accuracy: 0.988\n",
            "Validation Loss: 5.237 Validation Accuracy: 0.550\n",
            "\n",
            " Epoch 43 / 400\n"
          ]
        },
        {
          "output_type": "stream",
          "name": "stderr",
          "text": [
            "100%|██████████| 5/5 [00:05<00:00,  1.18s/it, accuracy=1.0000]\n",
            "100%|██████████| 5/5 [00:09<00:00,  1.82s/it, accuracy=1.0000]\n"
          ]
        },
        {
          "output_type": "stream",
          "name": "stdout",
          "text": [
            "\n",
            "Training Loss: 0.015 Training Accuracy: 0.996\n",
            "Validation Loss: 4.015 Validation Accuracy: 0.650\n",
            "\n",
            " Epoch 44 / 400\n"
          ]
        },
        {
          "output_type": "stream",
          "name": "stderr",
          "text": [
            "100%|██████████| 5/5 [00:05<00:00,  1.18s/it, accuracy=1.0000]\n",
            "100%|██████████| 5/5 [00:09<00:00,  1.81s/it, accuracy=1.0000]\n"
          ]
        },
        {
          "output_type": "stream",
          "name": "stdout",
          "text": [
            "\n",
            "Training Loss: 0.020 Training Accuracy: 0.992\n",
            "Validation Loss: 4.230 Validation Accuracy: 0.675\n",
            "\n",
            " Epoch 45 / 400\n"
          ]
        },
        {
          "output_type": "stream",
          "name": "stderr",
          "text": [
            "100%|██████████| 5/5 [00:05<00:00,  1.18s/it, accuracy=1.0000]\n",
            "100%|██████████| 5/5 [00:09<00:00,  1.81s/it, accuracy=1.0000]\n"
          ]
        },
        {
          "output_type": "stream",
          "name": "stdout",
          "text": [
            "\n",
            "Training Loss: 0.004 Training Accuracy: 1.000\n",
            "Validation Loss: 4.425 Validation Accuracy: 0.675\n",
            "\n",
            " Epoch 46 / 400\n"
          ]
        },
        {
          "output_type": "stream",
          "name": "stderr",
          "text": [
            "100%|██████████| 5/5 [00:05<00:00,  1.18s/it, accuracy=1.0000]\n",
            "100%|██████████| 5/5 [00:09<00:00,  1.81s/it, accuracy=0.0000]\n"
          ]
        },
        {
          "output_type": "stream",
          "name": "stdout",
          "text": [
            "\n",
            "Training Loss: 0.010 Training Accuracy: 0.996\n",
            "Validation Loss: 9.648 Validation Accuracy: 0.500\n",
            "\n",
            " Epoch 47 / 400\n"
          ]
        },
        {
          "output_type": "stream",
          "name": "stderr",
          "text": [
            "100%|██████████| 5/5 [00:05<00:00,  1.17s/it, accuracy=1.0000]\n",
            "100%|██████████| 5/5 [00:09<00:00,  1.82s/it, accuracy=1.0000]\n"
          ]
        },
        {
          "output_type": "stream",
          "name": "stdout",
          "text": [
            "\n",
            "Training Loss: 0.003 Training Accuracy: 1.000\n",
            "Validation Loss: 5.206 Validation Accuracy: 0.675\n",
            "\n",
            " Epoch 48 / 400\n"
          ]
        },
        {
          "output_type": "stream",
          "name": "stderr",
          "text": [
            "100%|██████████| 5/5 [00:05<00:00,  1.18s/it, accuracy=1.0000]\n",
            "100%|██████████| 5/5 [00:09<00:00,  1.82s/it, accuracy=1.0000]\n"
          ]
        },
        {
          "output_type": "stream",
          "name": "stdout",
          "text": [
            "\n",
            "Training Loss: 0.002 Training Accuracy: 1.000\n",
            "Validation Loss: 5.554 Validation Accuracy: 0.675\n",
            "\n",
            " Epoch 49 / 400\n"
          ]
        },
        {
          "output_type": "stream",
          "name": "stderr",
          "text": [
            "100%|██████████| 5/5 [00:05<00:00,  1.17s/it, accuracy=1.0000]\n",
            "100%|██████████| 5/5 [00:09<00:00,  1.81s/it, accuracy=1.0000]\n"
          ]
        },
        {
          "output_type": "stream",
          "name": "stdout",
          "text": [
            "\n",
            "Training Loss: 0.001 Training Accuracy: 1.000\n",
            "Validation Loss: 5.753 Validation Accuracy: 0.675\n",
            "\n",
            " Epoch 50 / 400\n"
          ]
        },
        {
          "output_type": "stream",
          "name": "stderr",
          "text": [
            "100%|██████████| 5/5 [00:05<00:00,  1.18s/it, accuracy=1.0000]\n",
            "100%|██████████| 5/5 [00:09<00:00,  1.81s/it, accuracy=0.0000]\n"
          ]
        },
        {
          "output_type": "stream",
          "name": "stdout",
          "text": [
            "\n",
            "Training Loss: 0.000 Training Accuracy: 1.000\n",
            "Validation Loss: 12.460 Validation Accuracy: 0.500\n",
            "\n",
            " Epoch 51 / 400\n"
          ]
        },
        {
          "output_type": "stream",
          "name": "stderr",
          "text": [
            "100%|██████████| 5/5 [00:05<00:00,  1.17s/it, accuracy=1.0000]\n",
            "100%|██████████| 5/5 [00:09<00:00,  1.81s/it, accuracy=1.0000]\n"
          ]
        },
        {
          "output_type": "stream",
          "name": "stdout",
          "text": [
            "\n",
            "Training Loss: 0.000 Training Accuracy: 1.000\n",
            "Validation Loss: 5.995 Validation Accuracy: 0.675\n",
            "\n",
            " Epoch 52 / 400\n"
          ]
        },
        {
          "output_type": "stream",
          "name": "stderr",
          "text": [
            "100%|██████████| 5/5 [00:05<00:00,  1.18s/it, accuracy=1.0000]\n",
            "100%|██████████| 5/5 [00:09<00:00,  1.81s/it, accuracy=1.0000]\n"
          ]
        },
        {
          "output_type": "stream",
          "name": "stdout",
          "text": [
            "\n",
            "Training Loss: 0.000 Training Accuracy: 1.000\n",
            "Validation Loss: 6.092 Validation Accuracy: 0.675\n",
            "\n",
            " Epoch 53 / 400\n"
          ]
        },
        {
          "output_type": "stream",
          "name": "stderr",
          "text": [
            "100%|██████████| 5/5 [00:05<00:00,  1.18s/it, accuracy=1.0000]\n",
            "100%|██████████| 5/5 [00:09<00:00,  1.81s/it, accuracy=0.0000]\n"
          ]
        },
        {
          "output_type": "stream",
          "name": "stdout",
          "text": [
            "\n",
            "Training Loss: 0.000 Training Accuracy: 1.000\n",
            "Validation Loss: 9.844 Validation Accuracy: 0.500\n",
            "\n",
            " Epoch 54 / 400\n"
          ]
        },
        {
          "output_type": "stream",
          "name": "stderr",
          "text": [
            "100%|██████████| 5/5 [00:05<00:00,  1.17s/it, accuracy=1.0000]\n",
            "100%|██████████| 5/5 [00:09<00:00,  1.81s/it, accuracy=0.0000]\n"
          ]
        },
        {
          "output_type": "stream",
          "name": "stdout",
          "text": [
            "\n",
            "Training Loss: 0.000 Training Accuracy: 1.000\n",
            "Validation Loss: 8.809 Validation Accuracy: 0.500\n",
            "\n",
            " Epoch 55 / 400\n"
          ]
        },
        {
          "output_type": "stream",
          "name": "stderr",
          "text": [
            "100%|██████████| 5/5 [00:05<00:00,  1.18s/it, accuracy=1.0000]\n",
            "100%|██████████| 5/5 [00:09<00:00,  1.81s/it, accuracy=0.0000]\n"
          ]
        },
        {
          "output_type": "stream",
          "name": "stdout",
          "text": [
            "\n",
            "Training Loss: 0.000 Training Accuracy: 1.000\n",
            "Validation Loss: 8.505 Validation Accuracy: 0.500\n",
            "\n",
            " Epoch 56 / 400\n"
          ]
        },
        {
          "output_type": "stream",
          "name": "stderr",
          "text": [
            "100%|██████████| 5/5 [00:05<00:00,  1.17s/it, accuracy=1.0000]\n",
            "100%|██████████| 5/5 [00:09<00:00,  1.81s/it, accuracy=1.0000]\n"
          ]
        },
        {
          "output_type": "stream",
          "name": "stdout",
          "text": [
            "\n",
            "Training Loss: 0.000 Training Accuracy: 1.000\n",
            "Validation Loss: 6.197 Validation Accuracy: 0.675\n",
            "\n",
            " Epoch 57 / 400\n"
          ]
        },
        {
          "output_type": "stream",
          "name": "stderr",
          "text": [
            "100%|██████████| 5/5 [00:05<00:00,  1.17s/it, accuracy=1.0000]\n",
            "100%|██████████| 5/5 [00:09<00:00,  1.81s/it, accuracy=0.0000]\n"
          ]
        },
        {
          "output_type": "stream",
          "name": "stdout",
          "text": [
            "\n",
            "Training Loss: 0.000 Training Accuracy: 1.000\n",
            "Validation Loss: 9.537 Validation Accuracy: 0.500\n",
            "\n",
            " Epoch 58 / 400\n"
          ]
        },
        {
          "output_type": "stream",
          "name": "stderr",
          "text": [
            "100%|██████████| 5/5 [00:05<00:00,  1.18s/it, accuracy=1.0000]\n",
            "100%|██████████| 5/5 [00:09<00:00,  1.81s/it, accuracy=0.0000]\n"
          ]
        },
        {
          "output_type": "stream",
          "name": "stdout",
          "text": [
            "\n",
            "Training Loss: 0.000 Training Accuracy: 1.000\n",
            "Validation Loss: 6.968 Validation Accuracy: 0.500\n",
            "\n",
            " Epoch 59 / 400\n"
          ]
        },
        {
          "output_type": "stream",
          "name": "stderr",
          "text": [
            "100%|██████████| 5/5 [00:05<00:00,  1.18s/it, accuracy=1.0000]\n",
            "100%|██████████| 5/5 [00:09<00:00,  1.80s/it, accuracy=0.0000]\n"
          ]
        },
        {
          "output_type": "stream",
          "name": "stdout",
          "text": [
            "\n",
            "Training Loss: 0.000 Training Accuracy: 1.000\n",
            "Validation Loss: 13.955 Validation Accuracy: 0.500\n",
            "\n",
            " Epoch 60 / 400\n"
          ]
        },
        {
          "output_type": "stream",
          "name": "stderr",
          "text": [
            "100%|██████████| 5/5 [00:05<00:00,  1.17s/it, accuracy=1.0000]\n",
            "100%|██████████| 5/5 [00:09<00:00,  1.81s/it, accuracy=0.0000]\n"
          ]
        },
        {
          "output_type": "stream",
          "name": "stdout",
          "text": [
            "\n",
            "Training Loss: 0.000 Training Accuracy: 1.000\n",
            "Validation Loss: 9.364 Validation Accuracy: 0.500\n",
            "\n",
            " Epoch 61 / 400\n"
          ]
        },
        {
          "output_type": "stream",
          "name": "stderr",
          "text": [
            "100%|██████████| 5/5 [00:05<00:00,  1.18s/it, accuracy=1.0000]\n",
            "100%|██████████| 5/5 [00:09<00:00,  1.82s/it, accuracy=1.0000]\n"
          ]
        },
        {
          "output_type": "stream",
          "name": "stdout",
          "text": [
            "\n",
            "Training Loss: 0.000 Training Accuracy: 1.000\n",
            "Validation Loss: 6.384 Validation Accuracy: 0.675\n",
            "\n",
            " Epoch 62 / 400\n"
          ]
        },
        {
          "output_type": "stream",
          "name": "stderr",
          "text": [
            "100%|██████████| 5/5 [00:05<00:00,  1.18s/it, accuracy=1.0000]\n",
            "100%|██████████| 5/5 [00:09<00:00,  1.82s/it, accuracy=0.0000]\n"
          ]
        },
        {
          "output_type": "stream",
          "name": "stdout",
          "text": [
            "\n",
            "Training Loss: 0.000 Training Accuracy: 1.000\n",
            "Validation Loss: 10.040 Validation Accuracy: 0.500\n",
            "\n",
            " Epoch 63 / 400\n"
          ]
        },
        {
          "output_type": "stream",
          "name": "stderr",
          "text": [
            "100%|██████████| 5/5 [00:05<00:00,  1.18s/it, accuracy=1.0000]\n",
            "100%|██████████| 5/5 [00:09<00:00,  1.82s/it, accuracy=1.0000]\n"
          ]
        },
        {
          "output_type": "stream",
          "name": "stdout",
          "text": [
            "\n",
            "Training Loss: 0.000 Training Accuracy: 1.000\n",
            "Validation Loss: 6.539 Validation Accuracy: 0.675\n",
            "\n",
            " Epoch 64 / 400\n"
          ]
        },
        {
          "output_type": "stream",
          "name": "stderr",
          "text": [
            "100%|██████████| 5/5 [00:05<00:00,  1.18s/it, accuracy=1.0000]\n",
            "100%|██████████| 5/5 [00:09<00:00,  1.82s/it, accuracy=0.0000]\n"
          ]
        },
        {
          "output_type": "stream",
          "name": "stdout",
          "text": [
            "\n",
            "Training Loss: 0.000 Training Accuracy: 1.000\n",
            "Validation Loss: 10.461 Validation Accuracy: 0.500\n",
            "\n",
            " Epoch 65 / 400\n"
          ]
        },
        {
          "output_type": "stream",
          "name": "stderr",
          "text": [
            "100%|██████████| 5/5 [00:05<00:00,  1.18s/it, accuracy=1.0000]\n",
            "100%|██████████| 5/5 [00:09<00:00,  1.82s/it, accuracy=0.0000]\n"
          ]
        },
        {
          "output_type": "stream",
          "name": "stdout",
          "text": [
            "\n",
            "Training Loss: 0.000 Training Accuracy: 1.000\n",
            "Validation Loss: 8.885 Validation Accuracy: 0.500\n",
            "\n",
            " Epoch 66 / 400\n"
          ]
        },
        {
          "output_type": "stream",
          "name": "stderr",
          "text": [
            "100%|██████████| 5/5 [00:05<00:00,  1.18s/it, accuracy=1.0000]\n",
            "100%|██████████| 5/5 [00:09<00:00,  1.81s/it, accuracy=1.0000]\n"
          ]
        },
        {
          "output_type": "stream",
          "name": "stdout",
          "text": [
            "\n",
            "Training Loss: 0.000 Training Accuracy: 1.000\n",
            "Validation Loss: 6.488 Validation Accuracy: 0.675\n",
            "\n",
            " Epoch 67 / 400\n"
          ]
        },
        {
          "output_type": "stream",
          "name": "stderr",
          "text": [
            "100%|██████████| 5/5 [00:05<00:00,  1.18s/it, accuracy=1.0000]\n",
            "100%|██████████| 5/5 [00:09<00:00,  1.81s/it, accuracy=0.0000]\n"
          ]
        },
        {
          "output_type": "stream",
          "name": "stdout",
          "text": [
            "\n",
            "Training Loss: 0.000 Training Accuracy: 1.000\n",
            "Validation Loss: 10.438 Validation Accuracy: 0.475\n",
            "\n",
            " Epoch 68 / 400\n"
          ]
        },
        {
          "output_type": "stream",
          "name": "stderr",
          "text": [
            "100%|██████████| 5/5 [00:05<00:00,  1.17s/it, accuracy=1.0000]\n",
            "100%|██████████| 5/5 [00:09<00:00,  1.81s/it, accuracy=0.0000]\n"
          ]
        },
        {
          "output_type": "stream",
          "name": "stdout",
          "text": [
            "\n",
            "Training Loss: 0.000 Training Accuracy: 1.000\n",
            "Validation Loss: 9.818 Validation Accuracy: 0.500\n",
            "\n",
            " Epoch 69 / 400\n"
          ]
        },
        {
          "output_type": "stream",
          "name": "stderr",
          "text": [
            "100%|██████████| 5/5 [00:05<00:00,  1.18s/it, accuracy=1.0000]\n",
            "100%|██████████| 5/5 [00:09<00:00,  1.81s/it, accuracy=1.0000]\n"
          ]
        },
        {
          "output_type": "stream",
          "name": "stdout",
          "text": [
            "\n",
            "Training Loss: 0.000 Training Accuracy: 1.000\n",
            "Validation Loss: 6.547 Validation Accuracy: 0.675\n",
            "\n",
            " Epoch 70 / 400\n"
          ]
        },
        {
          "output_type": "stream",
          "name": "stderr",
          "text": [
            "100%|██████████| 5/5 [00:05<00:00,  1.18s/it, accuracy=1.0000]\n",
            "100%|██████████| 5/5 [00:09<00:00,  1.82s/it, accuracy=1.0000]\n"
          ]
        },
        {
          "output_type": "stream",
          "name": "stdout",
          "text": [
            "\n",
            "Training Loss: 0.000 Training Accuracy: 1.000\n",
            "Validation Loss: 6.538 Validation Accuracy: 0.650\n",
            "\n",
            " Epoch 71 / 400\n"
          ]
        },
        {
          "output_type": "stream",
          "name": "stderr",
          "text": [
            "100%|██████████| 5/5 [00:05<00:00,  1.18s/it, accuracy=1.0000]\n",
            "100%|██████████| 5/5 [00:09<00:00,  1.81s/it, accuracy=1.0000]\n"
          ]
        },
        {
          "output_type": "stream",
          "name": "stdout",
          "text": [
            "\n",
            "Training Loss: 0.000 Training Accuracy: 1.000\n",
            "Validation Loss: 6.535 Validation Accuracy: 0.675\n",
            "\n",
            " Epoch 72 / 400\n"
          ]
        },
        {
          "output_type": "stream",
          "name": "stderr",
          "text": [
            "100%|██████████| 5/5 [00:05<00:00,  1.18s/it, accuracy=1.0000]\n",
            "100%|██████████| 5/5 [00:09<00:00,  1.81s/it, accuracy=0.0000]\n"
          ]
        },
        {
          "output_type": "stream",
          "name": "stdout",
          "text": [
            "\n",
            "Training Loss: 0.000 Training Accuracy: 1.000\n",
            "Validation Loss: 15.053 Validation Accuracy: 0.500\n",
            "\n",
            " Epoch 73 / 400\n"
          ]
        },
        {
          "output_type": "stream",
          "name": "stderr",
          "text": [
            "100%|██████████| 5/5 [00:05<00:00,  1.18s/it, accuracy=1.0000]\n",
            "100%|██████████| 5/5 [00:09<00:00,  1.81s/it, accuracy=0.0000]\n"
          ]
        },
        {
          "output_type": "stream",
          "name": "stdout",
          "text": [
            "\n",
            "Training Loss: 0.000 Training Accuracy: 1.000\n",
            "Validation Loss: 14.853 Validation Accuracy: 0.475\n",
            "\n",
            " Epoch 74 / 400\n"
          ]
        },
        {
          "output_type": "stream",
          "name": "stderr",
          "text": [
            "100%|██████████| 5/5 [00:05<00:00,  1.18s/it, accuracy=1.0000]\n",
            "100%|██████████| 5/5 [00:09<00:00,  1.81s/it, accuracy=1.0000]\n"
          ]
        },
        {
          "output_type": "stream",
          "name": "stdout",
          "text": [
            "\n",
            "Training Loss: 0.000 Training Accuracy: 1.000\n",
            "Validation Loss: 6.437 Validation Accuracy: 0.675\n",
            "\n",
            " Epoch 75 / 400\n"
          ]
        },
        {
          "output_type": "stream",
          "name": "stderr",
          "text": [
            "100%|██████████| 5/5 [00:05<00:00,  1.18s/it, accuracy=1.0000]\n",
            "100%|██████████| 5/5 [00:09<00:00,  1.80s/it, accuracy=1.0000]\n"
          ]
        },
        {
          "output_type": "stream",
          "name": "stdout",
          "text": [
            "\n",
            "Training Loss: 0.000 Training Accuracy: 1.000\n",
            "Validation Loss: 6.368 Validation Accuracy: 0.675\n",
            "\n",
            " Epoch 76 / 400\n"
          ]
        },
        {
          "output_type": "stream",
          "name": "stderr",
          "text": [
            "100%|██████████| 5/5 [00:05<00:00,  1.17s/it, accuracy=1.0000]\n",
            "100%|██████████| 5/5 [00:09<00:00,  1.81s/it, accuracy=1.0000]\n"
          ]
        },
        {
          "output_type": "stream",
          "name": "stdout",
          "text": [
            "\n",
            "Training Loss: 0.000 Training Accuracy: 1.000\n",
            "Validation Loss: 6.494 Validation Accuracy: 0.675\n",
            "\n",
            " Epoch 77 / 400\n"
          ]
        },
        {
          "output_type": "stream",
          "name": "stderr",
          "text": [
            "100%|██████████| 5/5 [00:05<00:00,  1.17s/it, accuracy=1.0000]\n",
            "100%|██████████| 5/5 [00:09<00:00,  1.81s/it, accuracy=0.0000]\n"
          ]
        },
        {
          "output_type": "stream",
          "name": "stdout",
          "text": [
            "\n",
            "Training Loss: 0.000 Training Accuracy: 1.000\n",
            "Validation Loss: 13.035 Validation Accuracy: 0.500\n",
            "\n",
            " Epoch 78 / 400\n"
          ]
        },
        {
          "output_type": "stream",
          "name": "stderr",
          "text": [
            "100%|██████████| 5/5 [00:05<00:00,  1.18s/it, accuracy=1.0000]\n",
            "100%|██████████| 5/5 [00:09<00:00,  1.81s/it, accuracy=1.0000]\n"
          ]
        },
        {
          "output_type": "stream",
          "name": "stdout",
          "text": [
            "\n",
            "Training Loss: 0.000 Training Accuracy: 1.000\n",
            "Validation Loss: 6.531 Validation Accuracy: 0.675\n",
            "\n",
            " Epoch 79 / 400\n"
          ]
        },
        {
          "output_type": "stream",
          "name": "stderr",
          "text": [
            "100%|██████████| 5/5 [00:05<00:00,  1.17s/it, accuracy=1.0000]\n",
            "100%|██████████| 5/5 [00:09<00:00,  1.81s/it, accuracy=0.0000]\n"
          ]
        },
        {
          "output_type": "stream",
          "name": "stdout",
          "text": [
            "\n",
            "Training Loss: 0.000 Training Accuracy: 1.000\n",
            "Validation Loss: 7.466 Validation Accuracy: 0.500\n",
            "\n",
            " Epoch 80 / 400\n"
          ]
        },
        {
          "output_type": "stream",
          "name": "stderr",
          "text": [
            "100%|██████████| 5/5 [00:05<00:00,  1.18s/it, accuracy=1.0000]\n",
            "100%|██████████| 5/5 [00:09<00:00,  1.81s/it, accuracy=1.0000]\n"
          ]
        },
        {
          "output_type": "stream",
          "name": "stdout",
          "text": [
            "\n",
            "Training Loss: 0.000 Training Accuracy: 1.000\n",
            "Validation Loss: 6.479 Validation Accuracy: 0.675\n",
            "\n",
            " Epoch 81 / 400\n"
          ]
        },
        {
          "output_type": "stream",
          "name": "stderr",
          "text": [
            " 20%|██        | 1/5 [00:02<00:09,  2.34s/it, accuracy=1.0000]\n"
          ]
        }
      ]
    },
    {
      "cell_type": "code",
      "source": [
        "import matplotlib.pyplot as plt\n",
        "\n",
        "def plot_metrics(train_accuracies, train_losses, valid_accuracies, valid_losses):\n",
        "    # plot train and valid accuracy on the same plot\n",
        "    plt.figure(figsize=(8,4))\n",
        "    plt.plot(train_accuracies, label='Train Accuracy')\n",
        "    plt.plot(valid_accuracies, label='Valid Accuracy')\n",
        "    plt.xlabel('Steps (x4)')\n",
        "    plt.ylabel('Accuracy')\n",
        "    plt.title('Train and Valid Accuracy')\n",
        "    plt.grid()\n",
        "    plt.legend()\n",
        "    plt.savefig('accuracy.png')\n",
        "    plt.show()\n",
        "\n",
        "    # plot train and valid loss on the same plot\n",
        "    plt.figure(figsize=(8,4))\n",
        "    plt.plot(train_losses, label='Train Loss')\n",
        "    plt.plot(valid_losses, label='Valid Loss')\n",
        "    plt.xlabel('Steps (x4)')\n",
        "    plt.ylabel('Loss')\n",
        "    plt.title('Train and Valid Loss')\n",
        "    plt.grid()\n",
        "    plt.legend()\n",
        "    plt.savefig('loss.png')\n",
        "    plt.show()\n",
        "\n",
        "plot_metrics(*history)"
      ],
      "metadata": {
        "colab": {
          "base_uri": "https://localhost:8080/",
          "height": 803
        },
        "id": "VXL832qIPC0A",
        "outputId": "a7fe829d-06bd-49ad-a838-b183eaaee442"
      },
      "execution_count": 29,
      "outputs": [
        {
          "output_type": "display_data",
          "data": {
            "text/plain": [
              "<Figure size 800x400 with 1 Axes>"
            ],
            "image/png": "[encoded data removed]"
          },
          "metadata": {}
        },
        {
          "output_type": "display_data",
          "data": {
            "text/plain": [
              "<Figure size 800x400 with 1 Axes>"
            ],
            "image/png": "[encoded data removed]"
          },
          "metadata": {}
        }
      ]
    },
    {
      "cell_type": "code",
      "source": [
        "def save_prototypes(input_examples, model, tokenizer, output_name, tokenizer_length=100):\n",
        "  proto_examples, proto_labels = input_examples\n",
        "  proto_dict = {label:[] for label in list(set(proto_labels))}\n",
        "  with torch.no_grad():\n",
        "    for data in proto_examples:\n",
        "      feature = tokenizer.encode_plus(\n",
        "                data.text,\n",
        "                max_length = tokenizer_length,\n",
        "                padding='max_length',\n",
        "                truncation=True,\n",
        "                return_attention_mask=True,\n",
        "                return_token_type_ids=False,\n",
        "                add_special_tokens = True,\n",
        "                return_tensors = 'pt',\n",
        "                )\n",
        "      input_ids = feature['input_ids'].to(device)\n",
        "      input_ids_shape = input_ids.size()\n",
        "      attention_mask = feature['attention_mask'].to(device)\n",
        "      input_ids = input_ids.view(1,1,*input_ids_shape)  \n",
        "      attention_mask = attention_mask.view(1,1,*input_ids_shape)\n",
        "      input_embeding = model(input_ids, attention_mask)\n",
        "      proto_dict[data.label].append(input_embeding)\n",
        "  for key, value in proto_dict.items():\n",
        "    proto_dict[key] = torch.mean(torch.cat(value, dim=1),1)\n",
        "  torch.save({\n",
        "      'model_state_dic': model.state_dict(),\n",
        "      'prototypes': proto_dict\n",
        "    }, output_name)\n",
        "\n",
        "# bert = AutoModel.from_pretrained('yiyanghkust/finbert-tone')\n",
        "# tokenizer = BertTokenizerFast.from_pretrained('yiyanghkust/finbert-tone',do_lower_case=True)\n",
        "output_file_name = \"weights.pth\"\n",
        "model = PrototypicalNetwork(bert)\n",
        "state_dict = torch.load('saved_weights.pt')\n",
        "model.load_state_dict(state_dict)\n",
        "model.to(device)\n",
        "save_prototypes(train_examples, model, tokenizer, output_file_name, tokenizer_length)"
      ],
      "metadata": {
        "id": "dGi28FYgBM23"
      },
      "execution_count": 30,
      "outputs": []
    },
    {
      "cell_type": "code",
      "source": [
        "def evaluating(tokenizer_length,n_ways, k_shots):\n",
        "  # Example usage:\n",
        "  crypto_data = CryptocurrencyDatasetEval(train_examples,val_examples, tokenizer, tokenizer_length, n_ways, k_shots)\n",
        "  data_loader = DataLoader(crypto_data, batch_size=5, shuffle=False)\n",
        "  \n",
        "  valid_loss, valid_accuracy, labels, predicted_labels = test(model, data_loader)\n",
        "  labels = [crypto_data.id_to_proto_classes[i] for i in labels]\n",
        "  predicted_labels = [crypto_data.id_to_proto_classes[i] for i in predicted_labels]\n",
        "  print(classification_report(labels, predicted_labels))\n",
        "  print(valid_loss, valid_accuracy)\n"
      ],
      "metadata": {
        "id": "YCSQXb6mMzEp"
      },
      "execution_count": null,
      "outputs": []
    },
    {
      "cell_type": "code",
      "source": [
        "model = PrototypicalNetwork(bert)\n",
        "state_dict = torch.load('saved_weights.pt')\n",
        "model.load_state_dict(state_dict)\n",
        "model.to(device)\n",
        "evaluating(tokenizer_length, n_ways, k_shots=10)"
      ],
      "metadata": {
        "id": "TkDP95livrZf",
        "colab": {
          "base_uri": "https://localhost:8080/"
        },
        "outputId": "5308ec24-3a28-47eb-8782-c697faa19a07"
      },
      "execution_count": null,
      "outputs": [
        {
          "output_type": "stream",
          "name": "stderr",
          "text": [
            "100%|██████████| 6/6 [00:05<00:00,  1.09it/s, accuracy=0.0000]"
          ]
        },
        {
          "output_type": "stream",
          "name": "stdout",
          "text": [
            "                       precision    recall  f1-score   support\n",
            "\n",
            "          advertising       1.00      0.50      0.67         8\n",
            "         announcement       0.43      1.00      0.60         3\n",
            "financial information       0.86      0.67      0.75         9\n",
            "   subjective opinion       0.50      0.67      0.57         6\n",
            "\n",
            "             accuracy                           0.65        26\n",
            "            macro avg       0.70      0.71      0.65        26\n",
            "         weighted avg       0.77      0.65      0.67        26\n",
            "\n",
            "10.179399490356445 0.5666666825612386\n"
          ]
        },
        {
          "output_type": "stream",
          "name": "stderr",
          "text": [
            "\n"
          ]
        }
      ]
    },
    {
      "cell_type": "code",
      "source": [
        "model = PrototypicalNetwork(bert)\n",
        "state_dict = torch.load('saved_weights_a.pt')\n",
        "model.load_state_dict(state_dict)\n",
        "model.to(device)\n",
        "evaluating(tokenizer_length, n_ways, k_shots=10)"
      ],
      "metadata": {
        "colab": {
          "base_uri": "https://localhost:8080/"
        },
        "id": "iX_XWIfeKTeq",
        "outputId": "0b629d50-d419-4c84-9b91-1ec183891dc9"
      },
      "execution_count": null,
      "outputs": [
        {
          "output_type": "stream",
          "name": "stderr",
          "text": [
            "100%|██████████| 6/6 [00:01<00:00,  3.84it/s, accuracy=1.0000]"
          ]
        },
        {
          "output_type": "stream",
          "name": "stdout",
          "text": [
            "                       precision    recall  f1-score   support\n",
            "\n",
            "          advertising       1.00      0.25      0.40         8\n",
            "         announcement       0.33      1.00      0.50         3\n",
            "financial information       1.00      0.67      0.80         9\n",
            "   subjective opinion       0.44      0.67      0.53         6\n",
            "\n",
            "             accuracy                           0.58        26\n",
            "            macro avg       0.69      0.65      0.56        26\n",
            "         weighted avg       0.79      0.58      0.58        26\n",
            "\n",
            "2.9677700890849033 0.6333333452542623\n"
          ]
        },
        {
          "output_type": "stream",
          "name": "stderr",
          "text": [
            "\n"
          ]
        }
      ]
    },
    {
      "cell_type": "markdown",
      "source": [
        "# PAM"
      ],
      "metadata": {
        "id": "2X5Drxwus51Q"
      }
    },
    {
      "cell_type": "code",
      "source": [
        "# import torch.nn.functional as F\n",
        "\n",
        "def get_accuracyy(prototypes, embeddings):\n",
        "    \"\"\"Compute the accuracy of the prototypical network on the test/query points.\n",
        "    Parameters\n",
        "    ----------\n",
        "    prototypes : `torch.FloatTensor` instance\n",
        "        A tensor containing the prototypes for each class. This tensor has shape \n",
        "        `(meta_batch_size, num_classes, embedding_size)`.\n",
        "    embeddings : `torch.FloatTensor` instance\n",
        "        A tensor containing the embeddings of the query points. This tensor has \n",
        "        shape `(meta_batch_size, num_examples, embedding_size)`.\n",
        "    Returns\n",
        "    -------\n",
        "    probability : `torch.FloatTensor` instance\n",
        "    index of probability:    torch.Int\n",
        "    \"\"\"\n",
        "    # Calcula la distancia euclidiana entre cada prototipo y las incrustaciones de las muestras de consulta\n",
        "    distances = torch.sum((prototypes.unsqueeze(1)\n",
        "        - embeddings.unsqueeze(2)) ** 2, dim=-1)\n",
        "    \n",
        "    # Calcula la probabilidad mediante la aplicación de Softmax sobre la negación de las distancias\n",
        "    neg_distances = -distances\n",
        "    probability = F.softmax(neg_distances, dim=-1)\n",
        "    \n",
        "    # Encuentra la clase predicha para cada muestra de consulta\n",
        "    y_hat, index = torch.max(probability, dim=-1)\n",
        "\n",
        "    return y_hat, index\n"
      ],
      "metadata": {
        "id": "5J7tKGLECNHL"
      },
      "execution_count": 31,
      "outputs": []
    },
    {
      "cell_type": "code",
      "source": [
        "class InputExample(object):\n",
        "  def __init__(self, twitter_id, text, label='unk'):\n",
        "    self.twitter_id = twitter_id\n",
        "    self.text = text\n",
        "    self.label = label\n",
        "      \n",
        "def read_examples(input_file, max_length=100):\n",
        "  examples = []\n",
        "  labels = []\n",
        "  with open(input_file, 'r') as f:\n",
        "    for line in f:\n",
        "      obj = json.loads(line)\n",
        "      text = [text['text'] for text in obj['texts']]\n",
        "      text = ' '.join(text)\n",
        "      text = preprocess_text(text)\n",
        "      text_split = text.split()\n",
        "      text_length = len(text_split)\n",
        "      new_text = []\n",
        "      for i in range(math.ceil(text_length/max_length)):\n",
        "        if (i+1)*max_length>= text_length:\n",
        "          new_text.append(' '.join(text_split[-max_length:]))\n",
        "        else:\n",
        "          new_text.append(' '.join(text_split[i*max_length:(i+1)*max_length]))\n",
        "      label = 'unk'\n",
        "      if 'class' in obj:\n",
        "        label = obj['class']\n",
        "      labels.append(label)\n",
        "      if len(new_text)==0:\n",
        "        new_text.append(\"\")\n",
        "      examples.append(InputExample(twitter_id=obj['twitter user id'], text=new_text, label=label))\n",
        "  return examples, labels\n",
        "\n",
        "def load_prototypes(proto_dict):\n",
        "  # proto_dict = torch.load(file_name)\n",
        "  proto_stack = torch.stack(list(proto_dict.values()), dim=1)\n",
        "  labels = list(proto_dict.keys())\n",
        "  return proto_stack, labels"
      ],
      "metadata": {
        "id": "EvJYfKQLCNML"
      },
      "execution_count": 32,
      "outputs": []
    },
    {
      "cell_type": "code",
      "source": [
        "# tokenizer_length = 100\n",
        "#Load tokenizer\n",
        "# bert = AutoModel.from_pretrained('yiyanghkust/finbert-tone')\n",
        "# tokenizer = BertTokenizerFast.from_pretrained('yiyanghkust/finbert-tone',do_lower_case=True)\n",
        "# Initialize Model\n",
        "model = PrototypicalNetwork(bert)\n",
        "# state_dict = torch.jit.load('./task1/saved_weights.pt')\n",
        "# state_dict = torch.load('./saved_weights.pt', map_location=torch.device('cpu'))\n",
        "checkpoint = torch.load('./weights.pth')\n",
        "model.load_state_dict(checkpoint['model_state_dic'])\n",
        "\n",
        "model.to(device)\n",
        "model.eval()\n",
        "\n",
        "# Read example files\n",
        "examples, _ = read_examples('./val.json',text_seq_length)\n",
        "y_hats = []\n",
        "y = []\n",
        "results = []\n",
        "with torch.no_grad():\n",
        "  prototypes, labels = load_prototypes(checkpoint['prototypes'])\n",
        "  for i, example in enumerate(examples):\n",
        "    encode = tokenizer.batch_encode_plus(\n",
        "                example.text,\n",
        "                max_length = tokenizer_length,\n",
        "                padding='max_length',\n",
        "                truncation=True,\n",
        "                return_attention_mask=True,\n",
        "                return_token_type_ids=False,\n",
        "                add_special_tokens = True,\n",
        "                return_tensors = 'pt',\n",
        "                )\n",
        "    input_ids = encode['input_ids'].to(device)\n",
        "    input_ids_shape = input_ids.size()\n",
        "    attention_mask = encode['attention_mask'].to(device)\n",
        "    input_ids = input_ids.view(1,1,*input_ids_shape)  \n",
        "    attention_mask = attention_mask.view(1,1,*input_ids_shape)\n",
        "    input_embeding = model(input_ids, attention_mask)\n",
        "    input_embeding = torch.mean(input_embeding, 1, keepdim=True)  \n",
        "    y_hat, y_hat_id = get_accuracyy(prototypes, input_embeding)\n",
        "    # print(y_hat.item(), labels[y_hat_id.item()])\n",
        "    y_hats.append(labels[y_hat_id.item()])\n",
        "    y.append(example.label)\n",
        "    results.append({\"twitter user id\":example.twitter_id, \"class\":labels[y_hat_id.item()], \"probability\":round(y_hat.item(),3)})\n",
        "\n",
        "with open('subtask1.json', 'w', encoding='utf-8') as f:\n",
        "  for obj in results:\n",
        "    f.write(json.dumps(obj))\n",
        "    f.write('\\n')\n",
        "  f.close()\n",
        "print(classification_report(y, y_hats))"
      ],
      "metadata": {
        "colab": {
          "base_uri": "https://localhost:8080/"
        },
        "id": "G-doxP1YG-JI",
        "outputId": "7d861587-2ce4-4f76-8850-db7e1a35d8d2"
      },
      "execution_count": 33,
      "outputs": [
        {
          "output_type": "stream",
          "name": "stdout",
          "text": [
            "               precision    recall  f1-score   support\n",
            "\n",
            "        macro       1.00      1.00      1.00         4\n",
            "         mega       1.00      1.00      1.00         3\n",
            "        micro       0.67      0.67      0.67         3\n",
            "         nano       0.50      0.33      0.40         3\n",
            "no influencer       0.50      0.67      0.57         3\n",
            "\n",
            "     accuracy                           0.75        16\n",
            "    macro avg       0.73      0.73      0.73        16\n",
            " weighted avg       0.75      0.75      0.74        16\n",
            "\n"
          ]
        }
      ]
    },
    {
      "cell_type": "code",
      "source": [],
      "metadata": {
        "colab": {
          "base_uri": "https://localhost:8080/"
        },
        "id": "kLxkU41DCNSB",
        "outputId": "adf6c793-3c92-4521-a522-2bd8b494dbec"
      },
      "execution_count": null,
      "outputs": [
        {
          "output_type": "stream",
          "name": "stdout",
          "text": [
            "                       precision    recall  f1-score   support\n",
            "\n",
            "               gaming       0.89      0.89      0.89         9\n",
            "                other       0.43      0.60      0.50         5\n",
            "         price update       1.00      0.38      0.55         8\n",
            "technical information       0.57      0.80      0.67         5\n",
            "      trading matters       0.67      0.80      0.73         5\n",
            "\n",
            "             accuracy                           0.69        32\n",
            "            macro avg       0.71      0.69      0.67        32\n",
            "         weighted avg       0.76      0.69      0.68        32\n",
            "\n"
          ]
        }
      ]
    },
    {
      "cell_type": "code",
      "source": [],
      "metadata": {
        "id": "tXtqWuAJO1kc"
      },
      "execution_count": null,
      "outputs": []
    }
  ]
}